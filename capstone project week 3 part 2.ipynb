{
 "cells": [
  {
   "cell_type": "markdown",
   "metadata": {
    "collapsed": true
   },
   "source": [
    "# IBM Applied Data Science Capstone Course by Coursera"
   ]
  },
  {
   "cell_type": "markdown",
   "metadata": {},
   "source": [
    "<h2>Week 3 Part 2</h2>"
   ]
  },
  {
   "cell_type": "markdown",
   "metadata": {},
   "source": [
    "<h2>Get the geographical coordinates of the neighborhoods in Toronto.</h2>"
   ]
  },
  {
   "cell_type": "markdown",
   "metadata": {},
   "source": [
    " <h2>8. Load the coordinates from the csv file on Coursera</h2>\n"
   ]
  },
  {
   "cell_type": "code",
   "execution_count": null,
   "metadata": {},
   "outputs": [],
   "source": [
    "# load the coordinates from the csv file on Coursera\n",
    "coordinates = pd.read_csv(\"Geospatial_Coordinates.csv\")\n",
    "coordinates.head()"
   ]
  },
  {
   "cell_type": "code",
   "execution_count": null,
   "metadata": {},
   "outputs": [],
   "source": [
    "    Postal Code      Latitude      Longitude\n",
    "0   M1B              43.806686     -79.194353\n",
    "1   M1C              43.784535     -79.160497\n",
    "2   M1E              43.763573     -79.188711\n",
    "3   M1G              43.770992     -79.216917\n",
    "4   M1H              43.773136     -79.239476"
   ]
  },
  {
   "cell_type": "markdown",
   "metadata": {},
   "source": [
    "import numpy as np # library to handle data in a vectorized manner\n",
    "import pandas as pd # library for data analsysis \n",
    "        \n",
    "dd = pd.read_csv(\"Geospatial_Coordinates.csv\")"
   ]
  },
  {
   "cell_type": "code",
   "execution_count": 4,
   "metadata": {},
   "outputs": [
    {
     "name": "stdout",
     "output_type": "stream",
     "text": [
      "--2020-01-13 11:37:08--  http://cocl.us/Geospatial_data\n",
      "Resolving cocl.us (cocl.us)... 159.8.69.21, 159.8.69.24, 159.8.72.228\n",
      "Connecting to cocl.us (cocl.us)|159.8.69.21|:80... connected.\n",
      "HTTP request sent, awaiting response... 301 Moved Permanently\n",
      "Location: https://cocl.us/Geospatial_data [following]\n",
      "--2020-01-13 11:37:09--  https://cocl.us/Geospatial_data\n",
      "Connecting to cocl.us (cocl.us)|159.8.69.21|:443... connected.\n",
      "HTTP request sent, awaiting response... 301 Moved Permanently\n",
      "Location: https://ibm.box.com/shared/static/9afzr83pps4pwf2smjjcf1y5mvgb18rr.csv [following]\n",
      "--2020-01-13 11:37:11--  https://ibm.box.com/shared/static/9afzr83pps4pwf2smjjcf1y5mvgb18rr.csv\n",
      "Resolving ibm.box.com (ibm.box.com)... 107.152.27.197, 107.152.26.197\n",
      "Connecting to ibm.box.com (ibm.box.com)|107.152.27.197|:443... connected.\n",
      "HTTP request sent, awaiting response... 301 Moved Permanently\n",
      "Location: /public/static/9afzr83pps4pwf2smjjcf1y5mvgb18rr.csv [following]\n",
      "--2020-01-13 11:37:12--  https://ibm.box.com/public/static/9afzr83pps4pwf2smjjcf1y5mvgb18rr.csv\n",
      "Reusing existing connection to ibm.box.com:443.\n",
      "HTTP request sent, awaiting response... 301 Moved Permanently\n",
      "Location: https://ibm.ent.box.com/public/static/9afzr83pps4pwf2smjjcf1y5mvgb18rr.csv [following]\n",
      "--2020-01-13 11:37:12--  https://ibm.ent.box.com/public/static/9afzr83pps4pwf2smjjcf1y5mvgb18rr.csv\n",
      "Resolving ibm.ent.box.com (ibm.ent.box.com)... 107.152.27.211, 107.152.26.211\n",
      "Connecting to ibm.ent.box.com (ibm.ent.box.com)|107.152.27.211|:443... connected.\n",
      "HTTP request sent, awaiting response... 302 Found\n",
      "Location: https://public.boxcloud.com/d/1/b1!cmkaGhlaRWBKfuP8iECm5d7QjMwaLRxFP_Tyx9SWbiEOa4vzy580xTkfdVvCgQVb4CAk45TzWgWLPv7EtmcFdUbuWN6WcldMSnWCEvC0uNg8OUxgOEB1ZlOAsf4vg9xCpZ3zkummAGrLHGPb-qTu3Mr_-bBea3VCWYbgdgjUS6q3-C-f89XlbZ-phTSHqVnou3oIBwAYL6ycvjzGhtjt62y6TqpHESKZK-YtUDNihwt9GNqyOWU0YYVlYBnpfmExOCN_b--CCJAY7dneDITmk9YOeQg6O6ObDTVeawAaxmE4AGp7Iv6934KrNXbY5j6_SJmkGr_CORImgbuEFclID3sa30DgueB-uP08qFpJcJ08AGjmq33KAU-cBQuJ71XJXTjfkxl7F12kBC4_RekTAhHjlx48Ts4YVrYOZUZ8KHUp2tRdG6MGh5dsShI12G4Q3Er2lHkVlbNjLdsSMr5I6Y7ZaD3i6Y0wVvyf6yLffyrKZwa0YimobTe8HmmbYs5temHbNoJrNqovNKlkrmWSzGvqfep680fSmkp_BnzNATNeXn75VydlDVHxT-qURByZV1Hu_uKkQUTeDGkU3ALKthW7a4mpC6_wOIOB11GKEs3vaA3sU7cJeuMoJfmFgwi8wSgADQ9tquRh5y3Z_cdrYD2FPWaD09OeMsW1gzzNHgQ8wqbq6iOwUseDEPbDek6oAJGPQnewNUeT19ZPvAwlnTVrFQMzxwh_hLoSCnZx_XlvsLFtPfwZCQ1y_fPj2OnKmoiwKKVeynwt6jgEbd47pnxpBbZRl3V8CnfUafcHqOGBiNV85qM-SotKTnvTZv51r5T4cgi6qFW6mCRH7xpG6Kfv1jt28IPRUcuLmKQpjCB9d0_T-k7y915Oiebz2TDrpFSwdnDBIf9rtd1drMVUex2UqBBWfyOJ9FMb_0UfDDzIg07_0ZVF-3SdmHsbuhCN7Y7EtZeJDtx28IIymMI8tXdTh1DgLC7gtMwwFU6X49BqQcLPdXqFPzQfuuD_7xRv0iKTp-mgvdNE84zCowcUG7vMaaLIMd01qA000FVioFZXSy__MaNQ_dHTj9m5DA0qUu-lMO6niGMKtJXCwpzs8bYrUzoN1iuZPP4SP-EkHBKpoEnD9hR9kOXyuHqIBdhJbHVYSlH0CUtgaX0OecUoxKRXqkvhGCyfGSBoZdFqMkopRpAyb1Ce9pEjp5TNZoJdKhBAQJgudQ0pF1HRIFMVd9gG8DOi-ToSSm2T7SdmeMvCx8VTvdICMLJDVlTkKLROlwJVYNlFbdjZecoLE_wlAqhBR1JEDFpbZhYs4y3eG0GOFAvkqN5tYsB7wA42vueIhmezzlZBt5cLRyag8JOwVIqdOFz0v4pHzIcPhkCkNzko_Fk3UcHXccbKVUSc/download [following]\n",
      "--2020-01-13 11:37:13--  https://public.boxcloud.com/d/1/b1!cmkaGhlaRWBKfuP8iECm5d7QjMwaLRxFP_Tyx9SWbiEOa4vzy580xTkfdVvCgQVb4CAk45TzWgWLPv7EtmcFdUbuWN6WcldMSnWCEvC0uNg8OUxgOEB1ZlOAsf4vg9xCpZ3zkummAGrLHGPb-qTu3Mr_-bBea3VCWYbgdgjUS6q3-C-f89XlbZ-phTSHqVnou3oIBwAYL6ycvjzGhtjt62y6TqpHESKZK-YtUDNihwt9GNqyOWU0YYVlYBnpfmExOCN_b--CCJAY7dneDITmk9YOeQg6O6ObDTVeawAaxmE4AGp7Iv6934KrNXbY5j6_SJmkGr_CORImgbuEFclID3sa30DgueB-uP08qFpJcJ08AGjmq33KAU-cBQuJ71XJXTjfkxl7F12kBC4_RekTAhHjlx48Ts4YVrYOZUZ8KHUp2tRdG6MGh5dsShI12G4Q3Er2lHkVlbNjLdsSMr5I6Y7ZaD3i6Y0wVvyf6yLffyrKZwa0YimobTe8HmmbYs5temHbNoJrNqovNKlkrmWSzGvqfep680fSmkp_BnzNATNeXn75VydlDVHxT-qURByZV1Hu_uKkQUTeDGkU3ALKthW7a4mpC6_wOIOB11GKEs3vaA3sU7cJeuMoJfmFgwi8wSgADQ9tquRh5y3Z_cdrYD2FPWaD09OeMsW1gzzNHgQ8wqbq6iOwUseDEPbDek6oAJGPQnewNUeT19ZPvAwlnTVrFQMzxwh_hLoSCnZx_XlvsLFtPfwZCQ1y_fPj2OnKmoiwKKVeynwt6jgEbd47pnxpBbZRl3V8CnfUafcHqOGBiNV85qM-SotKTnvTZv51r5T4cgi6qFW6mCRH7xpG6Kfv1jt28IPRUcuLmKQpjCB9d0_T-k7y915Oiebz2TDrpFSwdnDBIf9rtd1drMVUex2UqBBWfyOJ9FMb_0UfDDzIg07_0ZVF-3SdmHsbuhCN7Y7EtZeJDtx28IIymMI8tXdTh1DgLC7gtMwwFU6X49BqQcLPdXqFPzQfuuD_7xRv0iKTp-mgvdNE84zCowcUG7vMaaLIMd01qA000FVioFZXSy__MaNQ_dHTj9m5DA0qUu-lMO6niGMKtJXCwpzs8bYrUzoN1iuZPP4SP-EkHBKpoEnD9hR9kOXyuHqIBdhJbHVYSlH0CUtgaX0OecUoxKRXqkvhGCyfGSBoZdFqMkopRpAyb1Ce9pEjp5TNZoJdKhBAQJgudQ0pF1HRIFMVd9gG8DOi-ToSSm2T7SdmeMvCx8VTvdICMLJDVlTkKLROlwJVYNlFbdjZecoLE_wlAqhBR1JEDFpbZhYs4y3eG0GOFAvkqN5tYsB7wA42vueIhmezzlZBt5cLRyag8JOwVIqdOFz0v4pHzIcPhkCkNzko_Fk3UcHXccbKVUSc/download\n",
      "Resolving public.boxcloud.com (public.boxcloud.com)... 107.152.25.200\n",
      "Connecting to public.boxcloud.com (public.boxcloud.com)|107.152.25.200|:443... connected.\n",
      "HTTP request sent, awaiting response... 200 OK\n",
      "Length: 2891 (2.8K) [text/csv]\n",
      "Saving to: ‘Geospatial_data’\n",
      "\n",
      "100%[======================================>] 2,891       --.-K/s   in 0s      \n",
      "\n",
      "2020-01-13 11:37:13 (277 MB/s) - ‘Geospatial_data’ saved [2891/2891]\n",
      "\n"
     ]
    }
   ],
   "source": [
    "!wget http://cocl.us/Geospatial_data"
   ]
  },
  {
   "cell_type": "code",
   "execution_count": null,
   "metadata": {},
   "outputs": [],
   "source": [
    "# rename the column \"PostalCode\"\n",
    "coordinates.rename(columns={\"Postal Code\": \"PostalCode\"}, inplace=True)\n",
    "coordinates.head()"
   ]
  },
  {
   "cell_type": "code",
   "execution_count": null,
   "metadata": {},
   "outputs": [],
   "source": [
    "    PostalCode     Latitude       Longitude\n",
    "0   M1B            43.806686     -79.194353\n",
    "1   M1C            43.784535     -79.160497\n",
    "2   M1E            43.763573     -79.188711\n",
    "3   M1G            43.770992     -79.216917\n",
    "4   M1H            43.773136     -79.239476"
   ]
  },
  {
   "cell_type": "markdown",
   "metadata": {},
   "source": [
    " <h2>9. Merge two tables to get the coordinates</h2>"
   ]
  },
  {
   "cell_type": "code",
   "execution_count": null,
   "metadata": {},
   "outputs": [],
   "source": [
    "# merge two table on the column \"PostalCode\"\n",
    "toronto_df_new = toronto_df_grouped.merge(coordinates, on=\"PostalCode\", how=\"left\")\n",
    "toronto_df_new.head()"
   ]
  },
  {
   "cell_type": "code",
   "execution_count": null,
   "metadata": {},
   "outputs": [],
   "source": [
    "    PostalCode    Borough         Neighborhood                                    Latitude         Longitude\n",
    "0   M1B           Scarborough     Rouge, Malvern                                  43.806686        -79.194353\n",
    "1   M1C           Scarborough     Highland Creek, Rouge Hill, Port Union          43.784535        -79.160497\n",
    "2   M1E           Scarborough     Guildwood, Morningside, West Hill               43.763573        -79.188711\n",
    "3   M1G           Scarborough     Woburn                                          43.770992        -79.216917\n",
    "4   M1H           Scarborough     Cedarbrae                                       43.773136        -79.239476"
   ]
  },
  {
   "cell_type": "markdown",
   "metadata": {},
   "source": [
    " <h2>10. Finally, check to make sure the coordinates are added as required by the question</h2>"
   ]
  },
  {
   "cell_type": "code",
   "execution_count": null,
   "metadata": {},
   "outputs": [],
   "source": [
    "# create a new test dataframe\n",
    "column_names = [\"PostalCode\", \"Borough\", \"Neighborhood\", \"Latitude\", \"Longitude\"]\n",
    "test_df = pd.DataFrame(columns=column_names)\n",
    "\n",
    "test_list = [\"M5G\", \"M2H\", \"M4B\", \"M1J\", \"M4G\", \"M4M\", \"M1R\", \"M9V\", \"M9L\", \"M5V\", \"M1B\", \"M5A\"]\n",
    "\n",
    "for postcode in test_list:\n",
    "    test_df = test_df.append(toronto_df_new[toronto_df_new[\"PostalCode\"]==postcode], ignore_index=True)\n",
    "    \n",
    "test_df"
   ]
  },
  {
   "cell_type": "code",
   "execution_count": null,
   "metadata": {},
   "outputs": [],
   "source": [
    "    PostalCode     Borough                     Neighborhood                                        Latitude      Longitude\n",
    "0   M5G            Downtown Toronto            Central Bay Street                                  43.657952     -79.387383\n",
    "1   M2H            North York                  Hillcrest Village                                   43.803762     -79.363452\n",
    "2   M4B            East York                   Woodbine Gardens, Parkview Hill                     43.706397     -79.309937\n",
    "3   M1J            Scarborough                 Scarborough Village                                 43.744734     -79.239476\n",
    "4   M4G            East York                   Leaside                                             43.709060     -79.363452\n",
    "5   M4M            East Toronto                Studio District                                     43.659526     -79.340923\n",
    "6   M1R            Scarborough                 Maryvale, Wexford                                   43.750072     -79.295849\n",
    "7   M9V            Etobicoke                   Albion Gardens, Beaumond Heights, Humbergate, ...   43.739416     -79.588437\n",
    "8   M9L            North York                  Humber Summit                                       43.756303     -79.565963\n",
    "9   M5V            Downtown Toronto            CN Tower, Bathurst Quay, Island airport, Harbo...   43.628947     -79.394420\n",
    "10  M1B            Scarborough                 Rouge, Malvern                                      43.806686     -79.194353\n",
    "11  M5A            Downtown Toronto            Harbourfront, Regent Park                           43.654260     -79.360636"
   ]
  }
 ],
 "metadata": {
  "kernelspec": {
   "display_name": "Python 3.6",
   "language": "python",
   "name": "python3"
  },
  "language_info": {
   "codemirror_mode": {
    "name": "ipython",
    "version": 3
   },
   "file_extension": ".py",
   "mimetype": "text/x-python",
   "name": "python",
   "nbconvert_exporter": "python",
   "pygments_lexer": "ipython3",
   "version": "3.6.8"
  }
 },
 "nbformat": 4,
 "nbformat_minor": 1
}
