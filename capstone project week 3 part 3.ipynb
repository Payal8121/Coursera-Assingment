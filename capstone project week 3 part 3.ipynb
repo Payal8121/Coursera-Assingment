{
 "cells": [
  {
   "cell_type": "markdown",
   "metadata": {
    "collapsed": true
   },
   "source": [
    "# week 3 part 3"
   ]
  },
  {
   "cell_type": "markdown",
   "metadata": {},
   "source": [
    " <h2> 11. Use geopy library to get the latitude and longitude values of Toronto</h2>"
   ]
  },
  {
   "cell_type": "markdown",
   "metadata": {},
   "source": [
    "address = 'Toronto'\n",
    "\n",
    "geolocator = Nominatim(user_agent=\"my-application\")\n",
    "location = geolocator.geocode(address)\n",
    "latitude = location.latitude\n",
    "longitude = location.longitude\n",
    "print('The geograpical coordinate of Toronto are {}, {}.'.format(latitude, longitude))"
   ]
  },
  {
   "cell_type": "markdown",
   "metadata": {},
   "source": [
    "The geograpical coordinate of Toronto are 43.653963, -79.387207."
   ]
  },
  {
   "cell_type": "markdown",
   "metadata": {},
   "source": [
    "<h2>12. Create a map of Toronto with neighborhoods superimposed on top</h2>"
   ]
  },
  {
   "cell_type": "code",
   "execution_count": null,
   "metadata": {},
   "outputs": [],
   "source": [
    "# create map of Toronto using latitude and longitude values\n",
    "map_toronto = folium.Map(location=[latitude, longitude], zoom_start=10)\n",
    "\n",
    "# add markers to map\n",
    "for lat, lng, borough, neighborhood in zip(toronto_df_new['Latitude'], toronto_df_new['Longitude'], toronto_df_new['Borough'], toronto_df_new['Neighborhood']):\n",
    "    label = '{}, {}'.format(neighborhood, borough)\n",
    "    label = folium.Popup(label, parse_html=True)\n",
    "    folium.CircleMarker(\n",
    "        [lat, lng],\n",
    "        radius=5,\n",
    "        popup=label,\n",
    "        color='blue',\n",
    "        fill=True,\n",
    "        fill_color='#3186cc',\n",
    "        fill_opacity=0.7).add_to(map_toronto)  \n",
    "    \n",
    "map_toronto"
   ]
  },
  {
   "cell_type": "markdown",
   "metadata": {},
   "source": [
    "<h2> 13. Filter only boroughs that contain the word Toronto</h2>"
   ]
  },
  {
   "cell_type": "code",
   "execution_count": null,
   "metadata": {},
   "outputs": [],
   "source": [
    "# filter borough names that contain the word Toronto\n",
    "borough_names = list(toronto_df_new.Borough.unique())\n",
    "\n",
    "borough_with_toronto = []\n",
    "\n",
    "for x in borough_names:\n",
    "    if \"toronto\" in x.lower():\n",
    "        borough_with_toronto.append(x)\n",
    "        \n",
    "borough_with_toronto"
   ]
  },
  {
   "cell_type": "markdown",
   "metadata": {},
   "source": [
    "['East Toronto', 'Central Toronto', 'Downtown Toronto', 'West Toronto']"
   ]
  },
  {
   "cell_type": "code",
   "execution_count": null,
   "metadata": {},
   "outputs": [],
   "source": [
    "# create a new DataFrame with only boroughs that contain the word Toronto\n",
    "toronto_df_new = toronto_df_new[toronto_df_new['Borough'].isin(borough_with_toronto)].reset_index(drop=True)\n",
    "print(toronto_df_new.shape)\n",
    "toronto_df_new.head()"
   ]
  },
  {
   "cell_type": "markdown",
   "metadata": {},
   "source": [
    "(38, 5)"
   ]
  },
  {
   "cell_type": "markdown",
   "metadata": {},
   "source": [
    "    PostalCode   Borough          Neighborhood                     Latitude      Longitude\n",
    "0   M4E          East Toronto     The Beaches                      43.676357     -79.293031\n",
    "1   M4K          East Toronto     The Danforth West, Riverdale     43.679557     -79.352188\n",
    "2   M4L          East Toronto     The Beaches West, India Bazaar   43.668999     -79.315572\n",
    "3   M4M          East Toronto     Studio District                  43.659526     -79.340923\n",
    "4   M4N          Central Toronto  Lawrence Park                    43.728020     -79.388790"
   ]
  },
  {
   "cell_type": "code",
   "execution_count": null,
   "metadata": {},
   "outputs": [],
   "source": [
    "# create map of Toronto using latitude and longitude values\n",
    "map_toronto = folium.Map(location=[latitude, longitude], zoom_start=10)\n",
    "\n",
    "# add markers to map\n",
    "for lat, lng, borough, neighborhood in zip(toronto_df_new['Latitude'], toronto_df_new['Longitude'], toronto_df_new['Borough'], toronto_df_new['Neighborhood']):\n",
    "    label = '{}, {}'.format(neighborhood, borough)\n",
    "    label = folium.Popup(label, parse_html=True)\n",
    "    folium.CircleMarker(\n",
    "        [lat, lng],\n",
    "        radius=5,\n",
    "        popup=label,\n",
    "        color='blue',\n",
    "        fill=True,\n",
    "        fill_color='#3186cc',\n",
    "        fill_opacity=0.7).add_to(map_toronto)  \n",
    "    \n",
    "map_toronto"
   ]
  },
  {
   "cell_type": "markdown",
   "metadata": {},
   "source": [
    " <h2>14. Use the Foursquare API to explore the neighborhoods</h2>"
   ]
  },
  {
   "cell_type": "code",
   "execution_count": null,
   "metadata": {},
   "outputs": [],
   "source": [
    "# define Foursquare Credentials and Version\n",
    "CLIENT_ID = 'your Foursquare ID' # your Foursquare ID\n",
    "CLIENT_SECRET = 'your Foursquare Secret' # your Foursquare Secret\n",
    "VERSION = '20180605' # Foursquare API version\n",
    "\n",
    "print('Your credentails:')\n",
    "print('CLIENT_ID: ' + CLIENT_ID)\n",
    "print('CLIENT_SECRET:' + CLIENT_SECRET)"
   ]
  },
  {
   "cell_type": "markdown",
   "metadata": {},
   "source": [
    "Your credentails:\n",
    "CLIENT_ID: your Foursquare ID\n",
    "CLIENT_SECRET:your Foursquare Secret"
   ]
  },
  {
   "cell_type": "markdown",
   "metadata": {},
   "source": [
    "<h2>Now, let's get the top 100 venues that are within a radius of 500 meters.</h2>"
   ]
  },
  {
   "cell_type": "code",
   "execution_count": null,
   "metadata": {},
   "outputs": [],
   "source": [
    "radius = 500\n",
    "LIMIT = 100\n",
    "\n",
    "venues = []\n",
    "\n",
    "for lat, long, post, borough, neighborhood in zip(toronto_df_new['Latitude'], toronto_df_new['Longitude'], toronto_df_new['PostalCode'], toronto_df_new['Borough'], toronto_df_new['Neighborhood']):\n",
    "    url = \"https://api.foursquare.com/v2/venues/explore?client_id={}&client_secret={}&v={}&ll={},{}&radius={}&limit={}\".format(\n",
    "        CLIENT_ID,\n",
    "        CLIENT_SECRET,\n",
    "        VERSION,\n",
    "        lat,\n",
    "        long,\n",
    "        radius, \n",
    "        LIMIT)\n",
    "    \n",
    "    results = requests.get(url).json()[\"response\"]['groups'][0]['items']\n",
    "    \n",
    "    for venue in results:\n",
    "        venues.append((\n",
    "            post, \n",
    "            borough,\n",
    "            neighborhood,\n",
    "            lat, \n",
    "            long, \n",
    "            venue['venue']['name'], \n",
    "            venue['venue']['location']['lat'], \n",
    "            venue['venue']['location']['lng'],  \n",
    "            venue['venue']['categories'][0]['name']))"
   ]
  },
  {
   "cell_type": "code",
   "execution_count": null,
   "metadata": {},
   "outputs": [],
   "source": [
    "# convert the venues list into a new DataFrame\n",
    "venues_df = pd.DataFrame(venues)\n",
    "\n",
    "# define the column names\n",
    "venues_df.columns = ['PostalCode', 'Borough', 'Neighborhood', 'BoroughLatitude', 'BoroughLongitude', 'VenueName', 'VenueLatitude', 'VenueLongitude', 'VenueCategory']\n",
    "\n",
    "print(venues_df.shape)\n",
    "venues_df.head()"
   ]
  },
  {
   "cell_type": "markdown",
   "metadata": {},
   "source": [
    "(1695, 9)"
   ]
  },
  {
   "cell_type": "code",
   "execution_count": null,
   "metadata": {},
   "outputs": [],
   "source": [
    "PostalCode\tBorough\tNeighborhood\tBoroughLatitude\tBoroughLongitude\tVenueName\tVenueLatitude\tVenueLongitude\tVenueCategory\n",
    "0\tM4E\tEast Toronto\tThe Beaches\t43.676357\t-79.293031\tGrover Pub and Grub\t43.679181\t-79.297215\tPub\n",
    "1\tM4E\tEast Toronto\tThe Beaches\t43.676357\t-79.293031\tStarbucks\t43.678798\t-79.298045\tCoffee Shop\n",
    "2\tM4E\tEast Toronto\tThe Beaches\t43.676357\t-79.293031\tGlen Stewart Ravine\t43.676300\t-79.294784\tOther Great Outdoors\n",
    "3\tM4E\tEast Toronto\tThe Beaches\t43.676357\t-79.293031\tUpper Beaches\t43.680563\t-79.292869\tNeighborhood\n",
    "4\tM4K\tEast Toronto\tThe Danforth West, Riverdale\t43.679557\t-79.352188\tPantheon\t43.677621\t-79.351434\tGreek Restaurant"
   ]
  },
  {
   "cell_type": "markdown",
   "metadata": {},
   "source": [
    " <h2>Let's check how many venues were returned for each PostalCode</h2>"
   ]
  },
  {
   "cell_type": "code",
   "execution_count": null,
   "metadata": {},
   "outputs": [],
   "source": [
    "venues_df.groupby([\"PostalCode\", \"Borough\", \"Neighborhood\"]).count()"
   ]
  },
  {
   "cell_type": "markdown",
   "metadata": {},
   "source": [
    "BoroughLatitude\tBoroughLongitude\tVenueName\tVenueLatitude\tVenueLongitude\tVenueCategory\n",
    "PostalCode\tBorough\tNeighborhood\t\t\t\t\t\t\n",
    "M4E\tEast Toronto\tThe Beaches\t4\t4\t4\t4\t4\t4\n",
    "M4K\tEast Toronto\tThe Danforth West, Riverdale\t42\t42\t42\t42\t42\t42\n",
    "M4L\tEast Toronto\tThe Beaches West, India Bazaar\t21\t21\t21\t21\t21\t21\n",
    "M4M\tEast Toronto\tStudio District\t39\t39\t39\t39\t39\t39\n",
    "M4N\tCentral Toronto\tLawrence Park\t4\t4\t4\t4\t4\t4\n",
    "M4P\tCentral Toronto\tDavisville North\t9\t9\t9\t9\t9\t9\n",
    "M4R\tCentral Toronto\tNorth Toronto West\t19\t19\t19\t19\t19\t19\n",
    "M4S\tCentral Toronto\tDavisville\t34\t34\t34\t34\t34\t34\n",
    "M4T\tCentral Toronto\tMoore Park, Summerhill East\t3\t3\t3\t3\t3\t3\n",
    "M4V\tCentral Toronto\tDeer Park, Forest Hill SE, Rathnelly, South Hill, Summerhill West\t14\t14\t14\t14\t14\t14\n",
    "M4W\tDowntown Toronto\tRosedale\t4\t4\t4\t4\t4\t4\n",
    "M4X\tDowntown Toronto\tCabbagetown, St. James Town\t45\t45\t45\t45\t45\t45\n",
    "M4Y\tDowntown Toronto\tChurch and Wellesley\t87\t87\t87\t87\t87\t87\n",
    "M5A\tDowntown Toronto\tHarbourfront, Regent Park\t48\t48\t48\t48\t48\t48\n",
    "M5B\tDowntown Toronto\tRyerson, Garden District\t100\t100\t100\t100\t100\t100\n",
    "M5C\tDowntown Toronto\tSt. James Town\t100\t100\t100\t100\t100\t100\n",
    "M5E\tDowntown Toronto\tBerczy Park\t55\t55\t55\t55\t55\t55\n",
    "M5G\tDowntown Toronto\tCentral Bay Street\t81\t81\t81\t81\t81\t81\n",
    "M5H\tDowntown Toronto\tAdelaide, King, Richmond\t100\t100\t100\t100\t100\t100\n",
    "M5J\tDowntown Toronto\tHarbourfront East, Toronto Islands, Union Station\t100\t100\t100\t100\t100\t100\n",
    "M5K\tDowntown Toronto\tDesign Exchange, Toronto Dominion Centre\t100\t100\t100\t100\t100\t100\n",
    "M5L\tDowntown Toronto\tCommerce Court, Victoria Hotel\t100\t100\t100\t100\t100\t100\n",
    "M5N\tCentral Toronto\tRoselawn\t2\t2\t2\t2\t2\t2\n",
    "M5P\tCentral Toronto\tForest Hill North, Forest Hill West\t4\t4\t4\t4\t4\t4\n",
    "M5R\tCentral Toronto\tThe Annex, North Midtown, Yorkville\t23\t23\t23\t23\t23\t23\n",
    "M5S\tDowntown Toronto\tHarbord, University of Toronto\t34\t34\t34\t34\t34\t34\n",
    "M5T\tDowntown Toronto\tChinatown, Grange Park, Kensington Market\t100\t100\t100\t100\t100\t100\n",
    "M5V\tDowntown Toronto\tCN Tower, Bathurst Quay, Island airport, Harbourfront West, King and Spadina, Railway Lands, South Niagara\t13\t13\t13\t13\t13\t13\n",
    "M5W\tDowntown Toronto\tStn A PO Boxes 25 The Esplanade\t95\t95\t95\t95\t95\t95\n",
    "M5X\tDowntown Toronto\tFirst Canadian Place, Underground city\t100\t100\t100\t100\t100\t100\n",
    "M6G\tDowntown Toronto\tChristie\t15\t15\t15\t15\t15\t15\n",
    "M6H\tWest Toronto\tDovercourt Village, Dufferin\t19\t19\t19\t19\t19\t19\n",
    "M6J\tWest Toronto\tLittle Portugal, Trinity\t65\t65\t65\t65\t65\t65\n",
    "M6K\tWest Toronto\tBrockton, Exhibition Place, Parkdale Village\t19\t19\t19\t19\t19\t19\n",
    "M6P\tWest Toronto\tHigh Park, The Junction South\t23\t23\t23\t23\t23\t23\n",
    "M6R\tWest Toronto\tParkdale, Roncesvalles\t16\t16\t16\t16\t16\t16\n",
    "M6S\tWest Toronto\tRunnymede, Swansea\t39\t39\t39\t39\t39\t39\n",
    "M7Y\tEast Toronto\tBusiness Reply Mail Processing Centre 969 Eastern\t19\t19\t19\t19\t19\t19"
   ]
  },
  {
   "cell_type": "markdown",
   "metadata": {},
   "source": [
    " <h2>Let's find out how many unique categories can be curated from all the returned venues</h2>"
   ]
  },
  {
   "cell_type": "code",
   "execution_count": null,
   "metadata": {},
   "outputs": [],
   "source": [
    "print('There are {} uniques categories.'.format(len(venues_df['VenueCategory'].unique())))"
   ]
  },
  {
   "cell_type": "markdown",
   "metadata": {},
   "source": [
    "There are 235 uniques categories."
   ]
  },
  {
   "cell_type": "code",
   "execution_count": null,
   "metadata": {},
   "outputs": [],
   "source": [
    "venues_df['VenueCategory'].unique()[:50]"
   ]
  },
  {
   "cell_type": "code",
   "execution_count": null,
   "metadata": {},
   "outputs": [],
   "source": [
    "array(['Pub', 'Coffee Shop', 'Other Great Outdoors', 'Neighborhood',\n",
    "       'Greek Restaurant', 'Ice Cream Shop', 'Cosmetics Shop',\n",
    "       'Italian Restaurant', 'Yoga Studio', 'Health Food Store',\n",
    "       'Brewery', 'Fruit & Vegetable Store', 'Pizza Place', 'Restaurant',\n",
    "       'Juice Bar', 'Trail', 'Bookstore', 'Diner', 'Dessert Shop',\n",
    "       'Bubble Tea Shop', 'Indian Restaurant', 'Spa', 'Grocery Store',\n",
    "       'Bakery', 'Caribbean Restaurant', 'American Restaurant',\n",
    "       'Liquor Store', 'Furniture / Home Store', 'Burger Joint', 'Gym',\n",
    "       'Fish & Chips Shop', 'Park', 'Sushi Restaurant', 'Steakhouse',\n",
    "       'Burrito Place', 'Pet Store', 'Fast Food Restaurant',\n",
    "       'Movie Theater', 'Sandwich Place', 'Light Rail Station',\n",
    "       'Food & Drink Shop', 'Fish Market', 'Cheese Shop', 'Café',\n",
    "       'Comfort Food Restaurant', 'Chinese Restaurant',\n",
    "       'Middle Eastern Restaurant', 'Stationery Store',\n",
    "       'New American Restaurant', 'Seafood Restaurant'], dtype=object)"
   ]
  },
  {
   "cell_type": "markdown",
   "metadata": {},
   "source": [
    " <h2>15. Analyze Each Area</h2>"
   ]
  },
  {
   "cell_type": "code",
   "execution_count": null,
   "metadata": {},
   "outputs": [],
   "source": [
    "# one hot encoding\n",
    "toronto_onehot = pd.get_dummies(venues_df[['VenueCategory']], prefix=\"\", prefix_sep=\"\")\n",
    "\n",
    "# add postal, borough and neighborhood column back to dataframe\n",
    "toronto_onehot['PostalCode'] = venues_df['PostalCode'] \n",
    "toronto_onehot['Borough'] = venues_df['Borough'] \n",
    "toronto_onehot['Neighborhoods'] = venues_df['Neighborhood'] \n",
    "\n",
    "# move postal, borough and neighborhood column to the first column\n",
    "fixed_columns = list(toronto_onehot.columns[-3:]) + list(toronto_onehot.columns[:-3])\n",
    "toronto_onehot = toronto_onehot[fixed_columns]\n",
    "\n",
    "print(toronto_onehot.shape)\n",
    "toronto_onehot.head()"
   ]
  },
  {
   "cell_type": "markdown",
   "metadata": {},
   "source": [
    "(1695, 238)"
   ]
  },
  {
   "cell_type": "code",
   "execution_count": null,
   "metadata": {},
   "outputs": [],
   "source": [
    "PostalCode\tBorough\tNeighborhoods\tAdult Boutique\tAfghan Restaurant\tAirport\tAirport Food Court\tAirport Gate\tAirport Lounge\tAirport Service\tAirport Terminal\tAmerican Restaurant\tAntique Shop\tAquarium\tArepa Restaurant\tArt Gallery\tArt Museum\tArts & Crafts Store\tAsian Restaurant\tAuto Workshop\tBBQ Joint\tBaby Store\tBagel Shop\tBakery\tBank\tBar\tBaseball Stadium\tBasketball Stadium\tBeach\tBeer Bar\tBeer Store\tBelgian Restaurant\tBistro\tBoat or Ferry\tBookstore\tBoutique\tBrazilian Restaurant\tBreakfast Spot\tBrewery\tBubble Tea Shop\tBuilding\tBurger Joint\tBurrito Place\tBus Line\tButcher\tCafé\tCajun / Creole Restaurant\tCaribbean Restaurant\tCheese Shop\tChinese Restaurant\tChocolate Shop\tChurch\tClimbing Gym\tClothing Store\tCocktail Bar\tCoffee Shop\tCollege Arts Building\tCollege Gym\tCollege Rec Center\tComfort Food Restaurant\tComic Shop\tConcert Hall\tConvenience Store\tCosmetics Shop\tCoworking Space\tCreperie\tCuban Restaurant\tCupcake Shop\tDance Studio\tDeli / Bodega\tDepartment Store\tDessert Shop\tDim Sum Restaurant\tDiner\tDiscount Store\tDog Run\tDoner Restaurant\tDonut Shop\tDumpling Restaurant\tEastern European Restaurant\tElectronics Store\tEthiopian Restaurant\tEvent Space\tFalafel Restaurant\tFarmers Market\tFast Food Restaurant\tFilipino Restaurant\tFish & Chips Shop\tFish Market\tFlea Market\tFood\tFood & Drink Shop\tFood Court\tFood Truck\tFountain\tFrench Restaurant\tFried Chicken Joint\tFruit & Vegetable Store\tFurniture / Home Store\tGaming Cafe\tGarden\tGarden Center\tGastropub\tGay Bar\tGeneral Entertainment\tGeneral Travel\tGerman Restaurant\tGift Shop\tGluten-free Restaurant\tGourmet Shop\tGreek Restaurant\tGrocery Store\tGym\tGym / Fitness Center\tHarbor / Marina\tHealth & Beauty Service\tHealth Food Store\tHistoric Site\tHistory Museum\tHobby Shop\tHome Service\tHookah Bar\tHospital\tHostel\tHotel\tHotel Bar\tHotpot Restaurant\tIce Cream Shop\tIndian Restaurant\tIndie Movie Theater\tIrish Pub\tItalian Restaurant\tJapanese Restaurant\tJazz Club\tJewelry Store\tJewish Restaurant\tJuice Bar\tKorean Restaurant\tLake\tLatin American Restaurant\tLight Rail Station\tLingerie Store\tLiquor Store\tLounge\tMac & Cheese Joint\tMalay Restaurant\tMarket\tMartial Arts Dojo\tMediterranean Restaurant\tMen's Store\tMexican Restaurant\tMiddle Eastern Restaurant\tMiscellaneous Shop\tModern European Restaurant\tMolecular Gastronomy Restaurant\tMonument / Landmark\tMovie Theater\tMoving Target\tMuseum\tMusic Store\tMusic Venue\tNeighborhood\tNew American Restaurant\tNightclub\tNoodle House\tOffice\tOpera House\tOptical Shop\tOrganic Grocery\tOther Great Outdoors\tOutdoor Sculpture\tPark\tPerforming Arts Venue\tPersian Restaurant\tPet Store\tPharmacy\tPiano Bar\tPizza Place\tPlayground\tPlaza\tPoke Place\tPool\tPortuguese Restaurant\tPoutine Place\tPub\tRamen Restaurant\tRecord Shop\tRecording Studio\tRental Car Location\tRestaurant\tSake Bar\tSalad Place\tSalon / Barbershop\tSandwich Place\tScenic Lookout\tSculpture Garden\tSeafood Restaurant\tShoe Store\tShopping Mall\tSkate Park\tSkating Rink\tSmoke Shop\tSmoothie Shop\tSnack Place\tSoup Place\tSouth American Restaurant\tSouthern / Soul Food Restaurant\tSpa\tSpeakeasy\tSporting Goods Shop\tSports Bar\tStadium\tStationery Store\tSteakhouse\tStrip Club\tSupermarket\tSushi Restaurant\tSwim School\tTaco Place\tTailor Shop\tTaiwanese Restaurant\tTanning Salon\tTapas Restaurant\tTea Room\tTennis Court\tThai Restaurant\tTheater\tThrift / Vintage Store\tToy / Game Store\tTrail\tTrain Station\tVegetarian / Vegan Restaurant\tVideo Game Store\tVietnamese Restaurant\tWine Bar\tWings Joint\tWomen's Store\tYoga Studio\n",
    "0\tM4E\tEast Toronto\tThe Beaches\t0\t0\t0\t0\t0\t0\t0\t0\t0\t0\t0\t0\t0\t0\t0\t0\t0\t0\t0\t0\t0\t0\t0\t0\t0\t0\t0\t0\t0\t0\t0\t0\t0\t0\t0\t0\t0\t0\t0\t0\t0\t0\t0\t0\t0\t0\t0\t0\t0\t0\t0\t0\t0\t0\t0\t0\t0\t0\t0\t0\t0\t0\t0\t0\t0\t0\t0\t0\t0\t0\t0\t0\t0\t0\t0\t0\t0\t0\t0\t0\t0\t0\t0\t0\t0\t0\t0\t0\t0\t0\t0\t0\t0\t0\t0\t0\t0\t0\t0\t0\t0\t0\t0\t0\t0\t0\t0\t0\t0\t0\t0\t0\t0\t0\t0\t0\t0\t0\t0\t0\t0\t0\t0\t0\t0\t0\t0\t0\t0\t0\t0\t0\t0\t0\t0\t0\t0\t0\t0\t0\t0\t0\t0\t0\t0\t0\t0\t0\t0\t0\t0\t0\t0\t0\t0\t0\t0\t0\t0\t0\t0\t0\t0\t0\t0\t0\t0\t0\t0\t0\t0\t0\t0\t0\t0\t0\t0\t0\t0\t0\t0\t1\t0\t0\t0\t0\t0\t0\t0\t0\t0\t0\t0\t0\t0\t0\t0\t0\t0\t0\t0\t0\t0\t0\t0\t0\t0\t0\t0\t0\t0\t0\t0\t0\t0\t0\t0\t0\t0\t0\t0\t0\t0\t0\t0\t0\t0\t0\t0\t0\t0\t0\t0\t0\t0\n",
    "1\tM4E\tEast Toronto\tThe Beaches\t0\t0\t0\t0\t0\t0\t0\t0\t0\t0\t0\t0\t0\t0\t0\t0\t0\t0\t0\t0\t0\t0\t0\t0\t0\t0\t0\t0\t0\t0\t0\t0\t0\t0\t0\t0\t0\t0\t0\t0\t0\t0\t0\t0\t0\t0\t0\t0\t0\t0\t0\t0\t1\t0\t0\t0\t0\t0\t0\t0\t0\t0\t0\t0\t0\t0\t0\t0\t0\t0\t0\t0\t0\t0\t0\t0\t0\t0\t0\t0\t0\t0\t0\t0\t0\t0\t0\t0\t0\t0\t0\t0\t0\t0\t0\t0\t0\t0\t0\t0\t0\t0\t0\t0\t0\t0\t0\t0\t0\t0\t0\t0\t0\t0\t0\t0\t0\t0\t0\t0\t0\t0\t0\t0\t0\t0\t0\t0\t0\t0\t0\t0\t0\t0\t0\t0\t0\t0\t0\t0\t0\t0\t0\t0\t0\t0\t0\t0\t0\t0\t0\t0\t0\t0\t0\t0\t0\t0\t0\t0\t0\t0\t0\t0\t0\t0\t0\t0\t0\t0\t0\t0\t0\t0\t0\t0\t0\t0\t0\t0\t0\t0\t0\t0\t0\t0\t0\t0\t0\t0\t0\t0\t0\t0\t0\t0\t0\t0\t0\t0\t0\t0\t0\t0\t0\t0\t0\t0\t0\t0\t0\t0\t0\t0\t0\t0\t0\t0\t0\t0\t0\t0\t0\t0\t0\t0\t0\t0\t0\t0\t0\t0\t0\t0\t0\n",
    "2\tM4E\tEast Toronto\tThe Beaches\t0\t0\t0\t0\t0\t0\t0\t0\t0\t0\t0\t0\t0\t0\t0\t0\t0\t0\t0\t0\t0\t0\t0\t0\t0\t0\t0\t0\t0\t0\t0\t0\t0\t0\t0\t0\t0\t0\t0\t0\t0\t0\t0\t0\t0\t0\t0\t0\t0\t0\t0\t0\t0\t0\t0\t0\t0\t0\t0\t0\t0\t0\t0\t0\t0\t0\t0\t0\t0\t0\t0\t0\t0\t0\t0\t0\t0\t0\t0\t0\t0\t0\t0\t0\t0\t0\t0\t0\t0\t0\t0\t0\t0\t0\t0\t0\t0\t0\t0\t0\t0\t0\t0\t0\t0\t0\t0\t0\t0\t0\t0\t0\t0\t0\t0\t0\t0\t0\t0\t0\t0\t0\t0\t0\t0\t0\t0\t0\t0\t0\t0\t0\t0\t0\t0\t0\t0\t0\t0\t0\t0\t0\t0\t0\t0\t0\t0\t0\t0\t0\t0\t0\t0\t0\t0\t0\t0\t0\t0\t0\t0\t0\t0\t0\t0\t0\t1\t0\t0\t0\t0\t0\t0\t0\t0\t0\t0\t0\t0\t0\t0\t0\t0\t0\t0\t0\t0\t0\t0\t0\t0\t0\t0\t0\t0\t0\t0\t0\t0\t0\t0\t0\t0\t0\t0\t0\t0\t0\t0\t0\t0\t0\t0\t0\t0\t0\t0\t0\t0\t0\t0\t0\t0\t0\t0\t0\t0\t0\t0\t0\t0\t0\t0\t0\t0\n",
    "3\tM4E\tEast Toronto\tThe Beaches\t0\t0\t0\t0\t0\t0\t0\t0\t0\t0\t0\t0\t0\t0\t0\t0\t0\t0\t0\t0\t0\t0\t0\t0\t0\t0\t0\t0\t0\t0\t0\t0\t0\t0\t0\t0\t0\t0\t0\t0\t0\t0\t0\t0\t0\t0\t0\t0\t0\t0\t0\t0\t0\t0\t0\t0\t0\t0\t0\t0\t0\t0\t0\t0\t0\t0\t0\t0\t0\t0\t0\t0\t0\t0\t0\t0\t0\t0\t0\t0\t0\t0\t0\t0\t0\t0\t0\t0\t0\t0\t0\t0\t0\t0\t0\t0\t0\t0\t0\t0\t0\t0\t0\t0\t0\t0\t0\t0\t0\t0\t0\t0\t0\t0\t0\t0\t0\t0\t0\t0\t0\t0\t0\t0\t0\t0\t0\t0\t0\t0\t0\t0\t0\t0\t0\t0\t0\t0\t0\t0\t0\t0\t0\t0\t0\t0\t0\t0\t0\t0\t0\t0\t0\t0\t0\t0\t0\t0\t1\t0\t0\t0\t0\t0\t0\t0\t0\t0\t0\t0\t0\t0\t0\t0\t0\t0\t0\t0\t0\t0\t0\t0\t0\t0\t0\t0\t0\t0\t0\t0\t0\t0\t0\t0\t0\t0\t0\t0\t0\t0\t0\t0\t0\t0\t0\t0\t0\t0\t0\t0\t0\t0\t0\t0\t0\t0\t0\t0\t0\t0\t0\t0\t0\t0\t0\t0\t0\t0\t0\t0\t0\t0\t0\t0\t0\n",
    "4\tM4K\tEast Toronto\tThe Danforth West, Riverdale\t0\t0\t0\t0\t0\t0\t0\t0\t0\t0\t0\t0\t0\t0\t0\t0\t0\t0\t0\t0\t0\t0\t0\t0\t0\t0\t0\t0\t0\t0\t0\t0\t0\t0\t0\t0\t0\t0\t0\t0\t0\t0\t0\t0\t0\t0\t0\t0\t0\t0\t0\t0\t0\t0\t0\t0\t0\t0\t0\t0\t0\t0\t0\t0\t0\t0\t0\t0\t0\t0\t0\t0\t0\t0\t0\t0\t0\t0\t0\t0\t0\t0\t0\t0\t0\t0\t0\t0\t0\t0\t0\t0\t0\t0\t0\t0\t0\t0\t0\t0\t0\t0\t0\t0\t0\t0\t0\t1\t0\t0\t0\t0\t0\t0\t0\t0\t0\t0\t0\t0\t0\t0\t0\t0\t0\t0\t0\t0\t0\t0\t0\t0\t0\t0\t0\t0\t0\t0\t0\t0\t0\t0\t0\t0\t0\t0\t0\t0\t0\t0\t0\t0\t0\t0\t0\t0\t0\t0\t0\t0\t0\t0\t0\t0\t0\t0\t0\t0\t0\t0\t0\t0\t0\t0\t0\t0\t0\t0\t0\t0\t0\t0\t0\t0\t0\t0\t0\t0\t0\t0\t0\t0\t0\t0\t0\t0\t0\t0\t0\t0\t0\t0\t0\t0\t0\t0\t0\t0\t0\t0\t0\t0\t0\t0\t0\t0\t0\t0\t0\t0\t0\t0\t0\t0\t0\t0\t0\t0\t0\t0\t0\t0\t0\t0\t0"
   ]
  },
  {
   "cell_type": "markdown",
   "metadata": {},
   "source": [
    "<h2>Next, let's group rows by neighborhood and by taking the mean of the frequency of occurrence of each category</h2>"
   ]
  },
  {
   "cell_type": "code",
   "execution_count": null,
   "metadata": {},
   "outputs": [],
   "source": [
    "toronto_grouped = toronto_onehot.groupby([\"PostalCode\", \"Borough\", \"Neighborhoods\"]).mean().reset_index()\n",
    "\n",
    "print(toronto_grouped.shape)\n",
    "toronto_grouped"
   ]
  },
  {
   "cell_type": "markdown",
   "metadata": {},
   "source": [
    "(38, 238)"
   ]
  },
  {
   "cell_type": "code",
   "execution_count": null,
   "metadata": {},
   "outputs": [],
   "source": [
    "PostalCode\tBorough\tNeighborhoods\tAdult Boutique\tAfghan Restaurant\tAirport\tAirport Food Court\tAirport Gate\tAirport Lounge\tAirport Service\tAirport Terminal\tAmerican Restaurant\tAntique Shop\tAquarium\tArepa Restaurant\tArt Gallery\tArt Museum\tArts & Crafts Store\tAsian Restaurant\tAuto Workshop\tBBQ Joint\tBaby Store\tBagel Shop\tBakery\tBank\tBar\tBaseball Stadium\tBasketball Stadium\tBeach\tBeer Bar\tBeer Store\tBelgian Restaurant\tBistro\tBoat or Ferry\tBookstore\tBoutique\tBrazilian Restaurant\tBreakfast Spot\tBrewery\tBubble Tea Shop\tBuilding\tBurger Joint\tBurrito Place\tBus Line\tButcher\tCafé\tCajun / Creole Restaurant\tCaribbean Restaurant\tCheese Shop\tChinese Restaurant\tChocolate Shop\tChurch\tClimbing Gym\tClothing Store\tCocktail Bar\tCoffee Shop\tCollege Arts Building\tCollege Gym\tCollege Rec Center\tComfort Food Restaurant\tComic Shop\tConcert Hall\tConvenience Store\tCosmetics Shop\tCoworking Space\tCreperie\tCuban Restaurant\tCupcake Shop\tDance Studio\tDeli / Bodega\tDepartment Store\tDessert Shop\tDim Sum Restaurant\tDiner\tDiscount Store\tDog Run\tDoner Restaurant\tDonut Shop\tDumpling Restaurant\tEastern European Restaurant\tElectronics Store\tEthiopian Restaurant\tEvent Space\tFalafel Restaurant\tFarmers Market\tFast Food Restaurant\tFilipino Restaurant\tFish & Chips Shop\tFish Market\tFlea Market\tFood\tFood & Drink Shop\tFood Court\tFood Truck\tFountain\tFrench Restaurant\tFried Chicken Joint\tFruit & Vegetable Store\tFurniture / Home Store\tGaming Cafe\tGarden\tGarden Center\tGastropub\tGay Bar\tGeneral Entertainment\tGeneral Travel\tGerman Restaurant\tGift Shop\tGluten-free Restaurant\tGourmet Shop\tGreek Restaurant\tGrocery Store\tGym\tGym / Fitness Center\tHarbor / Marina\tHealth & Beauty Service\tHealth Food Store\tHistoric Site\tHistory Museum\tHobby Shop\tHome Service\tHookah Bar\tHospital\tHostel\tHotel\tHotel Bar\tHotpot Restaurant\tIce Cream Shop\tIndian Restaurant\tIndie Movie Theater\tIrish Pub\tItalian Restaurant\tJapanese Restaurant\tJazz Club\tJewelry Store\tJewish Restaurant\tJuice Bar\tKorean Restaurant\tLake\tLatin American Restaurant\tLight Rail Station\tLingerie Store\tLiquor Store\tLounge\tMac & Cheese Joint\tMalay Restaurant\tMarket\tMartial Arts Dojo\tMediterranean Restaurant\tMen's Store\tMexican Restaurant\tMiddle Eastern Restaurant\tMiscellaneous Shop\tModern European Restaurant\tMolecular Gastronomy Restaurant\tMonument / Landmark\tMovie Theater\tMoving Target\tMuseum\tMusic Store\tMusic Venue\tNeighborhood\tNew American Restaurant\tNightclub\tNoodle House\tOffice\tOpera House\tOptical Shop\tOrganic Grocery\tOther Great Outdoors\tOutdoor Sculpture\tPark\tPerforming Arts Venue\tPersian Restaurant\tPet Store\tPharmacy\tPiano Bar\tPizza Place\tPlayground\tPlaza\tPoke Place\tPool\tPortuguese Restaurant\tPoutine Place\tPub\tRamen Restaurant\tRecord Shop\tRecording Studio\tRental Car Location\tRestaurant\tSake Bar\tSalad Place\tSalon / Barbershop\tSandwich Place\tScenic Lookout\tSculpture Garden\tSeafood Restaurant\tShoe Store\tShopping Mall\tSkate Park\tSkating Rink\tSmoke Shop\tSmoothie Shop\tSnack Place\tSoup Place\tSouth American Restaurant\tSouthern / Soul Food Restaurant\tSpa\tSpeakeasy\tSporting Goods Shop\tSports Bar\tStadium\tStationery Store\tSteakhouse\tStrip Club\tSupermarket\tSushi Restaurant\tSwim School\tTaco Place\tTailor Shop\tTaiwanese Restaurant\tTanning Salon\tTapas Restaurant\tTea Room\tTennis Court\tThai Restaurant\tTheater\tThrift / Vintage Store\tToy / Game Store\tTrail\tTrain Station\tVegetarian / Vegan Restaurant\tVideo Game Store\tVietnamese Restaurant\tWine Bar\tWings Joint\tWomen's Store\tYoga Studio\n",
    "0\tM4E\tEast Toronto\tThe Beaches\t0.000000\t0.000000\t0.000000\t0.000000\t0.000000\t0.000000\t0.000000\t0.000000\t0.000000\t0.000000\t0.00\t0.00\t0.000000\t0.000000\t0.000000\t0.000000\t0.000000\t0.000000\t0.000000\t0.000000\t0.000000\t0.000000\t0.000000\t0.00\t0.000000\t0.000000\t0.000000\t0.000000\t0.000000\t0.000000\t0.000000\t0.000000\t0.000000\t0.00\t0.000000\t0.000000\t0.000000\t0.00\t0.000000\t0.000000\t0.00\t0.000000\t0.000000\t0.000000\t0.000000\t0.000000\t0.000000\t0.000000\t0.000000\t0.000000\t0.000000\t0.000000\t0.250000\t0.000000\t0.000000\t0.00\t0.000000\t0.000000\t0.000000\t0.000000\t0.000000\t0.000000\t0.000000\t0.000000\t0.000000\t0.000000\t0.000000\t0.000000\t0.000000\t0.00\t0.000000\t0.000000\t0.000000\t0.00\t0.000000\t0.00\t0.0000\t0.000000\t0.000000\t0.000000\t0.000000\t0.000000\t0.000000\t0.00\t0.000000\t0.000000\t0.000000\t0.000000\t0.000000\t0.00\t0.000000\t0.000000\t0.000000\t0.000000\t0.00000\t0.000000\t0.00\t0.000000\t0.000000\t0.000000\t0.000000\t0.000000\t0.00\t0.00\t0.000000\t0.00\t0.000000\t0.000000\t0.000000\t0.000000\t0.000000\t0.000000\t0.000000\t0.000000\t0.000000\t0.000000\t0.000000\t0.0\t0.00\t0.00\t0.000000\t0.000000\t0.00\t0.00\t0.000000\t0.000000\t0.000000\t0.000000\t0.000000\t0.000000\t0.000000\t0.000000\t0.000000\t0.000000\t0.000000\t0.00\t0.000000\t0.000000\t0.00\t0.000000\t0.000000\t0.000000\t0.000000\t0.000000\t0.00\t0.000000\t0.000000\t0.000000\t0.000000\t0.000000\t0.000000\t0.000000\t0.00\t0.000000\t0.000000\t0.000000\t0.000000\t0.000000\t0.250000\t0.000000\t0.000000\t0.000000\t0.000000\t0.00\t0.000000\t0.00\t0.25\t0.000000\t0.000000\t0.000000\t0.000000\t0.000000\t0.000000\t0.000000\t0.000000\t0.000000\t0.000000\t0.000000\t0.000000\t0.000000\t0.000000\t0.250000\t0.000000\t0.000000\t0.000000\t0.000000\t0.000000\t0.000000\t0.000000\t0.000000\t0.000000\t0.00\t0.000000\t0.000000\t0.000000\t0.000000\t0.000000\t0.00\t0.000000\t0.000000\t0.000000\t0.000000\t0.000000\t0.000000\t0.000000\t0.000000\t0.000000\t0.000000\t0.000000\t0.000000\t0.000000\t0.000000\t0.000000\t0.000000\t0.00\t0.00\t0.000000\t0.000000\t0.00\t0.000000\t0.000000\t0.000000\t0.000000\t0.000000\t0.00\t0.000000\t0.00000\t0.00\t0.000000\t0.000000\t0.000000\t0.000000\t0.000000\t0.00\t0.000000\n",
    "1\tM4K\tEast Toronto\tThe Danforth West, Riverdale\t0.000000\t0.000000\t0.000000\t0.000000\t0.000000\t0.000000\t0.000000\t0.000000\t0.023810\t0.000000\t0.00\t0.00\t0.000000\t0.000000\t0.000000\t0.000000\t0.000000\t0.000000\t0.000000\t0.000000\t0.023810\t0.000000\t0.000000\t0.00\t0.000000\t0.000000\t0.000000\t0.000000\t0.000000\t0.000000\t0.000000\t0.047619\t0.000000\t0.00\t0.000000\t0.023810\t0.023810\t0.00\t0.000000\t0.000000\t0.00\t0.000000\t0.000000\t0.000000\t0.023810\t0.000000\t0.000000\t0.000000\t0.000000\t0.000000\t0.000000\t0.000000\t0.095238\t0.000000\t0.000000\t0.00\t0.000000\t0.000000\t0.000000\t0.000000\t0.023810\t0.000000\t0.000000\t0.000000\t0.000000\t0.000000\t0.000000\t0.000000\t0.023810\t0.00\t0.023810\t0.000000\t0.000000\t0.00\t0.000000\t0.00\t0.0000\t0.000000\t0.000000\t0.000000\t0.000000\t0.000000\t0.000000\t0.00\t0.000000\t0.000000\t0.000000\t0.000000\t0.000000\t0.00\t0.000000\t0.000000\t0.000000\t0.000000\t0.02381\t0.023810\t0.00\t0.000000\t0.000000\t0.000000\t0.000000\t0.000000\t0.00\t0.00\t0.000000\t0.00\t0.000000\t0.238095\t0.023810\t0.000000\t0.000000\t0.000000\t0.000000\t0.023810\t0.000000\t0.000000\t0.000000\t0.0\t0.00\t0.00\t0.000000\t0.000000\t0.00\t0.00\t0.071429\t0.023810\t0.000000\t0.000000\t0.047619\t0.000000\t0.000000\t0.000000\t0.000000\t0.023810\t0.000000\t0.00\t0.000000\t0.000000\t0.00\t0.023810\t0.000000\t0.000000\t0.000000\t0.000000\t0.00\t0.000000\t0.000000\t0.000000\t0.000000\t0.000000\t0.000000\t0.000000\t0.00\t0.000000\t0.000000\t0.000000\t0.000000\t0.000000\t0.000000\t0.000000\t0.000000\t0.000000\t0.000000\t0.00\t0.000000\t0.00\t0.00\t0.000000\t0.000000\t0.000000\t0.000000\t0.000000\t0.000000\t0.000000\t0.023810\t0.000000\t0.000000\t0.000000\t0.000000\t0.000000\t0.000000\t0.023810\t0.000000\t0.000000\t0.000000\t0.000000\t0.023810\t0.000000\t0.000000\t0.000000\t0.000000\t0.00\t0.000000\t0.000000\t0.000000\t0.000000\t0.000000\t0.00\t0.000000\t0.000000\t0.000000\t0.000000\t0.000000\t0.000000\t0.023810\t0.000000\t0.000000\t0.000000\t0.000000\t0.000000\t0.000000\t0.000000\t0.000000\t0.000000\t0.00\t0.00\t0.000000\t0.000000\t0.00\t0.000000\t0.000000\t0.000000\t0.000000\t0.000000\t0.00\t0.000000\t0.02381\t0.00\t0.000000\t0.000000\t0.000000\t0.000000\t0.000000\t0.00\t0.023810\n",
    "2\tM4L\tEast Toronto\tThe Beaches West, India Bazaar\t0.000000\t0.000000\t0.000000\t0.000000\t0.000000\t0.000000\t0.000000\t0.000000\t0.000000\t0.000000\t0.00\t0.00\t0.000000\t0.000000\t0.000000\t0.000000\t0.000000\t0.000000\t0.000000\t0.000000\t0.000000\t0.000000\t0.000000\t0.00\t0.000000\t0.000000\t0.000000\t0.000000\t0.000000\t0.000000\t0.000000\t0.000000\t0.000000\t0.00\t0.000000\t0.047619\t0.000000\t0.00\t0.047619\t0.047619\t0.00\t0.000000\t0.000000\t0.000000\t0.000000\t0.000000\t0.000000\t0.000000\t0.000000\t0.000000\t0.000000\t0.000000\t0.000000\t0.000000\t0.000000\t0.00\t0.000000\t0.000000\t0.000000\t0.000000\t0.000000\t0.000000\t0.000000\t0.000000\t0.000000\t0.000000\t0.000000\t0.000000\t0.000000\t0.00\t0.000000\t0.000000\t0.000000\t0.00\t0.000000\t0.00\t0.0000\t0.000000\t0.000000\t0.000000\t0.000000\t0.000000\t0.047619\t0.00\t0.047619\t0.000000\t0.000000\t0.000000\t0.047619\t0.00\t0.000000\t0.000000\t0.000000\t0.000000\t0.00000\t0.000000\t0.00\t0.000000\t0.000000\t0.000000\t0.000000\t0.000000\t0.00\t0.00\t0.000000\t0.00\t0.000000\t0.000000\t0.000000\t0.047619\t0.000000\t0.000000\t0.000000\t0.000000\t0.000000\t0.000000\t0.000000\t0.0\t0.00\t0.00\t0.000000\t0.000000\t0.00\t0.00\t0.047619\t0.000000\t0.000000\t0.000000\t0.047619\t0.000000\t0.000000\t0.000000\t0.000000\t0.000000\t0.000000\t0.00\t0.000000\t0.047619\t0.00\t0.047619\t0.000000\t0.000000\t0.000000\t0.000000\t0.00\t0.000000\t0.000000\t0.000000\t0.000000\t0.000000\t0.000000\t0.000000\t0.00\t0.047619\t0.000000\t0.000000\t0.000000\t0.000000\t0.000000\t0.000000\t0.000000\t0.000000\t0.000000\t0.00\t0.000000\t0.00\t0.00\t0.000000\t0.095238\t0.000000\t0.000000\t0.047619\t0.000000\t0.000000\t0.047619\t0.000000\t0.000000\t0.000000\t0.000000\t0.000000\t0.000000\t0.047619\t0.000000\t0.000000\t0.000000\t0.000000\t0.000000\t0.000000\t0.000000\t0.000000\t0.095238\t0.00\t0.000000\t0.000000\t0.000000\t0.000000\t0.000000\t0.00\t0.000000\t0.000000\t0.000000\t0.000000\t0.000000\t0.000000\t0.000000\t0.000000\t0.000000\t0.000000\t0.000000\t0.000000\t0.047619\t0.000000\t0.000000\t0.047619\t0.00\t0.00\t0.000000\t0.000000\t0.00\t0.000000\t0.000000\t0.000000\t0.000000\t0.000000\t0.00\t0.000000\t0.00000\t0.00\t0.000000\t0.000000\t0.000000\t0.000000\t0.000000\t0.00\t0.000000\n",
    "3\tM4M\tEast Toronto\tStudio District\t0.000000\t0.000000\t0.000000\t0.000000\t0.000000\t0.000000\t0.000000\t0.000000\t0.051282\t0.000000\t0.00\t0.00\t0.000000\t0.000000\t0.000000\t0.000000\t0.000000\t0.000000\t0.000000\t0.000000\t0.051282\t0.025641\t0.025641\t0.00\t0.000000\t0.000000\t0.000000\t0.000000\t0.000000\t0.000000\t0.000000\t0.025641\t0.000000\t0.00\t0.000000\t0.025641\t0.000000\t0.00\t0.000000\t0.000000\t0.00\t0.000000\t0.102564\t0.000000\t0.000000\t0.025641\t0.025641\t0.000000\t0.000000\t0.000000\t0.025641\t0.000000\t0.076923\t0.000000\t0.000000\t0.00\t0.025641\t0.000000\t0.000000\t0.025641\t0.000000\t0.025641\t0.000000\t0.000000\t0.000000\t0.000000\t0.000000\t0.000000\t0.000000\t0.00\t0.025641\t0.000000\t0.000000\t0.00\t0.000000\t0.00\t0.0000\t0.000000\t0.000000\t0.000000\t0.000000\t0.000000\t0.000000\t0.00\t0.000000\t0.025641\t0.000000\t0.000000\t0.000000\t0.00\t0.000000\t0.000000\t0.000000\t0.000000\t0.00000\t0.000000\t0.00\t0.000000\t0.000000\t0.025641\t0.000000\t0.000000\t0.00\t0.00\t0.000000\t0.00\t0.000000\t0.000000\t0.000000\t0.000000\t0.025641\t0.000000\t0.000000\t0.000000\t0.000000\t0.000000\t0.000000\t0.0\t0.00\t0.00\t0.000000\t0.000000\t0.00\t0.00\t0.025641\t0.000000\t0.000000\t0.000000\t0.051282\t0.000000\t0.000000\t0.000000\t0.000000\t0.025641\t0.000000\t0.00\t0.025641\t0.000000\t0.00\t0.000000\t0.000000\t0.000000\t0.000000\t0.000000\t0.00\t0.000000\t0.000000\t0.000000\t0.025641\t0.000000\t0.000000\t0.000000\t0.00\t0.000000\t0.000000\t0.000000\t0.025641\t0.000000\t0.025641\t0.025641\t0.000000\t0.000000\t0.000000\t0.00\t0.000000\t0.00\t0.00\t0.000000\t0.025641\t0.000000\t0.000000\t0.000000\t0.000000\t0.000000\t0.000000\t0.000000\t0.000000\t0.000000\t0.000000\t0.000000\t0.000000\t0.000000\t0.000000\t0.000000\t0.000000\t0.000000\t0.000000\t0.000000\t0.000000\t0.000000\t0.025641\t0.00\t0.000000\t0.025641\t0.000000\t0.000000\t0.000000\t0.00\t0.000000\t0.000000\t0.000000\t0.000000\t0.000000\t0.000000\t0.000000\t0.000000\t0.000000\t0.000000\t0.000000\t0.025641\t0.000000\t0.000000\t0.000000\t0.000000\t0.00\t0.00\t0.000000\t0.000000\t0.00\t0.000000\t0.000000\t0.000000\t0.000000\t0.000000\t0.00\t0.000000\t0.00000\t0.00\t0.000000\t0.000000\t0.000000\t0.000000\t0.000000\t0.00\t0.025641\n",
    "4\tM4N\tCentral Toronto\tLawrence Park\t0.000000\t0.000000\t0.000000\t0.000000\t0.000000\t0.000000\t0.000000\t0.000000\t0.000000\t0.000000\t0.00\t0.00\t0.000000\t0.000000\t0.000000\t0.000000\t0.000000\t0.000000\t0.000000\t0.000000\t0.000000\t0.000000\t0.000000\t0.00\t0.000000\t0.000000\t0.000000\t0.000000\t0.000000\t0.000000\t0.000000\t0.000000\t0.000000\t0.00\t0.000000\t0.000000\t0.000000\t0.00\t0.000000\t0.000000\t0.25\t0.000000\t0.000000\t0.000000\t0.000000\t0.000000\t0.000000\t0.000000\t0.000000\t0.000000\t0.000000\t0.000000\t0.000000\t0.000000\t0.000000\t0.00\t0.000000\t0.000000\t0.000000\t0.000000\t0.000000\t0.000000\t0.000000\t0.000000\t0.000000\t0.000000\t0.000000\t0.000000\t0.000000\t0.25\t0.000000\t0.000000\t0.000000\t0.00\t0.000000\t0.00\t0.0000\t0.000000\t0.000000\t0.000000\t0.000000\t0.000000\t0.000000\t0.00\t0.000000\t0.000000\t0.000000\t0.000000\t0.000000\t0.00\t0.000000\t0.000000\t0.000000\t0.000000\t0.00000\t0.000000\t0.00\t0.000000\t0.000000\t0.000000\t0.000000\t0.000000\t0.00\t0.00\t0.000000\t0.00\t0.000000\t0.000000\t0.000000\t0.000000\t0.000000\t0.000000\t0.000000\t0.000000\t0.000000\t0.000000\t0.000000\t0.0\t0.00\t0.00\t0.000000\t0.000000\t0.00\t0.00\t0.000000\t0.000000\t0.000000\t0.000000\t0.000000\t0.000000\t0.000000\t0.000000\t0.000000\t0.000000\t0.000000\t0.00\t0.000000\t0.000000\t0.00\t0.000000\t0.000000\t0.000000\t0.000000\t0.000000\t0.00\t0.000000\t0.000000\t0.000000\t0.000000\t0.000000\t0.000000\t0.000000\t0.00\t0.000000\t0.000000\t0.000000\t0.000000\t0.000000\t0.000000\t0.000000\t0.000000\t0.000000\t0.000000\t0.00\t0.000000\t0.00\t0.00\t0.000000\t0.250000\t0.000000\t0.000000\t0.000000\t0.000000\t0.000000\t0.000000\t0.000000\t0.000000\t0.000000\t0.000000\t0.000000\t0.000000\t0.000000\t0.000000\t0.000000\t0.000000\t0.000000\t0.000000\t0.000000\t0.000000\t0.000000\t0.000000\t0.00\t0.000000\t0.000000\t0.000000\t0.000000\t0.000000\t0.00\t0.000000\t0.000000\t0.000000\t0.000000\t0.000000\t0.000000\t0.000000\t0.000000\t0.000000\t0.000000\t0.000000\t0.000000\t0.000000\t0.000000\t0.000000\t0.000000\t0.25\t0.00\t0.000000\t0.000000\t0.00\t0.000000\t0.000000\t0.000000\t0.000000\t0.000000\t0.00\t0.000000\t0.00000\t0.00\t0.000000\t0.000000\t0.000000\t0.000000\t0.000000\t0.00\t0.000000\n",
    "5\tM4P\tCentral Toronto\tDavisville North\t0.000000\t0.000000\t0.000000\t0.000000\t0.000000\t0.000000\t0.000000\t0.000000\t0.000000\t0.000000\t0.00\t0.00\t0.000000\t0.000000\t0.000000\t0.000000\t0.000000\t0.000000\t0.000000\t0.000000\t0.000000\t0.000000\t0.000000\t0.00\t0.000000\t0.000000\t0.000000\t0.000000\t0.000000\t0.000000\t0.000000\t0.000000\t0.000000\t0.00\t0.111111\t0.000000\t0.000000\t0.00\t0.111111\t0.000000\t0.00\t0.000000\t0.000000\t0.000000\t0.000000\t0.000000\t0.000000\t0.000000\t0.000000\t0.000000\t0.111111\t0.000000\t0.000000\t0.000000\t0.000000\t0.00\t0.000000\t0.000000\t0.000000\t0.000000\t0.000000\t0.000000\t0.000000\t0.000000\t0.000000\t0.000000\t0.000000\t0.000000\t0.000000\t0.00\t0.000000\t0.000000\t0.000000\t0.00\t0.000000\t0.00\t0.0000\t0.000000\t0.000000\t0.000000\t0.000000\t0.000000\t0.000000\t0.00\t0.000000\t0.000000\t0.000000\t0.000000\t0.111111\t0.00\t0.000000\t0.000000\t0.000000\t0.000000\t0.00000\t0.000000\t0.00\t0.000000\t0.000000\t0.000000\t0.000000\t0.000000\t0.00\t0.00\t0.000000\t0.00\t0.000000\t0.000000\t0.000000\t0.111111\t0.000000\t0.000000\t0.000000\t0.000000\t0.000000\t0.000000\t0.000000\t0.0\t0.00\t0.00\t0.000000\t0.222222\t0.00\t0.00\t0.000000\t0.000000\t0.000000\t0.000000\t0.000000\t0.000000\t0.000000\t0.000000\t0.000000\t0.000000\t0.000000\t0.00\t0.000000\t0.000000\t0.00\t0.000000\t0.000000\t0.000000\t0.000000\t0.000000\t0.00\t0.000000\t0.000000\t0.000000\t0.000000\t0.000000\t0.000000\t0.000000\t0.00\t0.000000\t0.000000\t0.000000\t0.000000\t0.000000\t0.000000\t0.000000\t0.000000\t0.000000\t0.000000\t0.00\t0.000000\t0.00\t0.00\t0.000000\t0.111111\t0.000000\t0.000000\t0.000000\t0.000000\t0.000000\t0.000000\t0.000000\t0.000000\t0.000000\t0.000000\t0.000000\t0.000000\t0.000000\t0.000000\t0.000000\t0.000000\t0.000000\t0.000000\t0.000000\t0.000000\t0.000000\t0.111111\t0.00\t0.000000\t0.000000\t0.000000\t0.000000\t0.000000\t0.00\t0.000000\t0.000000\t0.000000\t0.000000\t0.000000\t0.000000\t0.000000\t0.000000\t0.000000\t0.000000\t0.000000\t0.000000\t0.000000\t0.000000\t0.000000\t0.000000\t0.00\t0.00\t0.000000\t0.000000\t0.00\t0.000000\t0.000000\t0.000000\t0.000000\t0.000000\t0.00\t0.000000\t0.00000\t0.00\t0.000000\t0.000000\t0.000000\t0.000000\t0.000000\t0.00\t0.000000\n",
    "6\tM4R\tCentral Toronto\tNorth Toronto West\t0.000000\t0.000000\t0.000000\t0.000000\t0.000000\t0.000000\t0.000000\t0.000000\t0.000000\t0.000000\t0.00\t0.00\t0.000000\t0.000000\t0.000000\t0.000000\t0.000000\t0.000000\t0.000000\t0.000000\t0.000000\t0.000000\t0.000000\t0.00\t0.000000\t0.000000\t0.000000\t0.000000\t0.000000\t0.000000\t0.000000\t0.000000\t0.000000\t0.00\t0.000000\t0.000000\t0.000000\t0.00\t0.000000\t0.000000\t0.00\t0.000000\t0.000000\t0.000000\t0.000000\t0.000000\t0.052632\t0.000000\t0.000000\t0.000000\t0.052632\t0.000000\t0.105263\t0.000000\t0.000000\t0.00\t0.000000\t0.000000\t0.000000\t0.000000\t0.000000\t0.000000\t0.000000\t0.000000\t0.000000\t0.000000\t0.000000\t0.000000\t0.052632\t0.00\t0.052632\t0.000000\t0.000000\t0.00\t0.000000\t0.00\t0.0000\t0.000000\t0.000000\t0.000000\t0.000000\t0.000000\t0.052632\t0.00\t0.000000\t0.000000\t0.000000\t0.000000\t0.000000\t0.00\t0.000000\t0.000000\t0.000000\t0.000000\t0.00000\t0.000000\t0.00\t0.000000\t0.000000\t0.000000\t0.000000\t0.000000\t0.00\t0.00\t0.000000\t0.00\t0.000000\t0.000000\t0.000000\t0.000000\t0.000000\t0.000000\t0.052632\t0.000000\t0.000000\t0.000000\t0.000000\t0.0\t0.00\t0.00\t0.000000\t0.000000\t0.00\t0.00\t0.000000\t0.000000\t0.000000\t0.000000\t0.000000\t0.000000\t0.000000\t0.000000\t0.000000\t0.000000\t0.000000\t0.00\t0.000000\t0.000000\t0.00\t0.000000\t0.000000\t0.000000\t0.000000\t0.000000\t0.00\t0.000000\t0.000000\t0.052632\t0.000000\t0.052632\t0.000000\t0.000000\t0.00\t0.000000\t0.000000\t0.000000\t0.000000\t0.000000\t0.000000\t0.000000\t0.000000\t0.000000\t0.000000\t0.00\t0.000000\t0.00\t0.00\t0.000000\t0.052632\t0.000000\t0.000000\t0.000000\t0.000000\t0.000000\t0.000000\t0.000000\t0.000000\t0.000000\t0.000000\t0.000000\t0.000000\t0.000000\t0.000000\t0.000000\t0.000000\t0.052632\t0.000000\t0.000000\t0.000000\t0.052632\t0.052632\t0.00\t0.000000\t0.000000\t0.000000\t0.000000\t0.000000\t0.00\t0.000000\t0.000000\t0.000000\t0.000000\t0.000000\t0.000000\t0.052632\t0.000000\t0.105263\t0.000000\t0.000000\t0.000000\t0.000000\t0.000000\t0.000000\t0.000000\t0.00\t0.00\t0.000000\t0.000000\t0.00\t0.000000\t0.000000\t0.000000\t0.000000\t0.000000\t0.00\t0.052632\t0.00000\t0.00\t0.000000\t0.000000\t0.000000\t0.000000\t0.000000\t0.00\t0.052632\n",
    "7\tM4S\tCentral Toronto\tDavisville\t0.000000\t0.000000\t0.000000\t0.000000\t0.000000\t0.000000\t0.000000\t0.000000\t0.000000\t0.000000\t0.00\t0.00\t0.000000\t0.000000\t0.000000\t0.000000\t0.000000\t0.000000\t0.000000\t0.000000\t0.000000\t0.000000\t0.000000\t0.00\t0.000000\t0.000000\t0.000000\t0.000000\t0.000000\t0.000000\t0.000000\t0.000000\t0.000000\t0.00\t0.000000\t0.029412\t0.000000\t0.00\t0.029412\t0.000000\t0.00\t0.000000\t0.058824\t0.000000\t0.000000\t0.000000\t0.000000\t0.000000\t0.000000\t0.000000\t0.000000\t0.000000\t0.058824\t0.000000\t0.000000\t0.00\t0.000000\t0.000000\t0.000000\t0.000000\t0.000000\t0.000000\t0.000000\t0.000000\t0.000000\t0.000000\t0.000000\t0.000000\t0.088235\t0.00\t0.029412\t0.029412\t0.000000\t0.00\t0.000000\t0.00\t0.0000\t0.000000\t0.000000\t0.000000\t0.000000\t0.029412\t0.000000\t0.00\t0.000000\t0.000000\t0.000000\t0.000000\t0.000000\t0.00\t0.000000\t0.000000\t0.000000\t0.029412\t0.00000\t0.000000\t0.00\t0.000000\t0.000000\t0.000000\t0.000000\t0.000000\t0.00\t0.00\t0.000000\t0.00\t0.029412\t0.029412\t0.000000\t0.029412\t0.000000\t0.000000\t0.000000\t0.000000\t0.000000\t0.000000\t0.000000\t0.0\t0.00\t0.00\t0.000000\t0.000000\t0.00\t0.00\t0.000000\t0.029412\t0.000000\t0.000000\t0.058824\t0.000000\t0.000000\t0.000000\t0.000000\t0.000000\t0.000000\t0.00\t0.000000\t0.000000\t0.00\t0.000000\t0.000000\t0.000000\t0.000000\t0.000000\t0.00\t0.000000\t0.000000\t0.000000\t0.000000\t0.000000\t0.000000\t0.000000\t0.00\t0.000000\t0.000000\t0.000000\t0.000000\t0.000000\t0.000000\t0.000000\t0.000000\t0.000000\t0.000000\t0.00\t0.000000\t0.00\t0.00\t0.000000\t0.029412\t0.000000\t0.000000\t0.000000\t0.058824\t0.000000\t0.058824\t0.000000\t0.000000\t0.000000\t0.000000\t0.000000\t0.000000\t0.000000\t0.000000\t0.000000\t0.000000\t0.000000\t0.029412\t0.000000\t0.000000\t0.000000\t0.088235\t0.00\t0.000000\t0.058824\t0.000000\t0.000000\t0.000000\t0.00\t0.000000\t0.000000\t0.000000\t0.000000\t0.000000\t0.000000\t0.000000\t0.000000\t0.000000\t0.000000\t0.000000\t0.000000\t0.000000\t0.000000\t0.000000\t0.058824\t0.00\t0.00\t0.000000\t0.000000\t0.00\t0.000000\t0.000000\t0.000000\t0.029412\t0.000000\t0.00\t0.029412\t0.00000\t0.00\t0.000000\t0.000000\t0.000000\t0.000000\t0.000000\t0.00\t0.000000\n",
    "8\tM4T\tCentral Toronto\tMoore Park, Summerhill East\t0.000000\t0.000000\t0.000000\t0.000000\t0.000000\t0.000000\t0.000000\t0.000000\t0.000000\t0.000000\t0.00\t0.00\t0.000000\t0.000000\t0.000000\t0.000000\t0.000000\t0.000000\t0.000000\t0.000000\t0.000000\t0.000000\t0.000000\t0.00\t0.000000\t0.000000\t0.000000\t0.000000\t0.000000\t0.000000\t0.000000\t0.000000\t0.000000\t0.00\t0.000000\t0.000000\t0.000000\t0.00\t0.000000\t0.000000\t0.00\t0.000000\t0.000000\t0.000000\t0.000000\t0.000000\t0.000000\t0.000000\t0.000000\t0.000000\t0.000000\t0.000000\t0.000000\t0.000000\t0.000000\t0.00\t0.000000\t0.000000\t0.000000\t0.000000\t0.000000\t0.000000\t0.000000\t0.000000\t0.000000\t0.000000\t0.000000\t0.000000\t0.000000\t0.00\t0.000000\t0.000000\t0.000000\t0.00\t0.000000\t0.00\t0.0000\t0.000000\t0.000000\t0.000000\t0.000000\t0.000000\t0.000000\t0.00\t0.000000\t0.000000\t0.000000\t0.000000\t0.000000\t0.00\t0.000000\t0.000000\t0.000000\t0.000000\t0.00000\t0.000000\t0.00\t0.000000\t0.000000\t0.000000\t0.000000\t0.000000\t0.00\t0.00\t0.000000\t0.00\t0.000000\t0.000000\t0.000000\t0.000000\t0.000000\t0.000000\t0.000000\t0.000000\t0.000000\t0.000000\t0.000000\t0.0\t0.00\t0.00\t0.000000\t0.000000\t0.00\t0.00\t0.000000\t0.000000\t0.000000\t0.000000\t0.000000\t0.000000\t0.000000\t0.000000\t0.000000\t0.000000\t0.000000\t0.00\t0.000000\t0.000000\t0.00\t0.000000\t0.000000\t0.000000\t0.000000\t0.000000\t0.00\t0.000000\t0.000000\t0.000000\t0.000000\t0.000000\t0.000000\t0.000000\t0.00\t0.000000\t0.000000\t0.000000\t0.000000\t0.000000\t0.000000\t0.000000\t0.000000\t0.000000\t0.000000\t0.00\t0.000000\t0.00\t0.00\t0.000000\t0.333333\t0.000000\t0.000000\t0.000000\t0.000000\t0.000000\t0.000000\t0.333333\t0.000000\t0.000000\t0.000000\t0.000000\t0.000000\t0.000000\t0.000000\t0.000000\t0.000000\t0.000000\t0.000000\t0.000000\t0.000000\t0.000000\t0.000000\t0.00\t0.000000\t0.000000\t0.000000\t0.000000\t0.000000\t0.00\t0.000000\t0.000000\t0.000000\t0.000000\t0.000000\t0.000000\t0.000000\t0.000000\t0.000000\t0.000000\t0.000000\t0.000000\t0.000000\t0.000000\t0.000000\t0.000000\t0.00\t0.00\t0.000000\t0.000000\t0.00\t0.000000\t0.000000\t0.333333\t0.000000\t0.000000\t0.00\t0.000000\t0.00000\t0.00\t0.000000\t0.000000\t0.000000\t0.000000\t0.000000\t0.00\t0.000000\n",
    "9\tM4V\tCentral Toronto\tDeer Park, Forest Hill SE, Rathnelly, South Hi...\t0.000000\t0.000000\t0.000000\t0.000000\t0.000000\t0.000000\t0.000000\t0.000000\t0.071429\t0.000000\t0.00\t0.00\t0.000000\t0.000000\t0.000000\t0.000000\t0.000000\t0.000000\t0.000000\t0.071429\t0.000000\t0.000000\t0.000000\t0.00\t0.000000\t0.000000\t0.000000\t0.000000\t0.000000\t0.000000\t0.000000\t0.000000\t0.000000\t0.00\t0.000000\t0.000000\t0.000000\t0.00\t0.000000\t0.000000\t0.00\t0.000000\t0.000000\t0.000000\t0.000000\t0.000000\t0.000000\t0.000000\t0.000000\t0.000000\t0.000000\t0.000000\t0.142857\t0.000000\t0.000000\t0.00\t0.000000\t0.000000\t0.000000\t0.071429\t0.000000\t0.000000\t0.000000\t0.000000\t0.000000\t0.000000\t0.000000\t0.000000\t0.000000\t0.00\t0.000000\t0.000000\t0.000000\t0.00\t0.000000\t0.00\t0.0000\t0.000000\t0.000000\t0.000000\t0.000000\t0.000000\t0.000000\t0.00\t0.000000\t0.000000\t0.000000\t0.000000\t0.000000\t0.00\t0.000000\t0.000000\t0.000000\t0.071429\t0.00000\t0.000000\t0.00\t0.000000\t0.000000\t0.000000\t0.000000\t0.000000\t0.00\t0.00\t0.000000\t0.00\t0.000000\t0.000000\t0.000000\t0.000000\t0.000000\t0.000000\t0.000000\t0.000000\t0.000000\t0.000000\t0.000000\t0.0\t0.00\t0.00\t0.000000\t0.000000\t0.00\t0.00\t0.000000\t0.000000\t0.000000\t0.000000\t0.000000\t0.000000\t0.000000\t0.000000\t0.000000\t0.000000\t0.000000\t0.00\t0.000000\t0.071429\t0.00\t0.000000\t0.000000\t0.000000\t0.000000\t0.000000\t0.00\t0.000000\t0.000000\t0.000000\t0.000000\t0.000000\t0.000000\t0.000000\t0.00\t0.000000\t0.000000\t0.000000\t0.000000\t0.000000\t0.000000\t0.000000\t0.000000\t0.000000\t0.000000\t0.00\t0.000000\t0.00\t0.00\t0.000000\t0.000000\t0.000000\t0.000000\t0.000000\t0.000000\t0.000000\t0.071429\t0.000000\t0.000000\t0.000000\t0.000000\t0.000000\t0.000000\t0.142857\t0.000000\t0.000000\t0.000000\t0.000000\t0.000000\t0.000000\t0.000000\t0.000000\t0.000000\t0.00\t0.000000\t0.000000\t0.000000\t0.000000\t0.000000\t0.00\t0.000000\t0.000000\t0.000000\t0.000000\t0.000000\t0.000000\t0.000000\t0.000000\t0.000000\t0.071429\t0.000000\t0.000000\t0.000000\t0.000000\t0.071429\t0.071429\t0.00\t0.00\t0.000000\t0.000000\t0.00\t0.000000\t0.000000\t0.000000\t0.000000\t0.000000\t0.00\t0.000000\t0.00000\t0.00\t0.000000\t0.000000\t0.071429\t0.000000\t0.000000\t0.00\t0.000000\n",
    "10\tM4W\tDowntown Toronto\tRosedale\t0.000000\t0.000000\t0.000000\t0.000000\t0.000000\t0.000000\t0.000000\t0.000000\t0.000000\t0.000000\t0.00\t0.00\t0.000000\t0.000000\t0.000000\t0.000000\t0.000000\t0.000000\t0.000000\t0.000000\t0.000000\t0.000000\t0.000000\t0.00\t0.000000\t0.000000\t0.000000\t0.000000\t0.000000\t0.000000\t0.000000\t0.000000\t0.000000\t0.00\t0.000000\t0.000000\t0.000000\t0.00\t0.000000\t0.000000\t0.00\t0.000000\t0.000000\t0.000000\t0.000000\t0.000000\t0.000000\t0.000000\t0.000000\t0.000000\t0.000000\t0.000000\t0.000000\t0.000000\t0.000000\t0.00\t0.000000\t0.000000\t0.000000\t0.000000\t0.000000\t0.000000\t0.000000\t0.000000\t0.000000\t0.000000\t0.000000\t0.000000\t0.000000\t0.00\t0.000000\t0.000000\t0.000000\t0.00\t0.000000\t0.00\t0.0000\t0.000000\t0.000000\t0.000000\t0.000000\t0.000000\t0.000000\t0.00\t0.000000\t0.000000\t0.000000\t0.000000\t0.000000\t0.00\t0.000000\t0.000000\t0.000000\t0.000000\t0.00000\t0.000000\t0.00\t0.000000\t0.000000\t0.000000\t0.000000\t0.000000\t0.00\t0.00\t0.000000\t0.00\t0.000000\t0.000000\t0.000000\t0.000000\t0.000000\t0.000000\t0.000000\t0.000000\t0.000000\t0.000000\t0.000000\t0.0\t0.00\t0.00\t0.000000\t0.000000\t0.00\t0.00\t0.000000\t0.000000\t0.000000\t0.000000\t0.000000\t0.000000\t0.000000\t0.000000\t0.000000\t0.000000\t0.000000\t0.00\t0.000000\t0.000000\t0.00\t0.000000\t0.000000\t0.000000\t0.000000\t0.000000\t0.00\t0.000000\t0.000000\t0.000000\t0.000000\t0.000000\t0.000000\t0.000000\t0.00\t0.000000\t0.000000\t0.000000\t0.000000\t0.000000\t0.000000\t0.000000\t0.000000\t0.000000\t0.000000\t0.00\t0.000000\t0.00\t0.00\t0.000000\t0.500000\t0.000000\t0.000000\t0.000000\t0.000000\t0.000000\t0.000000\t0.250000\t0.000000\t0.000000\t0.000000\t0.000000\t0.000000\t0.000000\t0.000000\t0.000000\t0.000000\t0.000000\t0.000000\t0.000000\t0.000000\t0.000000\t0.000000\t0.00\t0.000000\t0.000000\t0.000000\t0.000000\t0.000000\t0.00\t0.000000\t0.000000\t0.000000\t0.000000\t0.000000\t0.000000\t0.000000\t0.000000\t0.000000\t0.000000\t0.000000\t0.000000\t0.000000\t0.000000\t0.000000\t0.000000\t0.00\t0.00\t0.000000\t0.000000\t0.00\t0.000000\t0.000000\t0.000000\t0.000000\t0.000000\t0.00\t0.000000\t0.25000\t0.00\t0.000000\t0.000000\t0.000000\t0.000000\t0.000000\t0.00\t0.000000\n",
    "11\tM4X\tDowntown Toronto\tCabbagetown, St. James Town\t0.000000\t0.000000\t0.000000\t0.000000\t0.000000\t0.000000\t0.000000\t0.000000\t0.000000\t0.000000\t0.00\t0.00\t0.000000\t0.000000\t0.000000\t0.000000\t0.000000\t0.000000\t0.000000\t0.000000\t0.044444\t0.022222\t0.000000\t0.00\t0.000000\t0.000000\t0.000000\t0.022222\t0.000000\t0.000000\t0.000000\t0.000000\t0.000000\t0.00\t0.022222\t0.000000\t0.000000\t0.00\t0.000000\t0.000000\t0.00\t0.022222\t0.044444\t0.000000\t0.022222\t0.000000\t0.044444\t0.000000\t0.000000\t0.000000\t0.000000\t0.000000\t0.088889\t0.000000\t0.000000\t0.00\t0.000000\t0.000000\t0.000000\t0.000000\t0.000000\t0.000000\t0.000000\t0.000000\t0.000000\t0.000000\t0.022222\t0.000000\t0.000000\t0.00\t0.022222\t0.000000\t0.000000\t0.00\t0.000000\t0.00\t0.0000\t0.000000\t0.000000\t0.000000\t0.000000\t0.000000\t0.000000\t0.00\t0.000000\t0.000000\t0.000000\t0.000000\t0.000000\t0.00\t0.000000\t0.000000\t0.000000\t0.000000\t0.00000\t0.000000\t0.00\t0.000000\t0.000000\t0.022222\t0.000000\t0.022222\t0.00\t0.00\t0.022222\t0.00\t0.000000\t0.000000\t0.000000\t0.000000\t0.000000\t0.000000\t0.000000\t0.000000\t0.000000\t0.000000\t0.000000\t0.0\t0.00\t0.00\t0.000000\t0.000000\t0.00\t0.00\t0.000000\t0.022222\t0.000000\t0.000000\t0.044444\t0.022222\t0.000000\t0.022222\t0.000000\t0.000000\t0.000000\t0.00\t0.000000\t0.000000\t0.00\t0.022222\t0.000000\t0.000000\t0.000000\t0.022222\t0.00\t0.000000\t0.000000\t0.000000\t0.000000\t0.000000\t0.000000\t0.000000\t0.00\t0.000000\t0.000000\t0.000000\t0.000000\t0.000000\t0.000000\t0.000000\t0.000000\t0.000000\t0.000000\t0.00\t0.000000\t0.00\t0.00\t0.022222\t0.022222\t0.000000\t0.000000\t0.022222\t0.022222\t0.000000\t0.044444\t0.022222\t0.022222\t0.000000\t0.000000\t0.000000\t0.000000\t0.044444\t0.000000\t0.000000\t0.000000\t0.000000\t0.088889\t0.000000\t0.000000\t0.000000\t0.022222\t0.00\t0.000000\t0.000000\t0.000000\t0.000000\t0.000000\t0.00\t0.000000\t0.000000\t0.022222\t0.000000\t0.000000\t0.000000\t0.000000\t0.000000\t0.000000\t0.000000\t0.000000\t0.000000\t0.000000\t0.000000\t0.000000\t0.000000\t0.00\t0.00\t0.000000\t0.022222\t0.00\t0.000000\t0.000000\t0.000000\t0.022222\t0.000000\t0.00\t0.000000\t0.00000\t0.00\t0.000000\t0.000000\t0.000000\t0.000000\t0.000000\t0.00\t0.000000\n",
    "12\tM4Y\tDowntown Toronto\tChurch and Wellesley\t0.011494\t0.011494\t0.000000\t0.000000\t0.000000\t0.000000\t0.000000\t0.000000\t0.011494\t0.000000\t0.00\t0.00\t0.000000\t0.000000\t0.011494\t0.000000\t0.000000\t0.000000\t0.000000\t0.000000\t0.000000\t0.000000\t0.011494\t0.00\t0.000000\t0.000000\t0.000000\t0.000000\t0.000000\t0.000000\t0.000000\t0.011494\t0.000000\t0.00\t0.011494\t0.000000\t0.022989\t0.00\t0.034483\t0.011494\t0.00\t0.000000\t0.022989\t0.000000\t0.011494\t0.000000\t0.011494\t0.000000\t0.000000\t0.000000\t0.000000\t0.000000\t0.057471\t0.000000\t0.000000\t0.00\t0.000000\t0.000000\t0.000000\t0.000000\t0.000000\t0.000000\t0.011494\t0.000000\t0.000000\t0.011494\t0.000000\t0.000000\t0.000000\t0.00\t0.011494\t0.000000\t0.011494\t0.00\t0.000000\t0.00\t0.0000\t0.000000\t0.011494\t0.000000\t0.000000\t0.000000\t0.022989\t0.00\t0.000000\t0.000000\t0.000000\t0.000000\t0.011494\t0.00\t0.000000\t0.000000\t0.000000\t0.000000\t0.00000\t0.000000\t0.00\t0.000000\t0.000000\t0.022989\t0.045977\t0.011494\t0.00\t0.00\t0.000000\t0.00\t0.000000\t0.000000\t0.011494\t0.011494\t0.000000\t0.000000\t0.011494\t0.000000\t0.000000\t0.000000\t0.011494\t0.0\t0.00\t0.00\t0.000000\t0.011494\t0.00\t0.00\t0.011494\t0.011494\t0.000000\t0.000000\t0.000000\t0.068966\t0.000000\t0.000000\t0.000000\t0.011494\t0.000000\t0.00\t0.000000\t0.000000\t0.00\t0.000000\t0.000000\t0.000000\t0.000000\t0.000000\t0.00\t0.022989\t0.022989\t0.011494\t0.000000\t0.000000\t0.000000\t0.000000\t0.00\t0.000000\t0.000000\t0.000000\t0.000000\t0.000000\t0.000000\t0.000000\t0.011494\t0.000000\t0.000000\t0.00\t0.000000\t0.00\t0.00\t0.000000\t0.011494\t0.000000\t0.011494\t0.011494\t0.000000\t0.011494\t0.011494\t0.000000\t0.000000\t0.000000\t0.000000\t0.000000\t0.000000\t0.022989\t0.011494\t0.000000\t0.000000\t0.000000\t0.034483\t0.011494\t0.000000\t0.011494\t0.000000\t0.00\t0.011494\t0.011494\t0.000000\t0.000000\t0.000000\t0.00\t0.011494\t0.000000\t0.000000\t0.000000\t0.000000\t0.000000\t0.000000\t0.000000\t0.000000\t0.011494\t0.000000\t0.000000\t0.011494\t0.011494\t0.000000\t0.057471\t0.00\t0.00\t0.000000\t0.000000\t0.00\t0.000000\t0.011494\t0.000000\t0.000000\t0.011494\t0.00\t0.000000\t0.00000\t0.00\t0.000000\t0.011494\t0.011494\t0.000000\t0.011494\t0.00\t0.011494\n",
    "13\tM5A\tDowntown Toronto\tHarbourfront, Regent Park\t0.000000\t0.000000\t0.000000\t0.000000\t0.000000\t0.000000\t0.000000\t0.000000\t0.000000\t0.020833\t0.00\t0.00\t0.020833\t0.000000\t0.000000\t0.000000\t0.000000\t0.000000\t0.000000\t0.000000\t0.062500\t0.020833\t0.000000\t0.00\t0.000000\t0.000000\t0.000000\t0.020833\t0.000000\t0.000000\t0.000000\t0.000000\t0.000000\t0.00\t0.041667\t0.020833\t0.000000\t0.00\t0.000000\t0.000000\t0.00\t0.000000\t0.062500\t0.000000\t0.000000\t0.000000\t0.000000\t0.020833\t0.000000\t0.000000\t0.000000\t0.000000\t0.166667\t0.000000\t0.000000\t0.00\t0.000000\t0.000000\t0.000000\t0.000000\t0.000000\t0.000000\t0.000000\t0.000000\t0.000000\t0.000000\t0.000000\t0.000000\t0.020833\t0.00\t0.000000\t0.000000\t0.000000\t0.00\t0.000000\t0.00\t0.0000\t0.020833\t0.000000\t0.020833\t0.000000\t0.020833\t0.000000\t0.00\t0.000000\t0.000000\t0.000000\t0.000000\t0.000000\t0.00\t0.000000\t0.000000\t0.020833\t0.000000\t0.00000\t0.000000\t0.00\t0.000000\t0.000000\t0.000000\t0.000000\t0.000000\t0.00\t0.00\t0.000000\t0.00\t0.000000\t0.020833\t0.000000\t0.000000\t0.020833\t0.000000\t0.000000\t0.020833\t0.020833\t0.000000\t0.000000\t0.0\t0.00\t0.00\t0.000000\t0.020833\t0.00\t0.00\t0.020833\t0.000000\t0.000000\t0.000000\t0.020833\t0.000000\t0.000000\t0.000000\t0.000000\t0.000000\t0.000000\t0.00\t0.000000\t0.000000\t0.00\t0.000000\t0.000000\t0.000000\t0.000000\t0.000000\t0.00\t0.000000\t0.000000\t0.041667\t0.000000\t0.000000\t0.000000\t0.000000\t0.00\t0.000000\t0.000000\t0.000000\t0.000000\t0.000000\t0.000000\t0.000000\t0.000000\t0.000000\t0.000000\t0.00\t0.000000\t0.00\t0.00\t0.000000\t0.062500\t0.020833\t0.000000\t0.000000\t0.000000\t0.000000\t0.000000\t0.000000\t0.000000\t0.000000\t0.000000\t0.000000\t0.000000\t0.062500\t0.000000\t0.000000\t0.000000\t0.000000\t0.020833\t0.000000\t0.000000\t0.000000\t0.000000\t0.00\t0.000000\t0.000000\t0.020833\t0.000000\t0.000000\t0.00\t0.000000\t0.000000\t0.000000\t0.000000\t0.000000\t0.000000\t0.020833\t0.000000\t0.000000\t0.000000\t0.000000\t0.000000\t0.000000\t0.000000\t0.000000\t0.000000\t0.00\t0.00\t0.000000\t0.000000\t0.00\t0.000000\t0.000000\t0.000000\t0.000000\t0.041667\t0.00\t0.000000\t0.00000\t0.00\t0.000000\t0.000000\t0.000000\t0.000000\t0.000000\t0.00\t0.000000\n",
    "14\tM5B\tDowntown Toronto\tRyerson, Garden District\t0.000000\t0.000000\t0.000000\t0.000000\t0.000000\t0.000000\t0.000000\t0.000000\t0.010000\t0.000000\t0.00\t0.00\t0.010000\t0.000000\t0.000000\t0.000000\t0.000000\t0.010000\t0.000000\t0.000000\t0.010000\t0.010000\t0.020000\t0.00\t0.000000\t0.000000\t0.010000\t0.000000\t0.000000\t0.000000\t0.000000\t0.010000\t0.000000\t0.00\t0.000000\t0.000000\t0.010000\t0.00\t0.010000\t0.010000\t0.00\t0.000000\t0.040000\t0.000000\t0.000000\t0.000000\t0.010000\t0.000000\t0.000000\t0.000000\t0.080000\t0.000000\t0.090000\t0.000000\t0.000000\t0.01\t0.000000\t0.010000\t0.010000\t0.000000\t0.030000\t0.000000\t0.000000\t0.000000\t0.000000\t0.000000\t0.000000\t0.010000\t0.010000\t0.00\t0.020000\t0.000000\t0.000000\t0.00\t0.000000\t0.00\t0.0000\t0.000000\t0.000000\t0.000000\t0.010000\t0.000000\t0.010000\t0.00\t0.000000\t0.000000\t0.000000\t0.000000\t0.000000\t0.01\t0.000000\t0.000000\t0.000000\t0.000000\t0.00000\t0.010000\t0.00\t0.000000\t0.000000\t0.010000\t0.000000\t0.000000\t0.00\t0.00\t0.000000\t0.00\t0.000000\t0.000000\t0.000000\t0.010000\t0.010000\t0.000000\t0.000000\t0.000000\t0.000000\t0.000000\t0.000000\t0.0\t0.01\t0.00\t0.000000\t0.010000\t0.00\t0.00\t0.000000\t0.000000\t0.000000\t0.000000\t0.020000\t0.020000\t0.000000\t0.000000\t0.000000\t0.010000\t0.000000\t0.01\t0.000000\t0.000000\t0.01\t0.000000\t0.010000\t0.000000\t0.000000\t0.000000\t0.00\t0.000000\t0.000000\t0.010000\t0.030000\t0.010000\t0.010000\t0.000000\t0.00\t0.010000\t0.000000\t0.000000\t0.000000\t0.010000\t0.000000\t0.000000\t0.000000\t0.000000\t0.010000\t0.00\t0.000000\t0.00\t0.01\t0.000000\t0.000000\t0.000000\t0.000000\t0.000000\t0.000000\t0.000000\t0.020000\t0.000000\t0.020000\t0.000000\t0.000000\t0.000000\t0.000000\t0.010000\t0.020000\t0.000000\t0.000000\t0.000000\t0.020000\t0.000000\t0.000000\t0.000000\t0.010000\t0.00\t0.000000\t0.010000\t0.010000\t0.010000\t0.000000\t0.00\t0.010000\t0.000000\t0.000000\t0.000000\t0.000000\t0.000000\t0.010000\t0.000000\t0.000000\t0.000000\t0.000000\t0.000000\t0.010000\t0.000000\t0.000000\t0.000000\t0.00\t0.01\t0.000000\t0.000000\t0.01\t0.000000\t0.020000\t0.000000\t0.020000\t0.020000\t0.00\t0.010000\t0.00000\t0.00\t0.010000\t0.010000\t0.010000\t0.010000\t0.000000\t0.00\t0.000000\n",
    "15\tM5C\tDowntown Toronto\tSt. James Town\t0.000000\t0.000000\t0.000000\t0.000000\t0.000000\t0.000000\t0.000000\t0.000000\t0.020000\t0.000000\t0.00\t0.00\t0.010000\t0.000000\t0.000000\t0.000000\t0.000000\t0.020000\t0.000000\t0.010000\t0.030000\t0.010000\t0.000000\t0.00\t0.000000\t0.000000\t0.020000\t0.000000\t0.000000\t0.000000\t0.000000\t0.010000\t0.000000\t0.00\t0.030000\t0.000000\t0.000000\t0.00\t0.000000\t0.000000\t0.00\t0.000000\t0.050000\t0.000000\t0.000000\t0.000000\t0.000000\t0.000000\t0.010000\t0.000000\t0.040000\t0.030000\t0.070000\t0.000000\t0.000000\t0.00\t0.010000\t0.000000\t0.010000\t0.000000\t0.030000\t0.000000\t0.020000\t0.000000\t0.000000\t0.000000\t0.000000\t0.010000\t0.000000\t0.00\t0.020000\t0.000000\t0.000000\t0.00\t0.000000\t0.00\t0.0000\t0.010000\t0.000000\t0.000000\t0.000000\t0.020000\t0.000000\t0.00\t0.000000\t0.000000\t0.000000\t0.000000\t0.000000\t0.00\t0.010000\t0.010000\t0.000000\t0.000000\t0.00000\t0.010000\t0.00\t0.000000\t0.000000\t0.030000\t0.000000\t0.000000\t0.00\t0.01\t0.000000\t0.00\t0.000000\t0.000000\t0.010000\t0.010000\t0.000000\t0.000000\t0.000000\t0.000000\t0.000000\t0.000000\t0.000000\t0.0\t0.00\t0.00\t0.010000\t0.050000\t0.00\t0.00\t0.010000\t0.010000\t0.000000\t0.000000\t0.030000\t0.020000\t0.010000\t0.000000\t0.000000\t0.000000\t0.010000\t0.00\t0.010000\t0.000000\t0.00\t0.000000\t0.000000\t0.000000\t0.000000\t0.000000\t0.00\t0.000000\t0.000000\t0.000000\t0.010000\t0.000000\t0.000000\t0.010000\t0.00\t0.010000\t0.000000\t0.000000\t0.000000\t0.000000\t0.000000\t0.010000\t0.000000\t0.000000\t0.000000\t0.00\t0.000000\t0.00\t0.00\t0.000000\t0.030000\t0.010000\t0.000000\t0.000000\t0.000000\t0.000000\t0.020000\t0.000000\t0.000000\t0.010000\t0.000000\t0.000000\t0.000000\t0.010000\t0.000000\t0.000000\t0.000000\t0.000000\t0.060000\t0.000000\t0.000000\t0.000000\t0.000000\t0.00\t0.000000\t0.020000\t0.000000\t0.000000\t0.000000\t0.00\t0.000000\t0.010000\t0.000000\t0.000000\t0.000000\t0.000000\t0.000000\t0.000000\t0.000000\t0.000000\t0.000000\t0.000000\t0.000000\t0.000000\t0.000000\t0.000000\t0.00\t0.00\t0.010000\t0.000000\t0.00\t0.000000\t0.000000\t0.000000\t0.010000\t0.010000\t0.00\t0.000000\t0.00000\t0.00\t0.000000\t0.000000\t0.000000\t0.000000\t0.000000\t0.01\t0.010000\n",
    "16\tM5E\tDowntown Toronto\tBerczy Park\t0.000000\t0.000000\t0.000000\t0.000000\t0.000000\t0.000000\t0.000000\t0.000000\t0.000000\t0.000000\t0.00\t0.00\t0.018182\t0.000000\t0.000000\t0.000000\t0.000000\t0.000000\t0.000000\t0.018182\t0.036364\t0.000000\t0.000000\t0.00\t0.018182\t0.018182\t0.036364\t0.000000\t0.018182\t0.018182\t0.000000\t0.000000\t0.000000\t0.00\t0.000000\t0.000000\t0.000000\t0.00\t0.000000\t0.000000\t0.00\t0.000000\t0.036364\t0.000000\t0.000000\t0.036364\t0.000000\t0.000000\t0.000000\t0.000000\t0.018182\t0.054545\t0.072727\t0.000000\t0.000000\t0.00\t0.018182\t0.000000\t0.018182\t0.000000\t0.018182\t0.000000\t0.018182\t0.000000\t0.000000\t0.000000\t0.000000\t0.000000\t0.000000\t0.00\t0.018182\t0.000000\t0.000000\t0.00\t0.000000\t0.00\t0.0000\t0.000000\t0.000000\t0.000000\t0.000000\t0.036364\t0.000000\t0.00\t0.000000\t0.018182\t0.000000\t0.000000\t0.000000\t0.00\t0.000000\t0.018182\t0.018182\t0.000000\t0.00000\t0.000000\t0.00\t0.000000\t0.000000\t0.000000\t0.000000\t0.000000\t0.00\t0.00\t0.000000\t0.00\t0.000000\t0.018182\t0.000000\t0.000000\t0.000000\t0.000000\t0.000000\t0.000000\t0.000000\t0.000000\t0.000000\t0.0\t0.00\t0.00\t0.000000\t0.018182\t0.00\t0.00\t0.000000\t0.000000\t0.000000\t0.018182\t0.036364\t0.000000\t0.018182\t0.000000\t0.000000\t0.000000\t0.000000\t0.00\t0.000000\t0.000000\t0.00\t0.018182\t0.018182\t0.000000\t0.000000\t0.000000\t0.00\t0.000000\t0.000000\t0.000000\t0.000000\t0.000000\t0.000000\t0.000000\t0.00\t0.000000\t0.000000\t0.018182\t0.000000\t0.000000\t0.000000\t0.000000\t0.000000\t0.000000\t0.000000\t0.00\t0.000000\t0.00\t0.00\t0.000000\t0.018182\t0.000000\t0.000000\t0.000000\t0.000000\t0.000000\t0.000000\t0.000000\t0.000000\t0.000000\t0.000000\t0.000000\t0.000000\t0.036364\t0.000000\t0.000000\t0.000000\t0.000000\t0.054545\t0.000000\t0.000000\t0.000000\t0.000000\t0.00\t0.000000\t0.036364\t0.000000\t0.018182\t0.000000\t0.00\t0.000000\t0.000000\t0.000000\t0.000000\t0.000000\t0.000000\t0.000000\t0.000000\t0.000000\t0.000000\t0.000000\t0.000000\t0.036364\t0.000000\t0.000000\t0.000000\t0.00\t0.00\t0.018182\t0.000000\t0.00\t0.000000\t0.018182\t0.000000\t0.018182\t0.000000\t0.00\t0.000000\t0.00000\t0.00\t0.000000\t0.000000\t0.000000\t0.000000\t0.000000\t0.00\t0.000000\n",
    "17\tM5G\tDowntown Toronto\tCentral Bay Street\t0.000000\t0.000000\t0.000000\t0.000000\t0.000000\t0.000000\t0.000000\t0.000000\t0.012346\t0.000000\t0.00\t0.00\t0.000000\t0.012346\t0.000000\t0.000000\t0.000000\t0.000000\t0.000000\t0.000000\t0.012346\t0.000000\t0.037037\t0.00\t0.000000\t0.000000\t0.000000\t0.000000\t0.000000\t0.000000\t0.000000\t0.000000\t0.000000\t0.00\t0.000000\t0.000000\t0.024691\t0.00\t0.037037\t0.000000\t0.00\t0.000000\t0.074074\t0.000000\t0.000000\t0.000000\t0.024691\t0.000000\t0.000000\t0.000000\t0.012346\t0.000000\t0.160494\t0.000000\t0.000000\t0.00\t0.000000\t0.012346\t0.000000\t0.000000\t0.000000\t0.000000\t0.000000\t0.000000\t0.000000\t0.000000\t0.000000\t0.012346\t0.012346\t0.00\t0.012346\t0.012346\t0.000000\t0.00\t0.012346\t0.00\t0.0000\t0.000000\t0.000000\t0.000000\t0.024691\t0.000000\t0.000000\t0.00\t0.000000\t0.000000\t0.000000\t0.000000\t0.000000\t0.00\t0.000000\t0.000000\t0.012346\t0.000000\t0.00000\t0.012346\t0.00\t0.000000\t0.000000\t0.012346\t0.000000\t0.000000\t0.00\t0.00\t0.000000\t0.00\t0.000000\t0.000000\t0.000000\t0.000000\t0.012346\t0.000000\t0.000000\t0.000000\t0.000000\t0.000000\t0.000000\t0.0\t0.00\t0.00\t0.000000\t0.000000\t0.00\t0.00\t0.024691\t0.024691\t0.000000\t0.000000\t0.049383\t0.012346\t0.000000\t0.000000\t0.000000\t0.000000\t0.012346\t0.00\t0.000000\t0.000000\t0.00\t0.000000\t0.000000\t0.000000\t0.000000\t0.000000\t0.00\t0.000000\t0.000000\t0.000000\t0.012346\t0.012346\t0.012346\t0.000000\t0.00\t0.000000\t0.000000\t0.000000\t0.000000\t0.000000\t0.000000\t0.000000\t0.000000\t0.000000\t0.012346\t0.00\t0.000000\t0.00\t0.00\t0.000000\t0.012346\t0.000000\t0.000000\t0.000000\t0.000000\t0.000000\t0.012346\t0.000000\t0.000000\t0.012346\t0.000000\t0.012346\t0.000000\t0.000000\t0.012346\t0.000000\t0.000000\t0.000000\t0.012346\t0.000000\t0.024691\t0.000000\t0.024691\t0.00\t0.000000\t0.012346\t0.000000\t0.000000\t0.000000\t0.00\t0.000000\t0.012346\t0.000000\t0.000000\t0.000000\t0.000000\t0.024691\t0.000000\t0.000000\t0.000000\t0.000000\t0.000000\t0.012346\t0.000000\t0.000000\t0.012346\t0.00\t0.00\t0.000000\t0.000000\t0.00\t0.000000\t0.012346\t0.000000\t0.024691\t0.000000\t0.00\t0.000000\t0.00000\t0.00\t0.012346\t0.000000\t0.000000\t0.012346\t0.000000\t0.00\t0.012346\n",
    "18\tM5H\tDowntown Toronto\tAdelaide, King, Richmond\t0.000000\t0.000000\t0.000000\t0.000000\t0.000000\t0.000000\t0.000000\t0.000000\t0.040000\t0.000000\t0.00\t0.00\t0.010000\t0.010000\t0.000000\t0.030000\t0.000000\t0.000000\t0.000000\t0.000000\t0.030000\t0.000000\t0.030000\t0.00\t0.000000\t0.000000\t0.000000\t0.000000\t0.000000\t0.000000\t0.000000\t0.020000\t0.000000\t0.01\t0.020000\t0.000000\t0.000000\t0.01\t0.020000\t0.010000\t0.00\t0.000000\t0.050000\t0.000000\t0.000000\t0.000000\t0.000000\t0.000000\t0.000000\t0.000000\t0.030000\t0.010000\t0.060000\t0.000000\t0.000000\t0.00\t0.000000\t0.000000\t0.020000\t0.000000\t0.020000\t0.000000\t0.000000\t0.000000\t0.000000\t0.000000\t0.010000\t0.010000\t0.000000\t0.00\t0.000000\t0.000000\t0.000000\t0.00\t0.000000\t0.00\t0.0000\t0.010000\t0.000000\t0.000000\t0.000000\t0.000000\t0.000000\t0.00\t0.000000\t0.000000\t0.000000\t0.000000\t0.000000\t0.01\t0.000000\t0.000000\t0.000000\t0.000000\t0.00000\t0.000000\t0.00\t0.000000\t0.000000\t0.020000\t0.000000\t0.000000\t0.01\t0.00\t0.000000\t0.01\t0.000000\t0.010000\t0.000000\t0.030000\t0.010000\t0.000000\t0.000000\t0.000000\t0.000000\t0.000000\t0.000000\t0.0\t0.00\t0.00\t0.000000\t0.030000\t0.00\t0.00\t0.010000\t0.010000\t0.000000\t0.000000\t0.000000\t0.020000\t0.010000\t0.000000\t0.000000\t0.000000\t0.000000\t0.00\t0.000000\t0.000000\t0.00\t0.000000\t0.010000\t0.000000\t0.000000\t0.000000\t0.00\t0.010000\t0.000000\t0.000000\t0.000000\t0.000000\t0.010000\t0.000000\t0.01\t0.000000\t0.000000\t0.000000\t0.000000\t0.000000\t0.010000\t0.010000\t0.000000\t0.010000\t0.010000\t0.01\t0.000000\t0.00\t0.00\t0.000000\t0.000000\t0.000000\t0.000000\t0.000000\t0.000000\t0.000000\t0.020000\t0.000000\t0.010000\t0.000000\t0.000000\t0.000000\t0.010000\t0.000000\t0.000000\t0.010000\t0.000000\t0.000000\t0.030000\t0.000000\t0.010000\t0.010000\t0.000000\t0.00\t0.000000\t0.010000\t0.000000\t0.000000\t0.000000\t0.00\t0.010000\t0.000000\t0.000000\t0.000000\t0.000000\t0.000000\t0.000000\t0.010000\t0.000000\t0.000000\t0.000000\t0.000000\t0.040000\t0.000000\t0.000000\t0.020000\t0.00\t0.00\t0.000000\t0.000000\t0.00\t0.000000\t0.000000\t0.000000\t0.040000\t0.010000\t0.00\t0.000000\t0.00000\t0.00\t0.010000\t0.000000\t0.000000\t0.010000\t0.000000\t0.01\t0.000000\n",
    "19\tM5J\tDowntown Toronto\tHarbourfront East, Toronto Islands, Union Station\t0.000000\t0.000000\t0.000000\t0.000000\t0.000000\t0.000000\t0.000000\t0.000000\t0.010000\t0.000000\t0.05\t0.00\t0.010000\t0.000000\t0.000000\t0.000000\t0.000000\t0.000000\t0.000000\t0.000000\t0.030000\t0.010000\t0.020000\t0.01\t0.010000\t0.000000\t0.010000\t0.000000\t0.000000\t0.010000\t0.000000\t0.000000\t0.000000\t0.00\t0.000000\t0.030000\t0.010000\t0.00\t0.000000\t0.000000\t0.00\t0.000000\t0.040000\t0.000000\t0.000000\t0.000000\t0.010000\t0.000000\t0.000000\t0.000000\t0.000000\t0.000000\t0.140000\t0.000000\t0.000000\t0.00\t0.000000\t0.000000\t0.000000\t0.000000\t0.000000\t0.000000\t0.000000\t0.000000\t0.000000\t0.010000\t0.010000\t0.000000\t0.000000\t0.00\t0.000000\t0.000000\t0.000000\t0.00\t0.000000\t0.00\t0.0000\t0.000000\t0.000000\t0.010000\t0.000000\t0.000000\t0.010000\t0.00\t0.000000\t0.000000\t0.000000\t0.000000\t0.000000\t0.00\t0.000000\t0.000000\t0.000000\t0.020000\t0.00000\t0.000000\t0.00\t0.000000\t0.000000\t0.000000\t0.000000\t0.000000\t0.00\t0.00\t0.000000\t0.00\t0.000000\t0.000000\t0.000000\t0.000000\t0.000000\t0.000000\t0.000000\t0.000000\t0.000000\t0.020000\t0.000000\t0.0\t0.00\t0.00\t0.000000\t0.050000\t0.01\t0.00\t0.010000\t0.010000\t0.010000\t0.000000\t0.030000\t0.010000\t0.000000\t0.000000\t0.000000\t0.000000\t0.000000\t0.01\t0.000000\t0.000000\t0.00\t0.000000\t0.010000\t0.000000\t0.000000\t0.000000\t0.00\t0.000000\t0.000000\t0.000000\t0.000000\t0.000000\t0.000000\t0.000000\t0.01\t0.000000\t0.000000\t0.000000\t0.000000\t0.020000\t0.010000\t0.010000\t0.000000\t0.000000\t0.010000\t0.00\t0.000000\t0.00\t0.00\t0.000000\t0.020000\t0.010000\t0.000000\t0.000000\t0.000000\t0.000000\t0.040000\t0.000000\t0.010000\t0.000000\t0.000000\t0.000000\t0.000000\t0.000000\t0.000000\t0.000000\t0.000000\t0.000000\t0.030000\t0.000000\t0.010000\t0.000000\t0.010000\t0.03\t0.000000\t0.010000\t0.000000\t0.000000\t0.000000\t0.01\t0.000000\t0.010000\t0.000000\t0.000000\t0.000000\t0.000000\t0.000000\t0.000000\t0.020000\t0.020000\t0.000000\t0.000000\t0.010000\t0.000000\t0.010000\t0.010000\t0.00\t0.00\t0.000000\t0.000000\t0.00\t0.000000\t0.010000\t0.000000\t0.000000\t0.010000\t0.00\t0.000000\t0.00000\t0.01\t0.010000\t0.000000\t0.000000\t0.010000\t0.000000\t0.00\t0.000000\n",
    "20\tM5K\tDowntown Toronto\tDesign Exchange, Toronto Dominion Centre\t0.000000\t0.000000\t0.000000\t0.000000\t0.000000\t0.000000\t0.000000\t0.000000\t0.040000\t0.000000\t0.00\t0.00\t0.010000\t0.000000\t0.000000\t0.010000\t0.000000\t0.000000\t0.000000\t0.000000\t0.010000\t0.000000\t0.020000\t0.00\t0.010000\t0.000000\t0.020000\t0.000000\t0.000000\t0.000000\t0.000000\t0.010000\t0.000000\t0.00\t0.010000\t0.000000\t0.000000\t0.00\t0.020000\t0.000000\t0.00\t0.000000\t0.080000\t0.000000\t0.000000\t0.000000\t0.000000\t0.000000\t0.000000\t0.000000\t0.000000\t0.000000\t0.140000\t0.000000\t0.000000\t0.00\t0.000000\t0.000000\t0.010000\t0.000000\t0.000000\t0.000000\t0.000000\t0.000000\t0.000000\t0.000000\t0.030000\t0.000000\t0.000000\t0.00\t0.000000\t0.000000\t0.000000\t0.00\t0.000000\t0.00\t0.0000\t0.000000\t0.000000\t0.000000\t0.000000\t0.000000\t0.010000\t0.00\t0.000000\t0.000000\t0.000000\t0.000000\t0.000000\t0.01\t0.000000\t0.000000\t0.010000\t0.010000\t0.00000\t0.000000\t0.00\t0.000000\t0.000000\t0.030000\t0.000000\t0.000000\t0.01\t0.00\t0.000000\t0.01\t0.000000\t0.010000\t0.000000\t0.030000\t0.010000\t0.000000\t0.000000\t0.000000\t0.000000\t0.000000\t0.000000\t0.0\t0.00\t0.00\t0.000000\t0.080000\t0.01\t0.00\t0.010000\t0.000000\t0.000000\t0.000000\t0.030000\t0.020000\t0.000000\t0.000000\t0.000000\t0.000000\t0.000000\t0.00\t0.000000\t0.000000\t0.00\t0.000000\t0.010000\t0.000000\t0.000000\t0.000000\t0.00\t0.000000\t0.000000\t0.000000\t0.000000\t0.000000\t0.000000\t0.000000\t0.00\t0.000000\t0.000000\t0.010000\t0.000000\t0.000000\t0.000000\t0.010000\t0.000000\t0.010000\t0.010000\t0.00\t0.000000\t0.00\t0.00\t0.000000\t0.000000\t0.000000\t0.000000\t0.000000\t0.000000\t0.000000\t0.010000\t0.000000\t0.000000\t0.000000\t0.000000\t0.000000\t0.000000\t0.010000\t0.000000\t0.000000\t0.000000\t0.000000\t0.040000\t0.000000\t0.010000\t0.000000\t0.010000\t0.00\t0.000000\t0.020000\t0.000000\t0.010000\t0.000000\t0.00\t0.000000\t0.000000\t0.000000\t0.010000\t0.000000\t0.000000\t0.010000\t0.010000\t0.010000\t0.020000\t0.000000\t0.000000\t0.020000\t0.000000\t0.000000\t0.000000\t0.00\t0.00\t0.000000\t0.000000\t0.00\t0.000000\t0.010000\t0.000000\t0.010000\t0.010000\t0.00\t0.000000\t0.00000\t0.01\t0.000000\t0.000000\t0.000000\t0.010000\t0.000000\t0.00\t0.000000\n",
    "21\tM5L\tDowntown Toronto\tCommerce Court, Victoria Hotel\t0.000000\t0.000000\t0.000000\t0.000000\t0.000000\t0.000000\t0.000000\t0.000000\t0.040000\t0.000000\t0.00\t0.00\t0.010000\t0.000000\t0.000000\t0.010000\t0.000000\t0.000000\t0.000000\t0.000000\t0.030000\t0.000000\t0.020000\t0.00\t0.000000\t0.000000\t0.010000\t0.000000\t0.000000\t0.000000\t0.000000\t0.010000\t0.000000\t0.00\t0.010000\t0.000000\t0.000000\t0.01\t0.010000\t0.000000\t0.00\t0.000000\t0.070000\t0.000000\t0.000000\t0.000000\t0.000000\t0.000000\t0.000000\t0.000000\t0.000000\t0.020000\t0.100000\t0.000000\t0.000000\t0.00\t0.000000\t0.000000\t0.010000\t0.000000\t0.000000\t0.000000\t0.010000\t0.000000\t0.000000\t0.000000\t0.030000\t0.010000\t0.000000\t0.00\t0.000000\t0.000000\t0.000000\t0.00\t0.000000\t0.00\t0.0000\t0.000000\t0.000000\t0.000000\t0.000000\t0.000000\t0.010000\t0.00\t0.000000\t0.000000\t0.000000\t0.000000\t0.000000\t0.01\t0.010000\t0.010000\t0.010000\t0.010000\t0.00000\t0.000000\t0.00\t0.000000\t0.000000\t0.030000\t0.000000\t0.000000\t0.01\t0.00\t0.000000\t0.01\t0.000000\t0.010000\t0.000000\t0.030000\t0.010000\t0.000000\t0.000000\t0.000000\t0.000000\t0.000000\t0.000000\t0.0\t0.00\t0.00\t0.000000\t0.060000\t0.01\t0.00\t0.010000\t0.000000\t0.000000\t0.010000\t0.020000\t0.020000\t0.010000\t0.000000\t0.000000\t0.000000\t0.000000\t0.00\t0.000000\t0.000000\t0.00\t0.000000\t0.000000\t0.000000\t0.000000\t0.000000\t0.00\t0.000000\t0.000000\t0.000000\t0.000000\t0.000000\t0.000000\t0.000000\t0.01\t0.000000\t0.000000\t0.010000\t0.000000\t0.000000\t0.000000\t0.010000\t0.000000\t0.000000\t0.000000\t0.00\t0.000000\t0.00\t0.00\t0.000000\t0.010000\t0.000000\t0.000000\t0.000000\t0.000000\t0.000000\t0.010000\t0.000000\t0.000000\t0.010000\t0.000000\t0.000000\t0.000000\t0.010000\t0.000000\t0.000000\t0.000000\t0.000000\t0.060000\t0.000000\t0.020000\t0.000000\t0.010000\t0.00\t0.000000\t0.030000\t0.000000\t0.010000\t0.000000\t0.00\t0.000000\t0.000000\t0.000000\t0.010000\t0.000000\t0.000000\t0.000000\t0.000000\t0.000000\t0.000000\t0.000000\t0.000000\t0.030000\t0.000000\t0.000000\t0.000000\t0.00\t0.00\t0.010000\t0.000000\t0.00\t0.000000\t0.010000\t0.000000\t0.020000\t0.000000\t0.00\t0.000000\t0.00000\t0.00\t0.000000\t0.000000\t0.000000\t0.010000\t0.000000\t0.00\t0.000000\n",
    "22\tM5N\tCentral Toronto\tRoselawn\t0.000000\t0.000000\t0.000000\t0.000000\t0.000000\t0.000000\t0.000000\t0.000000\t0.000000\t0.000000\t0.00\t0.00\t0.000000\t0.000000\t0.000000\t0.000000\t0.000000\t0.000000\t0.000000\t0.000000\t0.000000\t0.000000\t0.000000\t0.00\t0.000000\t0.000000\t0.000000\t0.000000\t0.000000\t0.000000\t0.000000\t0.000000\t0.000000\t0.00\t0.000000\t0.000000\t0.000000\t0.00\t0.000000\t0.000000\t0.00\t0.000000\t0.000000\t0.000000\t0.000000\t0.000000\t0.000000\t0.000000\t0.000000\t0.000000\t0.000000\t0.000000\t0.000000\t0.000000\t0.000000\t0.00\t0.000000\t0.000000\t0.000000\t0.000000\t0.000000\t0.000000\t0.000000\t0.000000\t0.000000\t0.000000\t0.000000\t0.000000\t0.000000\t0.00\t0.000000\t0.000000\t0.000000\t0.00\t0.000000\t0.00\t0.0000\t0.000000\t0.000000\t0.000000\t0.000000\t0.000000\t0.000000\t0.00\t0.000000\t0.000000\t0.000000\t0.000000\t0.000000\t0.00\t0.000000\t0.000000\t0.000000\t0.000000\t0.00000\t0.000000\t0.00\t0.500000\t0.000000\t0.000000\t0.000000\t0.000000\t0.00\t0.00\t0.000000\t0.00\t0.000000\t0.000000\t0.000000\t0.000000\t0.000000\t0.000000\t0.000000\t0.000000\t0.000000\t0.000000\t0.000000\t0.5\t0.00\t0.00\t0.000000\t0.000000\t0.00\t0.00\t0.000000\t0.000000\t0.000000\t0.000000\t0.000000\t0.000000\t0.000000\t0.000000\t0.000000\t0.000000\t0.000000\t0.00\t0.000000\t0.000000\t0.00\t0.000000\t0.000000\t0.000000\t0.000000\t0.000000\t0.00\t0.000000\t0.000000\t0.000000\t0.000000\t0.000000\t0.000000\t0.000000\t0.00\t0.000000\t0.000000\t0.000000\t0.000000\t0.000000\t0.000000\t0.000000\t0.000000\t0.000000\t0.000000\t0.00\t0.000000\t0.00\t0.00\t0.000000\t0.000000\t0.000000\t0.000000\t0.000000\t0.000000\t0.000000\t0.000000\t0.000000\t0.000000\t0.000000\t0.000000\t0.000000\t0.000000\t0.000000\t0.000000\t0.000000\t0.000000\t0.000000\t0.000000\t0.000000\t0.000000\t0.000000\t0.000000\t0.00\t0.000000\t0.000000\t0.000000\t0.000000\t0.000000\t0.00\t0.000000\t0.000000\t0.000000\t0.000000\t0.000000\t0.000000\t0.000000\t0.000000\t0.000000\t0.000000\t0.000000\t0.000000\t0.000000\t0.000000\t0.000000\t0.000000\t0.00\t0.00\t0.000000\t0.000000\t0.00\t0.000000\t0.000000\t0.000000\t0.000000\t0.000000\t0.00\t0.000000\t0.00000\t0.00\t0.000000\t0.000000\t0.000000\t0.000000\t0.000000\t0.00\t0.000000\n",
    "23\tM5P\tCentral Toronto\tForest Hill North, Forest Hill West\t0.000000\t0.000000\t0.000000\t0.000000\t0.000000\t0.000000\t0.000000\t0.000000\t0.000000\t0.000000\t0.00\t0.00\t0.000000\t0.000000\t0.000000\t0.000000\t0.000000\t0.000000\t0.000000\t0.000000\t0.000000\t0.000000\t0.000000\t0.00\t0.000000\t0.000000\t0.000000\t0.000000\t0.000000\t0.000000\t0.000000\t0.000000\t0.000000\t0.00\t0.000000\t0.000000\t0.000000\t0.00\t0.000000\t0.000000\t0.00\t0.000000\t0.000000\t0.000000\t0.000000\t0.000000\t0.000000\t0.000000\t0.000000\t0.000000\t0.000000\t0.000000\t0.000000\t0.000000\t0.000000\t0.00\t0.000000\t0.000000\t0.000000\t0.000000\t0.000000\t0.000000\t0.000000\t0.000000\t0.000000\t0.000000\t0.000000\t0.000000\t0.000000\t0.00\t0.000000\t0.000000\t0.000000\t0.00\t0.000000\t0.00\t0.0000\t0.000000\t0.000000\t0.000000\t0.000000\t0.000000\t0.000000\t0.00\t0.000000\t0.000000\t0.000000\t0.000000\t0.000000\t0.00\t0.000000\t0.000000\t0.000000\t0.000000\t0.00000\t0.000000\t0.00\t0.000000\t0.000000\t0.000000\t0.000000\t0.000000\t0.00\t0.00\t0.000000\t0.00\t0.000000\t0.000000\t0.000000\t0.000000\t0.000000\t0.000000\t0.000000\t0.000000\t0.000000\t0.000000\t0.000000\t0.0\t0.00\t0.00\t0.000000\t0.000000\t0.00\t0.00\t0.000000\t0.000000\t0.000000\t0.000000\t0.000000\t0.000000\t0.000000\t0.250000\t0.000000\t0.000000\t0.000000\t0.00\t0.000000\t0.000000\t0.00\t0.000000\t0.000000\t0.000000\t0.000000\t0.000000\t0.00\t0.000000\t0.000000\t0.000000\t0.000000\t0.000000\t0.000000\t0.000000\t0.00\t0.000000\t0.000000\t0.000000\t0.000000\t0.000000\t0.000000\t0.000000\t0.000000\t0.000000\t0.000000\t0.00\t0.000000\t0.00\t0.00\t0.000000\t0.250000\t0.000000\t0.000000\t0.000000\t0.000000\t0.000000\t0.000000\t0.000000\t0.000000\t0.000000\t0.000000\t0.000000\t0.000000\t0.000000\t0.000000\t0.000000\t0.000000\t0.000000\t0.000000\t0.000000\t0.000000\t0.000000\t0.000000\t0.00\t0.000000\t0.000000\t0.000000\t0.000000\t0.000000\t0.00\t0.000000\t0.000000\t0.000000\t0.000000\t0.000000\t0.000000\t0.000000\t0.000000\t0.000000\t0.000000\t0.000000\t0.000000\t0.000000\t0.000000\t0.000000\t0.250000\t0.00\t0.00\t0.000000\t0.000000\t0.00\t0.000000\t0.000000\t0.000000\t0.000000\t0.000000\t0.00\t0.000000\t0.25000\t0.00\t0.000000\t0.000000\t0.000000\t0.000000\t0.000000\t0.00\t0.000000\n",
    "24\tM5R\tCentral Toronto\tThe Annex, North Midtown, Yorkville\t0.000000\t0.000000\t0.000000\t0.000000\t0.000000\t0.000000\t0.000000\t0.000000\t0.043478\t0.000000\t0.00\t0.00\t0.000000\t0.000000\t0.000000\t0.000000\t0.000000\t0.043478\t0.000000\t0.000000\t0.000000\t0.000000\t0.000000\t0.00\t0.000000\t0.000000\t0.000000\t0.000000\t0.000000\t0.000000\t0.000000\t0.000000\t0.000000\t0.00\t0.000000\t0.000000\t0.000000\t0.00\t0.043478\t0.000000\t0.00\t0.000000\t0.130435\t0.000000\t0.000000\t0.000000\t0.000000\t0.000000\t0.000000\t0.000000\t0.000000\t0.000000\t0.130435\t0.000000\t0.000000\t0.00\t0.000000\t0.000000\t0.000000\t0.000000\t0.043478\t0.000000\t0.000000\t0.000000\t0.000000\t0.000000\t0.000000\t0.000000\t0.000000\t0.00\t0.000000\t0.000000\t0.000000\t0.00\t0.000000\t0.00\t0.0000\t0.000000\t0.000000\t0.000000\t0.000000\t0.000000\t0.000000\t0.00\t0.000000\t0.000000\t0.000000\t0.000000\t0.000000\t0.00\t0.000000\t0.000000\t0.000000\t0.000000\t0.00000\t0.000000\t0.00\t0.000000\t0.000000\t0.000000\t0.000000\t0.000000\t0.00\t0.00\t0.000000\t0.00\t0.000000\t0.000000\t0.000000\t0.000000\t0.000000\t0.000000\t0.000000\t0.000000\t0.000000\t0.043478\t0.000000\t0.0\t0.00\t0.00\t0.000000\t0.000000\t0.00\t0.00\t0.000000\t0.043478\t0.000000\t0.000000\t0.000000\t0.000000\t0.000000\t0.000000\t0.043478\t0.000000\t0.000000\t0.00\t0.000000\t0.000000\t0.00\t0.043478\t0.000000\t0.000000\t0.000000\t0.000000\t0.00\t0.000000\t0.000000\t0.000000\t0.000000\t0.000000\t0.000000\t0.000000\t0.00\t0.000000\t0.000000\t0.000000\t0.000000\t0.000000\t0.000000\t0.000000\t0.000000\t0.000000\t0.000000\t0.00\t0.000000\t0.00\t0.00\t0.000000\t0.043478\t0.000000\t0.000000\t0.000000\t0.043478\t0.000000\t0.086957\t0.000000\t0.000000\t0.000000\t0.000000\t0.000000\t0.000000\t0.043478\t0.000000\t0.000000\t0.000000\t0.000000\t0.000000\t0.000000\t0.000000\t0.000000\t0.130435\t0.00\t0.000000\t0.000000\t0.000000\t0.000000\t0.000000\t0.00\t0.000000\t0.000000\t0.000000\t0.000000\t0.000000\t0.000000\t0.000000\t0.000000\t0.000000\t0.000000\t0.000000\t0.000000\t0.000000\t0.000000\t0.000000\t0.000000\t0.00\t0.00\t0.000000\t0.000000\t0.00\t0.000000\t0.000000\t0.000000\t0.000000\t0.000000\t0.00\t0.000000\t0.00000\t0.00\t0.043478\t0.000000\t0.000000\t0.000000\t0.000000\t0.00\t0.000000\n",
    "25\tM5S\tDowntown Toronto\tHarbord, University of Toronto\t0.000000\t0.000000\t0.000000\t0.000000\t0.000000\t0.000000\t0.000000\t0.000000\t0.000000\t0.000000\t0.00\t0.00\t0.000000\t0.000000\t0.000000\t0.000000\t0.000000\t0.000000\t0.000000\t0.000000\t0.058824\t0.000000\t0.058824\t0.00\t0.000000\t0.000000\t0.029412\t0.029412\t0.000000\t0.000000\t0.000000\t0.058824\t0.000000\t0.00\t0.000000\t0.000000\t0.000000\t0.00\t0.000000\t0.000000\t0.00\t0.000000\t0.117647\t0.000000\t0.000000\t0.000000\t0.029412\t0.000000\t0.000000\t0.000000\t0.000000\t0.000000\t0.058824\t0.029412\t0.029412\t0.00\t0.029412\t0.000000\t0.000000\t0.000000\t0.000000\t0.000000\t0.000000\t0.000000\t0.000000\t0.000000\t0.000000\t0.000000\t0.000000\t0.00\t0.000000\t0.000000\t0.000000\t0.00\t0.000000\t0.00\t0.0000\t0.000000\t0.000000\t0.000000\t0.000000\t0.000000\t0.000000\t0.00\t0.000000\t0.000000\t0.000000\t0.000000\t0.000000\t0.00\t0.000000\t0.000000\t0.029412\t0.000000\t0.00000\t0.000000\t0.00\t0.000000\t0.000000\t0.000000\t0.000000\t0.000000\t0.00\t0.00\t0.000000\t0.00\t0.000000\t0.000000\t0.000000\t0.029412\t0.000000\t0.000000\t0.000000\t0.000000\t0.000000\t0.000000\t0.000000\t0.0\t0.00\t0.00\t0.000000\t0.000000\t0.00\t0.00\t0.000000\t0.000000\t0.000000\t0.000000\t0.029412\t0.058824\t0.029412\t0.000000\t0.000000\t0.000000\t0.000000\t0.00\t0.000000\t0.000000\t0.00\t0.000000\t0.000000\t0.000000\t0.000000\t0.000000\t0.00\t0.000000\t0.000000\t0.000000\t0.000000\t0.000000\t0.000000\t0.000000\t0.00\t0.000000\t0.000000\t0.000000\t0.000000\t0.000000\t0.000000\t0.000000\t0.029412\t0.029412\t0.000000\t0.00\t0.000000\t0.00\t0.00\t0.000000\t0.000000\t0.000000\t0.000000\t0.000000\t0.000000\t0.000000\t0.000000\t0.000000\t0.000000\t0.000000\t0.000000\t0.000000\t0.029412\t0.029412\t0.000000\t0.000000\t0.000000\t0.000000\t0.058824\t0.000000\t0.000000\t0.000000\t0.029412\t0.00\t0.000000\t0.000000\t0.000000\t0.000000\t0.000000\t0.00\t0.000000\t0.000000\t0.000000\t0.000000\t0.000000\t0.000000\t0.000000\t0.000000\t0.000000\t0.000000\t0.000000\t0.000000\t0.000000\t0.000000\t0.000000\t0.029412\t0.00\t0.00\t0.000000\t0.000000\t0.00\t0.000000\t0.000000\t0.000000\t0.000000\t0.029412\t0.00\t0.000000\t0.00000\t0.00\t0.000000\t0.029412\t0.000000\t0.000000\t0.000000\t0.00\t0.000000\n",
    "26\tM5T\tDowntown Toronto\tChinatown, Grange Park, Kensington Market\t0.000000\t0.000000\t0.000000\t0.000000\t0.000000\t0.000000\t0.000000\t0.000000\t0.000000\t0.000000\t0.00\t0.01\t0.000000\t0.000000\t0.010000\t0.000000\t0.000000\t0.000000\t0.000000\t0.010000\t0.040000\t0.000000\t0.070000\t0.00\t0.000000\t0.000000\t0.010000\t0.000000\t0.010000\t0.010000\t0.000000\t0.000000\t0.000000\t0.00\t0.010000\t0.010000\t0.010000\t0.00\t0.020000\t0.010000\t0.00\t0.000000\t0.070000\t0.000000\t0.020000\t0.010000\t0.030000\t0.000000\t0.000000\t0.000000\t0.000000\t0.010000\t0.040000\t0.000000\t0.000000\t0.00\t0.010000\t0.000000\t0.000000\t0.000000\t0.000000\t0.000000\t0.000000\t0.000000\t0.000000\t0.000000\t0.000000\t0.000000\t0.020000\t0.02\t0.000000\t0.000000\t0.000000\t0.01\t0.010000\t0.04\t0.0000\t0.000000\t0.000000\t0.000000\t0.000000\t0.010000\t0.000000\t0.01\t0.010000\t0.010000\t0.000000\t0.000000\t0.000000\t0.01\t0.000000\t0.000000\t0.000000\t0.000000\t0.00000\t0.010000\t0.02\t0.000000\t0.000000\t0.000000\t0.000000\t0.000000\t0.00\t0.00\t0.000000\t0.00\t0.010000\t0.000000\t0.020000\t0.000000\t0.000000\t0.000000\t0.000000\t0.000000\t0.000000\t0.000000\t0.000000\t0.0\t0.00\t0.01\t0.000000\t0.000000\t0.01\t0.01\t0.010000\t0.000000\t0.000000\t0.000000\t0.010000\t0.010000\t0.010000\t0.000000\t0.000000\t0.000000\t0.000000\t0.00\t0.000000\t0.000000\t0.00\t0.010000\t0.000000\t0.000000\t0.000000\t0.010000\t0.01\t0.000000\t0.000000\t0.030000\t0.000000\t0.000000\t0.000000\t0.000000\t0.00\t0.000000\t0.000000\t0.000000\t0.000000\t0.000000\t0.000000\t0.000000\t0.000000\t0.010000\t0.000000\t0.00\t0.000000\t0.01\t0.00\t0.000000\t0.010000\t0.000000\t0.000000\t0.000000\t0.010000\t0.000000\t0.010000\t0.000000\t0.000000\t0.000000\t0.000000\t0.000000\t0.010000\t0.000000\t0.010000\t0.010000\t0.000000\t0.000000\t0.000000\t0.000000\t0.000000\t0.000000\t0.000000\t0.00\t0.000000\t0.000000\t0.000000\t0.000000\t0.000000\t0.00\t0.000000\t0.010000\t0.010000\t0.000000\t0.000000\t0.000000\t0.000000\t0.000000\t0.000000\t0.000000\t0.000000\t0.000000\t0.000000\t0.000000\t0.000000\t0.000000\t0.00\t0.01\t0.000000\t0.000000\t0.00\t0.000000\t0.010000\t0.000000\t0.010000\t0.000000\t0.01\t0.000000\t0.00000\t0.00\t0.050000\t0.000000\t0.040000\t0.010000\t0.000000\t0.00\t0.000000\n",
    "27\tM5V\tDowntown Toronto\tCN Tower, Bathurst Quay, Island airport, Harbo...\t0.000000\t0.000000\t0.076923\t0.076923\t0.076923\t0.153846\t0.153846\t0.153846\t0.000000\t0.000000\t0.00\t0.00\t0.000000\t0.000000\t0.000000\t0.000000\t0.000000\t0.000000\t0.000000\t0.000000\t0.000000\t0.000000\t0.000000\t0.00\t0.000000\t0.000000\t0.000000\t0.000000\t0.000000\t0.000000\t0.076923\t0.000000\t0.076923\t0.00\t0.000000\t0.000000\t0.000000\t0.00\t0.000000\t0.000000\t0.00\t0.000000\t0.000000\t0.000000\t0.000000\t0.000000\t0.000000\t0.000000\t0.000000\t0.000000\t0.000000\t0.000000\t0.000000\t0.000000\t0.000000\t0.00\t0.000000\t0.000000\t0.000000\t0.000000\t0.000000\t0.000000\t0.000000\t0.000000\t0.000000\t0.000000\t0.000000\t0.000000\t0.000000\t0.00\t0.000000\t0.000000\t0.000000\t0.00\t0.000000\t0.00\t0.0000\t0.000000\t0.000000\t0.000000\t0.000000\t0.000000\t0.000000\t0.00\t0.000000\t0.000000\t0.000000\t0.000000\t0.000000\t0.00\t0.000000\t0.000000\t0.000000\t0.000000\t0.00000\t0.000000\t0.00\t0.000000\t0.000000\t0.000000\t0.000000\t0.000000\t0.00\t0.00\t0.000000\t0.00\t0.000000\t0.000000\t0.000000\t0.000000\t0.000000\t0.076923\t0.000000\t0.000000\t0.000000\t0.000000\t0.000000\t0.0\t0.00\t0.00\t0.000000\t0.000000\t0.00\t0.00\t0.000000\t0.000000\t0.000000\t0.000000\t0.000000\t0.000000\t0.000000\t0.000000\t0.000000\t0.000000\t0.000000\t0.00\t0.000000\t0.000000\t0.00\t0.000000\t0.000000\t0.000000\t0.000000\t0.000000\t0.00\t0.000000\t0.000000\t0.000000\t0.000000\t0.000000\t0.000000\t0.000000\t0.00\t0.000000\t0.000000\t0.000000\t0.000000\t0.000000\t0.000000\t0.000000\t0.000000\t0.000000\t0.000000\t0.00\t0.000000\t0.00\t0.00\t0.000000\t0.000000\t0.000000\t0.000000\t0.000000\t0.000000\t0.000000\t0.000000\t0.000000\t0.000000\t0.000000\t0.000000\t0.000000\t0.000000\t0.000000\t0.000000\t0.000000\t0.000000\t0.000000\t0.000000\t0.000000\t0.000000\t0.000000\t0.000000\t0.00\t0.076923\t0.000000\t0.000000\t0.000000\t0.000000\t0.00\t0.000000\t0.000000\t0.000000\t0.000000\t0.000000\t0.000000\t0.000000\t0.000000\t0.000000\t0.000000\t0.000000\t0.000000\t0.000000\t0.000000\t0.000000\t0.000000\t0.00\t0.00\t0.000000\t0.000000\t0.00\t0.000000\t0.000000\t0.000000\t0.000000\t0.000000\t0.00\t0.000000\t0.00000\t0.00\t0.000000\t0.000000\t0.000000\t0.000000\t0.000000\t0.00\t0.000000\n",
    "28\tM5W\tDowntown Toronto\tStn A PO Boxes 25 The Esplanade\t0.000000\t0.000000\t0.000000\t0.000000\t0.000000\t0.000000\t0.000000\t0.000000\t0.010526\t0.010526\t0.00\t0.00\t0.021053\t0.000000\t0.000000\t0.000000\t0.000000\t0.010526\t0.000000\t0.010526\t0.021053\t0.000000\t0.000000\t0.00\t0.010526\t0.000000\t0.031579\t0.000000\t0.010526\t0.010526\t0.000000\t0.010526\t0.000000\t0.00\t0.010526\t0.000000\t0.000000\t0.00\t0.000000\t0.000000\t0.00\t0.000000\t0.042105\t0.000000\t0.000000\t0.021053\t0.000000\t0.000000\t0.010526\t0.000000\t0.010526\t0.031579\t0.094737\t0.000000\t0.000000\t0.00\t0.010526\t0.000000\t0.010526\t0.000000\t0.021053\t0.000000\t0.021053\t0.000000\t0.000000\t0.000000\t0.010526\t0.000000\t0.000000\t0.00\t0.010526\t0.000000\t0.000000\t0.00\t0.000000\t0.00\t0.0000\t0.000000\t0.000000\t0.000000\t0.000000\t0.021053\t0.021053\t0.00\t0.000000\t0.010526\t0.000000\t0.000000\t0.000000\t0.00\t0.010526\t0.010526\t0.010526\t0.000000\t0.00000\t0.000000\t0.00\t0.000000\t0.000000\t0.010526\t0.000000\t0.000000\t0.00\t0.00\t0.000000\t0.00\t0.000000\t0.000000\t0.000000\t0.021053\t0.000000\t0.000000\t0.000000\t0.000000\t0.000000\t0.000000\t0.000000\t0.0\t0.00\t0.00\t0.010526\t0.031579\t0.00\t0.00\t0.000000\t0.000000\t0.000000\t0.010526\t0.031579\t0.021053\t0.010526\t0.000000\t0.000000\t0.000000\t0.000000\t0.00\t0.000000\t0.000000\t0.00\t0.010526\t0.010526\t0.000000\t0.000000\t0.000000\t0.00\t0.000000\t0.000000\t0.000000\t0.000000\t0.000000\t0.000000\t0.010526\t0.00\t0.010526\t0.000000\t0.010526\t0.000000\t0.000000\t0.000000\t0.000000\t0.000000\t0.000000\t0.000000\t0.00\t0.010526\t0.00\t0.00\t0.000000\t0.010526\t0.000000\t0.000000\t0.000000\t0.000000\t0.000000\t0.010526\t0.000000\t0.000000\t0.010526\t0.000000\t0.000000\t0.000000\t0.031579\t0.000000\t0.000000\t0.000000\t0.000000\t0.052632\t0.000000\t0.010526\t0.000000\t0.010526\t0.00\t0.000000\t0.031579\t0.000000\t0.010526\t0.000000\t0.00\t0.000000\t0.000000\t0.000000\t0.010526\t0.000000\t0.000000\t0.000000\t0.000000\t0.000000\t0.000000\t0.000000\t0.000000\t0.010526\t0.000000\t0.000000\t0.000000\t0.00\t0.00\t0.010526\t0.000000\t0.00\t0.000000\t0.010526\t0.000000\t0.010526\t0.000000\t0.00\t0.000000\t0.00000\t0.00\t0.000000\t0.000000\t0.000000\t0.000000\t0.000000\t0.00\t0.010526\n",
    "29\tM5X\tDowntown Toronto\tFirst Canadian Place, Underground city\t0.000000\t0.000000\t0.000000\t0.000000\t0.000000\t0.000000\t0.000000\t0.000000\t0.040000\t0.000000\t0.00\t0.00\t0.010000\t0.000000\t0.000000\t0.030000\t0.000000\t0.000000\t0.000000\t0.000000\t0.030000\t0.000000\t0.030000\t0.00\t0.000000\t0.000000\t0.010000\t0.000000\t0.000000\t0.000000\t0.000000\t0.010000\t0.000000\t0.01\t0.000000\t0.000000\t0.000000\t0.01\t0.020000\t0.010000\t0.00\t0.000000\t0.080000\t0.000000\t0.000000\t0.000000\t0.000000\t0.000000\t0.000000\t0.000000\t0.000000\t0.010000\t0.080000\t0.000000\t0.000000\t0.00\t0.000000\t0.000000\t0.020000\t0.000000\t0.000000\t0.000000\t0.000000\t0.000000\t0.000000\t0.000000\t0.030000\t0.010000\t0.000000\t0.00\t0.000000\t0.000000\t0.000000\t0.00\t0.000000\t0.00\t0.0000\t0.000000\t0.000000\t0.000000\t0.000000\t0.000000\t0.010000\t0.00\t0.000000\t0.000000\t0.000000\t0.000000\t0.000000\t0.01\t0.000000\t0.000000\t0.000000\t0.010000\t0.00000\t0.000000\t0.00\t0.000000\t0.000000\t0.030000\t0.000000\t0.000000\t0.01\t0.00\t0.000000\t0.01\t0.000000\t0.010000\t0.000000\t0.030000\t0.010000\t0.000000\t0.000000\t0.000000\t0.000000\t0.000000\t0.000000\t0.0\t0.00\t0.00\t0.000000\t0.060000\t0.01\t0.00\t0.010000\t0.000000\t0.000000\t0.000000\t0.000000\t0.020000\t0.000000\t0.000000\t0.000000\t0.000000\t0.000000\t0.00\t0.000000\t0.000000\t0.00\t0.000000\t0.010000\t0.000000\t0.000000\t0.000000\t0.00\t0.010000\t0.000000\t0.000000\t0.000000\t0.000000\t0.000000\t0.000000\t0.01\t0.000000\t0.000000\t0.010000\t0.000000\t0.000000\t0.000000\t0.010000\t0.000000\t0.010000\t0.000000\t0.01\t0.000000\t0.00\t0.00\t0.000000\t0.000000\t0.000000\t0.000000\t0.000000\t0.000000\t0.000000\t0.020000\t0.000000\t0.010000\t0.000000\t0.000000\t0.000000\t0.000000\t0.010000\t0.000000\t0.000000\t0.000000\t0.000000\t0.050000\t0.000000\t0.010000\t0.000000\t0.010000\t0.00\t0.000000\t0.030000\t0.000000\t0.000000\t0.000000\t0.00\t0.000000\t0.000000\t0.000000\t0.010000\t0.000000\t0.000000\t0.000000\t0.010000\t0.000000\t0.000000\t0.000000\t0.000000\t0.030000\t0.000000\t0.000000\t0.010000\t0.00\t0.00\t0.000000\t0.000000\t0.00\t0.000000\t0.010000\t0.000000\t0.010000\t0.010000\t0.00\t0.000000\t0.00000\t0.01\t0.010000\t0.000000\t0.000000\t0.010000\t0.000000\t0.00\t0.000000\n",
    "30\tM6G\tDowntown Toronto\tChristie\t0.000000\t0.000000\t0.000000\t0.000000\t0.000000\t0.000000\t0.000000\t0.000000\t0.000000\t0.000000\t0.00\t0.00\t0.000000\t0.000000\t0.000000\t0.000000\t0.000000\t0.000000\t0.066667\t0.000000\t0.000000\t0.000000\t0.000000\t0.00\t0.000000\t0.000000\t0.000000\t0.000000\t0.000000\t0.000000\t0.000000\t0.000000\t0.000000\t0.00\t0.000000\t0.000000\t0.000000\t0.00\t0.000000\t0.000000\t0.00\t0.000000\t0.200000\t0.000000\t0.000000\t0.000000\t0.000000\t0.000000\t0.000000\t0.000000\t0.000000\t0.000000\t0.066667\t0.000000\t0.000000\t0.00\t0.000000\t0.000000\t0.000000\t0.066667\t0.000000\t0.000000\t0.000000\t0.000000\t0.000000\t0.000000\t0.000000\t0.000000\t0.000000\t0.00\t0.066667\t0.000000\t0.000000\t0.00\t0.000000\t0.00\t0.0000\t0.000000\t0.000000\t0.000000\t0.000000\t0.000000\t0.000000\t0.00\t0.000000\t0.000000\t0.000000\t0.000000\t0.000000\t0.00\t0.000000\t0.000000\t0.000000\t0.000000\t0.00000\t0.000000\t0.00\t0.000000\t0.000000\t0.000000\t0.000000\t0.000000\t0.00\t0.00\t0.000000\t0.00\t0.000000\t0.000000\t0.200000\t0.000000\t0.000000\t0.000000\t0.000000\t0.000000\t0.000000\t0.000000\t0.000000\t0.0\t0.00\t0.00\t0.000000\t0.000000\t0.00\t0.00\t0.000000\t0.000000\t0.000000\t0.000000\t0.066667\t0.000000\t0.000000\t0.000000\t0.000000\t0.000000\t0.000000\t0.00\t0.000000\t0.000000\t0.00\t0.000000\t0.000000\t0.000000\t0.000000\t0.000000\t0.00\t0.000000\t0.000000\t0.000000\t0.000000\t0.000000\t0.000000\t0.000000\t0.00\t0.000000\t0.000000\t0.000000\t0.000000\t0.000000\t0.000000\t0.000000\t0.066667\t0.000000\t0.000000\t0.00\t0.000000\t0.00\t0.00\t0.000000\t0.133333\t0.000000\t0.000000\t0.000000\t0.000000\t0.000000\t0.000000\t0.000000\t0.000000\t0.000000\t0.000000\t0.000000\t0.000000\t0.000000\t0.000000\t0.000000\t0.000000\t0.000000\t0.066667\t0.000000\t0.000000\t0.000000\t0.000000\t0.00\t0.000000\t0.000000\t0.000000\t0.000000\t0.000000\t0.00\t0.000000\t0.000000\t0.000000\t0.000000\t0.000000\t0.000000\t0.000000\t0.000000\t0.000000\t0.000000\t0.000000\t0.000000\t0.000000\t0.000000\t0.000000\t0.000000\t0.00\t0.00\t0.000000\t0.000000\t0.00\t0.000000\t0.000000\t0.000000\t0.000000\t0.000000\t0.00\t0.000000\t0.00000\t0.00\t0.000000\t0.000000\t0.000000\t0.000000\t0.000000\t0.00\t0.000000\n",
    "31\tM6H\tWest Toronto\tDovercourt Village, Dufferin\t0.000000\t0.000000\t0.000000\t0.000000\t0.000000\t0.000000\t0.000000\t0.000000\t0.000000\t0.000000\t0.00\t0.00\t0.000000\t0.000000\t0.000000\t0.000000\t0.000000\t0.000000\t0.000000\t0.000000\t0.105263\t0.052632\t0.052632\t0.00\t0.000000\t0.000000\t0.000000\t0.000000\t0.000000\t0.000000\t0.000000\t0.000000\t0.000000\t0.00\t0.000000\t0.052632\t0.000000\t0.00\t0.000000\t0.000000\t0.00\t0.000000\t0.052632\t0.000000\t0.000000\t0.000000\t0.000000\t0.000000\t0.000000\t0.000000\t0.000000\t0.000000\t0.000000\t0.000000\t0.000000\t0.00\t0.000000\t0.000000\t0.000000\t0.000000\t0.000000\t0.000000\t0.000000\t0.000000\t0.000000\t0.000000\t0.000000\t0.000000\t0.000000\t0.00\t0.000000\t0.052632\t0.000000\t0.00\t0.000000\t0.00\t0.0000\t0.000000\t0.000000\t0.000000\t0.000000\t0.000000\t0.052632\t0.00\t0.000000\t0.000000\t0.000000\t0.000000\t0.000000\t0.00\t0.000000\t0.000000\t0.000000\t0.000000\t0.00000\t0.000000\t0.00\t0.000000\t0.000000\t0.000000\t0.000000\t0.000000\t0.00\t0.00\t0.000000\t0.00\t0.000000\t0.000000\t0.000000\t0.000000\t0.052632\t0.000000\t0.000000\t0.000000\t0.000000\t0.000000\t0.000000\t0.0\t0.00\t0.00\t0.000000\t0.000000\t0.00\t0.00\t0.000000\t0.000000\t0.000000\t0.000000\t0.000000\t0.000000\t0.000000\t0.000000\t0.000000\t0.000000\t0.000000\t0.00\t0.000000\t0.000000\t0.00\t0.052632\t0.000000\t0.000000\t0.000000\t0.000000\t0.00\t0.000000\t0.000000\t0.000000\t0.052632\t0.000000\t0.000000\t0.000000\t0.00\t0.000000\t0.000000\t0.000000\t0.000000\t0.052632\t0.000000\t0.000000\t0.000000\t0.000000\t0.000000\t0.00\t0.000000\t0.00\t0.00\t0.000000\t0.052632\t0.000000\t0.000000\t0.000000\t0.105263\t0.000000\t0.000000\t0.000000\t0.000000\t0.000000\t0.052632\t0.000000\t0.000000\t0.000000\t0.000000\t0.000000\t0.000000\t0.000000\t0.000000\t0.000000\t0.000000\t0.000000\t0.000000\t0.00\t0.000000\t0.000000\t0.000000\t0.000000\t0.000000\t0.00\t0.052632\t0.000000\t0.000000\t0.000000\t0.000000\t0.000000\t0.000000\t0.000000\t0.000000\t0.000000\t0.000000\t0.000000\t0.000000\t0.000000\t0.105263\t0.000000\t0.00\t0.00\t0.000000\t0.000000\t0.00\t0.000000\t0.000000\t0.000000\t0.000000\t0.000000\t0.00\t0.000000\t0.00000\t0.00\t0.000000\t0.000000\t0.000000\t0.000000\t0.000000\t0.00\t0.000000\n",
    "32\tM6J\tWest Toronto\tLittle Portugal, Trinity\t0.000000\t0.000000\t0.000000\t0.000000\t0.000000\t0.000000\t0.000000\t0.000000\t0.015385\t0.000000\t0.00\t0.00\t0.015385\t0.000000\t0.000000\t0.046154\t0.000000\t0.000000\t0.000000\t0.000000\t0.030769\t0.000000\t0.123077\t0.00\t0.000000\t0.000000\t0.000000\t0.000000\t0.000000\t0.015385\t0.000000\t0.000000\t0.015385\t0.00\t0.000000\t0.015385\t0.000000\t0.00\t0.000000\t0.000000\t0.00\t0.000000\t0.046154\t0.000000\t0.000000\t0.000000\t0.000000\t0.000000\t0.000000\t0.000000\t0.000000\t0.030769\t0.046154\t0.000000\t0.000000\t0.00\t0.000000\t0.000000\t0.000000\t0.000000\t0.000000\t0.000000\t0.000000\t0.015385\t0.015385\t0.000000\t0.000000\t0.000000\t0.000000\t0.00\t0.015385\t0.000000\t0.015385\t0.00\t0.000000\t0.00\t0.0000\t0.000000\t0.000000\t0.000000\t0.000000\t0.000000\t0.000000\t0.00\t0.000000\t0.000000\t0.000000\t0.000000\t0.000000\t0.00\t0.000000\t0.000000\t0.015385\t0.000000\t0.00000\t0.000000\t0.00\t0.000000\t0.000000\t0.000000\t0.000000\t0.000000\t0.00\t0.00\t0.015385\t0.00\t0.000000\t0.015385\t0.000000\t0.000000\t0.015385\t0.000000\t0.000000\t0.000000\t0.000000\t0.000000\t0.000000\t0.0\t0.00\t0.00\t0.000000\t0.000000\t0.00\t0.00\t0.015385\t0.000000\t0.000000\t0.000000\t0.015385\t0.000000\t0.000000\t0.000000\t0.000000\t0.015385\t0.015385\t0.00\t0.000000\t0.000000\t0.00\t0.000000\t0.000000\t0.015385\t0.015385\t0.000000\t0.00\t0.000000\t0.061538\t0.000000\t0.000000\t0.015385\t0.000000\t0.000000\t0.00\t0.000000\t0.000000\t0.000000\t0.000000\t0.015385\t0.000000\t0.015385\t0.000000\t0.000000\t0.000000\t0.00\t0.000000\t0.00\t0.00\t0.000000\t0.015385\t0.000000\t0.000000\t0.000000\t0.000000\t0.000000\t0.030769\t0.000000\t0.000000\t0.000000\t0.000000\t0.000000\t0.000000\t0.015385\t0.000000\t0.015385\t0.000000\t0.000000\t0.046154\t0.000000\t0.000000\t0.015385\t0.000000\t0.00\t0.000000\t0.000000\t0.000000\t0.000000\t0.000000\t0.00\t0.000000\t0.000000\t0.000000\t0.000000\t0.000000\t0.015385\t0.000000\t0.000000\t0.000000\t0.015385\t0.000000\t0.000000\t0.000000\t0.000000\t0.000000\t0.000000\t0.00\t0.00\t0.000000\t0.000000\t0.00\t0.015385\t0.000000\t0.000000\t0.000000\t0.015385\t0.00\t0.000000\t0.00000\t0.00\t0.015385\t0.000000\t0.030769\t0.015385\t0.000000\t0.00\t0.015385\n",
    "33\tM6K\tWest Toronto\tBrockton, Exhibition Place, Parkdale Village\t0.000000\t0.000000\t0.000000\t0.000000\t0.000000\t0.000000\t0.000000\t0.000000\t0.000000\t0.000000\t0.00\t0.00\t0.000000\t0.000000\t0.000000\t0.000000\t0.000000\t0.000000\t0.000000\t0.000000\t0.000000\t0.000000\t0.052632\t0.00\t0.000000\t0.000000\t0.000000\t0.000000\t0.000000\t0.000000\t0.000000\t0.000000\t0.000000\t0.00\t0.105263\t0.000000\t0.000000\t0.00\t0.000000\t0.052632\t0.00\t0.000000\t0.105263\t0.000000\t0.052632\t0.000000\t0.000000\t0.000000\t0.000000\t0.052632\t0.000000\t0.000000\t0.105263\t0.000000\t0.000000\t0.00\t0.000000\t0.000000\t0.000000\t0.052632\t0.000000\t0.000000\t0.000000\t0.000000\t0.000000\t0.000000\t0.000000\t0.000000\t0.000000\t0.00\t0.000000\t0.000000\t0.000000\t0.00\t0.000000\t0.00\t0.0000\t0.000000\t0.000000\t0.000000\t0.000000\t0.000000\t0.000000\t0.00\t0.000000\t0.000000\t0.000000\t0.000000\t0.000000\t0.00\t0.000000\t0.000000\t0.000000\t0.000000\t0.00000\t0.052632\t0.00\t0.000000\t0.000000\t0.000000\t0.000000\t0.000000\t0.00\t0.00\t0.000000\t0.00\t0.000000\t0.000000\t0.052632\t0.052632\t0.000000\t0.000000\t0.000000\t0.000000\t0.000000\t0.000000\t0.000000\t0.0\t0.00\t0.00\t0.000000\t0.000000\t0.00\t0.00\t0.000000\t0.000000\t0.000000\t0.000000\t0.052632\t0.000000\t0.000000\t0.000000\t0.000000\t0.000000\t0.000000\t0.00\t0.000000\t0.000000\t0.00\t0.000000\t0.000000\t0.000000\t0.000000\t0.000000\t0.00\t0.000000\t0.000000\t0.000000\t0.000000\t0.000000\t0.000000\t0.000000\t0.00\t0.000000\t0.000000\t0.000000\t0.000000\t0.000000\t0.000000\t0.000000\t0.052632\t0.000000\t0.000000\t0.00\t0.000000\t0.00\t0.00\t0.000000\t0.000000\t0.052632\t0.000000\t0.052632\t0.000000\t0.000000\t0.000000\t0.000000\t0.000000\t0.000000\t0.000000\t0.000000\t0.000000\t0.000000\t0.000000\t0.000000\t0.000000\t0.000000\t0.000000\t0.000000\t0.000000\t0.000000\t0.000000\t0.00\t0.000000\t0.000000\t0.000000\t0.000000\t0.000000\t0.00\t0.000000\t0.000000\t0.000000\t0.000000\t0.000000\t0.000000\t0.000000\t0.000000\t0.000000\t0.000000\t0.052632\t0.000000\t0.000000\t0.000000\t0.000000\t0.000000\t0.00\t0.00\t0.000000\t0.000000\t0.00\t0.000000\t0.000000\t0.000000\t0.000000\t0.000000\t0.00\t0.000000\t0.00000\t0.00\t0.000000\t0.000000\t0.000000\t0.000000\t0.000000\t0.00\t0.000000\n",
    "34\tM6P\tWest Toronto\tHigh Park, The Junction South\t0.000000\t0.000000\t0.000000\t0.000000\t0.000000\t0.000000\t0.000000\t0.000000\t0.000000\t0.043478\t0.00\t0.00\t0.000000\t0.000000\t0.043478\t0.000000\t0.000000\t0.000000\t0.000000\t0.000000\t0.043478\t0.000000\t0.043478\t0.00\t0.000000\t0.000000\t0.000000\t0.000000\t0.000000\t0.000000\t0.000000\t0.043478\t0.000000\t0.00\t0.000000\t0.000000\t0.000000\t0.00\t0.000000\t0.000000\t0.00\t0.000000\t0.086957\t0.043478\t0.000000\t0.000000\t0.000000\t0.000000\t0.000000\t0.000000\t0.000000\t0.000000\t0.000000\t0.000000\t0.000000\t0.00\t0.000000\t0.000000\t0.000000\t0.000000\t0.000000\t0.000000\t0.000000\t0.000000\t0.000000\t0.000000\t0.000000\t0.000000\t0.000000\t0.00\t0.043478\t0.000000\t0.000000\t0.00\t0.000000\t0.00\t0.0000\t0.000000\t0.000000\t0.000000\t0.000000\t0.000000\t0.043478\t0.00\t0.000000\t0.000000\t0.043478\t0.000000\t0.000000\t0.00\t0.000000\t0.000000\t0.000000\t0.043478\t0.00000\t0.043478\t0.00\t0.000000\t0.000000\t0.043478\t0.000000\t0.000000\t0.00\t0.00\t0.000000\t0.00\t0.000000\t0.000000\t0.043478\t0.000000\t0.000000\t0.000000\t0.000000\t0.000000\t0.000000\t0.000000\t0.000000\t0.0\t0.00\t0.00\t0.000000\t0.000000\t0.00\t0.00\t0.000000\t0.000000\t0.000000\t0.000000\t0.043478\t0.000000\t0.000000\t0.000000\t0.000000\t0.000000\t0.000000\t0.00\t0.000000\t0.000000\t0.00\t0.000000\t0.000000\t0.000000\t0.000000\t0.000000\t0.00\t0.000000\t0.000000\t0.086957\t0.000000\t0.000000\t0.000000\t0.000000\t0.00\t0.000000\t0.000000\t0.000000\t0.000000\t0.043478\t0.000000\t0.000000\t0.000000\t0.000000\t0.000000\t0.00\t0.000000\t0.00\t0.00\t0.000000\t0.043478\t0.000000\t0.000000\t0.000000\t0.000000\t0.000000\t0.000000\t0.000000\t0.000000\t0.000000\t0.000000\t0.000000\t0.000000\t0.000000\t0.000000\t0.000000\t0.000000\t0.000000\t0.000000\t0.000000\t0.000000\t0.000000\t0.043478\t0.00\t0.000000\t0.000000\t0.000000\t0.000000\t0.000000\t0.00\t0.000000\t0.000000\t0.000000\t0.000000\t0.000000\t0.000000\t0.000000\t0.043478\t0.000000\t0.000000\t0.000000\t0.000000\t0.000000\t0.000000\t0.000000\t0.000000\t0.00\t0.00\t0.000000\t0.000000\t0.00\t0.000000\t0.000000\t0.000000\t0.043478\t0.000000\t0.00\t0.000000\t0.00000\t0.00\t0.000000\t0.000000\t0.000000\t0.000000\t0.000000\t0.00\t0.000000\n",
    "35\tM6R\tWest Toronto\tParkdale, Roncesvalles\t0.000000\t0.000000\t0.000000\t0.000000\t0.000000\t0.000000\t0.000000\t0.000000\t0.000000\t0.000000\t0.00\t0.00\t0.000000\t0.000000\t0.000000\t0.000000\t0.000000\t0.000000\t0.000000\t0.000000\t0.000000\t0.062500\t0.062500\t0.00\t0.000000\t0.000000\t0.000000\t0.000000\t0.000000\t0.000000\t0.000000\t0.062500\t0.000000\t0.00\t0.125000\t0.000000\t0.000000\t0.00\t0.062500\t0.000000\t0.00\t0.000000\t0.000000\t0.000000\t0.000000\t0.000000\t0.000000\t0.000000\t0.000000\t0.000000\t0.000000\t0.000000\t0.062500\t0.000000\t0.000000\t0.00\t0.000000\t0.000000\t0.000000\t0.000000\t0.000000\t0.000000\t0.000000\t0.062500\t0.000000\t0.000000\t0.000000\t0.000000\t0.062500\t0.00\t0.000000\t0.000000\t0.062500\t0.00\t0.000000\t0.00\t0.0625\t0.000000\t0.000000\t0.000000\t0.000000\t0.000000\t0.000000\t0.00\t0.000000\t0.000000\t0.000000\t0.000000\t0.000000\t0.00\t0.000000\t0.000000\t0.000000\t0.000000\t0.00000\t0.000000\t0.00\t0.000000\t0.000000\t0.000000\t0.000000\t0.000000\t0.00\t0.00\t0.125000\t0.00\t0.000000\t0.000000\t0.000000\t0.000000\t0.000000\t0.000000\t0.000000\t0.000000\t0.000000\t0.000000\t0.000000\t0.0\t0.00\t0.00\t0.000000\t0.000000\t0.00\t0.00\t0.000000\t0.000000\t0.000000\t0.000000\t0.062500\t0.000000\t0.000000\t0.000000\t0.000000\t0.000000\t0.000000\t0.00\t0.000000\t0.000000\t0.00\t0.000000\t0.000000\t0.000000\t0.000000\t0.000000\t0.00\t0.000000\t0.000000\t0.000000\t0.000000\t0.000000\t0.000000\t0.000000\t0.00\t0.062500\t0.000000\t0.000000\t0.000000\t0.000000\t0.000000\t0.000000\t0.000000\t0.000000\t0.000000\t0.00\t0.000000\t0.00\t0.00\t0.000000\t0.000000\t0.000000\t0.000000\t0.000000\t0.000000\t0.000000\t0.000000\t0.000000\t0.000000\t0.000000\t0.000000\t0.000000\t0.000000\t0.000000\t0.000000\t0.000000\t0.000000\t0.000000\t0.062500\t0.000000\t0.000000\t0.000000\t0.000000\t0.00\t0.000000\t0.000000\t0.000000\t0.000000\t0.000000\t0.00\t0.000000\t0.000000\t0.000000\t0.000000\t0.000000\t0.000000\t0.000000\t0.000000\t0.000000\t0.000000\t0.000000\t0.000000\t0.000000\t0.000000\t0.000000\t0.000000\t0.00\t0.00\t0.000000\t0.000000\t0.00\t0.000000\t0.000000\t0.000000\t0.000000\t0.000000\t0.00\t0.000000\t0.00000\t0.00\t0.000000\t0.000000\t0.000000\t0.000000\t0.000000\t0.00\t0.000000\n",
    "36\tM6S\tWest Toronto\tRunnymede, Swansea\t0.000000\t0.000000\t0.000000\t0.000000\t0.000000\t0.000000\t0.000000\t0.000000\t0.000000\t0.000000\t0.00\t0.00\t0.000000\t0.000000\t0.000000\t0.000000\t0.000000\t0.000000\t0.000000\t0.000000\t0.000000\t0.000000\t0.025641\t0.00\t0.000000\t0.000000\t0.000000\t0.000000\t0.000000\t0.000000\t0.000000\t0.025641\t0.000000\t0.00\t0.000000\t0.000000\t0.000000\t0.00\t0.000000\t0.025641\t0.00\t0.000000\t0.076923\t0.000000\t0.000000\t0.000000\t0.000000\t0.000000\t0.000000\t0.000000\t0.000000\t0.000000\t0.102564\t0.000000\t0.000000\t0.00\t0.000000\t0.000000\t0.000000\t0.000000\t0.000000\t0.000000\t0.000000\t0.000000\t0.000000\t0.000000\t0.000000\t0.000000\t0.025641\t0.00\t0.025641\t0.000000\t0.000000\t0.00\t0.000000\t0.00\t0.0000\t0.000000\t0.000000\t0.000000\t0.025641\t0.000000\t0.000000\t0.00\t0.025641\t0.000000\t0.000000\t0.025641\t0.025641\t0.00\t0.000000\t0.000000\t0.025641\t0.000000\t0.00000\t0.000000\t0.00\t0.000000\t0.000000\t0.025641\t0.000000\t0.000000\t0.00\t0.00\t0.000000\t0.00\t0.025641\t0.000000\t0.025641\t0.025641\t0.000000\t0.000000\t0.000000\t0.000000\t0.000000\t0.000000\t0.000000\t0.0\t0.00\t0.00\t0.000000\t0.000000\t0.00\t0.00\t0.000000\t0.000000\t0.025641\t0.000000\t0.051282\t0.000000\t0.000000\t0.000000\t0.000000\t0.000000\t0.000000\t0.00\t0.025641\t0.000000\t0.00\t0.000000\t0.000000\t0.000000\t0.000000\t0.000000\t0.00\t0.000000\t0.000000\t0.000000\t0.000000\t0.000000\t0.000000\t0.000000\t0.00\t0.000000\t0.000000\t0.000000\t0.000000\t0.000000\t0.000000\t0.000000\t0.000000\t0.000000\t0.000000\t0.00\t0.000000\t0.00\t0.00\t0.000000\t0.000000\t0.000000\t0.000000\t0.000000\t0.025641\t0.000000\t0.076923\t0.000000\t0.000000\t0.000000\t0.000000\t0.000000\t0.000000\t0.025641\t0.000000\t0.000000\t0.000000\t0.000000\t0.025641\t0.000000\t0.000000\t0.000000\t0.025641\t0.00\t0.000000\t0.000000\t0.000000\t0.000000\t0.000000\t0.00\t0.000000\t0.025641\t0.000000\t0.000000\t0.025641\t0.000000\t0.025641\t0.000000\t0.000000\t0.000000\t0.000000\t0.000000\t0.000000\t0.000000\t0.000000\t0.051282\t0.00\t0.00\t0.000000\t0.000000\t0.00\t0.000000\t0.025641\t0.000000\t0.000000\t0.000000\t0.00\t0.000000\t0.00000\t0.00\t0.025641\t0.000000\t0.000000\t0.000000\t0.000000\t0.00\t0.000000\n",
    "37\tM7Y\tEast Toronto\tBusiness Reply Mail Processing Centre 969 Eastern\t0.000000\t0.000000\t0.000000\t0.000000\t0.000000\t0.000000\t0.000000\t0.000000\t0.000000\t0.000000\t0.00\t0.00\t0.000000\t0.000000\t0.000000\t0.000000\t0.052632\t0.000000\t0.000000\t0.000000\t0.000000\t0.000000\t0.000000\t0.00\t0.000000\t0.000000\t0.000000\t0.000000\t0.000000\t0.000000\t0.000000\t0.000000\t0.000000\t0.00\t0.000000\t0.052632\t0.000000\t0.00\t0.000000\t0.052632\t0.00\t0.052632\t0.000000\t0.000000\t0.000000\t0.000000\t0.000000\t0.000000\t0.000000\t0.000000\t0.000000\t0.000000\t0.000000\t0.000000\t0.000000\t0.00\t0.000000\t0.052632\t0.000000\t0.000000\t0.000000\t0.000000\t0.000000\t0.000000\t0.000000\t0.000000\t0.000000\t0.000000\t0.000000\t0.00\t0.000000\t0.000000\t0.000000\t0.00\t0.000000\t0.00\t0.0000\t0.000000\t0.000000\t0.000000\t0.000000\t0.052632\t0.052632\t0.00\t0.000000\t0.000000\t0.000000\t0.000000\t0.000000\t0.00\t0.000000\t0.000000\t0.000000\t0.000000\t0.00000\t0.000000\t0.00\t0.052632\t0.052632\t0.000000\t0.000000\t0.000000\t0.00\t0.00\t0.000000\t0.00\t0.000000\t0.000000\t0.000000\t0.000000\t0.000000\t0.000000\t0.000000\t0.000000\t0.000000\t0.000000\t0.000000\t0.0\t0.00\t0.00\t0.000000\t0.000000\t0.00\t0.00\t0.000000\t0.000000\t0.000000\t0.000000\t0.000000\t0.000000\t0.000000\t0.000000\t0.000000\t0.000000\t0.000000\t0.00\t0.000000\t0.052632\t0.00\t0.000000\t0.000000\t0.000000\t0.000000\t0.000000\t0.00\t0.000000\t0.000000\t0.000000\t0.000000\t0.000000\t0.000000\t0.000000\t0.00\t0.000000\t0.052632\t0.000000\t0.000000\t0.000000\t0.000000\t0.000000\t0.000000\t0.000000\t0.000000\t0.00\t0.000000\t0.00\t0.00\t0.000000\t0.052632\t0.000000\t0.000000\t0.000000\t0.000000\t0.000000\t0.052632\t0.000000\t0.000000\t0.000000\t0.000000\t0.000000\t0.000000\t0.000000\t0.000000\t0.000000\t0.052632\t0.000000\t0.052632\t0.000000\t0.000000\t0.000000\t0.000000\t0.00\t0.000000\t0.000000\t0.000000\t0.000000\t0.052632\t0.00\t0.052632\t0.000000\t0.000000\t0.000000\t0.000000\t0.000000\t0.052632\t0.000000\t0.000000\t0.000000\t0.000000\t0.000000\t0.000000\t0.000000\t0.000000\t0.000000\t0.00\t0.00\t0.000000\t0.000000\t0.00\t0.000000\t0.000000\t0.000000\t0.000000\t0.000000\t0.00\t0.000000\t0.00000\t0.00\t0.000000\t0.000000\t0.000000\t0.000000\t0.000000\t0.00\t0.052632"
   ]
  },
  {
   "cell_type": "markdown",
   "metadata": {},
   "source": [
    "Now let's create the new dataframe and display the top 10 venues for each PostalCode."
   ]
  },
  {
   "cell_type": "code",
   "execution_count": null,
   "metadata": {},
   "outputs": [],
   "source": [
    "num_top_venues = 10\n",
    "\n",
    "indicators = ['st', 'nd', 'rd']\n",
    "\n",
    "# create columns according to number of top venues\n",
    "areaColumns = ['PostalCode', 'Borough', 'Neighborhoods']\n",
    "freqColumns = []\n",
    "for ind in np.arange(num_top_venues):\n",
    "    try:\n",
    "        freqColumns.append('{}{} Most Common Venue'.format(ind+1, indicators[ind]))\n",
    "    except:\n",
    "        freqColumns.append('{}th Most Common Venue'.format(ind+1))\n",
    "columns = areaColumns+freqColumns\n",
    "\n",
    "# create a new dataframe\n",
    "neighborhoods_venues_sorted = pd.DataFrame(columns=columns)\n",
    "neighborhoods_venues_sorted['PostalCode'] = toronto_grouped['PostalCode']\n",
    "neighborhoods_venues_sorted['Borough'] = toronto_grouped['Borough']\n",
    "neighborhoods_venues_sorted['Neighborhoods'] = toronto_grouped['Neighborhoods']\n",
    "\n",
    "for ind in np.arange(toronto_grouped.shape[0]):\n",
    "    row_categories = toronto_grouped.iloc[ind, :].iloc[3:]\n",
    "    row_categories_sorted = row_categories.sort_values(ascending=False)\n",
    "    neighborhoods_venues_sorted.iloc[ind, 3:] = row_categories_sorted.index.values[0:num_top_venues]\n",
    "\n",
    "# neighborhoods_venues_sorted.sort_values(freqColumns, inplace=True)\n",
    "print(neighborhoods_venues_sorted.shape)\n",
    "neighborhoods_venues_sorted"
   ]
  },
  {
   "cell_type": "markdown",
   "metadata": {},
   "source": [
    "(38, 13)"
   ]
  },
  {
   "cell_type": "code",
   "execution_count": null,
   "metadata": {},
   "outputs": [],
   "source": [
    "PostalCode\tBorough\tNeighborhoods\t1st Most Common Venue\t2nd Most Common Venue\t3rd Most Common Venue\t4th Most Common Venue\t5th Most Common Venue\t6th Most Common Venue\t7th Most Common Venue\t8th Most Common Venue\t9th Most Common Venue\t10th Most Common Venue\n",
    "0\tM4E\tEast Toronto\tThe Beaches\tNeighborhood\tCoffee Shop\tPub\tOther Great Outdoors\tYoga Studio\tFilipino Restaurant\tFast Food Restaurant\tFarmers Market\tFalafel Restaurant\tEvent Space\n",
    "1\tM4K\tEast Toronto\tThe Danforth West, Riverdale\tGreek Restaurant\tCoffee Shop\tIce Cream Shop\tBookstore\tItalian Restaurant\tPizza Place\tDiner\tDessert Shop\tPub\tRestaurant\n",
    "2\tM4L\tEast Toronto\tThe Beaches West, India Bazaar\tPark\tSandwich Place\tGym\tLight Rail Station\tSushi Restaurant\tMovie Theater\tBrewery\tItalian Restaurant\tFood & Drink Shop\tPub\n",
    "3\tM4M\tEast Toronto\tStudio District\tCafé\tCoffee Shop\tBakery\tItalian Restaurant\tAmerican Restaurant\tClothing Store\tBookstore\tBrewery\tSeafood Restaurant\tSandwich Place\n",
    "4\tM4N\tCentral Toronto\tLawrence Park\tPark\tSwim School\tDim Sum Restaurant\tBus Line\tYoga Studio\tDoner Restaurant\tFilipino Restaurant\tFast Food Restaurant\tFarmers Market\tFalafel Restaurant\n",
    "5\tM4P\tCentral Toronto\tDavisville North\tHotel\tSandwich Place\tBurger Joint\tBreakfast Spot\tPark\tFood & Drink Shop\tGym\tClothing Store\tDumpling Restaurant\tEastern European Restaurant\n",
    "6\tM4R\tCentral Toronto\tNorth Toronto West\tSporting Goods Shop\tCoffee Shop\tYoga Studio\tHealth & Beauty Service\tClothing Store\tChinese Restaurant\tDessert Shop\tDiner\tRental Car Location\tSalon / Barbershop\n",
    "7\tM4S\tCentral Toronto\tDavisville\tDessert Shop\tSandwich Place\tItalian Restaurant\tPharmacy\tSushi Restaurant\tCoffee Shop\tCafé\tPizza Place\tSeafood Restaurant\tFarmers Market\n",
    "8\tM4T\tCentral Toronto\tMoore Park, Summerhill East\tPlayground\tPark\tTennis Court\tDiscount Store\tFilipino Restaurant\tFast Food Restaurant\tFarmers Market\tFalafel Restaurant\tEvent Space\tEthiopian Restaurant\n",
    "9\tM4V\tCentral Toronto\tDeer Park, Forest Hill SE, Rathnelly, South Hi...\tCoffee Shop\tPub\tPizza Place\tAmerican Restaurant\tLight Rail Station\tSports Bar\tFried Chicken Joint\tBagel Shop\tSupermarket\tSushi Restaurant\n",
    "10\tM4W\tDowntown Toronto\tRosedale\tPark\tPlayground\tTrail\tDiscount Store\tFilipino Restaurant\tFast Food Restaurant\tFarmers Market\tFalafel Restaurant\tEvent Space\tEthiopian Restaurant\n",
    "11\tM4X\tDowntown Toronto\tCabbagetown, St. James Town\tRestaurant\tCoffee Shop\tPub\tPizza Place\tCafé\tBakery\tItalian Restaurant\tChinese Restaurant\tJewelry Store\tBank\n",
    "12\tM4Y\tDowntown Toronto\tChurch and Wellesley\tJapanese Restaurant\tSushi Restaurant\tCoffee Shop\tGay Bar\tRestaurant\tBurger Joint\tCafé\tPub\tMen's Store\tMediterranean Restaurant\n",
    "13\tM5A\tDowntown Toronto\tHarbourfront, Regent Park\tCoffee Shop\tBakery\tPub\tPark\tCafé\tTheater\tMexican Restaurant\tBreakfast Spot\tFrench Restaurant\tChocolate Shop\n",
    "14\tM5B\tDowntown Toronto\tRyerson, Garden District\tCoffee Shop\tClothing Store\tCafé\tCosmetics Shop\tMiddle Eastern Restaurant\tThai Restaurant\tJapanese Restaurant\tDiner\tPizza Place\tPlaza\n",
    "15\tM5C\tDowntown Toronto\tSt. James Town\tCoffee Shop\tRestaurant\tCafé\tHotel\tClothing Store\tBakery\tItalian Restaurant\tCosmetics Shop\tPark\tCocktail Bar\n",
    "16\tM5E\tDowntown Toronto\tBerczy Park\tCoffee Shop\tRestaurant\tCocktail Bar\tBakery\tSeafood Restaurant\tItalian Restaurant\tBeer Bar\tSteakhouse\tCafé\tCheese Shop\n",
    "17\tM5G\tDowntown Toronto\tCentral Bay Street\tCoffee Shop\tCafé\tItalian Restaurant\tBurger Joint\tBar\tFalafel Restaurant\tThai Restaurant\tBubble Tea Shop\tSalad Place\tChinese Restaurant\n",
    "18\tM5H\tDowntown Toronto\tAdelaide, King, Richmond\tCoffee Shop\tCafé\tSteakhouse\tThai Restaurant\tAmerican Restaurant\tClothing Store\tBakery\tGym\tRestaurant\tAsian Restaurant\n",
    "19\tM5J\tDowntown Toronto\tHarbourfront East, Toronto Islands, Union Station\tCoffee Shop\tHotel\tAquarium\tCafé\tPizza Place\tRestaurant\tItalian Restaurant\tBakery\tScenic Lookout\tBrewery\n",
    "20\tM5K\tDowntown Toronto\tDesign Exchange, Toronto Dominion Centre\tCoffee Shop\tHotel\tCafé\tRestaurant\tAmerican Restaurant\tGastropub\tGym\tItalian Restaurant\tDeli / Bodega\tBar\n",
    "21\tM5L\tDowntown Toronto\tCommerce Court, Victoria Hotel\tCoffee Shop\tCafé\tHotel\tRestaurant\tAmerican Restaurant\tGym\tSteakhouse\tBakery\tSeafood Restaurant\tGastropub\n",
    "22\tM5N\tCentral Toronto\tRoselawn\tHome Service\tGarden\tDoner Restaurant\tFish & Chips Shop\tFilipino Restaurant\tFast Food Restaurant\tFarmers Market\tFalafel Restaurant\tEvent Space\tEthiopian Restaurant\n",
    "23\tM5P\tCentral Toronto\tForest Hill North, Forest Hill West\tJewelry Store\tPark\tTrail\tSushi Restaurant\tYoga Studio\tFilipino Restaurant\tFast Food Restaurant\tFarmers Market\tFalafel Restaurant\tEvent Space\n",
    "24\tM5R\tCentral Toronto\tThe Annex, North Midtown, Yorkville\tSandwich Place\tCoffee Shop\tCafé\tPizza Place\tCosmetics Shop\tAmerican Restaurant\tIndian Restaurant\tBBQ Joint\tLiquor Store\tJewish Restaurant\n",
    "25\tM5S\tDowntown Toronto\tHarbord, University of Toronto\tCafé\tCoffee Shop\tBakery\tBookstore\tRestaurant\tBar\tJapanese Restaurant\tNightclub\tNoodle House\tComfort Food Restaurant\n",
    "26\tM5T\tDowntown Toronto\tChinatown, Grange Park, Kensington Market\tBar\tCafé\tVegetarian / Vegan Restaurant\tCoffee Shop\tVietnamese Restaurant\tBakery\tDumpling Restaurant\tMexican Restaurant\tChinese Restaurant\tBurger Joint\n",
    "27\tM5V\tDowntown Toronto\tCN Tower, Bathurst Quay, Island airport, Harbo...\tAirport Lounge\tAirport Service\tAirport Terminal\tBoat or Ferry\tBoutique\tAirport\tAirport Food Court\tAirport Gate\tHarbor / Marina\tSculpture Garden\n",
    "28\tM5W\tDowntown Toronto\tStn A PO Boxes 25 The Esplanade\tCoffee Shop\tRestaurant\tCafé\tCocktail Bar\tSeafood Restaurant\tPub\tHotel\tBeer Bar\tItalian Restaurant\tFast Food Restaurant\n",
    "29\tM5X\tDowntown Toronto\tFirst Canadian Place, Underground city\tCafé\tCoffee Shop\tHotel\tRestaurant\tAmerican Restaurant\tGastropub\tBakery\tSteakhouse\tAsian Restaurant\tDeli / Bodega\n",
    "30\tM6G\tDowntown Toronto\tChristie\tCafé\tGrocery Store\tPark\tConvenience Store\tCoffee Shop\tBaby Store\tNightclub\tDiner\tItalian Restaurant\tRestaurant\n",
    "31\tM6H\tWest Toronto\tDovercourt Village, Dufferin\tPharmacy\tSupermarket\tBakery\tPark\tMusic Venue\tBrewery\tLiquor Store\tMiddle Eastern Restaurant\tCafé\tBar\n",
    "32\tM6J\tWest Toronto\tLittle Portugal, Trinity\tBar\tMen's Store\tCoffee Shop\tCafé\tAsian Restaurant\tRestaurant\tCocktail Bar\tPizza Place\tBakery\tVietnamese Restaurant\n",
    "33\tM6K\tWest Toronto\tBrockton, Exhibition Place, Parkdale Village\tCafé\tCoffee Shop\tBreakfast Spot\tStadium\tNightclub\tItalian Restaurant\tBar\tBurrito Place\tCaribbean Restaurant\tClimbing Gym\n",
    "34\tM6P\tWest Toronto\tHigh Park, The Junction South\tMexican Restaurant\tCafé\tFast Food Restaurant\tFried Chicken Joint\tFurniture / Home Store\tBakery\tCajun / Creole Restaurant\tSpeakeasy\tItalian Restaurant\tGastropub\n",
    "35\tM6R\tWest Toronto\tParkdale, Roncesvalles\tBreakfast Spot\tGift Shop\tBookstore\tBurger Joint\tMovie Theater\tBar\tBank\tEastern European Restaurant\tDog Run\tItalian Restaurant\n",
    "36\tM6S\tWest Toronto\tRunnymede, Swansea\tCoffee Shop\tCafé\tPizza Place\tItalian Restaurant\tSushi Restaurant\tPharmacy\tSmoothie Shop\tBookstore\tSandwich Place\tBurrito Place\n",
    "37\tM7Y\tEast Toronto\tBusiness Reply Mail Processing Centre 969 Eastern\tYoga Studio\tAuto Workshop\tComic Shop\tPizza Place\tMoving Target\tRecording Studio\tRestaurant\tButcher\tBurrito Place\tBrewery"
   ]
  },
  {
   "cell_type": "markdown",
   "metadata": {},
   "source": [
    "<h2>16. Cluster Areas</h2>"
   ]
  },
  {
   "cell_type": "markdown",
   "metadata": {},
   "source": [
    "Run k-means to cluster the Toronto areas into 5 clusters."
   ]
  },
  {
   "cell_type": "code",
   "execution_count": null,
   "metadata": {},
   "outputs": [],
   "source": [
    "# set number of clusters\n",
    "kclusters = 5\n",
    "\n",
    "toronto_grouped_clustering = toronto_grouped.drop([\"PostalCode\", \"Borough\", \"Neighborhoods\"], 1)\n",
    "\n",
    "# run k-means clustering\n",
    "kmeans = KMeans(n_clusters=kclusters, random_state=0).fit(toronto_grouped_clustering)\n",
    "\n",
    "# check cluster labels generated for each row in the dataframe\n",
    "kmeans.labels_[0:10]"
   ]
  },
  {
   "cell_type": "code",
   "execution_count": null,
   "metadata": {},
   "outputs": [],
   "source": [
    "array([0, 0, 0, 0, 3, 0, 0, 0, 2, 0])"
   ]
  },
  {
   "cell_type": "code",
   "execution_count": null,
   "metadata": {},
   "outputs": [],
   "source": [
    "# create a new dataframe that includes the cluster as well as the top 10 venues for each neighborhood.\n",
    "toronto_merged = toronto_df_new.copy()\n",
    "\n",
    "# add clustering labels\n",
    "toronto_merged[\"Cluster Labels\"] = kmeans.labels_\n",
    "\n",
    "# merge toronto_grouped with toronto_data to add latitude/longitude for each neighborhood\n",
    "toronto_merged = toronto_merged.join(neighborhoods_venues_sorted.drop([\"Borough\", \"Neighborhoods\"], 1).set_index(\"PostalCode\"), on=\"PostalCode\")\n",
    "\n",
    "print(toronto_merged.shape)\n",
    "toronto_merged.head() # check the last columns!"
   ]
  },
  {
   "cell_type": "markdown",
   "metadata": {},
   "source": [
    "(38, 16)"
   ]
  },
  {
   "cell_type": "code",
   "execution_count": null,
   "metadata": {},
   "outputs": [],
   "source": [
    "PostalCode\tBorough\tNeighborhood\tLatitude\tLongitude\tCluster Labels\t1st Most Common Venue\t2nd Most Common Venue\t3rd Most Common Venue\t4th Most Common Venue\t5th Most Common Venue\t6th Most Common Venue\t7th Most Common Venue\t8th Most Common Venue\t9th Most Common Venue\t10th Most Common Venue\n",
    "0\tM4E\tEast Toronto\tThe Beaches\t43.676357\t-79.293031\t0\tNeighborhood\tCoffee Shop\tPub\tOther Great Outdoors\tYoga Studio\tFilipino Restaurant\tFast Food Restaurant\tFarmers Market\tFalafel Restaurant\tEvent Space\n",
    "1\tM4K\tEast Toronto\tThe Danforth West, Riverdale\t43.679557\t-79.352188\t0\tGreek Restaurant\tCoffee Shop\tIce Cream Shop\tBookstore\tItalian Restaurant\tPizza Place\tDiner\tDessert Shop\tPub\tRestaurant\n",
    "2\tM4L\tEast Toronto\tThe Beaches West, India Bazaar\t43.668999\t-79.315572\t0\tPark\tSandwich Place\tGym\tLight Rail Station\tSushi Restaurant\tMovie Theater\tBrewery\tItalian Restaurant\tFood & Drink Shop\tPub\n",
    "3\tM4M\tEast Toronto\tStudio District\t43.659526\t-79.340923\t0\tCafé\tCoffee Shop\tBakery\tItalian Restaurant\tAmerican Restaurant\tClothing Store\tBookstore\tBrewery\tSeafood Restaurant\tSandwich Place\n",
    "4\tM4N\tCentral Toronto\tLawrence Park\t43.728020\t-79.388790\t3\tPark\tSwim School\tDim Sum Restaurant\tBus Line\tYoga Studio\tDoner Restaurant\tFilipino Restaurant\tFast Food Restaurant\tFarmers Market\tFalafel Restaurant"
   ]
  },
  {
   "cell_type": "code",
   "execution_count": null,
   "metadata": {},
   "outputs": [],
   "source": [
    "# sort the results by Cluster Labels\n",
    "print(toronto_merged.shape)\n",
    "toronto_merged.sort_values([\"Cluster Labels\"], inplace=True)\n",
    "toronto_merged"
   ]
  },
  {
   "cell_type": "markdown",
   "metadata": {},
   "source": [
    "(38, 16)"
   ]
  },
  {
   "cell_type": "code",
   "execution_count": null,
   "metadata": {},
   "outputs": [],
   "source": [
    "PostalCode\tBorough\tNeighborhood\tLatitude\tLongitude\tCluster Labels\t1st Most Common Venue\t2nd Most Common Venue\t3rd Most Common Venue\t4th Most Common Venue\t5th Most Common Venue\t6th Most Common Venue\t7th Most Common Venue\t8th Most Common Venue\t9th Most Common Venue\t10th Most Common Venue\n",
    "0\tM4E\tEast Toronto\tThe Beaches\t43.676357\t-79.293031\t0\tNeighborhood\tCoffee Shop\tPub\tOther Great Outdoors\tYoga Studio\tFilipino Restaurant\tFast Food Restaurant\tFarmers Market\tFalafel Restaurant\tEvent Space\n",
    "20\tM5K\tDowntown Toronto\tDesign Exchange, Toronto Dominion Centre\t43.647177\t-79.381576\t0\tCoffee Shop\tHotel\tCafé\tRestaurant\tAmerican Restaurant\tGastropub\tGym\tItalian Restaurant\tDeli / Bodega\tBar\n",
    "21\tM5L\tDowntown Toronto\tCommerce Court, Victoria Hotel\t43.648198\t-79.379817\t0\tCoffee Shop\tCafé\tHotel\tRestaurant\tAmerican Restaurant\tGym\tSteakhouse\tBakery\tSeafood Restaurant\tGastropub\n",
    "24\tM5R\tCentral Toronto\tThe Annex, North Midtown, Yorkville\t43.672710\t-79.405678\t0\tSandwich Place\tCoffee Shop\tCafé\tPizza Place\tCosmetics Shop\tAmerican Restaurant\tIndian Restaurant\tBBQ Joint\tLiquor Store\tJewish Restaurant\n",
    "25\tM5S\tDowntown Toronto\tHarbord, University of Toronto\t43.662696\t-79.400049\t0\tCafé\tCoffee Shop\tBakery\tBookstore\tRestaurant\tBar\tJapanese Restaurant\tNightclub\tNoodle House\tComfort Food Restaurant\n",
    "26\tM5T\tDowntown Toronto\tChinatown, Grange Park, Kensington Market\t43.653206\t-79.400049\t0\tBar\tCafé\tVegetarian / Vegan Restaurant\tCoffee Shop\tVietnamese Restaurant\tBakery\tDumpling Restaurant\tMexican Restaurant\tChinese Restaurant\tBurger Joint\n",
    "27\tM5V\tDowntown Toronto\tCN Tower, Bathurst Quay, Island airport, Harbo...\t43.628947\t-79.394420\t0\tAirport Lounge\tAirport Service\tAirport Terminal\tBoat or Ferry\tBoutique\tAirport\tAirport Food Court\tAirport Gate\tHarbor / Marina\tSculpture Garden\n",
    "19\tM5J\tDowntown Toronto\tHarbourfront East, Toronto Islands, Union Station\t43.640816\t-79.381752\t0\tCoffee Shop\tHotel\tAquarium\tCafé\tPizza Place\tRestaurant\tItalian Restaurant\tBakery\tScenic Lookout\tBrewery\n",
    "28\tM5W\tDowntown Toronto\tStn A PO Boxes 25 The Esplanade\t43.646435\t-79.374846\t0\tCoffee Shop\tRestaurant\tCafé\tCocktail Bar\tSeafood Restaurant\tPub\tHotel\tBeer Bar\tItalian Restaurant\tFast Food Restaurant\n",
    "30\tM6G\tDowntown Toronto\tChristie\t43.669542\t-79.422564\t0\tCafé\tGrocery Store\tPark\tConvenience Store\tCoffee Shop\tBaby Store\tNightclub\tDiner\tItalian Restaurant\tRestaurant\n",
    "31\tM6H\tWest Toronto\tDovercourt Village, Dufferin\t43.669005\t-79.442259\t0\tPharmacy\tSupermarket\tBakery\tPark\tMusic Venue\tBrewery\tLiquor Store\tMiddle Eastern Restaurant\tCafé\tBar\n",
    "32\tM6J\tWest Toronto\tLittle Portugal, Trinity\t43.647927\t-79.419750\t0\tBar\tMen's Store\tCoffee Shop\tCafé\tAsian Restaurant\tRestaurant\tCocktail Bar\tPizza Place\tBakery\tVietnamese Restaurant\n",
    "33\tM6K\tWest Toronto\tBrockton, Exhibition Place, Parkdale Village\t43.636847\t-79.428191\t0\tCafé\tCoffee Shop\tBreakfast Spot\tStadium\tNightclub\tItalian Restaurant\tBar\tBurrito Place\tCaribbean Restaurant\tClimbing Gym\n",
    "34\tM6P\tWest Toronto\tHigh Park, The Junction South\t43.661608\t-79.464763\t0\tMexican Restaurant\tCafé\tFast Food Restaurant\tFried Chicken Joint\tFurniture / Home Store\tBakery\tCajun / Creole Restaurant\tSpeakeasy\tItalian Restaurant\tGastropub\n",
    "35\tM6R\tWest Toronto\tParkdale, Roncesvalles\t43.648960\t-79.456325\t0\tBreakfast Spot\tGift Shop\tBookstore\tBurger Joint\tMovie Theater\tBar\tBank\tEastern European Restaurant\tDog Run\tItalian Restaurant\n",
    "29\tM5X\tDowntown Toronto\tFirst Canadian Place, Underground city\t43.648429\t-79.382280\t0\tCafé\tCoffee Shop\tHotel\tRestaurant\tAmerican Restaurant\tGastropub\tBakery\tSteakhouse\tAsian Restaurant\tDeli / Bodega\n",
    "36\tM6S\tWest Toronto\tRunnymede, Swansea\t43.651571\t-79.484450\t0\tCoffee Shop\tCafé\tPizza Place\tItalian Restaurant\tSushi Restaurant\tPharmacy\tSmoothie Shop\tBookstore\tSandwich Place\tBurrito Place\n",
    "18\tM5H\tDowntown Toronto\tAdelaide, King, Richmond\t43.650571\t-79.384568\t0\tCoffee Shop\tCafé\tSteakhouse\tThai Restaurant\tAmerican Restaurant\tClothing Store\tBakery\tGym\tRestaurant\tAsian Restaurant\n",
    "16\tM5E\tDowntown Toronto\tBerczy Park\t43.644771\t-79.373306\t0\tCoffee Shop\tRestaurant\tCocktail Bar\tBakery\tSeafood Restaurant\tItalian Restaurant\tBeer Bar\tSteakhouse\tCafé\tCheese Shop\n",
    "1\tM4K\tEast Toronto\tThe Danforth West, Riverdale\t43.679557\t-79.352188\t0\tGreek Restaurant\tCoffee Shop\tIce Cream Shop\tBookstore\tItalian Restaurant\tPizza Place\tDiner\tDessert Shop\tPub\tRestaurant\n",
    "2\tM4L\tEast Toronto\tThe Beaches West, India Bazaar\t43.668999\t-79.315572\t0\tPark\tSandwich Place\tGym\tLight Rail Station\tSushi Restaurant\tMovie Theater\tBrewery\tItalian Restaurant\tFood & Drink Shop\tPub\n",
    "3\tM4M\tEast Toronto\tStudio District\t43.659526\t-79.340923\t0\tCafé\tCoffee Shop\tBakery\tItalian Restaurant\tAmerican Restaurant\tClothing Store\tBookstore\tBrewery\tSeafood Restaurant\tSandwich Place\n",
    "5\tM4P\tCentral Toronto\tDavisville North\t43.712751\t-79.390197\t0\tHotel\tSandwich Place\tBurger Joint\tBreakfast Spot\tPark\tFood & Drink Shop\tGym\tClothing Store\tDumpling Restaurant\tEastern European Restaurant\n",
    "6\tM4R\tCentral Toronto\tNorth Toronto West\t43.715383\t-79.405678\t0\tSporting Goods Shop\tCoffee Shop\tYoga Studio\tHealth & Beauty Service\tClothing Store\tChinese Restaurant\tDessert Shop\tDiner\tRental Car Location\tSalon / Barbershop\n",
    "7\tM4S\tCentral Toronto\tDavisville\t43.704324\t-79.388790\t0\tDessert Shop\tSandwich Place\tItalian Restaurant\tPharmacy\tSushi Restaurant\tCoffee Shop\tCafé\tPizza Place\tSeafood Restaurant\tFarmers Market\n",
    "17\tM5G\tDowntown Toronto\tCentral Bay Street\t43.657952\t-79.387383\t0\tCoffee Shop\tCafé\tItalian Restaurant\tBurger Joint\tBar\tFalafel Restaurant\tThai Restaurant\tBubble Tea Shop\tSalad Place\tChinese Restaurant\n",
    "9\tM4V\tCentral Toronto\tDeer Park, Forest Hill SE, Rathnelly, South Hi...\t43.686412\t-79.400049\t0\tCoffee Shop\tPub\tPizza Place\tAmerican Restaurant\tLight Rail Station\tSports Bar\tFried Chicken Joint\tBagel Shop\tSupermarket\tSushi Restaurant\n",
    "11\tM4X\tDowntown Toronto\tCabbagetown, St. James Town\t43.667967\t-79.367675\t0\tRestaurant\tCoffee Shop\tPub\tPizza Place\tCafé\tBakery\tItalian Restaurant\tChinese Restaurant\tJewelry Store\tBank\n",
    "12\tM4Y\tDowntown Toronto\tChurch and Wellesley\t43.665860\t-79.383160\t0\tJapanese Restaurant\tSushi Restaurant\tCoffee Shop\tGay Bar\tRestaurant\tBurger Joint\tCafé\tPub\tMen's Store\tMediterranean Restaurant\n",
    "13\tM5A\tDowntown Toronto\tHarbourfront, Regent Park\t43.654260\t-79.360636\t0\tCoffee Shop\tBakery\tPub\tPark\tCafé\tTheater\tMexican Restaurant\tBreakfast Spot\tFrench Restaurant\tChocolate Shop\n",
    "14\tM5B\tDowntown Toronto\tRyerson, Garden District\t43.657162\t-79.378937\t0\tCoffee Shop\tClothing Store\tCafé\tCosmetics Shop\tMiddle Eastern Restaurant\tThai Restaurant\tJapanese Restaurant\tDiner\tPizza Place\tPlaza\n",
    "15\tM5C\tDowntown Toronto\tSt. James Town\t43.651494\t-79.375418\t0\tCoffee Shop\tRestaurant\tCafé\tHotel\tClothing Store\tBakery\tItalian Restaurant\tCosmetics Shop\tPark\tCocktail Bar\n",
    "37\tM7Y\tEast Toronto\tBusiness Reply Mail Processing Centre 969 Eastern\t43.662744\t-79.321558\t0\tYoga Studio\tAuto Workshop\tComic Shop\tPizza Place\tMoving Target\tRecording Studio\tRestaurant\tButcher\tBurrito Place\tBrewery\n",
    "22\tM5N\tCentral Toronto\tRoselawn\t43.711695\t-79.416936\t1\tHome Service\tGarden\tDoner Restaurant\tFish & Chips Shop\tFilipino Restaurant\tFast Food Restaurant\tFarmers Market\tFalafel Restaurant\tEvent Space\tEthiopian Restaurant\n",
    "8\tM4T\tCentral Toronto\tMoore Park, Summerhill East\t43.689574\t-79.383160\t2\tPlayground\tPark\tTennis Court\tDiscount Store\tFilipino Restaurant\tFast Food Restaurant\tFarmers Market\tFalafel Restaurant\tEvent Space\tEthiopian Restaurant\n",
    "10\tM4W\tDowntown Toronto\tRosedale\t43.679563\t-79.377529\t2\tPark\tPlayground\tTrail\tDiscount Store\tFilipino Restaurant\tFast Food Restaurant\tFarmers Market\tFalafel Restaurant\tEvent Space\tEthiopian Restaurant\n",
    "4\tM4N\tCentral Toronto\tLawrence Park\t43.728020\t-79.388790\t3\tPark\tSwim School\tDim Sum Restaurant\tBus Line\tYoga Studio\tDoner Restaurant\tFilipino Restaurant\tFast Food Restaurant\tFarmers Market\tFalafel Restaurant\n",
    "23\tM5P\tCentral Toronto\tForest Hill North, Forest Hill West\t43.696948\t-79.411307\t4\tJewelry Store\tPark\tTrail\tSushi Restaurant\tYoga Studio\tFilipino Restaurant\tFast Food Restaurant\tFarmers Market\tFalafel Restaurant\tEvent Space"
   ]
  },
  {
   "cell_type": "markdown",
   "metadata": {},
   "source": [
    "<h2>Finally, let's visualize the resulting clusters</h2>"
   ]
  },
  {
   "cell_type": "code",
   "execution_count": null,
   "metadata": {},
   "outputs": [],
   "source": [
    "# create map\n",
    "map_clusters = folium.Map(location=[latitude, longitude], zoom_start=11)\n",
    "\n",
    "# set color scheme for the clusters\n",
    "x = np.arange(kclusters)\n",
    "ys = [i+x+(i*x)**2 for i in range(kclusters)]\n",
    "colors_array = cm.rainbow(np.linspace(0, 1, len(ys)))\n",
    "rainbow = [colors.rgb2hex(i) for i in colors_array]\n",
    "\n",
    "# add markers to the map\n",
    "markers_colors = []\n",
    "for lat, lon, post, bor, poi, cluster in zip(toronto_merged['Latitude'], toronto_merged['Longitude'], toronto_merged['PostalCode'], toronto_merged['Borough'], toronto_merged['Neighborhood'], toronto_merged['Cluster Labels']):\n",
    "    label = folium.Popup('{} ({}): {} - Cluster {}'.format(bor, post, poi, cluster), parse_html=True)\n",
    "    folium.CircleMarker(\n",
    "        [lat, lon],\n",
    "        radius=5,\n",
    "        popup=label,\n",
    "        color=rainbow[cluster-1],\n",
    "        fill=True,\n",
    "        fill_color=rainbow[cluster-1],\n",
    "        fill_opacity=0.7).add_to(map_clusters)\n",
    "       \n",
    "map_clusters"
   ]
  },
  {
   "cell_type": "markdown",
   "metadata": {},
   "source": [
    "<h2>17. Examine Clusters</h2>"
   ]
  },
  {
   "cell_type": "markdown",
   "metadata": {},
   "source": [
    "<h2>Cluster 1</h2>"
   ]
  },
  {
   "cell_type": "code",
   "execution_count": null,
   "metadata": {},
   "outputs": [],
   "source": [
    "toronto_merged.loc[toronto_merged['Cluster Labels'] == 0, toronto_merged.columns[[1] + list(range(5, toronto_merged.shape[1]))]]"
   ]
  },
  {
   "cell_type": "code",
   "execution_count": null,
   "metadata": {},
   "outputs": [],
   "source": [
    "Borough\tCluster Labels\t1st Most Common Venue\t2nd Most Common Venue\t3rd Most Common Venue\t4th Most Common Venue\t5th Most Common Venue\t6th Most Common Venue\t7th Most Common Venue\t8th Most Common Venue\t9th Most Common Venue\t10th Most Common Venue\n",
    "0\tEast Toronto\t0\tNeighborhood\tCoffee Shop\tPub\tOther Great Outdoors\tYoga Studio\tFilipino Restaurant\tFast Food Restaurant\tFarmers Market\tFalafel Restaurant\tEvent Space\n",
    "20\tDowntown Toronto\t0\tCoffee Shop\tHotel\tCafé\tRestaurant\tAmerican Restaurant\tGastropub\tGym\tItalian Restaurant\tDeli / Bodega\tBar\n",
    "21\tDowntown Toronto\t0\tCoffee Shop\tCafé\tHotel\tRestaurant\tAmerican Restaurant\tGym\tSteakhouse\tBakery\tSeafood Restaurant\tGastropub\n",
    "24\tCentral Toronto\t0\tSandwich Place\tCoffee Shop\tCafé\tPizza Place\tCosmetics Shop\tAmerican Restaurant\tIndian Restaurant\tBBQ Joint\tLiquor Store\tJewish Restaurant\n",
    "25\tDowntown Toronto\t0\tCafé\tCoffee Shop\tBakery\tBookstore\tRestaurant\tBar\tJapanese Restaurant\tNightclub\tNoodle House\tComfort Food Restaurant\n",
    "26\tDowntown Toronto\t0\tBar\tCafé\tVegetarian / Vegan Restaurant\tCoffee Shop\tVietnamese Restaurant\tBakery\tDumpling Restaurant\tMexican Restaurant\tChinese Restaurant\tBurger Joint\n",
    "27\tDowntown Toronto\t0\tAirport Lounge\tAirport Service\tAirport Terminal\tBoat or Ferry\tBoutique\tAirport\tAirport Food Court\tAirport Gate\tHarbor / Marina\tSculpture Garden\n",
    "19\tDowntown Toronto\t0\tCoffee Shop\tHotel\tAquarium\tCafé\tPizza Place\tRestaurant\tItalian Restaurant\tBakery\tScenic Lookout\tBrewery\n",
    "28\tDowntown Toronto\t0\tCoffee Shop\tRestaurant\tCafé\tCocktail Bar\tSeafood Restaurant\tPub\tHotel\tBeer Bar\tItalian Restaurant\tFast Food Restaurant\n",
    "30\tDowntown Toronto\t0\tCafé\tGrocery Store\tPark\tConvenience Store\tCoffee Shop\tBaby Store\tNightclub\tDiner\tItalian Restaurant\tRestaurant\n",
    "31\tWest Toronto\t0\tPharmacy\tSupermarket\tBakery\tPark\tMusic Venue\tBrewery\tLiquor Store\tMiddle Eastern Restaurant\tCafé\tBar\n",
    "32\tWest Toronto\t0\tBar\tMen's Store\tCoffee Shop\tCafé\tAsian Restaurant\tRestaurant\tCocktail Bar\tPizza Place\tBakery\tVietnamese Restaurant\n",
    "33\tWest Toronto\t0\tCafé\tCoffee Shop\tBreakfast Spot\tStadium\tNightclub\tItalian Restaurant\tBar\tBurrito Place\tCaribbean Restaurant\tClimbing Gym\n",
    "34\tWest Toronto\t0\tMexican Restaurant\tCafé\tFast Food Restaurant\tFried Chicken Joint\tFurniture / Home Store\tBakery\tCajun / Creole Restaurant\tSpeakeasy\tItalian Restaurant\tGastropub\n",
    "35\tWest Toronto\t0\tBreakfast Spot\tGift Shop\tBookstore\tBurger Joint\tMovie Theater\tBar\tBank\tEastern European Restaurant\tDog Run\tItalian Restaurant\n",
    "29\tDowntown Toronto\t0\tCafé\tCoffee Shop\tHotel\tRestaurant\tAmerican Restaurant\tGastropub\tBakery\tSteakhouse\tAsian Restaurant\tDeli / Bodega\n",
    "36\tWest Toronto\t0\tCoffee Shop\tCafé\tPizza Place\tItalian Restaurant\tSushi Restaurant\tPharmacy\tSmoothie Shop\tBookstore\tSandwich Place\tBurrito Place\n",
    "18\tDowntown Toronto\t0\tCoffee Shop\tCafé\tSteakhouse\tThai Restaurant\tAmerican Restaurant\tClothing Store\tBakery\tGym\tRestaurant\tAsian Restaurant\n",
    "16\tDowntown Toronto\t0\tCoffee Shop\tRestaurant\tCocktail Bar\tBakery\tSeafood Restaurant\tItalian Restaurant\tBeer Bar\tSteakhouse\tCafé\tCheese Shop\n",
    "1\tEast Toronto\t0\tGreek Restaurant\tCoffee Shop\tIce Cream Shop\tBookstore\tItalian Restaurant\tPizza Place\tDiner\tDessert Shop\tPub\tRestaurant\n",
    "2\tEast Toronto\t0\tPark\tSandwich Place\tGym\tLight Rail Station\tSushi Restaurant\tMovie Theater\tBrewery\tItalian Restaurant\tFood & Drink Shop\tPub\n",
    "3\tEast Toronto\t0\tCafé\tCoffee Shop\tBakery\tItalian Restaurant\tAmerican Restaurant\tClothing Store\tBookstore\tBrewery\tSeafood Restaurant\tSandwich Place\n",
    "5\tCentral Toronto\t0\tHotel\tSandwich Place\tBurger Joint\tBreakfast Spot\tPark\tFood & Drink Shop\tGym\tClothing Store\tDumpling Restaurant\tEastern European Restaurant\n",
    "6\tCentral Toronto\t0\tSporting Goods Shop\tCoffee Shop\tYoga Studio\tHealth & Beauty Service\tClothing Store\tChinese Restaurant\tDessert Shop\tDiner\tRental Car Location\tSalon / Barbershop\n",
    "7\tCentral Toronto\t0\tDessert Shop\tSandwich Place\tItalian Restaurant\tPharmacy\tSushi Restaurant\tCoffee Shop\tCafé\tPizza Place\tSeafood Restaurant\tFarmers Market\n",
    "17\tDowntown Toronto\t0\tCoffee Shop\tCafé\tItalian Restaurant\tBurger Joint\tBar\tFalafel Restaurant\tThai Restaurant\tBubble Tea Shop\tSalad Place\tChinese Restaurant\n",
    "9\tCentral Toronto\t0\tCoffee Shop\tPub\tPizza Place\tAmerican Restaurant\tLight Rail Station\tSports Bar\tFried Chicken Joint\tBagel Shop\tSupermarket\tSushi Restaurant\n",
    "11\tDowntown Toronto\t0\tRestaurant\tCoffee Shop\tPub\tPizza Place\tCafé\tBakery\tItalian Restaurant\tChinese Restaurant\tJewelry Store\tBank\n",
    "12\tDowntown Toronto\t0\tJapanese Restaurant\tSushi Restaurant\tCoffee Shop\tGay Bar\tRestaurant\tBurger Joint\tCafé\tPub\tMen's Store\tMediterranean Restaurant\n",
    "13\tDowntown Toronto\t0\tCoffee Shop\tBakery\tPub\tPark\tCafé\tTheater\tMexican Restaurant\tBreakfast Spot\tFrench Restaurant\tChocolate Shop\n",
    "14\tDowntown Toronto\t0\tCoffee Shop\tClothing Store\tCafé\tCosmetics Shop\tMiddle Eastern Restaurant\tThai Restaurant\tJapanese Restaurant\tDiner\tPizza Place\tPlaza\n",
    "15\tDowntown Toronto\t0\tCoffee Shop\tRestaurant\tCafé\tHotel\tClothing Store\tBakery\tItalian Restaurant\tCosmetics Shop\tPark\tCocktail Bar\n",
    "37\tEast Toronto\t0\tYoga Studio\tAuto Workshop\tComic Shop\tPizza Place\tMoving Target\tRecording Studio\tRestaurant\tButcher\tBurrito Place\tBrewery"
   ]
  },
  {
   "cell_type": "markdown",
   "metadata": {},
   "source": [
    "<h2>Cluster 2</h2>"
   ]
  },
  {
   "cell_type": "code",
   "execution_count": null,
   "metadata": {},
   "outputs": [],
   "source": [
    "toronto_merged.loc[toronto_merged['Cluster Labels'] == 1, toronto_merged.columns[[1] + list(range(5, toronto_merged.shape[1]))]]"
   ]
  },
  {
   "cell_type": "code",
   "execution_count": null,
   "metadata": {},
   "outputs": [],
   "source": [
    "Borough\tCluster Labels\t1st Most Common Venue\t2nd Most Common Venue\t3rd Most Common Venue\t4th Most Common Venue\t5th Most Common Venue\t6th Most Common Venue\t7th Most Common Venue\t8th Most Common Venue\t9th Most Common Venue\t10th Most Common Venue\n",
    "22\tCentral Toronto\t1\tHome Service\tGarden\tDoner Restaurant\tFish & Chips Shop\tFilipino Restaurant\tFast Food Restaurant\tFarmers Market\tFalafel Restaurant\tEvent Space\tEthiopian Restaurant"
   ]
  },
  {
   "cell_type": "markdown",
   "metadata": {},
   "source": [
    "<h2>Cluster 3</h2>"
   ]
  },
  {
   "cell_type": "code",
   "execution_count": null,
   "metadata": {},
   "outputs": [],
   "source": [
    "toronto_merged.loc[toronto_merged['Cluster Labels'] == 2, toronto_merged.columns[[1] + list(range(5, toronto_merged.shape[1]))]]"
   ]
  },
  {
   "cell_type": "code",
   "execution_count": null,
   "metadata": {},
   "outputs": [],
   "source": [
    "Borough\tCluster Labels\t1st Most Common Venue\t2nd Most Common Venue\t3rd Most Common Venue\t4th Most Common Venue\t5th Most Common Venue\t6th Most Common Venue\t7th Most Common Venue\t8th Most Common Venue\t9th Most Common Venue\t10th Most Common Venue\n",
    "8\tCentral Toronto\t2\tPlayground\tPark\tTennis Court\tDiscount Store\tFilipino Restaurant\tFast Food Restaurant\tFarmers Market\tFalafel Restaurant\tEvent Space\tEthiopian Restaurant\n",
    "10\tDowntown Toronto\t2\tPark\tPlayground\tTrail\tDiscount Store\tFilipino Restaurant\tFast Food Restaurant\tFarmers Market\tFalafel Restaurant\tEvent Space\tEthiopian Restaurant"
   ]
  },
  {
   "cell_type": "markdown",
   "metadata": {},
   "source": [
    "<h2>Cluster 4</h2>"
   ]
  },
  {
   "cell_type": "code",
   "execution_count": null,
   "metadata": {},
   "outputs": [],
   "source": [
    "toronto_merged.loc[toronto_merged['Cluster Labels'] == 3, toronto_merged.columns[[1] + list(range(5, toronto_merged.shape[1]))]]"
   ]
  },
  {
   "cell_type": "code",
   "execution_count": null,
   "metadata": {},
   "outputs": [],
   "source": [
    "Borough\tCluster Labels\t1st Most Common Venue\t2nd Most Common Venue\t3rd Most Common Venue\t4th Most Common Venue\t5th Most Common Venue\t6th Most Common Venue\t7th Most Common Venue\t8th Most Common Venue\t9th Most Common Venue\t10th Most Common Venue\n",
    "4\tCentral Toronto\t3\tPark\tSwim School\tDim Sum Restaurant\tBus Line\tYoga Studio\tDoner Restaurant\tFilipino Restaurant\tFast Food Restaurant\tFarmers Market\tFalafel Restaurant"
   ]
  },
  {
   "cell_type": "markdown",
   "metadata": {},
   "source": [
    "<h2>Cluster 5</h2>"
   ]
  },
  {
   "cell_type": "code",
   "execution_count": null,
   "metadata": {},
   "outputs": [],
   "source": [
    "toronto_merged.loc[toronto_merged['Cluster Labels'] == 4, toronto_merged.columns[[1] + list(range(5, toronto_merged.shape[1]))]]"
   ]
  },
  {
   "cell_type": "code",
   "execution_count": null,
   "metadata": {},
   "outputs": [],
   "source": [
    "Borough\tCluster Labels\t1st Most Common Venue\t2nd Most Common Venue\t3rd Most Common Venue\t4th Most Common Venue\t5th Most Common Venue\t6th Most Common Venue\t7th Most Common Venue\t8th Most Common Venue\t9th Most Common Venue\t10th Most Common Venue\n",
    "23\tCentral Toronto\t4\tJewelry Store\tPark\tTrail\tSushi Restaurant\tYoga Studio\tFilipino Restaurant\tFast Food Restaurant\tFarmers Market\tFalafel Restaurant\tEvent Space"
   ]
  },
  {
   "cell_type": "markdown",
   "metadata": {},
   "source": [
    "<h2>Observations:</h2>"
   ]
  },
  {
   "cell_type": "markdown",
   "metadata": {},
   "source": [
    "Most of the neighborhoods fall into Cluster 1 which are mostly business areas with cafe, restaurants, supermarkets etc. Cluster 2 is just a garden, Cluster 3 are playground and park, Cluster 4 park and swim school, and lastly Cluster 5 park and trail."
   ]
  }
 ],
 "metadata": {
  "kernelspec": {
   "display_name": "Python 3.6",
   "language": "python",
   "name": "python3"
  },
  "language_info": {
   "codemirror_mode": {
    "name": "ipython",
    "version": 3
   },
   "file_extension": ".py",
   "mimetype": "text/x-python",
   "name": "python",
   "nbconvert_exporter": "python",
   "pygments_lexer": "ipython3",
   "version": "3.6.8"
  }
 },
 "nbformat": 4,
 "nbformat_minor": 1
}
