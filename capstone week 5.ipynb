{
 "cells": [
  {
   "cell_type": "markdown",
   "metadata": {
    "collapsed": true
   },
   "source": [
    "# IBM Applied Data Science Capstone Course by Coursera"
   ]
  },
  {
   "cell_type": "markdown",
   "metadata": {},
   "source": [
    " <h2>Week 5 Final Report</h2>"
   ]
  },
  {
   "cell_type": "markdown",
   "metadata": {},
   "source": [
    " <h2>Opening a New Shopping Mall in Kuala Lumpur, Malaysia</h2>"
   ]
  },
  {
   "cell_type": "markdown",
   "metadata": {},
   "source": [
    "1.Build a dataframe of neighborhoods in Kuala Lumpur, Malaysia by web scraping the data from Wikipedia page\n",
    "2.Get the geographical coordinates of the neighborhoods\n",
    "3.Obtain the venue data for the neighborhoods from Foursquare API\n",
    "4.Explore and cluster the neighborhoods<"
   ]
  },
  {
   "cell_type": "markdown",
   "metadata": {},
   "source": [
    " <h2>1. Import libraries</h2>"
   ]
  },
  {
   "cell_type": "code",
   "execution_count": null,
   "metadata": {},
   "outputs": [],
   "source": [
    "import numpy as np # library to handle data in a vectorized manner\n",
    "\n",
    "import pandas as pd # library for data analsysis\n",
    "pd.set_option(\"display.max_columns\", None)\n",
    "pd.set_option(\"display.max_rows\", None)\n",
    "\n",
    "import json # library to handle JSON files\n",
    "\n",
    "from geopy.geocoders import Nominatim # convert an address into latitude and longitude values\n",
    "import geocoder # to get coordinates\n",
    "\n",
    "import requests # library to handle requests\n",
    "from bs4 import BeautifulSoup # library to parse HTML and XML documents\n",
    "\n",
    "from pandas.io.json import json_normalize # tranform JSON file into a pandas dataframe\n",
    "\n",
    "# Matplotlib and associated plotting modules\n",
    "import matplotlib.cm as cm\n",
    "import matplotlib.colors as colors\n",
    "\n",
    "# import k-means from clustering stage\n",
    "from sklearn.cluster import KMeans\n",
    "\n",
    "import folium # map rendering library\n",
    "\n",
    "print(\"Libraries imported.\")"
   ]
  },
  {
   "cell_type": "markdown",
   "metadata": {},
   "source": [
    "Libraries imported."
   ]
  },
  {
   "cell_type": "markdown",
   "metadata": {},
   "source": [
    "<h2>2. Scrap data from Wikipedia page into a DataFrame</h2>"
   ]
  },
  {
   "cell_type": "code",
   "execution_count": null,
   "metadata": {},
   "outputs": [],
   "source": [
    "# send the GET request\n",
    "data = requests.get(\"https://en.wikipedia.org/wiki/Category:Suburbs_in_Kuala_Lumpur\").text"
   ]
  },
  {
   "cell_type": "code",
   "execution_count": null,
   "metadata": {},
   "outputs": [],
   "source": [
    "# parse data from the html into a beautifulsoup object\n",
    "soup = BeautifulSoup(data, 'html.parser')"
   ]
  },
  {
   "cell_type": "code",
   "execution_count": null,
   "metadata": {},
   "outputs": [],
   "source": [
    "# create a list to store neighborhood data\n",
    "neighborhoodList = []"
   ]
  },
  {
   "cell_type": "code",
   "execution_count": null,
   "metadata": {},
   "outputs": [],
   "source": [
    "# append the data into the list\n",
    "for row in soup.find_all(\"div\", class_=\"mw-category\")[0].findAll(\"li\"):\n",
    "    neighborhoodList.append(row.text)"
   ]
  },
  {
   "cell_type": "code",
   "execution_count": null,
   "metadata": {},
   "outputs": [],
   "source": [
    "# create a new DataFrame from the list\n",
    "kl_df = pd.DataFrame({\"Neighborhood\": neighborhoodList})\n",
    "\n",
    "kl_df.head()"
   ]
  },
  {
   "cell_type": "markdown",
   "metadata": {},
   "source": [
    "       Neighborhood\n",
    "0      Alam Damai\n",
    "1      Ampang, Kuala Lumpur\n",
    "2      Bandar Menjalara\n",
    "3      Bandar Sri Permaisuri\n",
    "4      Bandar Tasik Selatan"
   ]
  },
  {
   "cell_type": "code",
   "execution_count": null,
   "metadata": {},
   "outputs": [],
   "source": [
    "# print the number of rows of the dataframe\n",
    "kl_df.shape"
   ]
  },
  {
   "cell_type": "markdown",
   "metadata": {},
   "source": [
    "(70, 1)"
   ]
  },
  {
   "cell_type": "markdown",
   "metadata": {},
   "source": [
    "<h2>3. Get the geographical coordinates</h2>"
   ]
  },
  {
   "cell_type": "code",
   "execution_count": null,
   "metadata": {},
   "outputs": [],
   "source": [
    "# define a function to get coordinates\n",
    "def get_latlng(neighborhood):\n",
    "    # initialize your variable to None\n",
    "    lat_lng_coords = None\n",
    "    # loop until you get the coordinates\n",
    "    while(lat_lng_coords is None):\n",
    "        g = geocoder.arcgis('{}, Kuala Lumpur, Malaysia'.format(neighborhood))\n",
    "        lat_lng_coords = g.latlng\n",
    "    return lat_lng_coords"
   ]
  },
  {
   "cell_type": "code",
   "execution_count": null,
   "metadata": {},
   "outputs": [],
   "source": [
    "# call the function to get the coordinates, store in a new list using list comprehension\n",
    "coords = [ get_latlng(neighborhood) for neighborhood in kl_df[\"Neighborhood\"].tolist() ]"
   ]
  },
  {
   "cell_type": "code",
   "execution_count": null,
   "metadata": {},
   "outputs": [],
   "source": [
    "coords"
   ]
  },
  {
   "cell_type": "code",
   "execution_count": null,
   "metadata": {},
   "outputs": [],
   "source": [
    "[[3.0576900000000364, 101.74388000000005],\n",
    " [3.158092785454847, 101.74870260727259],\n",
    " [3.1903500000000236, 101.62545000000006],\n",
    " [3.1039100000000417, 101.71226000000007],\n",
    " [3.072620000000029, 101.71471000000008],\n",
    " [3.08280000000002, 101.72281000000004],\n",
    " [3.1292000000000257, 101.67844000000008],\n",
    " [3.1347800000000348, 101.67262000000005],\n",
    " [3.111020000000053, 101.66283000000004],\n",
    " [3.09898000000004, 101.73499000000004],\n",
    " [3.09898000000004, 101.73499000000004],\n",
    " [3.12916000000007, 101.68406000000004],\n",
    " [3.147770000000037, 101.70855000000006],\n",
    " [3.057800000000043, 101.68965000000009],\n",
    " [3.1434800000000678, 101.64433000000008],\n",
    " [3.1520079194122164, 101.70102829894834],\n",
    " [3.129290000000026, 101.69892000000004],\n",
    " [3.17381000000006, 101.68276000000009],\n",
    " [3.061870000000056, 101.74675000000008],\n",
    " [3.163590000000056, 101.69811000000004],\n",
    " [3.147980000000075, 101.66798000000006],\n",
    " [3.1413156714557724, 101.62607997785557],\n",
    " [3.1413156714557724, 101.62607997785557],\n",
    " [3.155238081462032, 101.70152004297655],\n",
    " [3.08331000000004, 101.70438000000007],\n",
    " [3.1363700000000563, 101.68564000000003],\n",
    " [3.201630000000023, 101.72107000000005],\n",
    " [3.132961658243644, 101.72470311855207],\n",
    " [3.179388043398946, 101.67745432110556],\n",
    " [3.209500000000048, 101.65874000000008],\n",
    " [3.165460000000053, 101.71028000000007],\n",
    " [3.166400000000067, 101.73046000000005],\n",
    " [3.2175000000000296, 101.63763000000006],\n",
    " [3.117110000000025, 101.67349000000007],\n",
    " [3.0907400000000393, 101.67733000000004],\n",
    " [3.121216228040549, 101.66389741147111],\n",
    " [3.147890000000075, 101.69405000000006],\n",
    " [3.1592600000000743, 101.69834000000009],\n",
    " [3.147890000000075, 101.69405000000006],\n",
    " [3.165320000000065, 101.65243000000004],\n",
    " [3.0951600000000212, 101.66812000000004],\n",
    " [3.133540000000039, 101.71307000000007],\n",
    " [3.111867031417114, 101.71326779181086],\n",
    " [3.0810200000000236, 101.69724000000008],\n",
    " [3.186390000000074, 101.66810000000004],\n",
    " [3.1803929473666943, 101.7234139398852],\n",
    " [3.175374881541043, 101.69303426939257],\n",
    " [3.188160000000039, 101.70415000000008],\n",
    " [3.1784341541269487, 101.73701342752202],\n",
    " [3.124580000000037, 101.73597000000007],\n",
    " [3.162200000000041, 101.65036000000003],\n",
    " [3.0726000000000226, 101.68252000000007],\n",
    " [3.050640000000044, 101.70613000000009],\n",
    " [3.2006600000000276, 101.63337000000007],\n",
    " [3.0826300000000515, 101.74671000000006],\n",
    " [3.0826900000000705, 101.73689000000007],\n",
    " [3.1029700000000275, 101.68471000000005],\n",
    " [3.21216000000004, 101.71540000000005],\n",
    " [3.069080000000042, 101.74287000000004],\n",
    " [3.223570000000052, 101.72399000000007],\n",
    " [3.093590000000063, 101.72837000000004],\n",
    " [3.2100374598740182, 101.63449832484254],\n",
    " [3.1936000000000604, 101.70598000000007],\n",
    " [3.1900700000000484, 101.65293000000008],\n",
    " [3.0870700000000397, 101.73681000000005],\n",
    " [3.1528300000000513, 101.62271000000004],\n",
    " [3.1576500000000465, 101.72502000000009],\n",
    " [3.22240000000005, 101.67173000000008],\n",
    " [3.1806700000000205, 101.70322000000004],\n",
    " [3.2039100000000644, 101.73719000000006]]"
   ]
  },
  {
   "cell_type": "code",
   "execution_count": null,
   "metadata": {},
   "outputs": [],
   "source": [
    "# create temporary dataframe to populate the coordinates into Latitude and Longitude\n",
    "df_coords = pd.DataFrame(coords, columns=['Latitude', 'Longitude'])"
   ]
  },
  {
   "cell_type": "code",
   "execution_count": null,
   "metadata": {},
   "outputs": [],
   "source": [
    "# merge the coordinates into the original dataframe\n",
    "kl_df['Latitude'] = df_coords['Latitude']\n",
    "kl_df['Longitude'] = df_coords['Longitude']"
   ]
  },
  {
   "cell_type": "code",
   "execution_count": null,
   "metadata": {},
   "outputs": [],
   "source": [
    "# check the neighborhoods and the coordinates\n",
    "print(kl_df.shape)\n",
    "kl_df"
   ]
  },
  {
   "cell_type": "markdown",
   "metadata": {},
   "source": [
    "(70, 3)"
   ]
  },
  {
   "cell_type": "code",
   "execution_count": null,
   "metadata": {},
   "outputs": [],
   "source": [
    "Neighborhood\tLatitude\tLongitude\n",
    "0\tAlam Damai\t3.057690\t101.743880\n",
    "1\tAmpang, Kuala Lumpur\t3.158093\t101.748703\n",
    "2\tBandar Menjalara\t3.190350\t101.625450\n",
    "3\tBandar Sri Permaisuri\t3.103910\t101.712260\n",
    "4\tBandar Tasik Selatan\t3.072620\t101.714710\n",
    "5\tBandar Tun Razak\t3.082800\t101.722810\n",
    "6\tBangsar\t3.129200\t101.678440\n",
    "7\tBangsar Park\t3.134780\t101.672620\n",
    "8\tBangsar South\t3.111020\t101.662830\n",
    "9\tBatu 11 Cheras\t3.098980\t101.734990\n",
    "10\tBatu, Kuala Lumpur\t3.098980\t101.734990\n",
    "11\tBrickfields\t3.129160\t101.684060\n",
    "12\tBukit Bintang\t3.147770\t101.708550\n",
    "13\tBukit Jalil\t3.057800\t101.689650\n",
    "14\tBukit Kiara\t3.143480\t101.644330\n",
    "15\tBukit Nanas\t3.152008\t101.701028\n",
    "16\tBukit Petaling\t3.129290\t101.698920\n",
    "17\tBukit Tunku\t3.173810\t101.682760\n",
    "18\tCheras, Kuala Lumpur\t3.061870\t101.746750\n",
    "19\tChow Kit\t3.163590\t101.698110\n",
    "20\tDamansara Heights\t3.147980\t101.667980\n",
    "21\tDamansara Town Centre\t3.141316\t101.626080\n",
    "22\tDamansara, Kuala Lumpur\t3.141316\t101.626080\n",
    "23\tDang Wangi\t3.155238\t101.701520\n",
    "24\tDesa Petaling\t3.083310\t101.704380\n",
    "25\tFederal Hill, Kuala Lumpur\t3.136370\t101.685640\n",
    "26\tHappy Garden\t3.201630\t101.721070\n",
    "27\tJalan Cochrane, Kuala Lumpur\t3.132962\t101.724703\n",
    "28\tJalan Duta\t3.179388\t101.677454\n",
    "29\tJinjang\t3.209500\t101.658740\n",
    "30\tKampung Baru, Kuala Lumpur\t3.165460\t101.710280\n",
    "31\tKampung Datuk Keramat\t3.166400\t101.730460\n",
    "32\tKepong\t3.217500\t101.637630\n",
    "33\tKL Eco City\t3.117110\t101.673490\n",
    "34\tKuchai Lama\t3.090740\t101.677330\n",
    "35\tLembah Pantai\t3.121216\t101.663897\n",
    "36\tMaluri\t3.147890\t101.694050\n",
    "37\tMedan Tuanku\t3.159260\t101.698340\n",
    "38\tMiharja\t3.147890\t101.694050\n",
    "39\tMont Kiara\t3.165320\t101.652430\n",
    "40\tPantai Dalam\t3.095160\t101.668120\n",
    "41\tPudu, Kuala Lumpur\t3.133540\t101.713070\n",
    "42\tPutrajaya\t3.111867\t101.713268\n",
    "43\tSalak South\t3.081020\t101.697240\n",
    "44\tSegambut\t3.186390\t101.668100\n",
    "45\tSemarak\t3.180393\t101.723414\n",
    "46\tSentul Raya\t3.175375\t101.693034\n",
    "47\tSetapak\t3.188160\t101.704150\n",
    "48\tSetiawangsa\t3.178434\t101.737013\n",
    "49\tShamelin\t3.124580\t101.735970\n",
    "50\tSri Hartamas\t3.162200\t101.650360\n",
    "51\tSri Petaling\t3.072600\t101.682520\n",
    "52\tSungai Besi\t3.050640\t101.706130\n",
    "53\tTaman Bukit Maluri\t3.200660\t101.633370\n",
    "54\tTaman Cheras Hartamas\t3.082630\t101.746710\n",
    "55\tTaman Connaught\t3.082690\t101.736890\n",
    "56\tTaman Desa\t3.102970\t101.684710\n",
    "57\tTaman Ibukota\t3.212160\t101.715400\n",
    "58\tTaman Len Seng\t3.069080\t101.742870\n",
    "59\tTaman Melati\t3.223570\t101.723990\n",
    "60\tTaman Midah\t3.093590\t101.728370\n",
    "61\tTaman OUG\t3.210037\t101.634498\n",
    "62\tTaman P. Ramlee\t3.193600\t101.705980\n",
    "63\tTaman Sri Sinar\t3.190070\t101.652930\n",
    "64\tTaman Taynton View\t3.087070\t101.736810\n",
    "65\tTaman Tun Dr Ismail\t3.152830\t101.622710\n",
    "66\tTaman U-Thant\t3.157650\t101.725020\n",
    "67\tTaman Wahyu\t3.222400\t101.671730\n",
    "68\tTitiwangsa\t3.180670\t101.703220\n",
    "69\tWangsa Maju\t3.203910\t101.737190"
   ]
  },
  {
   "cell_type": "code",
   "execution_count": null,
   "metadata": {},
   "outputs": [],
   "source": [
    "# save the DataFrame as CSV file\n",
    "kl_df.to_csv(\"kl_df.csv\", index=False)"
   ]
  },
  {
   "cell_type": "markdown",
   "metadata": {},
   "source": [
    "<h2>4. Create a map of Kuala Lumpur with neighborhoods superimposed on top</h2>"
   ]
  },
  {
   "cell_type": "code",
   "execution_count": null,
   "metadata": {},
   "outputs": [],
   "source": [
    "# get the coordinates of Kuala Lumpur\n",
    "address = 'Kuala Lumpur, Malaysia'\n",
    "\n",
    "geolocator = Nominatim(user_agent=\"my-application\")\n",
    "location = geolocator.geocode(address)\n",
    "latitude = location.latitude\n",
    "longitude = location.longitude\n",
    "print('The geograpical coordinate of Kuala Lumpur, Malaysiae {}, {}.'.format(latitude, longitude))"
   ]
  },
  {
   "cell_type": "markdown",
   "metadata": {},
   "source": [
    "The geograpical coordinate of Kuala Lumpur, Malaysiae 3.1516636, 101.6943028."
   ]
  },
  {
   "cell_type": "code",
   "execution_count": null,
   "metadata": {},
   "outputs": [],
   "source": [
    "# create map of Toronto using latitude and longitude values\n",
    "map_kl = folium.Map(location=[latitude, longitude], zoom_start=11)\n",
    "\n",
    "# add markers to map\n",
    "for lat, lng, neighborhood in zip(kl_df['Latitude'], kl_df['Longitude'], kl_df['Neighborhood']):\n",
    "    label = '{}'.format(neighborhood)\n",
    "    label = folium.Popup(label, parse_html=True)\n",
    "    folium.CircleMarker(\n",
    "        [lat, lng],\n",
    "        radius=5,\n",
    "        popup=label,\n",
    "        color='blue',\n",
    "        fill=True,\n",
    "        fill_color='#3186cc',\n",
    "        fill_opacity=0.7).add_to(map_kl)  \n",
    "    \n",
    "map_kl"
   ]
  },
  {
   "cell_type": "code",
   "execution_count": null,
   "metadata": {},
   "outputs": [],
   "source": [
    "# save the map as HTML file\n",
    "map_kl.save('map_kl.html')"
   ]
  },
  {
   "cell_type": "markdown",
   "metadata": {},
   "source": [
    "<h2>5. Use the Foursquare API to explore the neighborhoods</h2>"
   ]
  },
  {
   "cell_type": "code",
   "execution_count": null,
   "metadata": {},
   "outputs": [],
   "source": [
    "# define Foursquare Credentials and Version\n",
    "CLIENT_ID = 'your Foursquare ID' # your Foursquare ID\n",
    "CLIENT_SECRET = 'your Foursquare Secret' # your Foursquare Secret\n",
    "VERSION = '20180605' # Foursquare API version\n",
    "\n",
    "print('Your credentails:')\n",
    "print('CLIENT_ID: ' + CLIENT_ID)\n",
    "print('CLIENT_SECRET:' + CLIENT_SECRET)"
   ]
  },
  {
   "cell_type": "code",
   "execution_count": null,
   "metadata": {},
   "outputs": [],
   "source": [
    "Your credentails:\n",
    "CLIENT_ID: your Foursquare ID\n",
    "CLIENT_SECRET:your Foursquare Secret"
   ]
  },
  {
   "cell_type": "markdown",
   "metadata": {},
   "source": [
    "<h2>Now, let's get the top 100 venues that are within a radius of 2000 meters.</h2>"
   ]
  },
  {
   "cell_type": "code",
   "execution_count": null,
   "metadata": {},
   "outputs": [],
   "source": [
    "radius = 2000\n",
    "LIMIT = 100\n",
    "\n",
    "venues = []\n",
    "\n",
    "for lat, long, neighborhood in zip(kl_df['Latitude'], kl_df['Longitude'], kl_df['Neighborhood']):\n",
    "    \n",
    "    # create the API request URL\n",
    "    url = \"https://api.foursquare.com/v2/venues/explore?client_id={}&client_secret={}&v={}&ll={},{}&radius={}&limit={}\".format(\n",
    "        CLIENT_ID,\n",
    "        CLIENT_SECRET,\n",
    "        VERSION,\n",
    "        lat,\n",
    "        long,\n",
    "        radius, \n",
    "        LIMIT)\n",
    "    \n",
    "    # make the GET request\n",
    "    results = requests.get(url).json()[\"response\"]['groups'][0]['items']\n",
    "    \n",
    "    # return only relevant information for each nearby venue\n",
    "    for venue in results:\n",
    "        venues.append((\n",
    "            neighborhood,\n",
    "            lat, \n",
    "            long, \n",
    "            venue['venue']['name'], \n",
    "            venue['venue']['location']['lat'], \n",
    "            venue['venue']['location']['lng'],  \n",
    "            venue['venue']['categories'][0]['name']))"
   ]
  },
  {
   "cell_type": "code",
   "execution_count": null,
   "metadata": {},
   "outputs": [],
   "source": [
    "# convert the venues list into a new DataFrame\n",
    "venues_df = pd.DataFrame(venues)\n",
    "\n",
    "# define the column names\n",
    "venues_df.columns = ['Neighborhood', 'Latitude', 'Longitude', 'VenueName', 'VenueLatitude', 'VenueLongitude', 'VenueCategory']\n",
    "\n",
    "print(venues_df.shape)\n",
    "venues_df.head()"
   ]
  },
  {
   "cell_type": "markdown",
   "metadata": {},
   "source": [
    "(6970, 7)"
   ]
  },
  {
   "cell_type": "code",
   "execution_count": null,
   "metadata": {},
   "outputs": [],
   "source": [
    "Neighborhood\tLatitude\tLongitude\tVenueName\tVenueLatitude\tVenueLongitude\tVenueCategory\n",
    "0\tAlam Damai\t3.05769\t101.74388\tMachi Noodle 妈子面\t3.057695\t101.746635\tNoodle House\n",
    "1\tAlam Damai\t3.05769\t101.74388\tPengedar Shaklee KL | COD Vivix Shaklee Kuala ...\t3.061235\t101.740696\tSupplement Shop\n",
    "2\tAlam Damai\t3.05769\t101.74388\t628火焰鑫茶室\t3.058442\t101.747947\tChinese Restaurant\n",
    "3\tAlam Damai\t3.05769\t101.74388\tIvy Sekinchan Seafood Noodle House 适耕莊特制魚丸海鲜面\t3.065749\t101.748718\tNoodle House\n",
    "4\tAlam Damai\t3.05769\t101.74388\tRestoran Ikbal\t3.061134\t101.750220\tRestaurant"
   ]
  },
  {
   "cell_type": "markdown",
   "metadata": {},
   "source": [
    "<h2>Let's check how many venues were returned for each neighorhood</h2>"
   ]
  },
  {
   "cell_type": "code",
   "execution_count": null,
   "metadata": {},
   "outputs": [],
   "source": [
    "venues_df.groupby([\"Neighborhood\"]).count()"
   ]
  },
  {
   "cell_type": "code",
   "execution_count": null,
   "metadata": {},
   "outputs": [],
   "source": [
    "Latitude\tLongitude\tVenueName\tVenueLatitude\tVenueLongitude\tVenueCategory\n",
    "Neighborhood\t\t\t\t\t\t\n",
    "Alam Damai\t100\t100\t100\t100\t100\t100\n",
    "Ampang, Kuala Lumpur\t100\t100\t100\t100\t100\t100\n",
    "Bandar Menjalara\t100\t100\t100\t100\t100\t100\n",
    "Bandar Sri Permaisuri\t100\t100\t100\t100\t100\t100\n",
    "Bandar Tasik Selatan\t100\t100\t100\t100\t100\t100\n",
    "Bandar Tun Razak\t100\t100\t100\t100\t100\t100\n",
    "Bangsar\t100\t100\t100\t100\t100\t100\n",
    "Bangsar Park\t100\t100\t100\t100\t100\t100\n",
    "Bangsar South\t100\t100\t100\t100\t100\t100\n",
    "Batu 11 Cheras\t100\t100\t100\t100\t100\t100\n",
    "Batu, Kuala Lumpur\t100\t100\t100\t100\t100\t100\n",
    "Brickfields\t100\t100\t100\t100\t100\t100\n",
    "Bukit Bintang\t100\t100\t100\t100\t100\t100\n",
    "Bukit Jalil\t100\t100\t100\t100\t100\t100\n",
    "Bukit Kiara\t100\t100\t100\t100\t100\t100\n",
    "Bukit Nanas\t100\t100\t100\t100\t100\t100\n",
    "Bukit Petaling\t100\t100\t100\t100\t100\t100\n",
    "Bukit Tunku\t100\t100\t100\t100\t100\t100\n",
    "Cheras, Kuala Lumpur\t100\t100\t100\t100\t100\t100\n",
    "Chow Kit\t100\t100\t100\t100\t100\t100\n",
    "Damansara Heights\t100\t100\t100\t100\t100\t100\n",
    "Damansara Town Centre\t100\t100\t100\t100\t100\t100\n",
    "Damansara, Kuala Lumpur\t100\t100\t100\t100\t100\t100\n",
    "Dang Wangi\t100\t100\t100\t100\t100\t100\n",
    "Desa Petaling\t100\t100\t100\t100\t100\t100\n",
    "Federal Hill, Kuala Lumpur\t100\t100\t100\t100\t100\t100\n",
    "Happy Garden\t100\t100\t100\t100\t100\t100\n",
    "Jalan Cochrane, Kuala Lumpur\t100\t100\t100\t100\t100\t100\n",
    "Jalan Duta\t100\t100\t100\t100\t100\t100\n",
    "Jinjang\t100\t100\t100\t100\t100\t100\n",
    "KL Eco City\t100\t100\t100\t100\t100\t100\n",
    "Kampung Baru, Kuala Lumpur\t100\t100\t100\t100\t100\t100\n",
    "Kampung Datuk Keramat\t100\t100\t100\t100\t100\t100\n",
    "Kepong\t100\t100\t100\t100\t100\t100\n",
    "Kuchai Lama\t100\t100\t100\t100\t100\t100\n",
    "Lembah Pantai\t100\t100\t100\t100\t100\t100\n",
    "Maluri\t100\t100\t100\t100\t100\t100\n",
    "Medan Tuanku\t100\t100\t100\t100\t100\t100\n",
    "Miharja\t100\t100\t100\t100\t100\t100\n",
    "Mont Kiara\t100\t100\t100\t100\t100\t100\n",
    "Pantai Dalam\t100\t100\t100\t100\t100\t100\n",
    "Pudu, Kuala Lumpur\t100\t100\t100\t100\t100\t100\n",
    "Putrajaya\t78\t78\t78\t78\t78\t78\n",
    "Salak South\t100\t100\t100\t100\t100\t100\n",
    "Segambut\t100\t100\t100\t100\t100\t100\n",
    "Semarak\t100\t100\t100\t100\t100\t100\n",
    "Sentul Raya\t100\t100\t100\t100\t100\t100\n",
    "Setapak\t100\t100\t100\t100\t100\t100\n",
    "Setiawangsa\t100\t100\t100\t100\t100\t100\n",
    "Shamelin\t100\t100\t100\t100\t100\t100\n",
    "Sri Hartamas\t100\t100\t100\t100\t100\t100\n",
    "Sri Petaling\t100\t100\t100\t100\t100\t100\n",
    "Sungai Besi\t100\t100\t100\t100\t100\t100\n",
    "Taman Bukit Maluri\t100\t100\t100\t100\t100\t100\n",
    "Taman Cheras Hartamas\t100\t100\t100\t100\t100\t100\n",
    "Taman Connaught\t100\t100\t100\t100\t100\t100\n",
    "Taman Desa\t100\t100\t100\t100\t100\t100\n",
    "Taman Ibukota\t100\t100\t100\t100\t100\t100\n",
    "Taman Len Seng\t99\t99\t99\t99\t99\t99\n",
    "Taman Melati\t100\t100\t100\t100\t100\t100\n",
    "Taman Midah\t100\t100\t100\t100\t100\t100\n",
    "Taman OUG\t100\t100\t100\t100\t100\t100\n",
    "Taman P. Ramlee\t93\t93\t93\t93\t93\t93\n",
    "Taman Sri Sinar\t100\t100\t100\t100\t100\t100\n",
    "Taman Taynton View\t100\t100\t100\t100\t100\t100\n",
    "Taman Tun Dr Ismail\t100\t100\t100\t100\t100\t100\n",
    "Taman U-Thant\t100\t100\t100\t100\t100\t100\n",
    "Taman Wahyu\t100\t100\t100\t100\t100\t100\n",
    "Titiwangsa\t100\t100\t100\t100\t100\t100\n",
    "Wangsa Maju\t100\t100\t100\t100\t100\t100"
   ]
  },
  {
   "cell_type": "markdown",
   "metadata": {},
   "source": [
    "<h2>Let's find out how many unique categories can be curated from all the returned venues</h2>"
   ]
  },
  {
   "cell_type": "code",
   "execution_count": null,
   "metadata": {},
   "outputs": [],
   "source": [
    "print('There are {} uniques categories.'.format(len(venues_df['VenueCategory'].unique())))"
   ]
  },
  {
   "cell_type": "markdown",
   "metadata": {},
   "source": [
    "There are 304 uniques categories."
   ]
  },
  {
   "cell_type": "code",
   "execution_count": null,
   "metadata": {},
   "outputs": [],
   "source": [
    "# print out the list of categories\n",
    "venues_df['VenueCategory'].unique()[:50]"
   ]
  },
  {
   "cell_type": "code",
   "execution_count": null,
   "metadata": {},
   "outputs": [],
   "source": [
    "array(['Noodle House', 'Supplement Shop', 'Chinese Restaurant',\n",
    "       'Restaurant', 'Food Court', 'Vegetarian / Vegan Restaurant',\n",
    "       'Asian Restaurant', 'Dim Sum Restaurant', 'Snack Place',\n",
    "       'Other Great Outdoors', 'Seafood Restaurant', 'Spa', 'Food Truck',\n",
    "       'Café', 'Park', 'Chinese Breakfast Place', 'Indian Restaurant',\n",
    "       'Japanese Restaurant', 'Outlet Store', 'Convenience Store',\n",
    "       'Bubble Tea Shop', 'Dessert Shop', 'Farmers Market',\n",
    "       'Cantonese Restaurant', 'Malay Restaurant', 'Bakery',\n",
    "       'Hakka Restaurant', 'Supermarket', 'Steakhouse', 'Pet Store',\n",
    "       'Middle Eastern Restaurant', 'Badminton Court',\n",
    "       'Athletics & Sports', 'Hookah Bar', 'Winery', 'Burger Joint',\n",
    "       'Gym / Fitness Center', 'Bistro', 'Grocery Store',\n",
    "       'Halal Restaurant', 'College Bookstore', 'Flea Market',\n",
    "       'Vietnamese Restaurant', 'Italian Restaurant', 'Coffee Shop',\n",
    "       'Juice Bar', 'Korean Restaurant', 'Pizza Place', 'Ice Cream Shop',\n",
    "       'Massage Studio'], dtype=object)"
   ]
  },
  {
   "cell_type": "code",
   "execution_count": null,
   "metadata": {},
   "outputs": [],
   "source": [
    "# check if the results contain \"Shopping Mall\"\n",
    "\"Neighborhood\" in venues_df['VenueCategory'].unique()"
   ]
  },
  {
   "cell_type": "code",
   "execution_count": null,
   "metadata": {},
   "outputs": [],
   "source": [
    "True"
   ]
  },
  {
   "cell_type": "markdown",
   "metadata": {},
   "source": [
    "<h2>6. Analyze Each Neighborhood</h2>"
   ]
  },
  {
   "cell_type": "code",
   "execution_count": null,
   "metadata": {},
   "outputs": [],
   "source": [
    "# one hot encoding\n",
    "kl_onehot = pd.get_dummies(venues_df[['VenueCategory']], prefix=\"\", prefix_sep=\"\")\n",
    "\n",
    "# add neighborhood column back to dataframe\n",
    "kl_onehot['Neighborhoods'] = venues_df['Neighborhood'] \n",
    "\n",
    "# move neighborhood column to the first column\n",
    "fixed_columns = [kl_onehot.columns[-1]] + list(kl_onehot.columns[:-1])\n",
    "kl_onehot = kl_onehot[fixed_columns]\n",
    "\n",
    "print(kl_onehot.shape)\n",
    "kl_onehot.head()"
   ]
  },
  {
   "cell_type": "markdown",
   "metadata": {},
   "source": [
    "(6970, 305)"
   ]
  },
  {
   "cell_type": "code",
   "execution_count": null,
   "metadata": {},
   "outputs": [],
   "source": [
    "Neighborhoods\tAccessories Store\tAdult Boutique\tAfghan Restaurant\tAfrican Restaurant\tAirport\tAirport Service\tAirport Terminal\tAmerican Restaurant\tAquarium\tArcade\tArt Gallery\tArt Museum\tArts & Crafts Store\tAsian Restaurant\tAthletics & Sports\tAuditorium\tAuto Dealership\tAuto Garage\tAuto Workshop\tAutomotive Shop\tBBQ Joint\tBadminton Court\tBagel Shop\tBakery\tBar\tBaseball Field\tBasketball Court\tBeach\tBed & Breakfast\tBeer Bar\tBeer Garden\tBelgian Restaurant\tBistro\tBoard Shop\tBoat or Ferry\tBookstore\tBotanical Garden\tBoutique\tBowling Alley\tBreakfast Spot\tBrewery\tBridal Shop\tBubble Tea Shop\tBuffet\tBuilding\tBurger Joint\tBus Station\tBusiness Service\tButcher\tCafeteria\tCafé\tCampground\tCandy Store\tCantonese Restaurant\tCasino\tChettinad Restaurant\tChinese Breakfast Place\tChinese Restaurant\tCircus\tClothing Store\tClub House\tCocktail Bar\tCoffee Shop\tCollege Bookstore\tComedy Club\tComfort Food Restaurant\tConcert Hall\tConvenience Store\tConvention Center\tCosmetics Shop\tCupcake Shop\tCycle Studio\tDance Studio\tDeli / Bodega\tDepartment Store\tDesign Studio\tDessert Shop\tDim Sum Restaurant\tDiner\tDive Bar\tDive Shop\tDog Run\tDonut Shop\tDumpling Restaurant\tEastern European Restaurant\tElectronics Store\tEvent Space\tExhibit\tFalafel Restaurant\tFarm\tFarmers Market\tFast Food Restaurant\tField\tFish & Chips Shop\tFish Market\tFishing Store\tFlea Market\tFlower Shop\tFood\tFood & Drink Shop\tFood Court\tFood Stand\tFood Truck\tFountain\tFrame Store\tFrench Restaurant\tFried Chicken Joint\tFrozen Yogurt Shop\tFruit & Vegetable Store\tFurniture / Home Store\tGaming Cafe\tGarden\tGarden Center\tGas Station\tGastropub\tGay Bar\tGeneral Entertainment\tGerman Restaurant\tGift Shop\tGolf Course\tGourmet Shop\tGovernment Building\tGrilled Meat Restaurant\tGrocery Store\tGym\tGym / Fitness Center\tGym Pool\tHainan Restaurant\tHakka Restaurant\tHalal Restaurant\tHarbor / Marina\tHawaiian Restaurant\tHealth & Beauty Service\tHigh School\tHimalayan Restaurant\tHistoric Site\tHistory Museum\tHockey Arena\tHong Kong Restaurant\tHookah Bar\tHostel\tHot Dog Joint\tHot Spring\tHotel\tHotel Bar\tHotel Pool\tHotpot Restaurant\tHousing Development\tHunan Restaurant\tIT Services\tIce Cream Shop\tIndian Restaurant\tIndonesian Restaurant\tItalian Restaurant\tJapanese Curry Restaurant\tJapanese Restaurant\tJazz Club\tJewelry Store\tJuice Bar\tKaraoke Bar\tKebab Restaurant\tKids Store\tKorean Restaurant\tKushikatsu Restaurant\tLake\tLatin American Restaurant\tLeather Goods Store\tLight Rail Station\tLingerie Store\tLounge\tMalay Restaurant\tMarket\tMartial Arts Dojo\tMassage Studio\tMedical Center\tMediterranean Restaurant\tMen's Store\tMexican Restaurant\tMiddle Eastern Restaurant\tMiscellaneous Shop\tMobile Phone Shop\tModern European Restaurant\tMonument / Landmark\tMoroccan Restaurant\tMosque\tMotel\tMotorcycle Shop\tMountain\tMovie Theater\tMultiplex\tMuseum\tMusic Store\tMusic Venue\tNail Salon\tNeighborhood\tNight Market\tNightclub\tNoodle House\tNorth Indian Restaurant\tOffice\tOptical Shop\tOther Great Outdoors\tOther Nightlife\tOutlet Store\tPakistani Restaurant\tPalace\tPaper / Office Supplies Store\tPark\tPerforming Arts Venue\tPet Store\tPharmacy\tPiano Bar\tPie Shop\tPizza Place\tPlayground\tPlaza\tPoke Place\tPool\tPool Hall\tPub\tPublic Art\tRacetrack\tRamen Restaurant\tRecord Shop\tResidential Building (Apartment / Condo)\tResort\tRest Area\tRestaurant\tRoad\tRock Climbing Spot\tRock Club\tSake Bar\tSalad Place\tSalon / Barbershop\tSandwich Place\tSatay Restaurant\tScandinavian Restaurant\tScenic Lookout\tScience Museum\tSeafood Restaurant\tShabu-Shabu Restaurant\tShoe Store\tShop & Service\tShopping Mall\tSkate Park\tSki Area\tSki Lodge\tSmoke Shop\tSmoothie Shop\tSnack Place\tSoccer Field\tSoccer Stadium\tSoup Place\tSouth American Restaurant\tSouth Indian Restaurant\tSpa\tSpanish Restaurant\tSpeakeasy\tSpiritual Center\tSporting Goods Shop\tSports Bar\tSports Club\tStadium\tStationery Store\tSteakhouse\tStreet Food Gathering\tSupermarket\tSupplement Shop\tSurf Spot\tSushi Restaurant\tTaiwanese Restaurant\tTapas Restaurant\tTattoo Parlor\tTea Room\tTemple\tTennis Court\tTex-Mex Restaurant\tThai Restaurant\tTheater\tTheme Restaurant\tThrift / Vintage Store\tToll Plaza\tTourist Information Center\tToy / Game Store\tTrack\tTrack Stadium\tTrail\tTrain Station\tTunnel\tTurkish Restaurant\tUdon Restaurant\tVape Store\tVegetarian / Vegan Restaurant\tVideo Game Store\tVietnamese Restaurant\tVolleyball Court\tWarehouse Store\tWhisky Bar\tWine Bar\tWinery\tWings Joint\tWomen's Store\tYoga Studio\tZoo\n",
    "0\tAlam Damai\t0\t0\t0\t0\t0\t0\t0\t0\t0\t0\t0\t0\t0\t0\t0\t0\t0\t0\t0\t0\t0\t0\t0\t0\t0\t0\t0\t0\t0\t0\t0\t0\t0\t0\t0\t0\t0\t0\t0\t0\t0\t0\t0\t0\t0\t0\t0\t0\t0\t0\t0\t0\t0\t0\t0\t0\t0\t0\t0\t0\t0\t0\t0\t0\t0\t0\t0\t0\t0\t0\t0\t0\t0\t0\t0\t0\t0\t0\t0\t0\t0\t0\t0\t0\t0\t0\t0\t0\t0\t0\t0\t0\t0\t0\t0\t0\t0\t0\t0\t0\t0\t0\t0\t0\t0\t0\t0\t0\t0\t0\t0\t0\t0\t0\t0\t0\t0\t0\t0\t0\t0\t0\t0\t0\t0\t0\t0\t0\t0\t0\t0\t0\t0\t0\t0\t0\t0\t0\t0\t0\t0\t0\t0\t0\t0\t0\t0\t0\t0\t0\t0\t0\t0\t0\t0\t0\t0\t0\t0\t0\t0\t0\t0\t0\t0\t0\t0\t0\t0\t0\t0\t0\t0\t0\t0\t0\t0\t0\t0\t0\t0\t0\t0\t0\t0\t0\t0\t0\t0\t0\t0\t0\t0\t0\t0\t0\t0\t1\t0\t0\t0\t0\t0\t0\t0\t0\t0\t0\t0\t0\t0\t0\t0\t0\t0\t0\t0\t0\t0\t0\t0\t0\t0\t0\t0\t0\t0\t0\t0\t0\t0\t0\t0\t0\t0\t0\t0\t0\t0\t0\t0\t0\t0\t0\t0\t0\t0\t0\t0\t0\t0\t0\t0\t0\t0\t0\t0\t0\t0\t0\t0\t0\t0\t0\t0\t0\t0\t0\t0\t0\t0\t0\t0\t0\t0\t0\t0\t0\t0\t0\t0\t0\t0\t0\t0\t0\t0\t0\t0\t0\t0\t0\t0\t0\t0\t0\t0\t0\t0\t0\t0\t0\t0\t0\n",
    "1\tAlam Damai\t0\t0\t0\t0\t0\t0\t0\t0\t0\t0\t0\t0\t0\t0\t0\t0\t0\t0\t0\t0\t0\t0\t0\t0\t0\t0\t0\t0\t0\t0\t0\t0\t0\t0\t0\t0\t0\t0\t0\t0\t0\t0\t0\t0\t0\t0\t0\t0\t0\t0\t0\t0\t0\t0\t0\t0\t0\t0\t0\t0\t0\t0\t0\t0\t0\t0\t0\t0\t0\t0\t0\t0\t0\t0\t0\t0\t0\t0\t0\t0\t0\t0\t0\t0\t0\t0\t0\t0\t0\t0\t0\t0\t0\t0\t0\t0\t0\t0\t0\t0\t0\t0\t0\t0\t0\t0\t0\t0\t0\t0\t0\t0\t0\t0\t0\t0\t0\t0\t0\t0\t0\t0\t0\t0\t0\t0\t0\t0\t0\t0\t0\t0\t0\t0\t0\t0\t0\t0\t0\t0\t0\t0\t0\t0\t0\t0\t0\t0\t0\t0\t0\t0\t0\t0\t0\t0\t0\t0\t0\t0\t0\t0\t0\t0\t0\t0\t0\t0\t0\t0\t0\t0\t0\t0\t0\t0\t0\t0\t0\t0\t0\t0\t0\t0\t0\t0\t0\t0\t0\t0\t0\t0\t0\t0\t0\t0\t0\t0\t0\t0\t0\t0\t0\t0\t0\t0\t0\t0\t0\t0\t0\t0\t0\t0\t0\t0\t0\t0\t0\t0\t0\t0\t0\t0\t0\t0\t0\t0\t0\t0\t0\t0\t0\t0\t0\t0\t0\t0\t0\t0\t0\t0\t0\t0\t0\t0\t0\t0\t0\t0\t0\t0\t0\t0\t0\t0\t0\t0\t0\t0\t0\t0\t0\t0\t0\t0\t0\t1\t0\t0\t0\t0\t0\t0\t0\t0\t0\t0\t0\t0\t0\t0\t0\t0\t0\t0\t0\t0\t0\t0\t0\t0\t0\t0\t0\t0\t0\t0\t0\t0\t0\t0\t0\t0\n",
    "2\tAlam Damai\t0\t0\t0\t0\t0\t0\t0\t0\t0\t0\t0\t0\t0\t0\t0\t0\t0\t0\t0\t0\t0\t0\t0\t0\t0\t0\t0\t0\t0\t0\t0\t0\t0\t0\t0\t0\t0\t0\t0\t0\t0\t0\t0\t0\t0\t0\t0\t0\t0\t0\t0\t0\t0\t0\t0\t0\t0\t1\t0\t0\t0\t0\t0\t0\t0\t0\t0\t0\t0\t0\t0\t0\t0\t0\t0\t0\t0\t0\t0\t0\t0\t0\t0\t0\t0\t0\t0\t0\t0\t0\t0\t0\t0\t0\t0\t0\t0\t0\t0\t0\t0\t0\t0\t0\t0\t0\t0\t0\t0\t0\t0\t0\t0\t0\t0\t0\t0\t0\t0\t0\t0\t0\t0\t0\t0\t0\t0\t0\t0\t0\t0\t0\t0\t0\t0\t0\t0\t0\t0\t0\t0\t0\t0\t0\t0\t0\t0\t0\t0\t0\t0\t0\t0\t0\t0\t0\t0\t0\t0\t0\t0\t0\t0\t0\t0\t0\t0\t0\t0\t0\t0\t0\t0\t0\t0\t0\t0\t0\t0\t0\t0\t0\t0\t0\t0\t0\t0\t0\t0\t0\t0\t0\t0\t0\t0\t0\t0\t0\t0\t0\t0\t0\t0\t0\t0\t0\t0\t0\t0\t0\t0\t0\t0\t0\t0\t0\t0\t0\t0\t0\t0\t0\t0\t0\t0\t0\t0\t0\t0\t0\t0\t0\t0\t0\t0\t0\t0\t0\t0\t0\t0\t0\t0\t0\t0\t0\t0\t0\t0\t0\t0\t0\t0\t0\t0\t0\t0\t0\t0\t0\t0\t0\t0\t0\t0\t0\t0\t0\t0\t0\t0\t0\t0\t0\t0\t0\t0\t0\t0\t0\t0\t0\t0\t0\t0\t0\t0\t0\t0\t0\t0\t0\t0\t0\t0\t0\t0\t0\t0\t0\t0\t0\t0\t0\n",
    "3\tAlam Damai\t0\t0\t0\t0\t0\t0\t0\t0\t0\t0\t0\t0\t0\t0\t0\t0\t0\t0\t0\t0\t0\t0\t0\t0\t0\t0\t0\t0\t0\t0\t0\t0\t0\t0\t0\t0\t0\t0\t0\t0\t0\t0\t0\t0\t0\t0\t0\t0\t0\t0\t0\t0\t0\t0\t0\t0\t0\t0\t0\t0\t0\t0\t0\t0\t0\t0\t0\t0\t0\t0\t0\t0\t0\t0\t0\t0\t0\t0\t0\t0\t0\t0\t0\t0\t0\t0\t0\t0\t0\t0\t0\t0\t0\t0\t0\t0\t0\t0\t0\t0\t0\t0\t0\t0\t0\t0\t0\t0\t0\t0\t0\t0\t0\t0\t0\t0\t0\t0\t0\t0\t0\t0\t0\t0\t0\t0\t0\t0\t0\t0\t0\t0\t0\t0\t0\t0\t0\t0\t0\t0\t0\t0\t0\t0\t0\t0\t0\t0\t0\t0\t0\t0\t0\t0\t0\t0\t0\t0\t0\t0\t0\t0\t0\t0\t0\t0\t0\t0\t0\t0\t0\t0\t0\t0\t0\t0\t0\t0\t0\t0\t0\t0\t0\t0\t0\t0\t0\t0\t0\t0\t0\t0\t0\t0\t0\t0\t0\t1\t0\t0\t0\t0\t0\t0\t0\t0\t0\t0\t0\t0\t0\t0\t0\t0\t0\t0\t0\t0\t0\t0\t0\t0\t0\t0\t0\t0\t0\t0\t0\t0\t0\t0\t0\t0\t0\t0\t0\t0\t0\t0\t0\t0\t0\t0\t0\t0\t0\t0\t0\t0\t0\t0\t0\t0\t0\t0\t0\t0\t0\t0\t0\t0\t0\t0\t0\t0\t0\t0\t0\t0\t0\t0\t0\t0\t0\t0\t0\t0\t0\t0\t0\t0\t0\t0\t0\t0\t0\t0\t0\t0\t0\t0\t0\t0\t0\t0\t0\t0\t0\t0\t0\t0\t0\t0\n",
    "4\tAlam Damai\t0\t0\t0\t0\t0\t0\t0\t0\t0\t0\t0\t0\t0\t0\t0\t0\t0\t0\t0\t0\t0\t0\t0\t0\t0\t0\t0\t0\t0\t0\t0\t0\t0\t0\t0\t0\t0\t0\t0\t0\t0\t0\t0\t0\t0\t0\t0\t0\t0\t0\t0\t0\t0\t0\t0\t0\t0\t0\t0\t0\t0\t0\t0\t0\t0\t0\t0\t0\t0\t0\t0\t0\t0\t0\t0\t0\t0\t0\t0\t0\t0\t0\t0\t0\t0\t0\t0\t0\t0\t0\t0\t0\t0\t0\t0\t0\t0\t0\t0\t0\t0\t0\t0\t0\t0\t0\t0\t0\t0\t0\t0\t0\t0\t0\t0\t0\t0\t0\t0\t0\t0\t0\t0\t0\t0\t0\t0\t0\t0\t0\t0\t0\t0\t0\t0\t0\t0\t0\t0\t0\t0\t0\t0\t0\t0\t0\t0\t0\t0\t0\t0\t0\t0\t0\t0\t0\t0\t0\t0\t0\t0\t0\t0\t0\t0\t0\t0\t0\t0\t0\t0\t0\t0\t0\t0\t0\t0\t0\t0\t0\t0\t0\t0\t0\t0\t0\t0\t0\t0\t0\t0\t0\t0\t0\t0\t0\t0\t0\t0\t0\t0\t0\t0\t0\t0\t0\t0\t0\t0\t0\t0\t0\t0\t0\t0\t0\t0\t0\t0\t0\t0\t0\t0\t0\t0\t0\t0\t1\t0\t0\t0\t0\t0\t0\t0\t0\t0\t0\t0\t0\t0\t0\t0\t0\t0\t0\t0\t0\t0\t0\t0\t0\t0\t0\t0\t0\t0\t0\t0\t0\t0\t0\t0\t0\t0\t0\t0\t0\t0\t0\t0\t0\t0\t0\t0\t0\t0\t0\t0\t0\t0\t0\t0\t0\t0\t0\t0\t0\t0\t0\t0\t0\t0\t0\t0\t0\t0\t0\t0\t0\t0\t0\t0\t0"
   ]
  },
  {
   "cell_type": "markdown",
   "metadata": {},
   "source": [
    "<h2>Next, let's group rows by neighborhood and by taking the mean of the frequency of occurrence of each category</h2>"
   ]
  },
  {
   "cell_type": "code",
   "execution_count": null,
   "metadata": {},
   "outputs": [],
   "source": [
    "kl_grouped = kl_onehot.groupby([\"Neighborhoods\"]).mean().reset_index()\n",
    "\n",
    "print(kl_grouped.shape)\n",
    "kl_grouped"
   ]
  },
  {
   "cell_type": "markdown",
   "metadata": {},
   "source": [
    "(70, 305)"
   ]
  },
  {
   "cell_type": "markdown",
   "metadata": {},
   "source": [
    "Neighborhoods\tAccessories Store\tAdult Boutique\tAfghan Restaurant\tAfrican Restaurant\tAirport\tAirport Service\tAirport Terminal\tAmerican Restaurant\tAquarium\tArcade\tArt Gallery\tArt Museum\tArts & Crafts Store\tAsian Restaurant\tAthletics & Sports\tAuditorium\tAuto Dealership\tAuto Garage\tAuto Workshop\tAutomotive Shop\tBBQ Joint\tBadminton Court\tBagel Shop\tBakery\tBar\tBaseball Field\tBasketball Court\tBeach\tBed & Breakfast\tBeer Bar\tBeer Garden\tBelgian Restaurant\tBistro\tBoard Shop\tBoat or Ferry\tBookstore\tBotanical Garden\tBoutique\tBowling Alley\tBreakfast Spot\tBrewery\tBridal Shop\tBubble Tea Shop\tBuffet\tBuilding\tBurger Joint\tBus Station\tBusiness Service\tButcher\tCafeteria\tCafé\tCampground\tCandy Store\tCantonese Restaurant\tCasino\tChettinad Restaurant\tChinese Breakfast Place\tChinese Restaurant\tCircus\tClothing Store\tClub House\tCocktail Bar\tCoffee Shop\tCollege Bookstore\tComedy Club\tComfort Food Restaurant\tConcert Hall\tConvenience Store\tConvention Center\tCosmetics Shop\tCupcake Shop\tCycle Studio\tDance Studio\tDeli / Bodega\tDepartment Store\tDesign Studio\tDessert Shop\tDim Sum Restaurant\tDiner\tDive Bar\tDive Shop\tDog Run\tDonut Shop\tDumpling Restaurant\tEastern European Restaurant\tElectronics Store\tEvent Space\tExhibit\tFalafel Restaurant\tFarm\tFarmers Market\tFast Food Restaurant\tField\tFish & Chips Shop\tFish Market\tFishing Store\tFlea Market\tFlower Shop\tFood\tFood & Drink Shop\tFood Court\tFood Stand\tFood Truck\tFountain\tFrame Store\tFrench Restaurant\tFried Chicken Joint\tFrozen Yogurt Shop\tFruit & Vegetable Store\tFurniture / Home Store\tGaming Cafe\tGarden\tGarden Center\tGas Station\tGastropub\tGay Bar\tGeneral Entertainment\tGerman Restaurant\tGift Shop\tGolf Course\tGourmet Shop\tGovernment Building\tGrilled Meat Restaurant\tGrocery Store\tGym\tGym / Fitness Center\tGym Pool\tHainan Restaurant\tHakka Restaurant\tHalal Restaurant\tHarbor / Marina\tHawaiian Restaurant\tHealth & Beauty Service\tHigh School\tHimalayan Restaurant\tHistoric Site\tHistory Museum\tHockey Arena\tHong Kong Restaurant\tHookah Bar\tHostel\tHot Dog Joint\tHot Spring\tHotel\tHotel Bar\tHotel Pool\tHotpot Restaurant\tHousing Development\tHunan Restaurant\tIT Services\tIce Cream Shop\tIndian Restaurant\tIndonesian Restaurant\tItalian Restaurant\tJapanese Curry Restaurant\tJapanese Restaurant\tJazz Club\tJewelry Store\tJuice Bar\tKaraoke Bar\tKebab Restaurant\tKids Store\tKorean Restaurant\tKushikatsu Restaurant\tLake\tLatin American Restaurant\tLeather Goods Store\tLight Rail Station\tLingerie Store\tLounge\tMalay Restaurant\tMarket\tMartial Arts Dojo\tMassage Studio\tMedical Center\tMediterranean Restaurant\tMen's Store\tMexican Restaurant\tMiddle Eastern Restaurant\tMiscellaneous Shop\tMobile Phone Shop\tModern European Restaurant\tMonument / Landmark\tMoroccan Restaurant\tMosque\tMotel\tMotorcycle Shop\tMountain\tMovie Theater\tMultiplex\tMuseum\tMusic Store\tMusic Venue\tNail Salon\tNeighborhood\tNight Market\tNightclub\tNoodle House\tNorth Indian Restaurant\tOffice\tOptical Shop\tOther Great Outdoors\tOther Nightlife\tOutlet Store\tPakistani Restaurant\tPalace\tPaper / Office Supplies Store\tPark\tPerforming Arts Venue\tPet Store\tPharmacy\tPiano Bar\tPie Shop\tPizza Place\tPlayground\tPlaza\tPoke Place\tPool\tPool Hall\tPub\tPublic Art\tRacetrack\tRamen Restaurant\tRecord Shop\tResidential Building (Apartment / Condo)\tResort\tRest Area\tRestaurant\tRoad\tRock Climbing Spot\tRock Club\tSake Bar\tSalad Place\tSalon / Barbershop\tSandwich Place\tSatay Restaurant\tScandinavian Restaurant\tScenic Lookout\tScience Museum\tSeafood Restaurant\tShabu-Shabu Restaurant\tShoe Store\tShop & Service\tShopping Mall\tSkate Park\tSki Area\tSki Lodge\tSmoke Shop\tSmoothie Shop\tSnack Place\tSoccer Field\tSoccer Stadium\tSoup Place\tSouth American Restaurant\tSouth Indian Restaurant\tSpa\tSpanish Restaurant\tSpeakeasy\tSpiritual Center\tSporting Goods Shop\tSports Bar\tSports Club\tStadium\tStationery Store\tSteakhouse\tStreet Food Gathering\tSupermarket\tSupplement Shop\tSurf Spot\tSushi Restaurant\tTaiwanese Restaurant\tTapas Restaurant\tTattoo Parlor\tTea Room\tTemple\tTennis Court\tTex-Mex Restaurant\tThai Restaurant\tTheater\tTheme Restaurant\tThrift / Vintage Store\tToll Plaza\tTourist Information Center\tToy / Game Store\tTrack\tTrack Stadium\tTrail\tTrain Station\tTunnel\tTurkish Restaurant\tUdon Restaurant\tVape Store\tVegetarian / Vegan Restaurant\tVideo Game Store\tVietnamese Restaurant\tVolleyball Court\tWarehouse Store\tWhisky Bar\tWine Bar\tWinery\tWings Joint\tWomen's Store\tYoga Studio\tZoo\n",
    "0\tAlam Damai\t0.000000\t0.00\t0.00\t0.00\t0.000000\t0.000000\t0.00\t0.00\t0.00\t0.000000\t0.000000\t0.00\t0.00\t0.060000\t0.010000\t0.00\t0.00\t0.000000\t0.00\t0.000000\t0.000000\t0.010000\t0.00\t0.020000\t0.000000\t0.00\t0.000000\t0.00\t0.000000\t0.00\t0.00\t0.00\t0.010000\t0.00\t0.00\t0.00\t0.00\t0.000000\t0.00\t0.000000\t0.00\t0.00\t0.010000\t0.00\t0.00\t0.010000\t0.000000\t0.000000\t0.00\t0.00\t0.050000\t0.00\t0.00\t0.020000\t0.00\t0.00\t0.010000\t0.160000\t0.00\t0.00\t0.00\t0.00\t0.000000\t0.01\t0.00\t0.00\t0.00\t0.080000\t0.00\t0.00\t0.00\t0.00\t0.000000\t0.00\t0.00\t0.00\t0.010000\t0.030000\t0.000000\t0.00\t0.00\t0.00\t0.00\t0.00\t0.00\t0.00\t0.00\t0.00\t0.00\t0.00\t0.010000\t0.000000\t0.00\t0.00\t0.00\t0.00\t0.010000\t0.000000\t0.000000\t0.000000\t0.020000\t0.00\t0.030000\t0.00\t0.00\t0.00\t0.00\t0.000000\t0.00\t0.00\t0.000000\t0.000000\t0.000000\t0.00\t0.00\t0.00\t0.00\t0.00\t0.00\t0.000000\t0.00\t0.00\t0.00\t0.01\t0.00\t0.01\t0.00\t0.00\t0.010000\t0.010000\t0.00\t0.00\t0.000000\t0.00\t0.000000\t0.00\t0.000000\t0.00\t0.00\t0.010000\t0.00\t0.00\t0.000000\t0.000000\t0.00\t0.00\t0.000000\t0.00\t0.00\t0.00\t0.000000\t0.030000\t0.000000\t0.00\t0.00\t0.010000\t0.000000\t0.00\t0.00\t0.000000\t0.000000\t0.00\t0.000000\t0.00\t0.000000\t0.00\t0.00\t0.00\t0.00\t0.00\t0.090000\t0.000000\t0.00\t0.00\t0.00\t0.00\t0.00\t0.00\t0.010000\t0.00\t0.00\t0.00\t0.00\t0.00\t0.00\t0.00\t0.000000\t0.00\t0.00\t0.000000\t0.00\t0.000000\t0.00\t0.00\t0.000000\t0.000000\t0.000000\t0.060000\t0.00\t0.00\t0.00\t0.010000\t0.00\t0.01\t0.00\t0.00\t0.00\t0.010000\t0.00\t0.020000\t0.000000\t0.00\t0.00\t0.000000\t0.000000\t0.000000\t0.00\t0.000000\t0.000000\t0.00\t0.00\t0.00\t0.00\t0.00\t0.00\t0.00\t0.000000\t0.020000\t0.000000\t0.00\t0.000000\t0.00\t0.00\t0.000000\t0.000000\t0.00\t0.00\t0.00\t0.00\t0.020000\t0.00\t0.00\t0.00\t0.00\t0.00\t0.000000\t0.000000\t0.00\t0.00\t0.010000\t0.000000\t0.000000\t0.000000\t0.00\t0.00\t0.010000\t0.00\t0.00\t0.00\t0.00\t0.00\t0.000000\t0.000000\t0.00\t0.020000\t0.00\t0.010000\t0.010000\t0.00\t0.000000\t0.00\t0.00\t0.00\t0.00\t0.00\t0.00\t0.00\t0.000000\t0.00\t0.00\t0.00\t0.000000\t0.00\t0.00\t0.00\t0.000000\t0.000000\t0.00\t0.000000\t0.00\t0.00\t0.000000\t0.010000\t0.00\t0.010000\t0.000000\t0.00\t0.00\t0.00\t0.01\t0.00\t0.00\t0.00\t0.00\n",
    "1\tAmpang, Kuala Lumpur\t0.000000\t0.00\t0.01\t0.00\t0.000000\t0.000000\t0.00\t0.00\t0.00\t0.000000\t0.010000\t0.00\t0.00\t0.060000\t0.000000\t0.00\t0.00\t0.000000\t0.00\t0.000000\t0.000000\t0.000000\t0.00\t0.020000\t0.000000\t0.00\t0.010000\t0.00\t0.000000\t0.00\t0.00\t0.00\t0.010000\t0.00\t0.00\t0.01\t0.00\t0.000000\t0.00\t0.010000\t0.00\t0.00\t0.000000\t0.00\t0.00\t0.020000\t0.000000\t0.000000\t0.00\t0.00\t0.020000\t0.00\t0.00\t0.000000\t0.00\t0.00\t0.000000\t0.060000\t0.00\t0.00\t0.00\t0.00\t0.070000\t0.00\t0.00\t0.00\t0.00\t0.000000\t0.00\t0.00\t0.00\t0.00\t0.000000\t0.00\t0.00\t0.00\t0.020000\t0.000000\t0.010000\t0.00\t0.00\t0.00\t0.00\t0.00\t0.00\t0.00\t0.00\t0.00\t0.01\t0.00\t0.000000\t0.010000\t0.00\t0.00\t0.00\t0.00\t0.020000\t0.000000\t0.000000\t0.010000\t0.000000\t0.00\t0.040000\t0.00\t0.00\t0.00\t0.00\t0.000000\t0.00\t0.01\t0.000000\t0.000000\t0.000000\t0.00\t0.00\t0.00\t0.00\t0.00\t0.00\t0.000000\t0.00\t0.00\t0.00\t0.02\t0.00\t0.00\t0.00\t0.00\t0.000000\t0.010000\t0.00\t0.00\t0.010000\t0.00\t0.000000\t0.00\t0.000000\t0.00\t0.00\t0.020000\t0.00\t0.00\t0.000000\t0.000000\t0.00\t0.00\t0.000000\t0.00\t0.00\t0.00\t0.020000\t0.010000\t0.010000\t0.02\t0.00\t0.000000\t0.000000\t0.00\t0.03\t0.000000\t0.000000\t0.00\t0.050000\t0.00\t0.000000\t0.00\t0.00\t0.00\t0.00\t0.00\t0.150000\t0.000000\t0.00\t0.01\t0.00\t0.00\t0.01\t0.01\t0.020000\t0.00\t0.00\t0.00\t0.00\t0.00\t0.00\t0.00\t0.000000\t0.00\t0.00\t0.000000\t0.00\t0.000000\t0.00\t0.00\t0.000000\t0.000000\t0.000000\t0.000000\t0.00\t0.00\t0.00\t0.000000\t0.00\t0.00\t0.00\t0.00\t0.00\t0.010000\t0.00\t0.020000\t0.000000\t0.00\t0.00\t0.020000\t0.010000\t0.000000\t0.00\t0.000000\t0.000000\t0.00\t0.00\t0.00\t0.00\t0.00\t0.00\t0.00\t0.000000\t0.020000\t0.000000\t0.00\t0.000000\t0.00\t0.00\t0.000000\t0.000000\t0.00\t0.00\t0.00\t0.00\t0.010000\t0.00\t0.00\t0.00\t0.00\t0.00\t0.000000\t0.000000\t0.00\t0.00\t0.000000\t0.000000\t0.000000\t0.000000\t0.00\t0.00\t0.010000\t0.00\t0.00\t0.00\t0.01\t0.00\t0.000000\t0.000000\t0.00\t0.030000\t0.00\t0.000000\t0.000000\t0.00\t0.000000\t0.00\t0.00\t0.00\t0.00\t0.00\t0.00\t0.00\t0.020000\t0.00\t0.00\t0.00\t0.000000\t0.00\t0.00\t0.00\t0.000000\t0.000000\t0.00\t0.000000\t0.00\t0.00\t0.000000\t0.000000\t0.00\t0.000000\t0.000000\t0.00\t0.00\t0.00\t0.00\t0.00\t0.00\t0.00\t0.00\n",
    "2\tBandar Menjalara\t0.000000\t0.00\t0.00\t0.01\t0.000000\t0.000000\t0.00\t0.00\t0.00\t0.010000\t0.000000\t0.00\t0.00\t0.040000\t0.000000\t0.00\t0.00\t0.000000\t0.00\t0.000000\t0.000000\t0.000000\t0.00\t0.000000\t0.010000\t0.00\t0.020000\t0.00\t0.000000\t0.01\t0.00\t0.00\t0.010000\t0.00\t0.00\t0.01\t0.00\t0.000000\t0.00\t0.010000\t0.00\t0.00\t0.000000\t0.00\t0.01\t0.000000\t0.000000\t0.000000\t0.00\t0.00\t0.110000\t0.00\t0.00\t0.000000\t0.00\t0.00\t0.000000\t0.100000\t0.00\t0.00\t0.00\t0.00\t0.060000\t0.00\t0.00\t0.00\t0.00\t0.020000\t0.00\t0.00\t0.00\t0.00\t0.000000\t0.00\t0.00\t0.00\t0.010000\t0.000000\t0.000000\t0.00\t0.00\t0.01\t0.00\t0.00\t0.00\t0.00\t0.00\t0.00\t0.00\t0.00\t0.000000\t0.010000\t0.00\t0.00\t0.00\t0.00\t0.000000\t0.000000\t0.010000\t0.030000\t0.010000\t0.01\t0.010000\t0.00\t0.00\t0.00\t0.01\t0.010000\t0.00\t0.00\t0.000000\t0.000000\t0.000000\t0.00\t0.00\t0.00\t0.00\t0.00\t0.00\t0.010000\t0.00\t0.00\t0.00\t0.02\t0.01\t0.00\t0.00\t0.00\t0.010000\t0.000000\t0.00\t0.01\t0.000000\t0.00\t0.000000\t0.00\t0.000000\t0.00\t0.00\t0.000000\t0.00\t0.00\t0.000000\t0.000000\t0.00\t0.00\t0.010000\t0.00\t0.00\t0.00\t0.010000\t0.010000\t0.000000\t0.00\t0.00\t0.050000\t0.000000\t0.00\t0.01\t0.000000\t0.000000\t0.00\t0.000000\t0.00\t0.000000\t0.00\t0.00\t0.00\t0.00\t0.00\t0.000000\t0.010000\t0.00\t0.01\t0.00\t0.00\t0.00\t0.00\t0.000000\t0.00\t0.00\t0.00\t0.00\t0.00\t0.01\t0.00\t0.000000\t0.01\t0.00\t0.000000\t0.00\t0.000000\t0.00\t0.00\t0.000000\t0.000000\t0.000000\t0.020000\t0.00\t0.00\t0.00\t0.000000\t0.00\t0.00\t0.00\t0.00\t0.00\t0.040000\t0.00\t0.000000\t0.000000\t0.00\t0.00\t0.010000\t0.000000\t0.020000\t0.00\t0.000000\t0.000000\t0.00\t0.00\t0.00\t0.00\t0.00\t0.00\t0.00\t0.000000\t0.030000\t0.000000\t0.00\t0.000000\t0.00\t0.00\t0.000000\t0.030000\t0.00\t0.00\t0.00\t0.00\t0.000000\t0.00\t0.00\t0.00\t0.00\t0.00\t0.000000\t0.000000\t0.00\t0.00\t0.000000\t0.000000\t0.000000\t0.000000\t0.00\t0.00\t0.010000\t0.01\t0.00\t0.00\t0.01\t0.00\t0.000000\t0.000000\t0.00\t0.000000\t0.00\t0.000000\t0.000000\t0.00\t0.000000\t0.00\t0.00\t0.00\t0.00\t0.00\t0.00\t0.00\t0.040000\t0.00\t0.01\t0.00\t0.000000\t0.00\t0.00\t0.00\t0.000000\t0.000000\t0.00\t0.000000\t0.00\t0.00\t0.000000\t0.030000\t0.00\t0.000000\t0.000000\t0.00\t0.00\t0.00\t0.00\t0.00\t0.00\t0.00\t0.00\n",
    "3\tBandar Sri Permaisuri\t0.010000\t0.00\t0.00\t0.00\t0.000000\t0.000000\t0.00\t0.00\t0.00\t0.000000\t0.010000\t0.00\t0.00\t0.060000\t0.000000\t0.01\t0.00\t0.020000\t0.00\t0.010000\t0.000000\t0.000000\t0.00\t0.020000\t0.000000\t0.00\t0.000000\t0.00\t0.010000\t0.00\t0.00\t0.00\t0.010000\t0.00\t0.00\t0.00\t0.00\t0.000000\t0.00\t0.020000\t0.00\t0.00\t0.000000\t0.00\t0.00\t0.000000\t0.000000\t0.000000\t0.00\t0.00\t0.010000\t0.00\t0.00\t0.000000\t0.00\t0.00\t0.000000\t0.140000\t0.00\t0.00\t0.00\t0.00\t0.000000\t0.00\t0.00\t0.00\t0.00\t0.050000\t0.00\t0.00\t0.00\t0.00\t0.000000\t0.00\t0.00\t0.00\t0.000000\t0.000000\t0.010000\t0.00\t0.00\t0.01\t0.00\t0.00\t0.00\t0.00\t0.00\t0.00\t0.00\t0.00\t0.000000\t0.030000\t0.00\t0.00\t0.00\t0.00\t0.010000\t0.010000\t0.020000\t0.000000\t0.000000\t0.00\t0.020000\t0.00\t0.00\t0.00\t0.00\t0.000000\t0.00\t0.00\t0.000000\t0.000000\t0.000000\t0.02\t0.00\t0.00\t0.00\t0.00\t0.00\t0.000000\t0.00\t0.00\t0.00\t0.01\t0.00\t0.00\t0.00\t0.00\t0.000000\t0.000000\t0.00\t0.00\t0.000000\t0.00\t0.010000\t0.00\t0.000000\t0.00\t0.00\t0.010000\t0.00\t0.00\t0.000000\t0.000000\t0.00\t0.00\t0.000000\t0.00\t0.00\t0.00\t0.010000\t0.020000\t0.020000\t0.00\t0.00\t0.000000\t0.010000\t0.00\t0.00\t0.000000\t0.000000\t0.00\t0.000000\t0.00\t0.010000\t0.00\t0.00\t0.02\t0.00\t0.00\t0.090000\t0.020000\t0.00\t0.00\t0.00\t0.00\t0.00\t0.00\t0.000000\t0.00\t0.00\t0.00\t0.00\t0.00\t0.00\t0.00\t0.010000\t0.00\t0.00\t0.000000\t0.00\t0.000000\t0.01\t0.00\t0.000000\t0.010000\t0.000000\t0.010000\t0.00\t0.00\t0.00\t0.000000\t0.00\t0.00\t0.00\t0.00\t0.00\t0.000000\t0.00\t0.000000\t0.000000\t0.00\t0.00\t0.030000\t0.000000\t0.010000\t0.00\t0.010000\t0.000000\t0.00\t0.00\t0.00\t0.00\t0.00\t0.00\t0.00\t0.000000\t0.020000\t0.000000\t0.00\t0.010000\t0.00\t0.00\t0.020000\t0.010000\t0.00\t0.00\t0.00\t0.00\t0.040000\t0.00\t0.00\t0.00\t0.00\t0.00\t0.000000\t0.000000\t0.00\t0.00\t0.000000\t0.020000\t0.010000\t0.010000\t0.00\t0.00\t0.000000\t0.00\t0.00\t0.00\t0.00\t0.00\t0.000000\t0.000000\t0.00\t0.010000\t0.00\t0.000000\t0.000000\t0.00\t0.000000\t0.00\t0.00\t0.00\t0.00\t0.00\t0.00\t0.00\t0.000000\t0.00\t0.00\t0.00\t0.000000\t0.00\t0.00\t0.00\t0.000000\t0.000000\t0.00\t0.010000\t0.00\t0.00\t0.000000\t0.000000\t0.00\t0.000000\t0.000000\t0.01\t0.00\t0.00\t0.00\t0.00\t0.00\t0.00\t0.00\n",
    "4\tBandar Tasik Selatan\t0.010000\t0.00\t0.00\t0.00\t0.000000\t0.000000\t0.00\t0.00\t0.00\t0.000000\t0.000000\t0.00\t0.01\t0.080000\t0.000000\t0.00\t0.00\t0.000000\t0.00\t0.000000\t0.000000\t0.000000\t0.00\t0.010000\t0.010000\t0.00\t0.000000\t0.00\t0.000000\t0.00\t0.00\t0.00\t0.000000\t0.00\t0.01\t0.00\t0.00\t0.010000\t0.00\t0.000000\t0.00\t0.00\t0.000000\t0.00\t0.00\t0.040000\t0.000000\t0.000000\t0.00\t0.00\t0.020000\t0.00\t0.00\t0.000000\t0.01\t0.00\t0.000000\t0.070000\t0.00\t0.00\t0.00\t0.00\t0.010000\t0.00\t0.00\t0.01\t0.00\t0.050000\t0.00\t0.00\t0.00\t0.00\t0.000000\t0.00\t0.02\t0.00\t0.020000\t0.010000\t0.000000\t0.00\t0.00\t0.00\t0.01\t0.01\t0.00\t0.00\t0.00\t0.00\t0.00\t0.00\t0.000000\t0.010000\t0.00\t0.00\t0.00\t0.00\t0.030000\t0.000000\t0.000000\t0.000000\t0.020000\t0.00\t0.020000\t0.00\t0.00\t0.00\t0.01\t0.000000\t0.00\t0.01\t0.000000\t0.000000\t0.000000\t0.00\t0.00\t0.00\t0.00\t0.00\t0.00\t0.010000\t0.00\t0.00\t0.00\t0.00\t0.00\t0.01\t0.01\t0.00\t0.000000\t0.010000\t0.00\t0.00\t0.000000\t0.00\t0.000000\t0.00\t0.000000\t0.00\t0.00\t0.000000\t0.00\t0.00\t0.000000\t0.000000\t0.00\t0.00\t0.000000\t0.00\t0.00\t0.00\t0.020000\t0.030000\t0.020000\t0.00\t0.00\t0.000000\t0.000000\t0.00\t0.00\t0.000000\t0.000000\t0.00\t0.000000\t0.00\t0.000000\t0.00\t0.00\t0.01\t0.00\t0.00\t0.110000\t0.000000\t0.00\t0.00\t0.00\t0.00\t0.00\t0.00\t0.000000\t0.00\t0.00\t0.00\t0.00\t0.00\t0.01\t0.00\t0.000000\t0.01\t0.00\t0.000000\t0.00\t0.000000\t0.00\t0.00\t0.000000\t0.010000\t0.000000\t0.030000\t0.00\t0.00\t0.00\t0.010000\t0.00\t0.00\t0.00\t0.01\t0.00\t0.000000\t0.00\t0.000000\t0.000000\t0.00\t0.00\t0.010000\t0.000000\t0.000000\t0.00\t0.000000\t0.010000\t0.00\t0.00\t0.00\t0.00\t0.00\t0.01\t0.00\t0.000000\t0.020000\t0.000000\t0.00\t0.000000\t0.00\t0.00\t0.000000\t0.020000\t0.00\t0.00\t0.00\t0.00\t0.010000\t0.00\t0.00\t0.00\t0.01\t0.00\t0.000000\t0.000000\t0.00\t0.00\t0.000000\t0.000000\t0.000000\t0.010000\t0.00\t0.00\t0.000000\t0.00\t0.00\t0.00\t0.00\t0.00\t0.000000\t0.000000\t0.00\t0.010000\t0.00\t0.000000\t0.000000\t0.01\t0.000000\t0.00\t0.00\t0.00\t0.00\t0.00\t0.01\t0.00\t0.020000\t0.00\t0.00\t0.01\t0.000000\t0.00\t0.00\t0.00\t0.000000\t0.000000\t0.00\t0.000000\t0.00\t0.00\t0.000000\t0.000000\t0.00\t0.000000\t0.000000\t0.00\t0.00\t0.00\t0.00\t0.00\t0.00\t0.01\t0.00\n",
    "5\tBandar Tun Razak\t0.010000\t0.00\t0.00\t0.00\t0.000000\t0.000000\t0.00\t0.00\t0.00\t0.000000\t0.000000\t0.00\t0.01\t0.090000\t0.000000\t0.01\t0.00\t0.000000\t0.00\t0.000000\t0.010000\t0.000000\t0.00\t0.010000\t0.000000\t0.00\t0.010000\t0.00\t0.000000\t0.00\t0.00\t0.00\t0.000000\t0.00\t0.00\t0.00\t0.00\t0.000000\t0.00\t0.020000\t0.00\t0.00\t0.010000\t0.00\t0.00\t0.020000\t0.000000\t0.000000\t0.00\t0.00\t0.040000\t0.00\t0.00\t0.000000\t0.00\t0.00\t0.000000\t0.190000\t0.00\t0.00\t0.00\t0.00\t0.030000\t0.00\t0.00\t0.01\t0.00\t0.000000\t0.00\t0.00\t0.00\t0.00\t0.000000\t0.00\t0.00\t0.00\t0.000000\t0.000000\t0.010000\t0.00\t0.00\t0.00\t0.00\t0.00\t0.00\t0.00\t0.00\t0.00\t0.00\t0.00\t0.000000\t0.010000\t0.00\t0.00\t0.00\t0.00\t0.020000\t0.000000\t0.010000\t0.000000\t0.020000\t0.00\t0.010000\t0.00\t0.00\t0.00\t0.00\t0.010000\t0.00\t0.00\t0.000000\t0.000000\t0.000000\t0.02\t0.00\t0.00\t0.00\t0.00\t0.00\t0.000000\t0.00\t0.00\t0.00\t0.00\t0.01\t0.00\t0.00\t0.00\t0.000000\t0.000000\t0.00\t0.00\t0.010000\t0.00\t0.000000\t0.00\t0.000000\t0.00\t0.00\t0.000000\t0.00\t0.00\t0.000000\t0.000000\t0.00\t0.00\t0.000000\t0.00\t0.00\t0.00\t0.000000\t0.030000\t0.000000\t0.00\t0.00\t0.000000\t0.000000\t0.00\t0.00\t0.000000\t0.010000\t0.00\t0.020000\t0.00\t0.010000\t0.00\t0.00\t0.01\t0.00\t0.00\t0.060000\t0.010000\t0.00\t0.00\t0.00\t0.00\t0.00\t0.00\t0.010000\t0.00\t0.01\t0.00\t0.00\t0.00\t0.00\t0.00\t0.000000\t0.00\t0.00\t0.000000\t0.00\t0.000000\t0.00\t0.00\t0.000000\t0.010000\t0.000000\t0.020000\t0.00\t0.00\t0.00\t0.000000\t0.01\t0.00\t0.00\t0.01\t0.00\t0.000000\t0.00\t0.000000\t0.000000\t0.00\t0.00\t0.020000\t0.000000\t0.000000\t0.00\t0.010000\t0.020000\t0.00\t0.00\t0.00\t0.00\t0.00\t0.00\t0.00\t0.000000\t0.020000\t0.000000\t0.00\t0.000000\t0.00\t0.00\t0.010000\t0.020000\t0.00\t0.00\t0.00\t0.00\t0.000000\t0.00\t0.00\t0.00\t0.00\t0.00\t0.000000\t0.000000\t0.00\t0.00\t0.000000\t0.010000\t0.000000\t0.000000\t0.00\t0.00\t0.010000\t0.00\t0.00\t0.00\t0.01\t0.00\t0.000000\t0.000000\t0.00\t0.000000\t0.00\t0.000000\t0.000000\t0.01\t0.000000\t0.00\t0.00\t0.00\t0.00\t0.00\t0.01\t0.00\t0.010000\t0.00\t0.00\t0.00\t0.000000\t0.00\t0.00\t0.00\t0.000000\t0.010000\t0.00\t0.000000\t0.00\t0.00\t0.000000\t0.010000\t0.00\t0.000000\t0.000000\t0.00\t0.00\t0.00\t0.00\t0.00\t0.00\t0.00\t0.00\n",
    "6\tBangsar\t0.000000\t0.00\t0.00\t0.00\t0.000000\t0.000000\t0.00\t0.00\t0.00\t0.000000\t0.000000\t0.00\t0.02\t0.000000\t0.000000\t0.00\t0.00\t0.000000\t0.00\t0.000000\t0.000000\t0.000000\t0.00\t0.020000\t0.010000\t0.00\t0.000000\t0.00\t0.000000\t0.00\t0.00\t0.00\t0.010000\t0.00\t0.00\t0.01\t0.00\t0.020000\t0.00\t0.000000\t0.00\t0.00\t0.000000\t0.00\t0.00\t0.010000\t0.000000\t0.000000\t0.00\t0.00\t0.050000\t0.00\t0.00\t0.000000\t0.00\t0.00\t0.000000\t0.010000\t0.00\t0.05\t0.00\t0.00\t0.030000\t0.00\t0.00\t0.00\t0.00\t0.010000\t0.00\t0.02\t0.00\t0.00\t0.000000\t0.00\t0.01\t0.00\t0.000000\t0.000000\t0.000000\t0.00\t0.00\t0.00\t0.00\t0.00\t0.00\t0.00\t0.00\t0.00\t0.00\t0.00\t0.000000\t0.000000\t0.00\t0.00\t0.00\t0.00\t0.000000\t0.020000\t0.000000\t0.000000\t0.020000\t0.00\t0.010000\t0.00\t0.00\t0.02\t0.00\t0.000000\t0.00\t0.00\t0.000000\t0.010000\t0.000000\t0.00\t0.00\t0.00\t0.00\t0.00\t0.00\t0.000000\t0.00\t0.00\t0.00\t0.00\t0.02\t0.00\t0.01\t0.00\t0.000000\t0.000000\t0.00\t0.00\t0.000000\t0.00\t0.000000\t0.01\t0.000000\t0.00\t0.00\t0.000000\t0.00\t0.00\t0.000000\t0.050000\t0.02\t0.00\t0.000000\t0.00\t0.00\t0.00\t0.030000\t0.090000\t0.000000\t0.00\t0.00\t0.010000\t0.000000\t0.00\t0.02\t0.000000\t0.000000\t0.00\t0.000000\t0.00\t0.000000\t0.00\t0.00\t0.00\t0.00\t0.01\t0.010000\t0.000000\t0.00\t0.01\t0.01\t0.00\t0.00\t0.00\t0.000000\t0.00\t0.00\t0.00\t0.00\t0.00\t0.00\t0.00\t0.000000\t0.00\t0.02\t0.010000\t0.00\t0.000000\t0.00\t0.00\t0.010000\t0.000000\t0.010000\t0.000000\t0.00\t0.00\t0.01\t0.000000\t0.00\t0.00\t0.00\t0.00\t0.00\t0.000000\t0.01\t0.000000\t0.010000\t0.01\t0.00\t0.010000\t0.000000\t0.000000\t0.00\t0.000000\t0.000000\t0.00\t0.00\t0.00\t0.00\t0.01\t0.00\t0.00\t0.000000\t0.000000\t0.000000\t0.00\t0.000000\t0.00\t0.00\t0.010000\t0.010000\t0.00\t0.00\t0.00\t0.00\t0.000000\t0.00\t0.00\t0.00\t0.05\t0.00\t0.000000\t0.000000\t0.00\t0.01\t0.010000\t0.010000\t0.000000\t0.000000\t0.00\t0.01\t0.020000\t0.00\t0.00\t0.00\t0.00\t0.00\t0.000000\t0.000000\t0.01\t0.030000\t0.00\t0.010000\t0.000000\t0.00\t0.000000\t0.00\t0.00\t0.00\t0.00\t0.00\t0.00\t0.00\t0.000000\t0.01\t0.00\t0.00\t0.000000\t0.00\t0.00\t0.00\t0.000000\t0.000000\t0.00\t0.000000\t0.00\t0.00\t0.000000\t0.010000\t0.00\t0.010000\t0.000000\t0.00\t0.00\t0.01\t0.00\t0.00\t0.00\t0.01\t0.00\n",
    "7\tBangsar Park\t0.000000\t0.00\t0.00\t0.00\t0.000000\t0.000000\t0.00\t0.00\t0.00\t0.000000\t0.000000\t0.00\t0.02\t0.020000\t0.000000\t0.00\t0.00\t0.000000\t0.00\t0.000000\t0.010000\t0.000000\t0.00\t0.010000\t0.030000\t0.00\t0.000000\t0.00\t0.000000\t0.00\t0.00\t0.00\t0.020000\t0.00\t0.00\t0.00\t0.00\t0.030000\t0.00\t0.000000\t0.00\t0.01\t0.000000\t0.00\t0.00\t0.020000\t0.000000\t0.000000\t0.00\t0.00\t0.070000\t0.00\t0.00\t0.000000\t0.00\t0.00\t0.000000\t0.010000\t0.00\t0.03\t0.00\t0.00\t0.030000\t0.00\t0.00\t0.00\t0.00\t0.010000\t0.00\t0.02\t0.00\t0.00\t0.000000\t0.00\t0.00\t0.00\t0.010000\t0.000000\t0.000000\t0.00\t0.00\t0.00\t0.00\t0.00\t0.00\t0.00\t0.00\t0.00\t0.00\t0.00\t0.000000\t0.000000\t0.00\t0.00\t0.00\t0.00\t0.000000\t0.010000\t0.000000\t0.000000\t0.000000\t0.00\t0.010000\t0.00\t0.00\t0.01\t0.00\t0.000000\t0.00\t0.00\t0.000000\t0.010000\t0.000000\t0.00\t0.00\t0.00\t0.00\t0.00\t0.00\t0.000000\t0.00\t0.00\t0.00\t0.00\t0.01\t0.00\t0.00\t0.00\t0.000000\t0.000000\t0.00\t0.00\t0.010000\t0.00\t0.000000\t0.00\t0.000000\t0.00\t0.00\t0.000000\t0.00\t0.00\t0.000000\t0.050000\t0.02\t0.00\t0.000000\t0.00\t0.00\t0.00\t0.040000\t0.090000\t0.000000\t0.01\t0.00\t0.000000\t0.000000\t0.00\t0.01\t0.000000\t0.000000\t0.00\t0.000000\t0.00\t0.000000\t0.00\t0.00\t0.00\t0.00\t0.00\t0.020000\t0.000000\t0.00\t0.01\t0.01\t0.00\t0.00\t0.00\t0.000000\t0.00\t0.00\t0.00\t0.00\t0.00\t0.00\t0.00\t0.000000\t0.00\t0.00\t0.000000\t0.00\t0.000000\t0.00\t0.00\t0.010000\t0.000000\t0.010000\t0.000000\t0.00\t0.00\t0.01\t0.000000\t0.00\t0.00\t0.00\t0.00\t0.00\t0.010000\t0.00\t0.000000\t0.010000\t0.01\t0.00\t0.010000\t0.000000\t0.000000\t0.00\t0.000000\t0.000000\t0.00\t0.00\t0.00\t0.00\t0.01\t0.00\t0.00\t0.000000\t0.010000\t0.000000\t0.00\t0.000000\t0.00\t0.00\t0.000000\t0.000000\t0.00\t0.00\t0.00\t0.00\t0.000000\t0.00\t0.00\t0.00\t0.04\t0.00\t0.000000\t0.000000\t0.00\t0.01\t0.000000\t0.010000\t0.000000\t0.000000\t0.00\t0.01\t0.020000\t0.01\t0.00\t0.00\t0.00\t0.01\t0.000000\t0.000000\t0.01\t0.040000\t0.00\t0.020000\t0.000000\t0.00\t0.000000\t0.00\t0.00\t0.00\t0.00\t0.00\t0.00\t0.00\t0.030000\t0.00\t0.00\t0.00\t0.000000\t0.00\t0.00\t0.00\t0.000000\t0.000000\t0.00\t0.000000\t0.00\t0.00\t0.000000\t0.000000\t0.00\t0.000000\t0.000000\t0.00\t0.00\t0.02\t0.00\t0.00\t0.00\t0.01\t0.00\n",
    "8\tBangsar South\t0.010000\t0.00\t0.00\t0.00\t0.000000\t0.000000\t0.00\t0.00\t0.00\t0.000000\t0.000000\t0.00\t0.00\t0.000000\t0.000000\t0.00\t0.00\t0.000000\t0.00\t0.000000\t0.000000\t0.000000\t0.00\t0.060000\t0.000000\t0.00\t0.010000\t0.00\t0.000000\t0.00\t0.00\t0.01\t0.000000\t0.00\t0.00\t0.01\t0.00\t0.010000\t0.00\t0.020000\t0.00\t0.00\t0.010000\t0.00\t0.00\t0.010000\t0.000000\t0.000000\t0.00\t0.00\t0.050000\t0.00\t0.00\t0.000000\t0.00\t0.00\t0.000000\t0.030000\t0.00\t0.02\t0.00\t0.00\t0.030000\t0.00\t0.00\t0.00\t0.00\t0.020000\t0.00\t0.02\t0.00\t0.00\t0.000000\t0.01\t0.03\t0.00\t0.010000\t0.000000\t0.000000\t0.00\t0.01\t0.00\t0.01\t0.00\t0.00\t0.00\t0.00\t0.00\t0.00\t0.00\t0.000000\t0.000000\t0.00\t0.00\t0.00\t0.00\t0.000000\t0.010000\t0.000000\t0.010000\t0.010000\t0.00\t0.000000\t0.00\t0.00\t0.00\t0.00\t0.010000\t0.00\t0.00\t0.000000\t0.000000\t0.000000\t0.00\t0.00\t0.00\t0.01\t0.00\t0.00\t0.000000\t0.00\t0.00\t0.00\t0.00\t0.00\t0.01\t0.00\t0.00\t0.000000\t0.000000\t0.00\t0.00\t0.000000\t0.00\t0.000000\t0.00\t0.000000\t0.00\t0.00\t0.000000\t0.00\t0.00\t0.000000\t0.030000\t0.00\t0.00\t0.000000\t0.00\t0.00\t0.00\t0.050000\t0.010000\t0.000000\t0.00\t0.00\t0.060000\t0.000000\t0.02\t0.02\t0.000000\t0.000000\t0.00\t0.000000\t0.00\t0.010000\t0.00\t0.00\t0.00\t0.00\t0.00\t0.040000\t0.000000\t0.00\t0.00\t0.00\t0.00\t0.00\t0.00\t0.000000\t0.00\t0.00\t0.00\t0.00\t0.00\t0.00\t0.00\t0.000000\t0.00\t0.02\t0.010000\t0.00\t0.000000\t0.00\t0.01\t0.000000\t0.000000\t0.000000\t0.010000\t0.00\t0.00\t0.00\t0.000000\t0.00\t0.00\t0.00\t0.00\t0.00\t0.000000\t0.00\t0.010000\t0.010000\t0.00\t0.00\t0.000000\t0.000000\t0.000000\t0.00\t0.000000\t0.000000\t0.00\t0.00\t0.00\t0.00\t0.00\t0.01\t0.00\t0.000000\t0.020000\t0.000000\t0.00\t0.000000\t0.00\t0.01\t0.010000\t0.010000\t0.00\t0.00\t0.00\t0.00\t0.010000\t0.01\t0.01\t0.00\t0.03\t0.00\t0.000000\t0.010000\t0.00\t0.00\t0.010000\t0.010000\t0.000000\t0.000000\t0.00\t0.00\t0.000000\t0.00\t0.00\t0.00\t0.01\t0.00\t0.000000\t0.000000\t0.00\t0.010000\t0.00\t0.010000\t0.000000\t0.00\t0.000000\t0.00\t0.00\t0.00\t0.00\t0.00\t0.00\t0.01\t0.000000\t0.01\t0.00\t0.00\t0.000000\t0.00\t0.01\t0.00\t0.000000\t0.010000\t0.00\t0.000000\t0.00\t0.00\t0.000000\t0.010000\t0.00\t0.010000\t0.000000\t0.00\t0.00\t0.00\t0.00\t0.00\t0.00\t0.00\t0.00\n",
    "9\tBatu 11 Cheras\t0.000000\t0.00\t0.00\t0.00\t0.000000\t0.000000\t0.00\t0.00\t0.00\t0.000000\t0.000000\t0.00\t0.00\t0.060000\t0.000000\t0.01\t0.00\t0.000000\t0.00\t0.000000\t0.010000\t0.000000\t0.00\t0.010000\t0.010000\t0.00\t0.010000\t0.00\t0.000000\t0.00\t0.00\t0.00\t0.010000\t0.00\t0.00\t0.00\t0.00\t0.000000\t0.00\t0.020000\t0.00\t0.00\t0.000000\t0.00\t0.00\t0.000000\t0.000000\t0.000000\t0.00\t0.00\t0.030000\t0.00\t0.00\t0.000000\t0.00\t0.00\t0.000000\t0.240000\t0.00\t0.00\t0.00\t0.00\t0.030000\t0.00\t0.00\t0.00\t0.00\t0.010000\t0.00\t0.00\t0.00\t0.00\t0.000000\t0.00\t0.00\t0.00\t0.010000\t0.000000\t0.000000\t0.00\t0.00\t0.00\t0.00\t0.00\t0.00\t0.00\t0.00\t0.00\t0.00\t0.00\t0.000000\t0.000000\t0.00\t0.00\t0.00\t0.00\t0.010000\t0.000000\t0.010000\t0.000000\t0.010000\t0.00\t0.030000\t0.00\t0.00\t0.00\t0.00\t0.010000\t0.00\t0.00\t0.000000\t0.000000\t0.000000\t0.00\t0.00\t0.00\t0.00\t0.00\t0.00\t0.000000\t0.00\t0.00\t0.00\t0.00\t0.01\t0.00\t0.00\t0.00\t0.000000\t0.010000\t0.00\t0.00\t0.010000\t0.00\t0.000000\t0.00\t0.000000\t0.00\t0.00\t0.000000\t0.00\t0.00\t0.000000\t0.000000\t0.00\t0.00\t0.030000\t0.00\t0.00\t0.00\t0.020000\t0.010000\t0.000000\t0.00\t0.00\t0.010000\t0.000000\t0.00\t0.01\t0.000000\t0.000000\t0.00\t0.010000\t0.00\t0.010000\t0.00\t0.00\t0.00\t0.00\t0.00\t0.050000\t0.010000\t0.00\t0.01\t0.00\t0.00\t0.00\t0.00\t0.000000\t0.00\t0.00\t0.00\t0.00\t0.00\t0.00\t0.00\t0.000000\t0.00\t0.00\t0.000000\t0.00\t0.000000\t0.01\t0.00\t0.000000\t0.000000\t0.000000\t0.030000\t0.00\t0.00\t0.00\t0.000000\t0.00\t0.01\t0.00\t0.00\t0.00\t0.000000\t0.00\t0.010000\t0.000000\t0.00\t0.00\t0.000000\t0.000000\t0.000000\t0.00\t0.000000\t0.010000\t0.00\t0.00\t0.00\t0.00\t0.00\t0.00\t0.00\t0.000000\t0.020000\t0.000000\t0.00\t0.000000\t0.00\t0.00\t0.010000\t0.000000\t0.00\t0.00\t0.00\t0.00\t0.040000\t0.00\t0.00\t0.00\t0.00\t0.00\t0.000000\t0.000000\t0.00\t0.00\t0.010000\t0.000000\t0.000000\t0.000000\t0.00\t0.00\t0.040000\t0.00\t0.00\t0.00\t0.01\t0.00\t0.000000\t0.000000\t0.00\t0.020000\t0.00\t0.000000\t0.000000\t0.00\t0.010000\t0.00\t0.00\t0.00\t0.00\t0.00\t0.00\t0.00\t0.030000\t0.00\t0.00\t0.00\t0.000000\t0.00\t0.00\t0.00\t0.000000\t0.000000\t0.00\t0.000000\t0.00\t0.00\t0.000000\t0.010000\t0.00\t0.000000\t0.000000\t0.00\t0.00\t0.00\t0.00\t0.00\t0.00\t0.00\t0.00\n",
    "10\tBatu, Kuala Lumpur\t0.000000\t0.00\t0.00\t0.00\t0.000000\t0.000000\t0.00\t0.00\t0.00\t0.000000\t0.000000\t0.00\t0.00\t0.060000\t0.000000\t0.01\t0.00\t0.000000\t0.00\t0.000000\t0.010000\t0.000000\t0.00\t0.010000\t0.010000\t0.00\t0.010000\t0.00\t0.000000\t0.00\t0.00\t0.00\t0.010000\t0.00\t0.00\t0.00\t0.00\t0.000000\t0.00\t0.020000\t0.00\t0.00\t0.000000\t0.00\t0.00\t0.000000\t0.000000\t0.000000\t0.00\t0.00\t0.030000\t0.00\t0.00\t0.000000\t0.00\t0.00\t0.000000\t0.240000\t0.00\t0.00\t0.00\t0.00\t0.030000\t0.00\t0.00\t0.00\t0.00\t0.010000\t0.00\t0.00\t0.00\t0.00\t0.000000\t0.00\t0.00\t0.00\t0.010000\t0.000000\t0.000000\t0.00\t0.00\t0.00\t0.00\t0.00\t0.00\t0.00\t0.00\t0.00\t0.00\t0.00\t0.000000\t0.000000\t0.00\t0.00\t0.00\t0.00\t0.010000\t0.000000\t0.010000\t0.000000\t0.010000\t0.00\t0.030000\t0.00\t0.00\t0.00\t0.00\t0.010000\t0.00\t0.00\t0.000000\t0.000000\t0.000000\t0.00\t0.00\t0.00\t0.00\t0.00\t0.00\t0.000000\t0.00\t0.00\t0.00\t0.00\t0.01\t0.00\t0.00\t0.00\t0.000000\t0.010000\t0.00\t0.00\t0.010000\t0.00\t0.000000\t0.00\t0.000000\t0.00\t0.00\t0.000000\t0.00\t0.00\t0.000000\t0.000000\t0.00\t0.00\t0.030000\t0.00\t0.00\t0.00\t0.020000\t0.010000\t0.000000\t0.00\t0.00\t0.010000\t0.000000\t0.00\t0.01\t0.000000\t0.000000\t0.00\t0.010000\t0.00\t0.010000\t0.00\t0.00\t0.00\t0.00\t0.00\t0.050000\t0.010000\t0.00\t0.01\t0.00\t0.00\t0.00\t0.00\t0.000000\t0.00\t0.00\t0.00\t0.00\t0.00\t0.00\t0.00\t0.000000\t0.00\t0.00\t0.000000\t0.00\t0.000000\t0.01\t0.00\t0.000000\t0.000000\t0.000000\t0.030000\t0.00\t0.00\t0.00\t0.000000\t0.00\t0.01\t0.00\t0.00\t0.00\t0.000000\t0.00\t0.010000\t0.000000\t0.00\t0.00\t0.000000\t0.000000\t0.000000\t0.00\t0.000000\t0.010000\t0.00\t0.00\t0.00\t0.00\t0.00\t0.00\t0.00\t0.000000\t0.020000\t0.000000\t0.00\t0.000000\t0.00\t0.00\t0.010000\t0.000000\t0.00\t0.00\t0.00\t0.00\t0.040000\t0.00\t0.00\t0.00\t0.00\t0.00\t0.000000\t0.000000\t0.00\t0.00\t0.010000\t0.000000\t0.000000\t0.000000\t0.00\t0.00\t0.040000\t0.00\t0.00\t0.00\t0.01\t0.00\t0.000000\t0.000000\t0.00\t0.020000\t0.00\t0.000000\t0.000000\t0.00\t0.010000\t0.00\t0.00\t0.00\t0.00\t0.00\t0.00\t0.00\t0.030000\t0.00\t0.00\t0.00\t0.000000\t0.00\t0.00\t0.00\t0.000000\t0.000000\t0.00\t0.000000\t0.00\t0.00\t0.000000\t0.010000\t0.00\t0.000000\t0.000000\t0.00\t0.00\t0.00\t0.00\t0.00\t0.00\t0.00\t0.00\n",
    "11\tBrickfields\t0.000000\t0.00\t0.00\t0.01\t0.000000\t0.000000\t0.00\t0.00\t0.00\t0.000000\t0.000000\t0.00\t0.01\t0.000000\t0.000000\t0.00\t0.00\t0.000000\t0.00\t0.000000\t0.000000\t0.000000\t0.00\t0.020000\t0.000000\t0.00\t0.000000\t0.00\t0.000000\t0.00\t0.00\t0.00\t0.000000\t0.00\t0.00\t0.01\t0.00\t0.010000\t0.00\t0.000000\t0.00\t0.00\t0.000000\t0.00\t0.00\t0.000000\t0.000000\t0.000000\t0.00\t0.00\t0.050000\t0.00\t0.00\t0.000000\t0.00\t0.00\t0.000000\t0.020000\t0.00\t0.04\t0.00\t0.00\t0.020000\t0.00\t0.00\t0.00\t0.00\t0.010000\t0.00\t0.01\t0.00\t0.00\t0.000000\t0.00\t0.01\t0.00\t0.010000\t0.000000\t0.000000\t0.00\t0.00\t0.00\t0.00\t0.00\t0.00\t0.00\t0.00\t0.00\t0.00\t0.00\t0.000000\t0.010000\t0.00\t0.00\t0.00\t0.00\t0.000000\t0.020000\t0.000000\t0.000000\t0.020000\t0.01\t0.000000\t0.00\t0.00\t0.02\t0.00\t0.000000\t0.00\t0.00\t0.000000\t0.020000\t0.000000\t0.00\t0.00\t0.00\t0.00\t0.00\t0.00\t0.000000\t0.00\t0.00\t0.00\t0.00\t0.02\t0.01\t0.01\t0.00\t0.000000\t0.000000\t0.00\t0.00\t0.000000\t0.00\t0.000000\t0.01\t0.000000\t0.00\t0.00\t0.000000\t0.00\t0.00\t0.000000\t0.060000\t0.02\t0.00\t0.000000\t0.00\t0.00\t0.00\t0.040000\t0.070000\t0.000000\t0.01\t0.00\t0.020000\t0.000000\t0.00\t0.01\t0.000000\t0.000000\t0.00\t0.000000\t0.00\t0.000000\t0.00\t0.00\t0.01\t0.00\t0.01\t0.020000\t0.000000\t0.00\t0.00\t0.00\t0.00\t0.00\t0.00\t0.000000\t0.00\t0.00\t0.00\t0.00\t0.00\t0.00\t0.00\t0.000000\t0.00\t0.02\t0.010000\t0.01\t0.010000\t0.00\t0.00\t0.010000\t0.000000\t0.000000\t0.000000\t0.00\t0.00\t0.01\t0.000000\t0.00\t0.00\t0.00\t0.00\t0.00\t0.020000\t0.01\t0.000000\t0.000000\t0.00\t0.00\t0.000000\t0.000000\t0.000000\t0.00\t0.010000\t0.000000\t0.00\t0.00\t0.00\t0.00\t0.00\t0.00\t0.00\t0.000000\t0.000000\t0.000000\t0.00\t0.000000\t0.00\t0.00\t0.010000\t0.010000\t0.00\t0.00\t0.00\t0.00\t0.000000\t0.00\t0.00\t0.00\t0.05\t0.00\t0.000000\t0.000000\t0.00\t0.01\t0.030000\t0.000000\t0.000000\t0.000000\t0.00\t0.02\t0.020000\t0.00\t0.00\t0.00\t0.00\t0.00\t0.000000\t0.000000\t0.01\t0.040000\t0.00\t0.000000\t0.000000\t0.00\t0.010000\t0.00\t0.00\t0.00\t0.00\t0.00\t0.00\t0.00\t0.000000\t0.01\t0.00\t0.00\t0.000000\t0.00\t0.00\t0.00\t0.000000\t0.000000\t0.00\t0.000000\t0.00\t0.00\t0.000000\t0.010000\t0.00\t0.010000\t0.000000\t0.00\t0.00\t0.00\t0.00\t0.00\t0.00\t0.00\t0.00\n",
    "12\tBukit Bintang\t0.000000\t0.00\t0.00\t0.00\t0.000000\t0.000000\t0.00\t0.00\t0.00\t0.000000\t0.000000\t0.00\t0.01\t0.010000\t0.000000\t0.00\t0.00\t0.000000\t0.00\t0.000000\t0.010000\t0.000000\t0.00\t0.010000\t0.020000\t0.00\t0.000000\t0.00\t0.000000\t0.01\t0.00\t0.00\t0.000000\t0.00\t0.00\t0.01\t0.00\t0.030000\t0.00\t0.000000\t0.00\t0.00\t0.000000\t0.00\t0.00\t0.000000\t0.000000\t0.000000\t0.00\t0.00\t0.050000\t0.00\t0.00\t0.000000\t0.00\t0.00\t0.000000\t0.020000\t0.00\t0.05\t0.00\t0.01\t0.070000\t0.00\t0.00\t0.00\t0.00\t0.020000\t0.00\t0.02\t0.00\t0.00\t0.000000\t0.00\t0.01\t0.00\t0.010000\t0.010000\t0.000000\t0.00\t0.00\t0.00\t0.00\t0.00\t0.00\t0.00\t0.00\t0.00\t0.00\t0.00\t0.000000\t0.000000\t0.00\t0.00\t0.00\t0.00\t0.000000\t0.000000\t0.000000\t0.000000\t0.000000\t0.00\t0.000000\t0.00\t0.00\t0.00\t0.00\t0.010000\t0.00\t0.00\t0.000000\t0.000000\t0.000000\t0.00\t0.00\t0.00\t0.00\t0.00\t0.00\t0.000000\t0.00\t0.00\t0.00\t0.00\t0.00\t0.00\t0.00\t0.01\t0.000000\t0.010000\t0.00\t0.00\t0.000000\t0.00\t0.000000\t0.00\t0.000000\t0.00\t0.00\t0.000000\t0.01\t0.00\t0.000000\t0.100000\t0.00\t0.00\t0.000000\t0.00\t0.00\t0.00\t0.000000\t0.000000\t0.000000\t0.02\t0.01\t0.040000\t0.000000\t0.01\t0.01\t0.000000\t0.000000\t0.00\t0.010000\t0.00\t0.000000\t0.01\t0.01\t0.00\t0.01\t0.05\t0.000000\t0.000000\t0.00\t0.01\t0.00\t0.01\t0.00\t0.00\t0.020000\t0.00\t0.00\t0.00\t0.01\t0.00\t0.00\t0.00\t0.000000\t0.00\t0.00\t0.010000\t0.00\t0.000000\t0.00\t0.00\t0.000000\t0.000000\t0.010000\t0.000000\t0.00\t0.00\t0.00\t0.000000\t0.00\t0.00\t0.00\t0.00\t0.00\t0.000000\t0.00\t0.000000\t0.000000\t0.00\t0.00\t0.000000\t0.000000\t0.000000\t0.00\t0.000000\t0.000000\t0.00\t0.00\t0.00\t0.01\t0.00\t0.00\t0.01\t0.000000\t0.020000\t0.000000\t0.00\t0.000000\t0.00\t0.01\t0.000000\t0.000000\t0.00\t0.00\t0.00\t0.00\t0.000000\t0.00\t0.01\t0.00\t0.03\t0.00\t0.000000\t0.000000\t0.00\t0.00\t0.010000\t0.000000\t0.000000\t0.000000\t0.00\t0.00\t0.010000\t0.01\t0.00\t0.00\t0.01\t0.00\t0.000000\t0.000000\t0.00\t0.000000\t0.01\t0.000000\t0.000000\t0.00\t0.010000\t0.00\t0.01\t0.00\t0.02\t0.00\t0.00\t0.00\t0.020000\t0.00\t0.00\t0.00\t0.000000\t0.00\t0.00\t0.00\t0.000000\t0.000000\t0.00\t0.000000\t0.00\t0.01\t0.000000\t0.010000\t0.00\t0.010000\t0.000000\t0.00\t0.00\t0.00\t0.00\t0.00\t0.00\t0.00\t0.00\n",
    "13\tBukit Jalil\t0.000000\t0.00\t0.00\t0.00\t0.000000\t0.000000\t0.00\t0.00\t0.00\t0.000000\t0.000000\t0.00\t0.00\t0.030000\t0.010000\t0.00\t0.00\t0.000000\t0.00\t0.000000\t0.000000\t0.000000\t0.00\t0.010000\t0.010000\t0.00\t0.000000\t0.00\t0.000000\t0.00\t0.00\t0.00\t0.000000\t0.00\t0.00\t0.00\t0.00\t0.000000\t0.01\t0.010000\t0.00\t0.00\t0.010000\t0.00\t0.00\t0.010000\t0.000000\t0.010000\t0.00\t0.00\t0.140000\t0.00\t0.00\t0.010000\t0.00\t0.00\t0.000000\t0.080000\t0.00\t0.00\t0.00\t0.00\t0.080000\t0.00\t0.00\t0.00\t0.01\t0.020000\t0.00\t0.00\t0.00\t0.00\t0.010000\t0.00\t0.00\t0.00\t0.010000\t0.000000\t0.000000\t0.00\t0.00\t0.00\t0.00\t0.00\t0.00\t0.00\t0.01\t0.00\t0.00\t0.00\t0.000000\t0.000000\t0.01\t0.00\t0.00\t0.00\t0.000000\t0.000000\t0.000000\t0.030000\t0.000000\t0.00\t0.010000\t0.00\t0.00\t0.00\t0.00\t0.000000\t0.00\t0.00\t0.000000\t0.010000\t0.000000\t0.00\t0.00\t0.00\t0.00\t0.00\t0.00\t0.030000\t0.00\t0.02\t0.00\t0.01\t0.01\t0.01\t0.00\t0.00\t0.000000\t0.000000\t0.00\t0.00\t0.000000\t0.00\t0.000000\t0.00\t0.000000\t0.01\t0.00\t0.000000\t0.00\t0.00\t0.000000\t0.000000\t0.00\t0.00\t0.010000\t0.01\t0.00\t0.00\t0.020000\t0.020000\t0.000000\t0.00\t0.00\t0.030000\t0.000000\t0.00\t0.00\t0.000000\t0.000000\t0.00\t0.040000\t0.00\t0.000000\t0.00\t0.00\t0.00\t0.00\t0.00\t0.010000\t0.000000\t0.01\t0.02\t0.00\t0.00\t0.00\t0.00\t0.020000\t0.00\t0.00\t0.00\t0.00\t0.00\t0.00\t0.00\t0.000000\t0.00\t0.00\t0.000000\t0.00\t0.000000\t0.00\t0.00\t0.000000\t0.000000\t0.000000\t0.010000\t0.00\t0.01\t0.00\t0.000000\t0.00\t0.00\t0.00\t0.00\t0.00\t0.010000\t0.00\t0.010000\t0.010000\t0.00\t0.00\t0.000000\t0.000000\t0.010000\t0.00\t0.000000\t0.000000\t0.00\t0.00\t0.00\t0.00\t0.00\t0.00\t0.00\t0.000000\t0.020000\t0.000000\t0.00\t0.000000\t0.00\t0.00\t0.010000\t0.000000\t0.00\t0.00\t0.00\t0.00\t0.000000\t0.00\t0.00\t0.00\t0.00\t0.00\t0.000000\t0.000000\t0.00\t0.00\t0.000000\t0.000000\t0.010000\t0.000000\t0.00\t0.00\t0.000000\t0.00\t0.00\t0.00\t0.00\t0.00\t0.000000\t0.000000\t0.01\t0.000000\t0.00\t0.000000\t0.000000\t0.00\t0.010000\t0.01\t0.00\t0.00\t0.00\t0.00\t0.00\t0.00\t0.010000\t0.00\t0.00\t0.00\t0.000000\t0.00\t0.00\t0.00\t0.000000\t0.000000\t0.00\t0.000000\t0.00\t0.00\t0.000000\t0.020000\t0.00\t0.010000\t0.000000\t0.00\t0.00\t0.01\t0.00\t0.00\t0.00\t0.00\t0.00\n",
    "14\tBukit Kiara\t0.000000\t0.00\t0.00\t0.00\t0.000000\t0.000000\t0.00\t0.00\t0.00\t0.000000\t0.000000\t0.00\t0.00\t0.030000\t0.010000\t0.00\t0.00\t0.000000\t0.00\t0.000000\t0.010000\t0.010000\t0.00\t0.040000\t0.030000\t0.00\t0.010000\t0.00\t0.000000\t0.00\t0.00\t0.00\t0.000000\t0.00\t0.00\t0.00\t0.01\t0.000000\t0.00\t0.000000\t0.00\t0.00\t0.000000\t0.00\t0.00\t0.000000\t0.000000\t0.000000\t0.00\t0.00\t0.050000\t0.00\t0.00\t0.000000\t0.00\t0.00\t0.000000\t0.040000\t0.00\t0.00\t0.00\t0.01\t0.030000\t0.00\t0.00\t0.00\t0.00\t0.010000\t0.00\t0.00\t0.00\t0.01\t0.000000\t0.01\t0.00\t0.00\t0.000000\t0.000000\t0.000000\t0.01\t0.00\t0.00\t0.00\t0.00\t0.00\t0.00\t0.00\t0.00\t0.00\t0.00\t0.000000\t0.000000\t0.00\t0.00\t0.00\t0.00\t0.000000\t0.000000\t0.000000\t0.000000\t0.000000\t0.00\t0.010000\t0.00\t0.00\t0.00\t0.00\t0.000000\t0.00\t0.00\t0.000000\t0.000000\t0.000000\t0.00\t0.01\t0.00\t0.00\t0.01\t0.00\t0.020000\t0.00\t0.00\t0.00\t0.01\t0.01\t0.00\t0.00\t0.00\t0.000000\t0.010000\t0.00\t0.00\t0.000000\t0.00\t0.000000\t0.00\t0.000000\t0.00\t0.00\t0.000000\t0.00\t0.00\t0.000000\t0.010000\t0.00\t0.00\t0.000000\t0.00\t0.00\t0.00\t0.020000\t0.030000\t0.000000\t0.02\t0.00\t0.020000\t0.000000\t0.00\t0.01\t0.000000\t0.000000\t0.00\t0.000000\t0.00\t0.010000\t0.00\t0.00\t0.00\t0.00\t0.02\t0.050000\t0.000000\t0.00\t0.00\t0.00\t0.00\t0.00\t0.00\t0.010000\t0.00\t0.00\t0.01\t0.00\t0.00\t0.00\t0.00\t0.000000\t0.00\t0.00\t0.000000\t0.00\t0.000000\t0.01\t0.00\t0.000000\t0.000000\t0.000000\t0.010000\t0.01\t0.00\t0.00\t0.000000\t0.00\t0.00\t0.00\t0.00\t0.01\t0.000000\t0.02\t0.000000\t0.000000\t0.00\t0.01\t0.010000\t0.000000\t0.000000\t0.00\t0.000000\t0.000000\t0.04\t0.01\t0.00\t0.00\t0.00\t0.00\t0.00\t0.000000\t0.030000\t0.000000\t0.00\t0.000000\t0.01\t0.01\t0.000000\t0.000000\t0.00\t0.00\t0.00\t0.00\t0.000000\t0.00\t0.00\t0.00\t0.00\t0.03\t0.000000\t0.000000\t0.00\t0.00\t0.000000\t0.000000\t0.000000\t0.000000\t0.00\t0.01\t0.000000\t0.00\t0.01\t0.00\t0.00\t0.01\t0.000000\t0.000000\t0.00\t0.010000\t0.00\t0.010000\t0.000000\t0.00\t0.020000\t0.00\t0.00\t0.00\t0.00\t0.00\t0.00\t0.00\t0.030000\t0.00\t0.00\t0.00\t0.000000\t0.00\t0.00\t0.00\t0.000000\t0.010000\t0.00\t0.000000\t0.00\t0.00\t0.000000\t0.000000\t0.00\t0.010000\t0.000000\t0.00\t0.00\t0.03\t0.00\t0.00\t0.01\t0.01\t0.01\n",
    "15\tBukit Nanas\t0.000000\t0.00\t0.00\t0.00\t0.000000\t0.000000\t0.00\t0.00\t0.00\t0.000000\t0.000000\t0.00\t0.00\t0.000000\t0.010000\t0.00\t0.00\t0.000000\t0.00\t0.000000\t0.010000\t0.000000\t0.00\t0.000000\t0.020000\t0.00\t0.000000\t0.00\t0.000000\t0.01\t0.00\t0.00\t0.010000\t0.00\t0.00\t0.01\t0.00\t0.010000\t0.00\t0.000000\t0.00\t0.00\t0.000000\t0.00\t0.01\t0.000000\t0.000000\t0.000000\t0.00\t0.00\t0.040000\t0.00\t0.00\t0.000000\t0.00\t0.01\t0.000000\t0.030000\t0.00\t0.00\t0.00\t0.02\t0.020000\t0.00\t0.00\t0.00\t0.00\t0.030000\t0.00\t0.01\t0.00\t0.00\t0.000000\t0.00\t0.01\t0.00\t0.010000\t0.010000\t0.000000\t0.00\t0.00\t0.00\t0.00\t0.00\t0.00\t0.00\t0.00\t0.01\t0.00\t0.00\t0.000000\t0.000000\t0.00\t0.00\t0.00\t0.00\t0.000000\t0.010000\t0.000000\t0.000000\t0.000000\t0.00\t0.020000\t0.00\t0.00\t0.00\t0.00\t0.000000\t0.00\t0.00\t0.000000\t0.000000\t0.000000\t0.00\t0.00\t0.00\t0.00\t0.00\t0.00\t0.000000\t0.00\t0.00\t0.00\t0.00\t0.01\t0.00\t0.00\t0.01\t0.000000\t0.010000\t0.00\t0.00\t0.000000\t0.00\t0.000000\t0.00\t0.000000\t0.00\t0.00\t0.000000\t0.02\t0.00\t0.000000\t0.130000\t0.00\t0.01\t0.000000\t0.00\t0.00\t0.01\t0.000000\t0.010000\t0.010000\t0.02\t0.00\t0.010000\t0.000000\t0.01\t0.01\t0.000000\t0.000000\t0.00\t0.000000\t0.00\t0.000000\t0.01\t0.00\t0.00\t0.00\t0.04\t0.010000\t0.000000\t0.00\t0.01\t0.00\t0.00\t0.01\t0.00\t0.010000\t0.00\t0.00\t0.00\t0.02\t0.01\t0.00\t0.00\t0.000000\t0.00\t0.00\t0.020000\t0.00\t0.000000\t0.00\t0.00\t0.000000\t0.000000\t0.000000\t0.020000\t0.00\t0.00\t0.00\t0.000000\t0.00\t0.00\t0.00\t0.00\t0.00\t0.010000\t0.00\t0.000000\t0.000000\t0.00\t0.00\t0.000000\t0.000000\t0.000000\t0.00\t0.000000\t0.000000\t0.00\t0.00\t0.00\t0.00\t0.00\t0.00\t0.01\t0.000000\t0.010000\t0.000000\t0.00\t0.000000\t0.00\t0.01\t0.000000\t0.000000\t0.00\t0.00\t0.01\t0.00\t0.010000\t0.00\t0.00\t0.00\t0.03\t0.00\t0.000000\t0.000000\t0.00\t0.00\t0.000000\t0.000000\t0.000000\t0.020000\t0.00\t0.01\t0.020000\t0.01\t0.01\t0.00\t0.00\t0.00\t0.000000\t0.000000\t0.00\t0.000000\t0.01\t0.000000\t0.000000\t0.00\t0.010000\t0.00\t0.02\t0.00\t0.00\t0.00\t0.00\t0.00\t0.020000\t0.00\t0.00\t0.00\t0.000000\t0.01\t0.00\t0.00\t0.000000\t0.000000\t0.00\t0.000000\t0.00\t0.01\t0.000000\t0.010000\t0.00\t0.000000\t0.000000\t0.00\t0.00\t0.00\t0.00\t0.00\t0.00\t0.00\t0.00\n",
    "16\tBukit Petaling\t0.010000\t0.00\t0.00\t0.00\t0.000000\t0.000000\t0.00\t0.00\t0.00\t0.000000\t0.000000\t0.00\t0.00\t0.010000\t0.000000\t0.00\t0.00\t0.000000\t0.00\t0.000000\t0.000000\t0.000000\t0.00\t0.020000\t0.000000\t0.00\t0.000000\t0.00\t0.000000\t0.00\t0.00\t0.00\t0.000000\t0.00\t0.00\t0.01\t0.00\t0.010000\t0.00\t0.010000\t0.00\t0.00\t0.000000\t0.00\t0.00\t0.000000\t0.000000\t0.000000\t0.00\t0.00\t0.080000\t0.00\t0.00\t0.000000\t0.00\t0.00\t0.000000\t0.110000\t0.00\t0.02\t0.00\t0.01\t0.030000\t0.00\t0.00\t0.00\t0.00\t0.020000\t0.00\t0.01\t0.00\t0.00\t0.000000\t0.00\t0.00\t0.00\t0.020000\t0.000000\t0.000000\t0.00\t0.00\t0.00\t0.00\t0.00\t0.00\t0.00\t0.00\t0.01\t0.00\t0.00\t0.000000\t0.000000\t0.00\t0.00\t0.00\t0.00\t0.000000\t0.010000\t0.000000\t0.000000\t0.010000\t0.01\t0.020000\t0.00\t0.01\t0.01\t0.00\t0.000000\t0.00\t0.00\t0.000000\t0.010000\t0.000000\t0.00\t0.00\t0.00\t0.00\t0.00\t0.01\t0.000000\t0.00\t0.00\t0.00\t0.00\t0.00\t0.00\t0.00\t0.00\t0.000000\t0.010000\t0.00\t0.00\t0.000000\t0.00\t0.000000\t0.00\t0.000000\t0.00\t0.00\t0.000000\t0.02\t0.00\t0.000000\t0.080000\t0.02\t0.00\t0.000000\t0.00\t0.00\t0.00\t0.000000\t0.040000\t0.000000\t0.00\t0.00\t0.010000\t0.000000\t0.00\t0.00\t0.000000\t0.000000\t0.00\t0.000000\t0.00\t0.000000\t0.00\t0.00\t0.00\t0.00\t0.01\t0.050000\t0.010000\t0.00\t0.00\t0.00\t0.00\t0.00\t0.00\t0.000000\t0.00\t0.00\t0.00\t0.00\t0.00\t0.00\t0.02\t0.000000\t0.00\t0.00\t0.010000\t0.01\t0.000000\t0.00\t0.00\t0.000000\t0.000000\t0.000000\t0.020000\t0.00\t0.00\t0.00\t0.000000\t0.00\t0.00\t0.00\t0.00\t0.00\t0.010000\t0.01\t0.000000\t0.000000\t0.00\t0.00\t0.000000\t0.000000\t0.000000\t0.00\t0.000000\t0.000000\t0.00\t0.00\t0.00\t0.00\t0.00\t0.00\t0.00\t0.000000\t0.020000\t0.000000\t0.00\t0.000000\t0.00\t0.00\t0.000000\t0.010000\t0.00\t0.00\t0.00\t0.00\t0.000000\t0.00\t0.00\t0.00\t0.01\t0.00\t0.000000\t0.000000\t0.00\t0.00\t0.010000\t0.000000\t0.000000\t0.010000\t0.00\t0.02\t0.020000\t0.00\t0.02\t0.00\t0.00\t0.00\t0.000000\t0.000000\t0.01\t0.010000\t0.00\t0.000000\t0.000000\t0.00\t0.010000\t0.00\t0.00\t0.00\t0.01\t0.00\t0.01\t0.00\t0.000000\t0.01\t0.00\t0.00\t0.000000\t0.00\t0.00\t0.00\t0.000000\t0.000000\t0.00\t0.000000\t0.00\t0.00\t0.000000\t0.020000\t0.00\t0.000000\t0.000000\t0.00\t0.00\t0.00\t0.00\t0.00\t0.00\t0.00\t0.00\n",
    "17\tBukit Tunku\t0.000000\t0.00\t0.00\t0.00\t0.000000\t0.000000\t0.00\t0.00\t0.00\t0.010000\t0.020000\t0.00\t0.00\t0.030000\t0.010000\t0.00\t0.00\t0.000000\t0.00\t0.000000\t0.000000\t0.000000\t0.00\t0.030000\t0.000000\t0.00\t0.000000\t0.00\t0.000000\t0.00\t0.01\t0.00\t0.020000\t0.00\t0.00\t0.00\t0.00\t0.000000\t0.00\t0.000000\t0.00\t0.00\t0.010000\t0.00\t0.00\t0.010000\t0.000000\t0.000000\t0.00\t0.00\t0.080000\t0.00\t0.00\t0.000000\t0.00\t0.00\t0.000000\t0.110000\t0.00\t0.03\t0.00\t0.00\t0.030000\t0.00\t0.00\t0.00\t0.00\t0.010000\t0.00\t0.00\t0.00\t0.00\t0.010000\t0.00\t0.00\t0.00\t0.010000\t0.010000\t0.010000\t0.00\t0.00\t0.00\t0.00\t0.00\t0.00\t0.00\t0.01\t0.00\t0.00\t0.00\t0.000000\t0.000000\t0.00\t0.00\t0.00\t0.00\t0.020000\t0.000000\t0.000000\t0.000000\t0.010000\t0.01\t0.000000\t0.00\t0.00\t0.00\t0.00\t0.000000\t0.00\t0.00\t0.000000\t0.000000\t0.000000\t0.00\t0.00\t0.00\t0.01\t0.00\t0.00\t0.000000\t0.00\t0.00\t0.00\t0.00\t0.00\t0.00\t0.00\t0.00\t0.000000\t0.020000\t0.00\t0.00\t0.000000\t0.00\t0.000000\t0.00\t0.000000\t0.01\t0.00\t0.010000\t0.01\t0.00\t0.000000\t0.040000\t0.00\t0.00\t0.000000\t0.00\t0.00\t0.00\t0.020000\t0.040000\t0.000000\t0.00\t0.00\t0.040000\t0.000000\t0.00\t0.00\t0.000000\t0.000000\t0.00\t0.010000\t0.00\t0.000000\t0.00\t0.00\t0.00\t0.00\t0.00\t0.010000\t0.000000\t0.00\t0.00\t0.00\t0.00\t0.00\t0.00\t0.000000\t0.00\t0.00\t0.00\t0.00\t0.00\t0.00\t0.00\t0.020000\t0.00\t0.01\t0.000000\t0.00\t0.000000\t0.00\t0.00\t0.000000\t0.000000\t0.000000\t0.000000\t0.00\t0.00\t0.00\t0.000000\t0.00\t0.00\t0.01\t0.00\t0.00\t0.020000\t0.01\t0.000000\t0.000000\t0.00\t0.00\t0.010000\t0.000000\t0.000000\t0.00\t0.020000\t0.000000\t0.01\t0.00\t0.00\t0.00\t0.00\t0.01\t0.00\t0.000000\t0.030000\t0.000000\t0.00\t0.000000\t0.00\t0.00\t0.000000\t0.010000\t0.00\t0.00\t0.00\t0.00\t0.020000\t0.00\t0.00\t0.00\t0.02\t0.00\t0.000000\t0.000000\t0.00\t0.00\t0.000000\t0.000000\t0.000000\t0.000000\t0.00\t0.00\t0.040000\t0.00\t0.00\t0.00\t0.00\t0.00\t0.000000\t0.010000\t0.00\t0.000000\t0.00\t0.000000\t0.000000\t0.00\t0.000000\t0.00\t0.00\t0.00\t0.00\t0.00\t0.01\t0.00\t0.010000\t0.00\t0.00\t0.00\t0.000000\t0.00\t0.00\t0.00\t0.000000\t0.000000\t0.00\t0.000000\t0.00\t0.00\t0.000000\t0.000000\t0.00\t0.000000\t0.000000\t0.01\t0.00\t0.00\t0.00\t0.00\t0.00\t0.00\t0.00\n",
    "18\tCheras, Kuala Lumpur\t0.000000\t0.00\t0.00\t0.00\t0.000000\t0.000000\t0.00\t0.00\t0.00\t0.000000\t0.000000\t0.00\t0.00\t0.060000\t0.010000\t0.00\t0.00\t0.000000\t0.00\t0.000000\t0.000000\t0.010000\t0.00\t0.010000\t0.000000\t0.00\t0.000000\t0.00\t0.000000\t0.00\t0.00\t0.00\t0.010000\t0.00\t0.00\t0.00\t0.00\t0.000000\t0.00\t0.000000\t0.00\t0.00\t0.010000\t0.00\t0.00\t0.010000\t0.000000\t0.000000\t0.00\t0.00\t0.030000\t0.00\t0.00\t0.020000\t0.00\t0.00\t0.010000\t0.130000\t0.00\t0.00\t0.00\t0.00\t0.010000\t0.01\t0.00\t0.00\t0.00\t0.060000\t0.00\t0.00\t0.00\t0.00\t0.000000\t0.00\t0.00\t0.00\t0.010000\t0.020000\t0.010000\t0.00\t0.00\t0.00\t0.00\t0.00\t0.00\t0.00\t0.00\t0.00\t0.00\t0.00\t0.010000\t0.000000\t0.00\t0.00\t0.00\t0.00\t0.010000\t0.000000\t0.000000\t0.000000\t0.020000\t0.00\t0.010000\t0.00\t0.00\t0.00\t0.00\t0.000000\t0.00\t0.00\t0.000000\t0.010000\t0.000000\t0.00\t0.00\t0.00\t0.00\t0.00\t0.00\t0.000000\t0.00\t0.00\t0.00\t0.01\t0.01\t0.02\t0.00\t0.00\t0.010000\t0.020000\t0.00\t0.00\t0.000000\t0.00\t0.000000\t0.00\t0.000000\t0.00\t0.00\t0.010000\t0.00\t0.00\t0.000000\t0.010000\t0.00\t0.00\t0.000000\t0.00\t0.00\t0.00\t0.000000\t0.030000\t0.000000\t0.00\t0.00\t0.010000\t0.000000\t0.00\t0.00\t0.000000\t0.000000\t0.00\t0.000000\t0.00\t0.000000\t0.00\t0.00\t0.00\t0.00\t0.00\t0.070000\t0.000000\t0.00\t0.00\t0.00\t0.00\t0.00\t0.00\t0.010000\t0.00\t0.00\t0.00\t0.00\t0.00\t0.00\t0.00\t0.000000\t0.00\t0.00\t0.010000\t0.00\t0.000000\t0.00\t0.00\t0.000000\t0.000000\t0.000000\t0.060000\t0.00\t0.00\t0.00\t0.010000\t0.00\t0.00\t0.00\t0.00\t0.00\t0.010000\t0.00\t0.010000\t0.010000\t0.00\t0.00\t0.010000\t0.000000\t0.000000\t0.00\t0.000000\t0.010000\t0.00\t0.00\t0.00\t0.00\t0.00\t0.00\t0.00\t0.010000\t0.030000\t0.000000\t0.00\t0.000000\t0.00\t0.00\t0.000000\t0.010000\t0.00\t0.00\t0.00\t0.00\t0.010000\t0.00\t0.00\t0.00\t0.00\t0.00\t0.000000\t0.000000\t0.00\t0.00\t0.030000\t0.000000\t0.000000\t0.000000\t0.00\t0.00\t0.010000\t0.00\t0.00\t0.00\t0.00\t0.00\t0.000000\t0.000000\t0.00\t0.020000\t0.00\t0.010000\t0.010000\t0.00\t0.000000\t0.00\t0.00\t0.00\t0.00\t0.00\t0.00\t0.00\t0.000000\t0.00\t0.00\t0.00\t0.000000\t0.00\t0.00\t0.00\t0.000000\t0.010000\t0.00\t0.000000\t0.00\t0.00\t0.000000\t0.010000\t0.00\t0.000000\t0.000000\t0.00\t0.00\t0.00\t0.01\t0.00\t0.00\t0.00\t0.00\n",
    "19\tChow Kit\t0.000000\t0.01\t0.00\t0.00\t0.000000\t0.000000\t0.00\t0.00\t0.00\t0.000000\t0.000000\t0.00\t0.00\t0.030000\t0.010000\t0.00\t0.00\t0.000000\t0.00\t0.000000\t0.010000\t0.000000\t0.00\t0.000000\t0.020000\t0.00\t0.000000\t0.00\t0.000000\t0.00\t0.00\t0.00\t0.000000\t0.00\t0.00\t0.01\t0.00\t0.010000\t0.00\t0.000000\t0.00\t0.00\t0.000000\t0.00\t0.01\t0.000000\t0.000000\t0.000000\t0.00\t0.00\t0.010000\t0.00\t0.00\t0.000000\t0.00\t0.01\t0.000000\t0.050000\t0.00\t0.02\t0.00\t0.02\t0.030000\t0.00\t0.00\t0.00\t0.01\t0.010000\t0.00\t0.01\t0.00\t0.00\t0.010000\t0.00\t0.00\t0.00\t0.000000\t0.020000\t0.000000\t0.00\t0.00\t0.00\t0.00\t0.00\t0.00\t0.00\t0.00\t0.00\t0.00\t0.00\t0.000000\t0.000000\t0.00\t0.00\t0.00\t0.00\t0.010000\t0.000000\t0.000000\t0.000000\t0.010000\t0.00\t0.000000\t0.00\t0.00\t0.00\t0.00\t0.000000\t0.00\t0.00\t0.000000\t0.000000\t0.000000\t0.00\t0.00\t0.00\t0.00\t0.00\t0.00\t0.000000\t0.00\t0.00\t0.00\t0.00\t0.01\t0.00\t0.00\t0.00\t0.000000\t0.000000\t0.00\t0.00\t0.000000\t0.00\t0.000000\t0.00\t0.000000\t0.00\t0.00\t0.000000\t0.00\t0.00\t0.000000\t0.110000\t0.00\t0.01\t0.000000\t0.00\t0.00\t0.01\t0.000000\t0.010000\t0.010000\t0.01\t0.00\t0.010000\t0.000000\t0.01\t0.00\t0.000000\t0.000000\t0.00\t0.000000\t0.00\t0.000000\t0.01\t0.00\t0.00\t0.00\t0.01\t0.090000\t0.000000\t0.00\t0.00\t0.00\t0.00\t0.01\t0.00\t0.010000\t0.00\t0.01\t0.00\t0.01\t0.01\t0.00\t0.00\t0.000000\t0.00\t0.00\t0.010000\t0.02\t0.000000\t0.00\t0.00\t0.000000\t0.000000\t0.000000\t0.000000\t0.00\t0.00\t0.00\t0.000000\t0.00\t0.00\t0.00\t0.00\t0.00\t0.000000\t0.00\t0.000000\t0.000000\t0.00\t0.00\t0.010000\t0.000000\t0.000000\t0.00\t0.010000\t0.000000\t0.00\t0.00\t0.00\t0.00\t0.00\t0.00\t0.01\t0.000000\t0.010000\t0.000000\t0.00\t0.000000\t0.00\t0.00\t0.000000\t0.020000\t0.00\t0.00\t0.01\t0.00\t0.020000\t0.00\t0.01\t0.00\t0.03\t0.00\t0.000000\t0.000000\t0.00\t0.00\t0.000000\t0.000000\t0.000000\t0.020000\t0.00\t0.00\t0.010000\t0.00\t0.00\t0.00\t0.01\t0.00\t0.000000\t0.000000\t0.00\t0.010000\t0.00\t0.000000\t0.000000\t0.00\t0.000000\t0.00\t0.00\t0.00\t0.00\t0.00\t0.00\t0.00\t0.050000\t0.02\t0.01\t0.00\t0.000000\t0.01\t0.00\t0.00\t0.000000\t0.000000\t0.00\t0.000000\t0.00\t0.00\t0.000000\t0.000000\t0.00\t0.000000\t0.000000\t0.01\t0.00\t0.00\t0.00\t0.00\t0.01\t0.00\t0.00\n",
    "20\tDamansara Heights\t0.000000\t0.00\t0.00\t0.00\t0.000000\t0.000000\t0.00\t0.00\t0.00\t0.000000\t0.000000\t0.00\t0.02\t0.020000\t0.000000\t0.00\t0.00\t0.000000\t0.00\t0.000000\t0.010000\t0.000000\t0.00\t0.000000\t0.040000\t0.00\t0.000000\t0.00\t0.000000\t0.00\t0.00\t0.00\t0.020000\t0.00\t0.00\t0.00\t0.00\t0.030000\t0.00\t0.000000\t0.00\t0.01\t0.000000\t0.00\t0.00\t0.010000\t0.000000\t0.000000\t0.00\t0.00\t0.060000\t0.00\t0.00\t0.010000\t0.00\t0.00\t0.000000\t0.030000\t0.00\t0.01\t0.01\t0.01\t0.030000\t0.00\t0.00\t0.00\t0.00\t0.000000\t0.00\t0.02\t0.00\t0.01\t0.000000\t0.00\t0.00\t0.00\t0.000000\t0.000000\t0.000000\t0.01\t0.00\t0.00\t0.00\t0.00\t0.00\t0.00\t0.00\t0.00\t0.00\t0.00\t0.000000\t0.000000\t0.00\t0.00\t0.00\t0.00\t0.000000\t0.000000\t0.000000\t0.000000\t0.000000\t0.00\t0.020000\t0.00\t0.00\t0.01\t0.00\t0.000000\t0.00\t0.00\t0.000000\t0.010000\t0.000000\t0.00\t0.00\t0.00\t0.00\t0.00\t0.00\t0.000000\t0.00\t0.00\t0.00\t0.02\t0.01\t0.01\t0.00\t0.00\t0.000000\t0.010000\t0.00\t0.00\t0.010000\t0.00\t0.000000\t0.00\t0.000000\t0.00\t0.00\t0.000000\t0.00\t0.00\t0.000000\t0.020000\t0.00\t0.00\t0.000000\t0.00\t0.00\t0.00\t0.040000\t0.050000\t0.000000\t0.03\t0.00\t0.010000\t0.000000\t0.00\t0.00\t0.000000\t0.000000\t0.01\t0.000000\t0.00\t0.000000\t0.00\t0.00\t0.00\t0.00\t0.01\t0.030000\t0.000000\t0.00\t0.01\t0.01\t0.00\t0.00\t0.01\t0.000000\t0.00\t0.00\t0.01\t0.01\t0.00\t0.00\t0.00\t0.000000\t0.00\t0.00\t0.000000\t0.00\t0.000000\t0.00\t0.00\t0.000000\t0.000000\t0.010000\t0.000000\t0.01\t0.00\t0.01\t0.000000\t0.00\t0.00\t0.00\t0.00\t0.00\t0.010000\t0.00\t0.000000\t0.000000\t0.01\t0.01\t0.010000\t0.010000\t0.000000\t0.00\t0.000000\t0.000000\t0.01\t0.00\t0.00\t0.00\t0.00\t0.00\t0.00\t0.000000\t0.000000\t0.000000\t0.00\t0.000000\t0.01\t0.00\t0.000000\t0.000000\t0.00\t0.00\t0.00\t0.00\t0.000000\t0.00\t0.00\t0.00\t0.02\t0.00\t0.000000\t0.000000\t0.00\t0.01\t0.000000\t0.000000\t0.000000\t0.000000\t0.00\t0.00\t0.020000\t0.01\t0.00\t0.00\t0.00\t0.00\t0.000000\t0.000000\t0.00\t0.020000\t0.01\t0.010000\t0.000000\t0.00\t0.000000\t0.00\t0.00\t0.00\t0.00\t0.00\t0.00\t0.01\t0.030000\t0.00\t0.00\t0.00\t0.000000\t0.00\t0.00\t0.00\t0.000000\t0.000000\t0.00\t0.000000\t0.00\t0.00\t0.000000\t0.000000\t0.00\t0.000000\t0.000000\t0.00\t0.00\t0.04\t0.00\t0.00\t0.00\t0.01\t0.00\n",
    "21\tDamansara Town Centre\t0.010000\t0.00\t0.00\t0.00\t0.000000\t0.000000\t0.00\t0.00\t0.00\t0.000000\t0.000000\t0.00\t0.00\t0.030000\t0.000000\t0.00\t0.00\t0.000000\t0.00\t0.000000\t0.000000\t0.000000\t0.00\t0.040000\t0.030000\t0.00\t0.000000\t0.00\t0.000000\t0.00\t0.00\t0.00\t0.000000\t0.00\t0.00\t0.01\t0.01\t0.010000\t0.00\t0.000000\t0.00\t0.00\t0.000000\t0.00\t0.00\t0.040000\t0.000000\t0.000000\t0.00\t0.00\t0.090000\t0.00\t0.00\t0.000000\t0.00\t0.00\t0.000000\t0.020000\t0.00\t0.01\t0.00\t0.01\t0.020000\t0.00\t0.00\t0.00\t0.00\t0.020000\t0.00\t0.00\t0.01\t0.00\t0.000000\t0.01\t0.00\t0.00\t0.040000\t0.000000\t0.010000\t0.00\t0.00\t0.00\t0.00\t0.00\t0.00\t0.00\t0.01\t0.00\t0.00\t0.00\t0.000000\t0.000000\t0.00\t0.01\t0.00\t0.00\t0.000000\t0.000000\t0.000000\t0.000000\t0.030000\t0.00\t0.000000\t0.00\t0.00\t0.00\t0.01\t0.010000\t0.01\t0.00\t0.000000\t0.000000\t0.000000\t0.00\t0.01\t0.00\t0.00\t0.02\t0.00\t0.010000\t0.00\t0.00\t0.00\t0.00\t0.02\t0.00\t0.00\t0.00\t0.000000\t0.000000\t0.00\t0.00\t0.000000\t0.00\t0.000000\t0.00\t0.000000\t0.00\t0.00\t0.000000\t0.00\t0.00\t0.000000\t0.010000\t0.00\t0.00\t0.000000\t0.00\t0.00\t0.00\t0.030000\t0.010000\t0.000000\t0.00\t0.00\t0.010000\t0.000000\t0.00\t0.01\t0.000000\t0.000000\t0.00\t0.020000\t0.00\t0.010000\t0.00\t0.00\t0.00\t0.00\t0.01\t0.020000\t0.000000\t0.00\t0.02\t0.00\t0.00\t0.00\t0.00\t0.000000\t0.00\t0.00\t0.00\t0.00\t0.00\t0.00\t0.00\t0.000000\t0.00\t0.01\t0.020000\t0.00\t0.000000\t0.00\t0.00\t0.000000\t0.000000\t0.000000\t0.010000\t0.00\t0.00\t0.01\t0.000000\t0.00\t0.00\t0.00\t0.00\t0.00\t0.000000\t0.01\t0.000000\t0.010000\t0.00\t0.01\t0.000000\t0.000000\t0.000000\t0.00\t0.000000\t0.000000\t0.01\t0.00\t0.00\t0.00\t0.00\t0.00\t0.00\t0.000000\t0.020000\t0.000000\t0.01\t0.000000\t0.00\t0.01\t0.000000\t0.000000\t0.00\t0.00\t0.00\t0.00\t0.000000\t0.00\t0.01\t0.00\t0.03\t0.00\t0.000000\t0.000000\t0.00\t0.00\t0.020000\t0.000000\t0.000000\t0.000000\t0.00\t0.00\t0.000000\t0.00\t0.01\t0.00\t0.00\t0.00\t0.000000\t0.000000\t0.00\t0.000000\t0.00\t0.010000\t0.000000\t0.00\t0.020000\t0.00\t0.00\t0.00\t0.00\t0.00\t0.00\t0.00\t0.030000\t0.00\t0.00\t0.00\t0.000000\t0.00\t0.00\t0.00\t0.000000\t0.010000\t0.00\t0.000000\t0.00\t0.00\t0.000000\t0.000000\t0.00\t0.000000\t0.000000\t0.00\t0.00\t0.00\t0.00\t0.00\t0.01\t0.01\t0.00\n",
    "22\tDamansara, Kuala Lumpur\t0.010000\t0.00\t0.00\t0.00\t0.000000\t0.000000\t0.00\t0.00\t0.00\t0.000000\t0.000000\t0.00\t0.00\t0.030000\t0.000000\t0.00\t0.00\t0.000000\t0.00\t0.000000\t0.000000\t0.000000\t0.00\t0.040000\t0.030000\t0.00\t0.000000\t0.00\t0.000000\t0.00\t0.00\t0.00\t0.000000\t0.00\t0.00\t0.01\t0.01\t0.010000\t0.00\t0.000000\t0.00\t0.00\t0.000000\t0.00\t0.00\t0.040000\t0.000000\t0.000000\t0.00\t0.00\t0.090000\t0.00\t0.00\t0.000000\t0.00\t0.00\t0.000000\t0.020000\t0.00\t0.01\t0.00\t0.01\t0.020000\t0.00\t0.00\t0.00\t0.00\t0.020000\t0.00\t0.00\t0.01\t0.00\t0.000000\t0.01\t0.00\t0.00\t0.040000\t0.000000\t0.010000\t0.00\t0.00\t0.00\t0.00\t0.00\t0.00\t0.00\t0.01\t0.00\t0.00\t0.00\t0.000000\t0.000000\t0.00\t0.01\t0.00\t0.00\t0.000000\t0.000000\t0.000000\t0.000000\t0.030000\t0.00\t0.000000\t0.00\t0.00\t0.00\t0.01\t0.010000\t0.01\t0.00\t0.000000\t0.000000\t0.000000\t0.00\t0.01\t0.00\t0.00\t0.02\t0.00\t0.010000\t0.00\t0.00\t0.00\t0.00\t0.02\t0.00\t0.00\t0.00\t0.000000\t0.000000\t0.00\t0.00\t0.000000\t0.00\t0.000000\t0.00\t0.000000\t0.00\t0.00\t0.000000\t0.00\t0.00\t0.000000\t0.010000\t0.00\t0.00\t0.000000\t0.00\t0.00\t0.00\t0.030000\t0.010000\t0.000000\t0.00\t0.00\t0.010000\t0.000000\t0.00\t0.01\t0.000000\t0.000000\t0.00\t0.020000\t0.00\t0.010000\t0.00\t0.00\t0.00\t0.00\t0.01\t0.020000\t0.000000\t0.00\t0.02\t0.00\t0.00\t0.00\t0.00\t0.000000\t0.00\t0.00\t0.00\t0.00\t0.00\t0.00\t0.00\t0.000000\t0.00\t0.01\t0.020000\t0.00\t0.000000\t0.00\t0.00\t0.000000\t0.000000\t0.000000\t0.010000\t0.00\t0.00\t0.01\t0.000000\t0.00\t0.00\t0.00\t0.00\t0.00\t0.000000\t0.01\t0.000000\t0.010000\t0.00\t0.01\t0.000000\t0.000000\t0.000000\t0.00\t0.000000\t0.000000\t0.01\t0.00\t0.00\t0.00\t0.00\t0.00\t0.00\t0.000000\t0.020000\t0.000000\t0.01\t0.000000\t0.00\t0.01\t0.000000\t0.000000\t0.00\t0.00\t0.00\t0.00\t0.000000\t0.00\t0.01\t0.00\t0.03\t0.00\t0.000000\t0.000000\t0.00\t0.00\t0.020000\t0.000000\t0.000000\t0.000000\t0.00\t0.00\t0.000000\t0.00\t0.01\t0.00\t0.00\t0.00\t0.000000\t0.000000\t0.00\t0.000000\t0.00\t0.010000\t0.000000\t0.00\t0.020000\t0.00\t0.00\t0.00\t0.00\t0.00\t0.00\t0.00\t0.030000\t0.00\t0.00\t0.00\t0.000000\t0.00\t0.00\t0.00\t0.000000\t0.010000\t0.00\t0.000000\t0.00\t0.00\t0.000000\t0.000000\t0.00\t0.000000\t0.000000\t0.00\t0.00\t0.00\t0.00\t0.00\t0.01\t0.01\t0.00\n",
    "23\tDang Wangi\t0.000000\t0.00\t0.00\t0.00\t0.000000\t0.000000\t0.00\t0.00\t0.01\t0.000000\t0.010000\t0.00\t0.00\t0.000000\t0.010000\t0.00\t0.00\t0.000000\t0.00\t0.000000\t0.000000\t0.000000\t0.00\t0.000000\t0.010000\t0.00\t0.000000\t0.00\t0.000000\t0.01\t0.00\t0.00\t0.010000\t0.00\t0.00\t0.01\t0.00\t0.030000\t0.00\t0.000000\t0.00\t0.00\t0.000000\t0.00\t0.01\t0.000000\t0.000000\t0.000000\t0.00\t0.00\t0.030000\t0.00\t0.00\t0.000000\t0.00\t0.01\t0.000000\t0.010000\t0.00\t0.00\t0.00\t0.03\t0.020000\t0.00\t0.00\t0.00\t0.01\t0.020000\t0.01\t0.01\t0.01\t0.00\t0.000000\t0.00\t0.00\t0.00\t0.000000\t0.010000\t0.000000\t0.00\t0.00\t0.00\t0.00\t0.00\t0.00\t0.00\t0.00\t0.01\t0.00\t0.00\t0.000000\t0.020000\t0.00\t0.00\t0.00\t0.00\t0.000000\t0.000000\t0.000000\t0.000000\t0.000000\t0.00\t0.020000\t0.00\t0.00\t0.00\t0.00\t0.000000\t0.00\t0.00\t0.000000\t0.000000\t0.000000\t0.00\t0.00\t0.00\t0.00\t0.00\t0.00\t0.000000\t0.00\t0.00\t0.00\t0.00\t0.01\t0.00\t0.00\t0.00\t0.000000\t0.010000\t0.00\t0.00\t0.000000\t0.00\t0.000000\t0.00\t0.000000\t0.00\t0.00\t0.000000\t0.01\t0.00\t0.000000\t0.140000\t0.00\t0.01\t0.000000\t0.00\t0.00\t0.01\t0.000000\t0.010000\t0.010000\t0.02\t0.00\t0.010000\t0.000000\t0.02\t0.02\t0.000000\t0.000000\t0.00\t0.000000\t0.00\t0.000000\t0.01\t0.00\t0.00\t0.00\t0.04\t0.030000\t0.000000\t0.00\t0.00\t0.00\t0.00\t0.01\t0.00\t0.000000\t0.00\t0.00\t0.00\t0.02\t0.01\t0.00\t0.00\t0.000000\t0.00\t0.00\t0.010000\t0.00\t0.000000\t0.00\t0.00\t0.000000\t0.000000\t0.000000\t0.020000\t0.00\t0.00\t0.00\t0.000000\t0.00\t0.00\t0.00\t0.00\t0.00\t0.010000\t0.00\t0.000000\t0.000000\t0.00\t0.00\t0.000000\t0.000000\t0.000000\t0.00\t0.000000\t0.000000\t0.00\t0.00\t0.00\t0.00\t0.00\t0.00\t0.01\t0.000000\t0.010000\t0.000000\t0.00\t0.000000\t0.00\t0.01\t0.000000\t0.000000\t0.00\t0.00\t0.01\t0.01\t0.010000\t0.00\t0.00\t0.00\t0.02\t0.00\t0.000000\t0.000000\t0.00\t0.00\t0.010000\t0.000000\t0.000000\t0.020000\t0.00\t0.01\t0.010000\t0.01\t0.00\t0.00\t0.00\t0.00\t0.000000\t0.000000\t0.00\t0.000000\t0.00\t0.000000\t0.000000\t0.00\t0.010000\t0.00\t0.02\t0.00\t0.00\t0.00\t0.00\t0.00\t0.030000\t0.00\t0.00\t0.00\t0.000000\t0.01\t0.00\t0.00\t0.000000\t0.000000\t0.00\t0.000000\t0.00\t0.00\t0.000000\t0.010000\t0.00\t0.000000\t0.000000\t0.00\t0.00\t0.00\t0.00\t0.00\t0.01\t0.00\t0.00\n",
    "24\tDesa Petaling\t0.010000\t0.00\t0.00\t0.00\t0.000000\t0.000000\t0.00\t0.00\t0.00\t0.000000\t0.010000\t0.00\t0.00\t0.090000\t0.000000\t0.00\t0.00\t0.000000\t0.00\t0.000000\t0.000000\t0.000000\t0.00\t0.030000\t0.000000\t0.00\t0.010000\t0.00\t0.000000\t0.00\t0.00\t0.00\t0.000000\t0.00\t0.00\t0.00\t0.00\t0.000000\t0.00\t0.010000\t0.01\t0.00\t0.000000\t0.00\t0.00\t0.040000\t0.000000\t0.010000\t0.00\t0.00\t0.030000\t0.00\t0.00\t0.000000\t0.00\t0.00\t0.000000\t0.150000\t0.00\t0.00\t0.00\t0.00\t0.050000\t0.00\t0.00\t0.01\t0.00\t0.040000\t0.00\t0.00\t0.00\t0.00\t0.000000\t0.00\t0.00\t0.00\t0.010000\t0.000000\t0.000000\t0.00\t0.00\t0.00\t0.01\t0.01\t0.00\t0.00\t0.00\t0.00\t0.00\t0.00\t0.000000\t0.020000\t0.00\t0.00\t0.00\t0.00\t0.010000\t0.010000\t0.000000\t0.010000\t0.010000\t0.00\t0.000000\t0.00\t0.00\t0.00\t0.00\t0.000000\t0.00\t0.00\t0.000000\t0.000000\t0.000000\t0.02\t0.00\t0.00\t0.00\t0.00\t0.00\t0.000000\t0.00\t0.00\t0.00\t0.00\t0.01\t0.00\t0.00\t0.00\t0.000000\t0.000000\t0.00\t0.00\t0.000000\t0.00\t0.000000\t0.00\t0.000000\t0.00\t0.00\t0.010000\t0.00\t0.00\t0.000000\t0.000000\t0.00\t0.00\t0.020000\t0.00\t0.00\t0.00\t0.010000\t0.010000\t0.000000\t0.00\t0.00\t0.040000\t0.010000\t0.00\t0.00\t0.010000\t0.000000\t0.00\t0.010000\t0.00\t0.000000\t0.00\t0.00\t0.01\t0.00\t0.01\t0.020000\t0.010000\t0.01\t0.01\t0.00\t0.00\t0.00\t0.00\t0.000000\t0.00\t0.00\t0.00\t0.00\t0.00\t0.00\t0.00\t0.000000\t0.00\t0.00\t0.000000\t0.00\t0.000000\t0.00\t0.00\t0.000000\t0.000000\t0.000000\t0.010000\t0.00\t0.00\t0.00\t0.000000\t0.00\t0.00\t0.00\t0.01\t0.00\t0.000000\t0.00\t0.000000\t0.000000\t0.00\t0.00\t0.000000\t0.000000\t0.000000\t0.00\t0.000000\t0.000000\t0.00\t0.00\t0.00\t0.00\t0.00\t0.00\t0.00\t0.000000\t0.020000\t0.000000\t0.00\t0.000000\t0.00\t0.00\t0.010000\t0.020000\t0.00\t0.00\t0.00\t0.00\t0.010000\t0.00\t0.00\t0.00\t0.00\t0.00\t0.000000\t0.000000\t0.00\t0.00\t0.000000\t0.010000\t0.000000\t0.010000\t0.00\t0.00\t0.000000\t0.00\t0.00\t0.00\t0.00\t0.00\t0.000000\t0.000000\t0.00\t0.010000\t0.00\t0.000000\t0.000000\t0.01\t0.000000\t0.01\t0.00\t0.00\t0.00\t0.00\t0.01\t0.00\t0.010000\t0.00\t0.00\t0.00\t0.000000\t0.00\t0.00\t0.00\t0.000000\t0.000000\t0.00\t0.000000\t0.00\t0.00\t0.000000\t0.020000\t0.00\t0.010000\t0.000000\t0.00\t0.00\t0.01\t0.00\t0.00\t0.00\t0.00\t0.00\n",
    "25\tFederal Hill, Kuala Lumpur\t0.000000\t0.00\t0.00\t0.00\t0.000000\t0.000000\t0.00\t0.00\t0.00\t0.000000\t0.000000\t0.00\t0.01\t0.000000\t0.000000\t0.00\t0.00\t0.000000\t0.00\t0.000000\t0.000000\t0.000000\t0.00\t0.000000\t0.000000\t0.00\t0.000000\t0.00\t0.000000\t0.00\t0.00\t0.00\t0.000000\t0.00\t0.00\t0.01\t0.00\t0.000000\t0.00\t0.000000\t0.00\t0.00\t0.000000\t0.00\t0.00\t0.000000\t0.000000\t0.000000\t0.00\t0.00\t0.050000\t0.00\t0.00\t0.000000\t0.00\t0.00\t0.000000\t0.040000\t0.01\t0.03\t0.01\t0.00\t0.030000\t0.00\t0.00\t0.00\t0.00\t0.020000\t0.00\t0.01\t0.00\t0.00\t0.000000\t0.00\t0.00\t0.00\t0.010000\t0.000000\t0.000000\t0.00\t0.00\t0.00\t0.00\t0.00\t0.00\t0.00\t0.00\t0.01\t0.00\t0.00\t0.000000\t0.000000\t0.00\t0.00\t0.00\t0.00\t0.000000\t0.020000\t0.000000\t0.000000\t0.010000\t0.01\t0.020000\t0.00\t0.00\t0.02\t0.00\t0.000000\t0.00\t0.00\t0.000000\t0.020000\t0.000000\t0.00\t0.00\t0.00\t0.00\t0.00\t0.01\t0.000000\t0.00\t0.00\t0.00\t0.00\t0.02\t0.01\t0.01\t0.00\t0.000000\t0.000000\t0.00\t0.00\t0.000000\t0.00\t0.000000\t0.01\t0.000000\t0.00\t0.00\t0.000000\t0.00\t0.00\t0.000000\t0.070000\t0.02\t0.00\t0.000000\t0.00\t0.00\t0.00\t0.030000\t0.080000\t0.000000\t0.01\t0.00\t0.020000\t0.000000\t0.00\t0.00\t0.000000\t0.000000\t0.00\t0.000000\t0.00\t0.000000\t0.00\t0.00\t0.01\t0.00\t0.01\t0.030000\t0.000000\t0.00\t0.00\t0.01\t0.00\t0.00\t0.00\t0.000000\t0.00\t0.00\t0.00\t0.01\t0.00\t0.00\t0.00\t0.000000\t0.00\t0.00\t0.010000\t0.01\t0.000000\t0.01\t0.00\t0.010000\t0.000000\t0.000000\t0.020000\t0.00\t0.00\t0.00\t0.000000\t0.00\t0.00\t0.00\t0.00\t0.00\t0.020000\t0.01\t0.000000\t0.000000\t0.01\t0.00\t0.000000\t0.000000\t0.000000\t0.00\t0.010000\t0.000000\t0.00\t0.00\t0.00\t0.00\t0.00\t0.00\t0.00\t0.000000\t0.010000\t0.000000\t0.00\t0.000000\t0.00\t0.00\t0.000000\t0.000000\t0.00\t0.00\t0.00\t0.00\t0.000000\t0.00\t0.00\t0.00\t0.01\t0.00\t0.000000\t0.000000\t0.00\t0.01\t0.020000\t0.000000\t0.000000\t0.000000\t0.00\t0.02\t0.010000\t0.00\t0.01\t0.00\t0.00\t0.00\t0.000000\t0.000000\t0.01\t0.040000\t0.00\t0.000000\t0.000000\t0.00\t0.010000\t0.00\t0.00\t0.00\t0.01\t0.00\t0.01\t0.00\t0.000000\t0.00\t0.00\t0.00\t0.000000\t0.00\t0.00\t0.00\t0.000000\t0.000000\t0.00\t0.000000\t0.00\t0.00\t0.000000\t0.010000\t0.00\t0.000000\t0.000000\t0.00\t0.00\t0.01\t0.00\t0.00\t0.00\t0.00\t0.00\n",
    "26\tHappy Garden\t0.000000\t0.00\t0.00\t0.00\t0.000000\t0.000000\t0.00\t0.00\t0.00\t0.000000\t0.000000\t0.01\t0.00\t0.070000\t0.000000\t0.00\t0.00\t0.000000\t0.00\t0.000000\t0.000000\t0.000000\t0.02\t0.010000\t0.010000\t0.00\t0.000000\t0.00\t0.000000\t0.00\t0.00\t0.00\t0.000000\t0.00\t0.00\t0.01\t0.00\t0.020000\t0.00\t0.030000\t0.00\t0.00\t0.000000\t0.00\t0.00\t0.030000\t0.000000\t0.000000\t0.00\t0.00\t0.010000\t0.00\t0.00\t0.000000\t0.00\t0.00\t0.010000\t0.110000\t0.00\t0.02\t0.00\t0.00\t0.050000\t0.00\t0.00\t0.00\t0.00\t0.010000\t0.00\t0.00\t0.00\t0.00\t0.020000\t0.00\t0.00\t0.01\t0.020000\t0.000000\t0.000000\t0.00\t0.00\t0.00\t0.01\t0.00\t0.00\t0.01\t0.00\t0.00\t0.00\t0.00\t0.010000\t0.010000\t0.00\t0.00\t0.00\t0.00\t0.010000\t0.000000\t0.010000\t0.000000\t0.010000\t0.00\t0.010000\t0.00\t0.00\t0.00\t0.00\t0.000000\t0.00\t0.00\t0.020000\t0.000000\t0.000000\t0.00\t0.00\t0.00\t0.00\t0.00\t0.00\t0.000000\t0.00\t0.00\t0.00\t0.00\t0.00\t0.01\t0.00\t0.00\t0.000000\t0.020000\t0.00\t0.00\t0.000000\t0.00\t0.000000\t0.00\t0.000000\t0.00\t0.00\t0.000000\t0.00\t0.00\t0.000000\t0.010000\t0.00\t0.00\t0.010000\t0.00\t0.00\t0.00\t0.030000\t0.000000\t0.020000\t0.00\t0.00\t0.000000\t0.000000\t0.00\t0.00\t0.010000\t0.000000\t0.01\t0.000000\t0.00\t0.000000\t0.00\t0.00\t0.00\t0.00\t0.00\t0.050000\t0.000000\t0.00\t0.00\t0.00\t0.00\t0.00\t0.00\t0.010000\t0.00\t0.00\t0.00\t0.00\t0.00\t0.00\t0.00\t0.000000\t0.00\t0.00\t0.000000\t0.00\t0.000000\t0.01\t0.00\t0.000000\t0.010000\t0.000000\t0.000000\t0.00\t0.00\t0.00\t0.000000\t0.00\t0.00\t0.00\t0.00\t0.00\t0.000000\t0.00\t0.000000\t0.000000\t0.00\t0.00\t0.000000\t0.000000\t0.000000\t0.00\t0.010000\t0.000000\t0.00\t0.00\t0.00\t0.00\t0.00\t0.00\t0.00\t0.000000\t0.000000\t0.000000\t0.01\t0.000000\t0.00\t0.00\t0.000000\t0.010000\t0.00\t0.00\t0.00\t0.00\t0.010000\t0.00\t0.00\t0.00\t0.01\t0.00\t0.000000\t0.000000\t0.00\t0.00\t0.010000\t0.000000\t0.000000\t0.020000\t0.00\t0.00\t0.020000\t0.00\t0.00\t0.00\t0.00\t0.00\t0.010000\t0.000000\t0.00\t0.030000\t0.00\t0.000000\t0.000000\t0.00\t0.010000\t0.00\t0.00\t0.00\t0.00\t0.00\t0.00\t0.00\t0.040000\t0.00\t0.00\t0.01\t0.000000\t0.00\t0.00\t0.00\t0.000000\t0.000000\t0.00\t0.000000\t0.01\t0.00\t0.010000\t0.000000\t0.00\t0.000000\t0.000000\t0.00\t0.00\t0.00\t0.00\t0.01\t0.00\t0.00\t0.00\n",
    "27\tJalan Cochrane, Kuala Lumpur\t0.000000\t0.00\t0.00\t0.00\t0.000000\t0.000000\t0.00\t0.00\t0.00\t0.000000\t0.000000\t0.00\t0.00\t0.050000\t0.010000\t0.00\t0.00\t0.000000\t0.00\t0.000000\t0.000000\t0.000000\t0.00\t0.020000\t0.020000\t0.00\t0.000000\t0.00\t0.000000\t0.00\t0.00\t0.00\t0.000000\t0.00\t0.00\t0.00\t0.00\t0.000000\t0.00\t0.020000\t0.00\t0.00\t0.000000\t0.00\t0.00\t0.030000\t0.000000\t0.000000\t0.00\t0.00\t0.010000\t0.00\t0.00\t0.000000\t0.00\t0.00\t0.000000\t0.160000\t0.00\t0.00\t0.00\t0.00\t0.040000\t0.00\t0.00\t0.00\t0.00\t0.010000\t0.00\t0.00\t0.00\t0.00\t0.010000\t0.00\t0.00\t0.00\t0.020000\t0.000000\t0.000000\t0.00\t0.00\t0.00\t0.00\t0.00\t0.00\t0.00\t0.00\t0.00\t0.00\t0.00\t0.000000\t0.010000\t0.00\t0.00\t0.00\t0.00\t0.000000\t0.000000\t0.000000\t0.000000\t0.000000\t0.00\t0.020000\t0.00\t0.01\t0.00\t0.01\t0.010000\t0.00\t0.02\t0.000000\t0.000000\t0.000000\t0.00\t0.00\t0.00\t0.00\t0.00\t0.00\t0.020000\t0.00\t0.00\t0.00\t0.01\t0.00\t0.02\t0.00\t0.00\t0.000000\t0.010000\t0.00\t0.00\t0.000000\t0.00\t0.000000\t0.00\t0.000000\t0.00\t0.00\t0.000000\t0.00\t0.00\t0.000000\t0.030000\t0.00\t0.00\t0.010000\t0.00\t0.00\t0.00\t0.030000\t0.010000\t0.000000\t0.01\t0.00\t0.010000\t0.000000\t0.00\t0.00\t0.000000\t0.000000\t0.00\t0.020000\t0.00\t0.000000\t0.00\t0.00\t0.00\t0.00\t0.01\t0.040000\t0.000000\t0.00\t0.00\t0.00\t0.00\t0.01\t0.00\t0.020000\t0.00\t0.00\t0.00\t0.00\t0.00\t0.00\t0.01\t0.000000\t0.00\t0.01\t0.010000\t0.00\t0.000000\t0.00\t0.00\t0.000000\t0.000000\t0.040000\t0.030000\t0.00\t0.00\t0.00\t0.000000\t0.00\t0.00\t0.00\t0.00\t0.00\t0.000000\t0.00\t0.010000\t0.010000\t0.00\t0.00\t0.000000\t0.000000\t0.000000\t0.00\t0.010000\t0.000000\t0.00\t0.00\t0.00\t0.00\t0.00\t0.00\t0.00\t0.000000\t0.030000\t0.000000\t0.00\t0.000000\t0.00\t0.00\t0.000000\t0.010000\t0.00\t0.01\t0.00\t0.00\t0.000000\t0.00\t0.00\t0.00\t0.02\t0.00\t0.000000\t0.000000\t0.00\t0.00\t0.000000\t0.000000\t0.000000\t0.000000\t0.00\t0.00\t0.000000\t0.00\t0.00\t0.00\t0.00\t0.00\t0.000000\t0.000000\t0.00\t0.000000\t0.00\t0.010000\t0.000000\t0.00\t0.020000\t0.00\t0.00\t0.00\t0.00\t0.00\t0.00\t0.00\t0.010000\t0.00\t0.00\t0.00\t0.000000\t0.00\t0.00\t0.00\t0.000000\t0.000000\t0.00\t0.000000\t0.00\t0.00\t0.000000\t0.020000\t0.00\t0.000000\t0.000000\t0.00\t0.00\t0.00\t0.00\t0.00\t0.00\t0.00\t0.00\n",
    "28\tJalan Duta\t0.000000\t0.00\t0.00\t0.00\t0.000000\t0.000000\t0.00\t0.00\t0.00\t0.010000\t0.020000\t0.00\t0.00\t0.050000\t0.000000\t0.00\t0.00\t0.000000\t0.00\t0.000000\t0.010000\t0.000000\t0.00\t0.030000\t0.010000\t0.00\t0.010000\t0.00\t0.000000\t0.00\t0.01\t0.00\t0.020000\t0.00\t0.00\t0.00\t0.00\t0.000000\t0.00\t0.000000\t0.00\t0.01\t0.010000\t0.00\t0.00\t0.000000\t0.000000\t0.000000\t0.00\t0.00\t0.100000\t0.00\t0.00\t0.000000\t0.00\t0.00\t0.000000\t0.110000\t0.00\t0.00\t0.00\t0.00\t0.030000\t0.00\t0.00\t0.00\t0.00\t0.000000\t0.00\t0.00\t0.00\t0.00\t0.010000\t0.01\t0.00\t0.00\t0.010000\t0.000000\t0.010000\t0.00\t0.00\t0.00\t0.00\t0.00\t0.00\t0.00\t0.00\t0.00\t0.00\t0.00\t0.000000\t0.000000\t0.00\t0.00\t0.00\t0.00\t0.010000\t0.000000\t0.000000\t0.000000\t0.010000\t0.01\t0.000000\t0.00\t0.00\t0.01\t0.00\t0.000000\t0.00\t0.00\t0.000000\t0.000000\t0.000000\t0.00\t0.00\t0.00\t0.01\t0.00\t0.00\t0.000000\t0.00\t0.00\t0.00\t0.00\t0.00\t0.01\t0.00\t0.00\t0.000000\t0.000000\t0.00\t0.00\t0.000000\t0.00\t0.000000\t0.00\t0.010000\t0.01\t0.00\t0.010000\t0.01\t0.00\t0.000000\t0.000000\t0.00\t0.00\t0.000000\t0.00\t0.00\t0.00\t0.010000\t0.040000\t0.000000\t0.00\t0.00\t0.030000\t0.000000\t0.00\t0.01\t0.000000\t0.000000\t0.00\t0.010000\t0.00\t0.000000\t0.00\t0.00\t0.00\t0.00\t0.00\t0.000000\t0.000000\t0.00\t0.00\t0.00\t0.00\t0.00\t0.00\t0.010000\t0.00\t0.01\t0.00\t0.00\t0.00\t0.00\t0.00\t0.020000\t0.00\t0.00\t0.000000\t0.00\t0.000000\t0.00\t0.00\t0.000000\t0.000000\t0.000000\t0.010000\t0.00\t0.00\t0.00\t0.000000\t0.00\t0.00\t0.00\t0.00\t0.00\t0.020000\t0.01\t0.000000\t0.000000\t0.00\t0.00\t0.020000\t0.000000\t0.000000\t0.01\t0.010000\t0.000000\t0.01\t0.00\t0.00\t0.00\t0.00\t0.01\t0.00\t0.000000\t0.040000\t0.000000\t0.00\t0.000000\t0.00\t0.00\t0.000000\t0.010000\t0.00\t0.00\t0.00\t0.00\t0.030000\t0.00\t0.00\t0.00\t0.02\t0.00\t0.000000\t0.000000\t0.00\t0.00\t0.010000\t0.000000\t0.000000\t0.000000\t0.00\t0.00\t0.030000\t0.00\t0.00\t0.00\t0.00\t0.00\t0.000000\t0.000000\t0.00\t0.000000\t0.00\t0.010000\t0.000000\t0.00\t0.020000\t0.00\t0.00\t0.00\t0.00\t0.00\t0.01\t0.00\t0.000000\t0.00\t0.00\t0.00\t0.000000\t0.00\t0.00\t0.00\t0.000000\t0.000000\t0.00\t0.000000\t0.00\t0.00\t0.000000\t0.000000\t0.00\t0.010000\t0.000000\t0.00\t0.00\t0.00\t0.00\t0.00\t0.00\t0.00\t0.00\n",
    "29\tJinjang\t0.000000\t0.00\t0.00\t0.00\t0.000000\t0.000000\t0.00\t0.00\t0.00\t0.000000\t0.000000\t0.00\t0.00\t0.150000\t0.000000\t0.00\t0.00\t0.000000\t0.00\t0.010000\t0.000000\t0.000000\t0.00\t0.020000\t0.000000\t0.00\t0.010000\t0.00\t0.000000\t0.00\t0.00\t0.00\t0.000000\t0.00\t0.00\t0.00\t0.00\t0.000000\t0.00\t0.000000\t0.00\t0.00\t0.020000\t0.00\t0.00\t0.010000\t0.000000\t0.000000\t0.00\t0.00\t0.040000\t0.00\t0.00\t0.000000\t0.00\t0.00\t0.000000\t0.250000\t0.00\t0.00\t0.00\t0.00\t0.040000\t0.00\t0.00\t0.00\t0.00\t0.000000\t0.00\t0.00\t0.00\t0.00\t0.010000\t0.00\t0.00\t0.00\t0.030000\t0.000000\t0.000000\t0.00\t0.00\t0.00\t0.00\t0.01\t0.00\t0.01\t0.00\t0.00\t0.00\t0.00\t0.000000\t0.000000\t0.00\t0.00\t0.00\t0.00\t0.010000\t0.000000\t0.010000\t0.000000\t0.020000\t0.00\t0.050000\t0.00\t0.00\t0.00\t0.01\t0.000000\t0.00\t0.00\t0.000000\t0.000000\t0.000000\t0.00\t0.00\t0.00\t0.00\t0.00\t0.00\t0.000000\t0.00\t0.00\t0.00\t0.00\t0.00\t0.00\t0.00\t0.00\t0.000000\t0.000000\t0.00\t0.00\t0.000000\t0.00\t0.000000\t0.00\t0.000000\t0.00\t0.00\t0.000000\t0.00\t0.00\t0.000000\t0.000000\t0.00\t0.00\t0.000000\t0.00\t0.00\t0.00\t0.000000\t0.000000\t0.000000\t0.01\t0.00\t0.000000\t0.000000\t0.00\t0.00\t0.000000\t0.000000\t0.00\t0.000000\t0.00\t0.000000\t0.00\t0.00\t0.00\t0.00\t0.00\t0.030000\t0.000000\t0.00\t0.00\t0.00\t0.00\t0.00\t0.00\t0.000000\t0.00\t0.00\t0.00\t0.00\t0.00\t0.00\t0.00\t0.000000\t0.00\t0.00\t0.000000\t0.00\t0.000000\t0.00\t0.00\t0.000000\t0.000000\t0.000000\t0.020000\t0.00\t0.00\t0.00\t0.000000\t0.00\t0.00\t0.00\t0.00\t0.00\t0.000000\t0.00\t0.000000\t0.000000\t0.00\t0.00\t0.000000\t0.000000\t0.000000\t0.00\t0.000000\t0.000000\t0.00\t0.00\t0.00\t0.00\t0.00\t0.00\t0.00\t0.000000\t0.050000\t0.000000\t0.00\t0.000000\t0.00\t0.00\t0.000000\t0.010000\t0.00\t0.00\t0.00\t0.00\t0.040000\t0.00\t0.00\t0.00\t0.00\t0.00\t0.000000\t0.000000\t0.00\t0.00\t0.010000\t0.000000\t0.000000\t0.000000\t0.00\t0.01\t0.010000\t0.00\t0.00\t0.00\t0.00\t0.00\t0.000000\t0.000000\t0.00\t0.000000\t0.00\t0.000000\t0.000000\t0.00\t0.000000\t0.00\t0.00\t0.00\t0.00\t0.01\t0.00\t0.00\t0.010000\t0.00\t0.00\t0.00\t0.000000\t0.00\t0.00\t0.00\t0.000000\t0.000000\t0.00\t0.000000\t0.00\t0.00\t0.000000\t0.070000\t0.00\t0.000000\t0.000000\t0.00\t0.00\t0.00\t0.00\t0.01\t0.00\t0.00\t0.00\n",
    "30\tKL Eco City\t0.010000\t0.00\t0.00\t0.00\t0.000000\t0.000000\t0.00\t0.00\t0.00\t0.000000\t0.000000\t0.00\t0.00\t0.000000\t0.000000\t0.00\t0.00\t0.000000\t0.00\t0.000000\t0.000000\t0.000000\t0.00\t0.060000\t0.000000\t0.00\t0.000000\t0.00\t0.000000\t0.00\t0.00\t0.00\t0.000000\t0.00\t0.00\t0.00\t0.00\t0.020000\t0.00\t0.000000\t0.00\t0.00\t0.010000\t0.00\t0.00\t0.010000\t0.000000\t0.000000\t0.00\t0.00\t0.040000\t0.00\t0.00\t0.000000\t0.00\t0.00\t0.000000\t0.030000\t0.00\t0.01\t0.00\t0.00\t0.020000\t0.00\t0.00\t0.00\t0.00\t0.010000\t0.00\t0.02\t0.00\t0.00\t0.000000\t0.01\t0.03\t0.00\t0.010000\t0.000000\t0.000000\t0.00\t0.00\t0.00\t0.00\t0.00\t0.00\t0.00\t0.00\t0.00\t0.00\t0.00\t0.000000\t0.000000\t0.00\t0.00\t0.00\t0.00\t0.000000\t0.010000\t0.000000\t0.010000\t0.030000\t0.00\t0.000000\t0.00\t0.00\t0.00\t0.00\t0.010000\t0.00\t0.00\t0.000000\t0.000000\t0.000000\t0.00\t0.00\t0.00\t0.00\t0.00\t0.00\t0.000000\t0.00\t0.00\t0.00\t0.00\t0.01\t0.00\t0.00\t0.00\t0.000000\t0.000000\t0.00\t0.00\t0.000000\t0.00\t0.000000\t0.00\t0.000000\t0.00\t0.00\t0.000000\t0.00\t0.00\t0.000000\t0.020000\t0.00\t0.00\t0.000000\t0.00\t0.00\t0.00\t0.070000\t0.050000\t0.000000\t0.00\t0.00\t0.060000\t0.000000\t0.02\t0.02\t0.000000\t0.000000\t0.00\t0.000000\t0.00\t0.000000\t0.00\t0.00\t0.00\t0.01\t0.00\t0.030000\t0.000000\t0.00\t0.00\t0.00\t0.00\t0.00\t0.00\t0.000000\t0.00\t0.00\t0.00\t0.00\t0.00\t0.00\t0.00\t0.000000\t0.00\t0.02\t0.010000\t0.00\t0.000000\t0.00\t0.01\t0.000000\t0.000000\t0.000000\t0.010000\t0.00\t0.00\t0.00\t0.000000\t0.00\t0.00\t0.00\t0.00\t0.00\t0.000000\t0.00\t0.010000\t0.010000\t0.00\t0.00\t0.010000\t0.000000\t0.000000\t0.00\t0.000000\t0.000000\t0.00\t0.00\t0.00\t0.00\t0.00\t0.00\t0.00\t0.000000\t0.010000\t0.000000\t0.00\t0.000000\t0.00\t0.01\t0.010000\t0.000000\t0.00\t0.00\t0.00\t0.00\t0.010000\t0.01\t0.02\t0.00\t0.05\t0.00\t0.000000\t0.000000\t0.00\t0.00\t0.010000\t0.010000\t0.000000\t0.000000\t0.00\t0.00\t0.010000\t0.00\t0.00\t0.00\t0.01\t0.00\t0.000000\t0.000000\t0.00\t0.020000\t0.00\t0.020000\t0.000000\t0.00\t0.000000\t0.00\t0.00\t0.00\t0.00\t0.00\t0.00\t0.01\t0.010000\t0.01\t0.00\t0.00\t0.000000\t0.00\t0.01\t0.00\t0.000000\t0.000000\t0.00\t0.000000\t0.00\t0.01\t0.000000\t0.010000\t0.01\t0.010000\t0.000000\t0.00\t0.00\t0.00\t0.00\t0.00\t0.00\t0.00\t0.00\n",
    "31\tKampung Baru, Kuala Lumpur\t0.010000\t0.00\t0.00\t0.00\t0.000000\t0.000000\t0.00\t0.00\t0.00\t0.000000\t0.010000\t0.00\t0.00\t0.000000\t0.000000\t0.00\t0.00\t0.000000\t0.00\t0.000000\t0.000000\t0.000000\t0.00\t0.020000\t0.010000\t0.00\t0.000000\t0.00\t0.000000\t0.00\t0.00\t0.00\t0.010000\t0.00\t0.00\t0.01\t0.00\t0.010000\t0.00\t0.010000\t0.00\t0.00\t0.000000\t0.00\t0.01\t0.000000\t0.000000\t0.000000\t0.00\t0.00\t0.020000\t0.00\t0.01\t0.000000\t0.00\t0.00\t0.000000\t0.000000\t0.00\t0.07\t0.00\t0.02\t0.020000\t0.00\t0.00\t0.00\t0.01\t0.000000\t0.01\t0.04\t0.01\t0.00\t0.000000\t0.00\t0.00\t0.00\t0.000000\t0.010000\t0.000000\t0.00\t0.00\t0.00\t0.00\t0.00\t0.00\t0.00\t0.00\t0.00\t0.00\t0.00\t0.000000\t0.020000\t0.00\t0.00\t0.00\t0.00\t0.000000\t0.000000\t0.000000\t0.000000\t0.000000\t0.00\t0.000000\t0.01\t0.00\t0.00\t0.00\t0.010000\t0.00\t0.00\t0.000000\t0.000000\t0.000000\t0.00\t0.00\t0.00\t0.00\t0.00\t0.00\t0.000000\t0.00\t0.00\t0.00\t0.00\t0.00\t0.00\t0.00\t0.00\t0.000000\t0.000000\t0.00\t0.00\t0.000000\t0.00\t0.000000\t0.00\t0.000000\t0.00\t0.00\t0.000000\t0.00\t0.00\t0.000000\t0.110000\t0.02\t0.01\t0.000000\t0.00\t0.00\t0.00\t0.020000\t0.000000\t0.000000\t0.02\t0.00\t0.010000\t0.000000\t0.02\t0.04\t0.000000\t0.000000\t0.00\t0.000000\t0.00\t0.000000\t0.00\t0.00\t0.00\t0.00\t0.02\t0.040000\t0.000000\t0.00\t0.00\t0.00\t0.00\t0.01\t0.00\t0.010000\t0.02\t0.00\t0.00\t0.00\t0.00\t0.00\t0.00\t0.000000\t0.00\t0.00\t0.000000\t0.00\t0.000000\t0.00\t0.00\t0.000000\t0.000000\t0.000000\t0.000000\t0.00\t0.00\t0.00\t0.000000\t0.00\t0.00\t0.00\t0.00\t0.00\t0.020000\t0.00\t0.000000\t0.000000\t0.00\t0.00\t0.000000\t0.000000\t0.000000\t0.00\t0.000000\t0.000000\t0.00\t0.00\t0.00\t0.00\t0.00\t0.00\t0.01\t0.000000\t0.010000\t0.000000\t0.00\t0.000000\t0.00\t0.00\t0.000000\t0.010000\t0.00\t0.00\t0.00\t0.01\t0.010000\t0.00\t0.00\t0.00\t0.03\t0.00\t0.000000\t0.000000\t0.00\t0.00\t0.020000\t0.000000\t0.000000\t0.000000\t0.01\t0.00\t0.010000\t0.00\t0.00\t0.01\t0.00\t0.00\t0.000000\t0.000000\t0.00\t0.030000\t0.01\t0.010000\t0.000000\t0.00\t0.010000\t0.00\t0.01\t0.00\t0.00\t0.00\t0.00\t0.01\t0.020000\t0.01\t0.01\t0.00\t0.000000\t0.01\t0.00\t0.00\t0.000000\t0.000000\t0.00\t0.000000\t0.00\t0.00\t0.000000\t0.000000\t0.00\t0.000000\t0.000000\t0.00\t0.00\t0.00\t0.00\t0.00\t0.01\t0.00\t0.00\n",
    "32\tKampung Datuk Keramat\t0.000000\t0.00\t0.00\t0.00\t0.000000\t0.000000\t0.00\t0.01\t0.00\t0.000000\t0.040000\t0.00\t0.00\t0.040000\t0.000000\t0.00\t0.00\t0.000000\t0.00\t0.000000\t0.000000\t0.000000\t0.00\t0.020000\t0.010000\t0.00\t0.010000\t0.00\t0.000000\t0.00\t0.00\t0.00\t0.020000\t0.00\t0.00\t0.01\t0.00\t0.000000\t0.00\t0.010000\t0.00\t0.00\t0.000000\t0.00\t0.00\t0.020000\t0.000000\t0.000000\t0.00\t0.00\t0.040000\t0.00\t0.00\t0.000000\t0.00\t0.00\t0.000000\t0.000000\t0.00\t0.00\t0.00\t0.01\t0.080000\t0.00\t0.00\t0.00\t0.00\t0.000000\t0.00\t0.00\t0.00\t0.00\t0.000000\t0.00\t0.00\t0.00\t0.000000\t0.010000\t0.020000\t0.00\t0.00\t0.00\t0.00\t0.00\t0.00\t0.00\t0.00\t0.00\t0.00\t0.00\t0.000000\t0.010000\t0.00\t0.00\t0.00\t0.00\t0.000000\t0.000000\t0.000000\t0.000000\t0.010000\t0.00\t0.000000\t0.00\t0.00\t0.01\t0.00\t0.000000\t0.00\t0.01\t0.000000\t0.000000\t0.000000\t0.00\t0.00\t0.00\t0.00\t0.00\t0.00\t0.000000\t0.01\t0.00\t0.00\t0.01\t0.00\t0.02\t0.00\t0.00\t0.000000\t0.000000\t0.00\t0.00\t0.000000\t0.00\t0.000000\t0.00\t0.000000\t0.00\t0.00\t0.010000\t0.00\t0.00\t0.000000\t0.070000\t0.02\t0.00\t0.000000\t0.00\t0.00\t0.00\t0.010000\t0.020000\t0.010000\t0.05\t0.00\t0.010000\t0.000000\t0.00\t0.01\t0.000000\t0.010000\t0.00\t0.020000\t0.00\t0.000000\t0.00\t0.00\t0.00\t0.00\t0.00\t0.090000\t0.000000\t0.00\t0.00\t0.00\t0.00\t0.00\t0.00\t0.020000\t0.00\t0.00\t0.00\t0.00\t0.01\t0.00\t0.00\t0.000000\t0.00\t0.00\t0.000000\t0.00\t0.000000\t0.00\t0.00\t0.000000\t0.000000\t0.000000\t0.000000\t0.00\t0.00\t0.00\t0.000000\t0.00\t0.00\t0.00\t0.00\t0.00\t0.000000\t0.00\t0.010000\t0.000000\t0.00\t0.00\t0.010000\t0.010000\t0.000000\t0.00\t0.000000\t0.000000\t0.00\t0.00\t0.00\t0.00\t0.00\t0.00\t0.01\t0.000000\t0.020000\t0.000000\t0.00\t0.000000\t0.00\t0.00\t0.010000\t0.000000\t0.00\t0.00\t0.01\t0.00\t0.040000\t0.00\t0.00\t0.00\t0.01\t0.00\t0.000000\t0.000000\t0.00\t0.00\t0.000000\t0.000000\t0.000000\t0.000000\t0.01\t0.00\t0.000000\t0.00\t0.00\t0.01\t0.02\t0.00\t0.000000\t0.000000\t0.00\t0.000000\t0.01\t0.020000\t0.000000\t0.00\t0.000000\t0.00\t0.00\t0.00\t0.00\t0.00\t0.00\t0.00\t0.010000\t0.00\t0.00\t0.00\t0.000000\t0.00\t0.00\t0.00\t0.000000\t0.000000\t0.00\t0.000000\t0.00\t0.00\t0.000000\t0.000000\t0.00\t0.000000\t0.000000\t0.00\t0.00\t0.00\t0.00\t0.00\t0.00\t0.00\t0.00\n",
    "33\tKepong\t0.000000\t0.00\t0.00\t0.00\t0.000000\t0.000000\t0.00\t0.01\t0.00\t0.010000\t0.000000\t0.00\t0.00\t0.090000\t0.000000\t0.00\t0.00\t0.000000\t0.01\t0.000000\t0.000000\t0.000000\t0.00\t0.020000\t0.000000\t0.00\t0.010000\t0.00\t0.000000\t0.00\t0.00\t0.00\t0.000000\t0.00\t0.00\t0.00\t0.00\t0.000000\t0.00\t0.030000\t0.00\t0.00\t0.010000\t0.00\t0.00\t0.010000\t0.000000\t0.000000\t0.00\t0.00\t0.030000\t0.00\t0.00\t0.010000\t0.00\t0.00\t0.000000\t0.230000\t0.00\t0.00\t0.00\t0.00\t0.060000\t0.00\t0.00\t0.00\t0.00\t0.000000\t0.00\t0.01\t0.00\t0.00\t0.010000\t0.00\t0.00\t0.00\t0.050000\t0.000000\t0.000000\t0.00\t0.00\t0.00\t0.00\t0.00\t0.00\t0.01\t0.00\t0.00\t0.00\t0.00\t0.000000\t0.000000\t0.00\t0.00\t0.00\t0.01\t0.000000\t0.000000\t0.020000\t0.000000\t0.010000\t0.00\t0.030000\t0.00\t0.00\t0.00\t0.01\t0.000000\t0.00\t0.00\t0.000000\t0.000000\t0.000000\t0.00\t0.00\t0.00\t0.01\t0.00\t0.00\t0.000000\t0.00\t0.00\t0.00\t0.00\t0.00\t0.01\t0.00\t0.00\t0.010000\t0.000000\t0.00\t0.00\t0.000000\t0.00\t0.000000\t0.00\t0.000000\t0.00\t0.00\t0.000000\t0.00\t0.00\t0.000000\t0.000000\t0.00\t0.00\t0.000000\t0.00\t0.00\t0.00\t0.000000\t0.000000\t0.000000\t0.01\t0.00\t0.000000\t0.000000\t0.00\t0.00\t0.000000\t0.000000\t0.00\t0.010000\t0.00\t0.000000\t0.00\t0.00\t0.00\t0.00\t0.00\t0.010000\t0.000000\t0.00\t0.01\t0.00\t0.00\t0.00\t0.00\t0.000000\t0.00\t0.01\t0.00\t0.00\t0.00\t0.00\t0.00\t0.000000\t0.00\t0.00\t0.000000\t0.00\t0.000000\t0.00\t0.00\t0.000000\t0.000000\t0.000000\t0.050000\t0.00\t0.00\t0.00\t0.000000\t0.00\t0.00\t0.00\t0.00\t0.00\t0.020000\t0.00\t0.000000\t0.000000\t0.00\t0.00\t0.010000\t0.000000\t0.000000\t0.00\t0.000000\t0.010000\t0.00\t0.00\t0.00\t0.00\t0.00\t0.00\t0.00\t0.000000\t0.030000\t0.000000\t0.00\t0.000000\t0.00\t0.00\t0.000000\t0.000000\t0.00\t0.00\t0.00\t0.00\t0.010000\t0.00\t0.00\t0.00\t0.00\t0.00\t0.000000\t0.000000\t0.00\t0.00\t0.020000\t0.000000\t0.000000\t0.000000\t0.00\t0.00\t0.010000\t0.00\t0.00\t0.00\t0.00\t0.00\t0.000000\t0.000000\t0.00\t0.000000\t0.00\t0.000000\t0.000000\t0.00\t0.000000\t0.00\t0.00\t0.00\t0.01\t0.00\t0.00\t0.00\t0.020000\t0.00\t0.00\t0.00\t0.000000\t0.00\t0.00\t0.00\t0.000000\t0.000000\t0.00\t0.000000\t0.00\t0.00\t0.000000\t0.030000\t0.00\t0.010000\t0.000000\t0.00\t0.00\t0.00\t0.00\t0.00\t0.00\t0.00\t0.00\n",
    "34\tKuchai Lama\t0.000000\t0.00\t0.00\t0.00\t0.000000\t0.000000\t0.00\t0.00\t0.00\t0.000000\t0.000000\t0.00\t0.00\t0.040000\t0.000000\t0.00\t0.00\t0.000000\t0.00\t0.000000\t0.030000\t0.000000\t0.00\t0.030000\t0.000000\t0.00\t0.000000\t0.00\t0.000000\t0.00\t0.00\t0.00\t0.000000\t0.00\t0.00\t0.00\t0.00\t0.000000\t0.00\t0.020000\t0.01\t0.00\t0.010000\t0.00\t0.00\t0.020000\t0.000000\t0.000000\t0.00\t0.00\t0.090000\t0.00\t0.00\t0.000000\t0.00\t0.00\t0.000000\t0.170000\t0.00\t0.00\t0.00\t0.00\t0.030000\t0.00\t0.00\t0.00\t0.00\t0.000000\t0.00\t0.00\t0.00\t0.00\t0.000000\t0.00\t0.00\t0.00\t0.010000\t0.000000\t0.000000\t0.00\t0.00\t0.00\t0.00\t0.00\t0.00\t0.01\t0.00\t0.00\t0.00\t0.00\t0.000000\t0.000000\t0.00\t0.00\t0.01\t0.00\t0.000000\t0.010000\t0.000000\t0.000000\t0.000000\t0.00\t0.020000\t0.00\t0.00\t0.00\t0.00\t0.000000\t0.01\t0.00\t0.000000\t0.000000\t0.000000\t0.00\t0.00\t0.01\t0.00\t0.00\t0.00\t0.000000\t0.00\t0.00\t0.00\t0.00\t0.01\t0.00\t0.01\t0.00\t0.000000\t0.010000\t0.00\t0.00\t0.000000\t0.00\t0.000000\t0.00\t0.000000\t0.00\t0.00\t0.010000\t0.00\t0.00\t0.000000\t0.000000\t0.00\t0.00\t0.010000\t0.00\t0.01\t0.00\t0.010000\t0.000000\t0.010000\t0.01\t0.00\t0.050000\t0.000000\t0.00\t0.01\t0.010000\t0.000000\t0.00\t0.020000\t0.00\t0.000000\t0.00\t0.00\t0.00\t0.00\t0.00\t0.040000\t0.000000\t0.00\t0.01\t0.00\t0.00\t0.00\t0.00\t0.000000\t0.00\t0.00\t0.00\t0.00\t0.00\t0.00\t0.00\t0.000000\t0.00\t0.00\t0.000000\t0.00\t0.000000\t0.00\t0.00\t0.000000\t0.010000\t0.010000\t0.030000\t0.00\t0.00\t0.01\t0.000000\t0.00\t0.00\t0.00\t0.00\t0.00\t0.010000\t0.00\t0.010000\t0.000000\t0.00\t0.00\t0.000000\t0.000000\t0.000000\t0.00\t0.000000\t0.000000\t0.00\t0.00\t0.00\t0.00\t0.00\t0.01\t0.01\t0.000000\t0.040000\t0.000000\t0.00\t0.000000\t0.00\t0.00\t0.000000\t0.010000\t0.00\t0.00\t0.00\t0.00\t0.000000\t0.00\t0.00\t0.00\t0.00\t0.00\t0.000000\t0.010000\t0.00\t0.00\t0.000000\t0.000000\t0.000000\t0.000000\t0.00\t0.00\t0.000000\t0.00\t0.00\t0.00\t0.01\t0.00\t0.000000\t0.000000\t0.00\t0.000000\t0.00\t0.010000\t0.000000\t0.00\t0.000000\t0.00\t0.00\t0.00\t0.00\t0.00\t0.00\t0.00\t0.020000\t0.00\t0.00\t0.00\t0.000000\t0.00\t0.00\t0.00\t0.000000\t0.000000\t0.00\t0.000000\t0.00\t0.00\t0.000000\t0.020000\t0.00\t0.000000\t0.000000\t0.00\t0.01\t0.01\t0.00\t0.00\t0.00\t0.00\t0.00\n",
    "35\tLembah Pantai\t0.000000\t0.00\t0.00\t0.00\t0.000000\t0.000000\t0.00\t0.00\t0.00\t0.000000\t0.000000\t0.00\t0.02\t0.020000\t0.000000\t0.00\t0.00\t0.000000\t0.00\t0.000000\t0.000000\t0.000000\t0.00\t0.020000\t0.010000\t0.00\t0.000000\t0.00\t0.000000\t0.00\t0.00\t0.00\t0.010000\t0.00\t0.00\t0.00\t0.00\t0.020000\t0.00\t0.000000\t0.00\t0.00\t0.010000\t0.00\t0.00\t0.010000\t0.000000\t0.000000\t0.00\t0.00\t0.050000\t0.00\t0.00\t0.000000\t0.00\t0.00\t0.000000\t0.040000\t0.00\t0.04\t0.00\t0.00\t0.050000\t0.00\t0.00\t0.00\t0.00\t0.010000\t0.00\t0.02\t0.00\t0.00\t0.000000\t0.01\t0.02\t0.00\t0.000000\t0.000000\t0.000000\t0.00\t0.00\t0.00\t0.00\t0.00\t0.00\t0.00\t0.00\t0.00\t0.00\t0.00\t0.000000\t0.000000\t0.00\t0.00\t0.00\t0.00\t0.000000\t0.010000\t0.000000\t0.010000\t0.020000\t0.00\t0.000000\t0.00\t0.00\t0.01\t0.00\t0.010000\t0.00\t0.00\t0.000000\t0.000000\t0.000000\t0.00\t0.00\t0.00\t0.00\t0.00\t0.00\t0.000000\t0.00\t0.00\t0.00\t0.00\t0.01\t0.00\t0.00\t0.00\t0.000000\t0.000000\t0.00\t0.00\t0.000000\t0.00\t0.000000\t0.00\t0.000000\t0.00\t0.00\t0.000000\t0.00\t0.00\t0.000000\t0.030000\t0.00\t0.00\t0.000000\t0.00\t0.00\t0.00\t0.050000\t0.050000\t0.000000\t0.00\t0.00\t0.030000\t0.000000\t0.01\t0.02\t0.000000\t0.000000\t0.00\t0.000000\t0.00\t0.010000\t0.00\t0.00\t0.00\t0.00\t0.00\t0.030000\t0.000000\t0.00\t0.00\t0.00\t0.00\t0.00\t0.00\t0.000000\t0.00\t0.00\t0.00\t0.00\t0.00\t0.00\t0.00\t0.000000\t0.00\t0.02\t0.010000\t0.00\t0.000000\t0.00\t0.01\t0.000000\t0.000000\t0.010000\t0.010000\t0.00\t0.00\t0.01\t0.000000\t0.00\t0.00\t0.00\t0.00\t0.00\t0.000000\t0.00\t0.010000\t0.010000\t0.00\t0.00\t0.000000\t0.000000\t0.000000\t0.00\t0.000000\t0.000000\t0.00\t0.00\t0.00\t0.00\t0.01\t0.00\t0.00\t0.000000\t0.020000\t0.000000\t0.00\t0.000000\t0.00\t0.00\t0.000000\t0.010000\t0.00\t0.00\t0.01\t0.00\t0.010000\t0.00\t0.00\t0.00\t0.05\t0.00\t0.000000\t0.000000\t0.00\t0.01\t0.010000\t0.010000\t0.000000\t0.000000\t0.00\t0.01\t0.020000\t0.00\t0.00\t0.00\t0.00\t0.00\t0.000000\t0.000000\t0.00\t0.020000\t0.00\t0.020000\t0.000000\t0.00\t0.000000\t0.00\t0.00\t0.00\t0.00\t0.00\t0.00\t0.00\t0.000000\t0.01\t0.00\t0.00\t0.000000\t0.00\t0.00\t0.00\t0.000000\t0.000000\t0.00\t0.000000\t0.00\t0.00\t0.000000\t0.010000\t0.00\t0.010000\t0.000000\t0.00\t0.00\t0.01\t0.00\t0.00\t0.00\t0.00\t0.00\n",
    "36\tMaluri\t0.000000\t0.01\t0.00\t0.00\t0.000000\t0.000000\t0.00\t0.00\t0.00\t0.000000\t0.010000\t0.00\t0.00\t0.000000\t0.010000\t0.00\t0.00\t0.000000\t0.00\t0.000000\t0.000000\t0.000000\t0.00\t0.000000\t0.010000\t0.00\t0.000000\t0.00\t0.000000\t0.00\t0.00\t0.00\t0.010000\t0.00\t0.00\t0.00\t0.00\t0.010000\t0.00\t0.000000\t0.00\t0.00\t0.000000\t0.00\t0.00\t0.000000\t0.000000\t0.000000\t0.00\t0.00\t0.090000\t0.00\t0.00\t0.000000\t0.00\t0.01\t0.000000\t0.040000\t0.01\t0.00\t0.01\t0.00\t0.030000\t0.00\t0.00\t0.00\t0.00\t0.010000\t0.00\t0.00\t0.00\t0.00\t0.010000\t0.00\t0.00\t0.00\t0.010000\t0.000000\t0.000000\t0.00\t0.00\t0.00\t0.00\t0.00\t0.00\t0.00\t0.00\t0.01\t0.00\t0.00\t0.000000\t0.000000\t0.00\t0.00\t0.00\t0.00\t0.000000\t0.010000\t0.000000\t0.000000\t0.000000\t0.00\t0.020000\t0.00\t0.00\t0.00\t0.00\t0.000000\t0.00\t0.00\t0.000000\t0.010000\t0.000000\t0.00\t0.00\t0.00\t0.00\t0.00\t0.01\t0.000000\t0.00\t0.00\t0.00\t0.00\t0.01\t0.00\t0.00\t0.00\t0.000000\t0.010000\t0.00\t0.00\t0.000000\t0.00\t0.000000\t0.00\t0.000000\t0.00\t0.00\t0.000000\t0.02\t0.00\t0.000000\t0.090000\t0.02\t0.01\t0.000000\t0.00\t0.00\t0.01\t0.000000\t0.060000\t0.000000\t0.02\t0.00\t0.000000\t0.000000\t0.00\t0.00\t0.000000\t0.000000\t0.00\t0.000000\t0.00\t0.000000\t0.01\t0.00\t0.00\t0.00\t0.01\t0.050000\t0.000000\t0.00\t0.00\t0.00\t0.00\t0.01\t0.00\t0.010000\t0.00\t0.00\t0.00\t0.03\t0.01\t0.00\t0.00\t0.000000\t0.00\t0.00\t0.010000\t0.02\t0.000000\t0.00\t0.00\t0.000000\t0.000000\t0.000000\t0.020000\t0.00\t0.00\t0.00\t0.000000\t0.00\t0.00\t0.00\t0.00\t0.00\t0.030000\t0.00\t0.000000\t0.000000\t0.00\t0.00\t0.000000\t0.000000\t0.000000\t0.00\t0.000000\t0.000000\t0.00\t0.00\t0.00\t0.00\t0.00\t0.00\t0.00\t0.000000\t0.030000\t0.000000\t0.00\t0.000000\t0.00\t0.01\t0.000000\t0.000000\t0.00\t0.00\t0.01\t0.00\t0.000000\t0.00\t0.01\t0.00\t0.01\t0.00\t0.000000\t0.000000\t0.00\t0.00\t0.000000\t0.000000\t0.000000\t0.020000\t0.00\t0.01\t0.010000\t0.01\t0.02\t0.00\t0.01\t0.00\t0.000000\t0.000000\t0.00\t0.000000\t0.00\t0.000000\t0.000000\t0.00\t0.000000\t0.00\t0.01\t0.00\t0.01\t0.00\t0.01\t0.00\t0.010000\t0.00\t0.00\t0.00\t0.000000\t0.00\t0.00\t0.00\t0.000000\t0.000000\t0.00\t0.000000\t0.00\t0.00\t0.000000\t0.010000\t0.00\t0.000000\t0.000000\t0.00\t0.00\t0.00\t0.00\t0.00\t0.00\t0.00\t0.00\n",
    "37\tMedan Tuanku\t0.000000\t0.00\t0.00\t0.00\t0.000000\t0.000000\t0.00\t0.00\t0.00\t0.000000\t0.010000\t0.00\t0.00\t0.020000\t0.010000\t0.00\t0.00\t0.000000\t0.00\t0.000000\t0.000000\t0.000000\t0.00\t0.000000\t0.020000\t0.00\t0.000000\t0.00\t0.000000\t0.00\t0.00\t0.00\t0.010000\t0.00\t0.00\t0.01\t0.00\t0.010000\t0.00\t0.000000\t0.00\t0.00\t0.000000\t0.00\t0.01\t0.000000\t0.000000\t0.000000\t0.00\t0.00\t0.010000\t0.00\t0.00\t0.000000\t0.00\t0.01\t0.000000\t0.030000\t0.00\t0.01\t0.00\t0.03\t0.020000\t0.00\t0.00\t0.00\t0.01\t0.020000\t0.00\t0.01\t0.00\t0.00\t0.010000\t0.00\t0.00\t0.00\t0.000000\t0.010000\t0.000000\t0.00\t0.00\t0.00\t0.00\t0.00\t0.00\t0.00\t0.00\t0.01\t0.00\t0.00\t0.000000\t0.010000\t0.00\t0.00\t0.00\t0.00\t0.000000\t0.000000\t0.000000\t0.000000\t0.000000\t0.00\t0.020000\t0.00\t0.00\t0.00\t0.00\t0.000000\t0.00\t0.00\t0.000000\t0.000000\t0.000000\t0.00\t0.00\t0.00\t0.00\t0.00\t0.00\t0.000000\t0.00\t0.00\t0.00\t0.00\t0.01\t0.00\t0.00\t0.00\t0.000000\t0.000000\t0.00\t0.00\t0.000000\t0.00\t0.000000\t0.00\t0.000000\t0.00\t0.00\t0.000000\t0.01\t0.00\t0.000000\t0.120000\t0.00\t0.01\t0.000000\t0.00\t0.00\t0.01\t0.000000\t0.030000\t0.010000\t0.01\t0.00\t0.010000\t0.000000\t0.02\t0.00\t0.000000\t0.000000\t0.00\t0.000000\t0.00\t0.000000\t0.01\t0.00\t0.00\t0.00\t0.03\t0.030000\t0.000000\t0.00\t0.00\t0.00\t0.00\t0.01\t0.00\t0.010000\t0.00\t0.00\t0.00\t0.02\t0.01\t0.00\t0.00\t0.000000\t0.00\t0.00\t0.010000\t0.01\t0.000000\t0.00\t0.00\t0.000000\t0.000000\t0.000000\t0.020000\t0.00\t0.00\t0.00\t0.000000\t0.00\t0.00\t0.00\t0.00\t0.00\t0.010000\t0.00\t0.000000\t0.000000\t0.00\t0.00\t0.000000\t0.000000\t0.000000\t0.00\t0.010000\t0.000000\t0.00\t0.00\t0.00\t0.00\t0.00\t0.00\t0.01\t0.000000\t0.000000\t0.000000\t0.00\t0.000000\t0.00\t0.01\t0.000000\t0.020000\t0.00\t0.00\t0.01\t0.00\t0.020000\t0.00\t0.01\t0.00\t0.02\t0.00\t0.000000\t0.000000\t0.00\t0.00\t0.000000\t0.000000\t0.000000\t0.020000\t0.00\t0.01\t0.010000\t0.01\t0.01\t0.00\t0.00\t0.00\t0.000000\t0.000000\t0.00\t0.000000\t0.00\t0.000000\t0.000000\t0.00\t0.000000\t0.00\t0.02\t0.00\t0.00\t0.00\t0.00\t0.00\t0.050000\t0.00\t0.01\t0.00\t0.000000\t0.01\t0.00\t0.00\t0.000000\t0.000000\t0.00\t0.000000\t0.00\t0.00\t0.000000\t0.000000\t0.00\t0.000000\t0.000000\t0.01\t0.00\t0.00\t0.00\t0.00\t0.01\t0.00\t0.00\n",
    "38\tMiharja\t0.000000\t0.01\t0.00\t0.00\t0.000000\t0.000000\t0.00\t0.00\t0.00\t0.000000\t0.010000\t0.00\t0.00\t0.000000\t0.010000\t0.00\t0.00\t0.000000\t0.00\t0.000000\t0.000000\t0.000000\t0.00\t0.000000\t0.010000\t0.00\t0.000000\t0.00\t0.000000\t0.00\t0.00\t0.00\t0.010000\t0.00\t0.00\t0.00\t0.00\t0.010000\t0.00\t0.000000\t0.00\t0.00\t0.000000\t0.00\t0.00\t0.000000\t0.000000\t0.000000\t0.00\t0.00\t0.090000\t0.00\t0.00\t0.000000\t0.00\t0.01\t0.000000\t0.040000\t0.01\t0.00\t0.01\t0.00\t0.030000\t0.00\t0.00\t0.00\t0.00\t0.010000\t0.00\t0.00\t0.00\t0.00\t0.010000\t0.00\t0.00\t0.00\t0.010000\t0.000000\t0.000000\t0.00\t0.00\t0.00\t0.00\t0.00\t0.00\t0.00\t0.00\t0.01\t0.00\t0.00\t0.000000\t0.000000\t0.00\t0.00\t0.00\t0.00\t0.000000\t0.010000\t0.000000\t0.000000\t0.000000\t0.00\t0.020000\t0.00\t0.00\t0.00\t0.00\t0.000000\t0.00\t0.00\t0.000000\t0.010000\t0.000000\t0.00\t0.00\t0.00\t0.00\t0.00\t0.01\t0.000000\t0.00\t0.00\t0.00\t0.00\t0.01\t0.00\t0.00\t0.00\t0.000000\t0.010000\t0.00\t0.00\t0.000000\t0.00\t0.000000\t0.00\t0.000000\t0.00\t0.00\t0.000000\t0.02\t0.00\t0.000000\t0.090000\t0.02\t0.01\t0.000000\t0.00\t0.00\t0.01\t0.000000\t0.060000\t0.000000\t0.02\t0.00\t0.000000\t0.000000\t0.00\t0.00\t0.000000\t0.000000\t0.00\t0.000000\t0.00\t0.000000\t0.01\t0.00\t0.00\t0.00\t0.01\t0.050000\t0.000000\t0.00\t0.00\t0.00\t0.00\t0.01\t0.00\t0.010000\t0.00\t0.00\t0.00\t0.03\t0.01\t0.00\t0.00\t0.000000\t0.00\t0.00\t0.010000\t0.02\t0.000000\t0.00\t0.00\t0.000000\t0.000000\t0.000000\t0.020000\t0.00\t0.00\t0.00\t0.000000\t0.00\t0.00\t0.00\t0.00\t0.00\t0.030000\t0.00\t0.000000\t0.000000\t0.00\t0.00\t0.000000\t0.000000\t0.000000\t0.00\t0.000000\t0.000000\t0.00\t0.00\t0.00\t0.00\t0.00\t0.00\t0.00\t0.000000\t0.030000\t0.000000\t0.00\t0.000000\t0.00\t0.01\t0.000000\t0.000000\t0.00\t0.00\t0.01\t0.00\t0.000000\t0.00\t0.01\t0.00\t0.01\t0.00\t0.000000\t0.000000\t0.00\t0.00\t0.000000\t0.000000\t0.000000\t0.020000\t0.00\t0.01\t0.010000\t0.01\t0.02\t0.00\t0.01\t0.00\t0.000000\t0.000000\t0.00\t0.000000\t0.00\t0.000000\t0.000000\t0.00\t0.000000\t0.00\t0.01\t0.00\t0.01\t0.00\t0.01\t0.00\t0.010000\t0.00\t0.00\t0.00\t0.000000\t0.00\t0.00\t0.00\t0.000000\t0.000000\t0.00\t0.000000\t0.00\t0.00\t0.000000\t0.010000\t0.00\t0.000000\t0.000000\t0.00\t0.00\t0.00\t0.00\t0.00\t0.00\t0.00\t0.00\n",
    "39\tMont Kiara\t0.000000\t0.00\t0.00\t0.00\t0.000000\t0.000000\t0.00\t0.00\t0.00\t0.000000\t0.000000\t0.00\t0.00\t0.020000\t0.000000\t0.00\t0.00\t0.000000\t0.00\t0.000000\t0.000000\t0.000000\t0.00\t0.030000\t0.020000\t0.00\t0.000000\t0.00\t0.000000\t0.01\t0.01\t0.00\t0.000000\t0.00\t0.00\t0.00\t0.00\t0.000000\t0.00\t0.000000\t0.00\t0.00\t0.000000\t0.00\t0.01\t0.010000\t0.000000\t0.000000\t0.01\t0.00\t0.130000\t0.00\t0.00\t0.000000\t0.00\t0.00\t0.000000\t0.010000\t0.00\t0.00\t0.00\t0.00\t0.020000\t0.00\t0.00\t0.00\t0.00\t0.000000\t0.00\t0.01\t0.00\t0.02\t0.010000\t0.00\t0.00\t0.00\t0.010000\t0.000000\t0.000000\t0.00\t0.00\t0.00\t0.00\t0.00\t0.00\t0.00\t0.00\t0.00\t0.00\t0.00\t0.000000\t0.000000\t0.00\t0.00\t0.00\t0.00\t0.000000\t0.000000\t0.000000\t0.000000\t0.000000\t0.00\t0.000000\t0.00\t0.00\t0.00\t0.00\t0.000000\t0.01\t0.00\t0.000000\t0.000000\t0.000000\t0.00\t0.00\t0.00\t0.00\t0.00\t0.00\t0.000000\t0.00\t0.00\t0.00\t0.00\t0.01\t0.03\t0.00\t0.00\t0.000000\t0.000000\t0.00\t0.00\t0.000000\t0.00\t0.000000\t0.00\t0.000000\t0.00\t0.00\t0.010000\t0.00\t0.00\t0.000000\t0.010000\t0.00\t0.01\t0.000000\t0.00\t0.00\t0.00\t0.030000\t0.000000\t0.010000\t0.04\t0.00\t0.130000\t0.000000\t0.00\t0.01\t0.000000\t0.000000\t0.00\t0.050000\t0.01\t0.000000\t0.00\t0.00\t0.00\t0.00\t0.00\t0.010000\t0.000000\t0.02\t0.00\t0.00\t0.00\t0.00\t0.00\t0.000000\t0.00\t0.00\t0.01\t0.00\t0.00\t0.00\t0.00\t0.000000\t0.00\t0.00\t0.000000\t0.00\t0.000000\t0.00\t0.00\t0.000000\t0.000000\t0.000000\t0.010000\t0.01\t0.00\t0.00\t0.000000\t0.00\t0.00\t0.00\t0.00\t0.01\t0.000000\t0.00\t0.000000\t0.000000\t0.00\t0.00\t0.000000\t0.000000\t0.000000\t0.00\t0.010000\t0.000000\t0.01\t0.00\t0.00\t0.00\t0.00\t0.00\t0.00\t0.000000\t0.040000\t0.000000\t0.00\t0.000000\t0.00\t0.00\t0.000000\t0.000000\t0.00\t0.00\t0.00\t0.00\t0.030000\t0.00\t0.00\t0.00\t0.02\t0.00\t0.000000\t0.000000\t0.00\t0.00\t0.010000\t0.000000\t0.000000\t0.000000\t0.00\t0.00\t0.030000\t0.01\t0.00\t0.00\t0.00\t0.00\t0.000000\t0.000000\t0.00\t0.010000\t0.00\t0.010000\t0.000000\t0.00\t0.010000\t0.00\t0.00\t0.01\t0.00\t0.00\t0.00\t0.00\t0.000000\t0.00\t0.00\t0.00\t0.000000\t0.00\t0.00\t0.00\t0.000000\t0.000000\t0.00\t0.000000\t0.00\t0.00\t0.000000\t0.010000\t0.00\t0.000000\t0.000000\t0.00\t0.00\t0.00\t0.00\t0.00\t0.00\t0.03\t0.00\n",
    "40\tPantai Dalam\t0.000000\t0.00\t0.00\t0.00\t0.000000\t0.000000\t0.00\t0.00\t0.00\t0.000000\t0.000000\t0.00\t0.00\t0.030000\t0.010000\t0.00\t0.00\t0.000000\t0.00\t0.000000\t0.030000\t0.000000\t0.00\t0.010000\t0.010000\t0.00\t0.000000\t0.00\t0.000000\t0.00\t0.00\t0.01\t0.000000\t0.00\t0.00\t0.00\t0.00\t0.000000\t0.00\t0.020000\t0.00\t0.00\t0.000000\t0.00\t0.00\t0.010000\t0.000000\t0.000000\t0.00\t0.00\t0.080000\t0.00\t0.00\t0.000000\t0.00\t0.00\t0.000000\t0.160000\t0.00\t0.01\t0.00\t0.00\t0.020000\t0.00\t0.00\t0.00\t0.01\t0.010000\t0.00\t0.00\t0.00\t0.00\t0.000000\t0.01\t0.00\t0.00\t0.000000\t0.000000\t0.000000\t0.00\t0.00\t0.00\t0.01\t0.00\t0.00\t0.01\t0.00\t0.00\t0.00\t0.00\t0.000000\t0.000000\t0.00\t0.00\t0.00\t0.00\t0.000000\t0.000000\t0.000000\t0.000000\t0.000000\t0.00\t0.030000\t0.00\t0.00\t0.00\t0.00\t0.000000\t0.00\t0.00\t0.000000\t0.000000\t0.000000\t0.00\t0.00\t0.00\t0.00\t0.00\t0.00\t0.000000\t0.00\t0.00\t0.00\t0.00\t0.00\t0.01\t0.00\t0.00\t0.000000\t0.010000\t0.00\t0.00\t0.000000\t0.00\t0.000000\t0.00\t0.000000\t0.00\t0.00\t0.010000\t0.00\t0.00\t0.000000\t0.020000\t0.00\t0.00\t0.000000\t0.00\t0.00\t0.00\t0.010000\t0.050000\t0.010000\t0.00\t0.00\t0.050000\t0.000000\t0.00\t0.00\t0.000000\t0.000000\t0.00\t0.010000\t0.00\t0.000000\t0.00\t0.00\t0.00\t0.00\t0.00\t0.050000\t0.000000\t0.00\t0.01\t0.00\t0.00\t0.00\t0.00\t0.000000\t0.00\t0.00\t0.00\t0.00\t0.00\t0.00\t0.00\t0.000000\t0.00\t0.00\t0.000000\t0.00\t0.000000\t0.00\t0.00\t0.000000\t0.000000\t0.010000\t0.020000\t0.00\t0.00\t0.01\t0.000000\t0.00\t0.00\t0.00\t0.00\t0.00\t0.010000\t0.00\t0.020000\t0.000000\t0.00\t0.00\t0.000000\t0.000000\t0.000000\t0.00\t0.000000\t0.000000\t0.00\t0.00\t0.00\t0.00\t0.00\t0.02\t0.01\t0.000000\t0.030000\t0.000000\t0.00\t0.000000\t0.00\t0.00\t0.000000\t0.020000\t0.00\t0.00\t0.00\t0.00\t0.010000\t0.00\t0.00\t0.00\t0.01\t0.00\t0.000000\t0.010000\t0.00\t0.00\t0.000000\t0.000000\t0.000000\t0.000000\t0.00\t0.01\t0.020000\t0.00\t0.00\t0.00\t0.01\t0.00\t0.000000\t0.000000\t0.00\t0.000000\t0.00\t0.010000\t0.000000\t0.00\t0.000000\t0.00\t0.00\t0.00\t0.00\t0.00\t0.00\t0.00\t0.020000\t0.00\t0.00\t0.00\t0.000000\t0.00\t0.00\t0.00\t0.000000\t0.010000\t0.00\t0.000000\t0.00\t0.00\t0.000000\t0.010000\t0.00\t0.000000\t0.000000\t0.00\t0.01\t0.00\t0.00\t0.00\t0.00\t0.00\t0.00\n",
    "41\tPudu, Kuala Lumpur\t0.000000\t0.00\t0.00\t0.00\t0.000000\t0.000000\t0.00\t0.00\t0.00\t0.000000\t0.000000\t0.00\t0.00\t0.010000\t0.000000\t0.00\t0.00\t0.000000\t0.00\t0.000000\t0.000000\t0.000000\t0.00\t0.010000\t0.010000\t0.00\t0.000000\t0.00\t0.000000\t0.00\t0.00\t0.00\t0.000000\t0.00\t0.00\t0.01\t0.00\t0.020000\t0.00\t0.020000\t0.00\t0.00\t0.000000\t0.00\t0.00\t0.020000\t0.000000\t0.000000\t0.00\t0.00\t0.030000\t0.00\t0.00\t0.000000\t0.00\t0.00\t0.000000\t0.160000\t0.00\t0.02\t0.00\t0.00\t0.040000\t0.00\t0.00\t0.00\t0.00\t0.010000\t0.00\t0.00\t0.00\t0.00\t0.000000\t0.00\t0.01\t0.00\t0.020000\t0.000000\t0.000000\t0.00\t0.00\t0.00\t0.00\t0.00\t0.00\t0.00\t0.00\t0.00\t0.00\t0.00\t0.000000\t0.000000\t0.00\t0.00\t0.00\t0.00\t0.000000\t0.010000\t0.000000\t0.000000\t0.000000\t0.00\t0.000000\t0.00\t0.01\t0.00\t0.00\t0.010000\t0.00\t0.01\t0.000000\t0.000000\t0.000000\t0.00\t0.00\t0.00\t0.00\t0.00\t0.00\t0.000000\t0.00\t0.00\t0.00\t0.01\t0.00\t0.00\t0.00\t0.01\t0.000000\t0.010000\t0.00\t0.00\t0.000000\t0.00\t0.000000\t0.00\t0.000000\t0.00\t0.01\t0.000000\t0.02\t0.00\t0.000000\t0.080000\t0.00\t0.00\t0.000000\t0.00\t0.00\t0.00\t0.010000\t0.000000\t0.000000\t0.01\t0.00\t0.010000\t0.000000\t0.01\t0.01\t0.000000\t0.000000\t0.00\t0.020000\t0.00\t0.000000\t0.00\t0.00\t0.00\t0.00\t0.02\t0.010000\t0.010000\t0.00\t0.00\t0.00\t0.00\t0.00\t0.00\t0.010000\t0.00\t0.00\t0.00\t0.00\t0.00\t0.00\t0.02\t0.000000\t0.00\t0.01\t0.010000\t0.00\t0.000000\t0.00\t0.00\t0.000000\t0.000000\t0.040000\t0.030000\t0.00\t0.00\t0.00\t0.000000\t0.00\t0.00\t0.00\t0.00\t0.00\t0.000000\t0.00\t0.010000\t0.000000\t0.00\t0.00\t0.000000\t0.000000\t0.000000\t0.00\t0.000000\t0.000000\t0.00\t0.00\t0.00\t0.00\t0.00\t0.00\t0.00\t0.000000\t0.040000\t0.000000\t0.00\t0.000000\t0.00\t0.00\t0.000000\t0.010000\t0.00\t0.01\t0.00\t0.00\t0.000000\t0.00\t0.00\t0.00\t0.05\t0.00\t0.000000\t0.000000\t0.00\t0.00\t0.010000\t0.000000\t0.000000\t0.000000\t0.00\t0.00\t0.020000\t0.01\t0.00\t0.00\t0.00\t0.00\t0.000000\t0.000000\t0.00\t0.000000\t0.00\t0.000000\t0.000000\t0.00\t0.000000\t0.00\t0.00\t0.00\t0.00\t0.00\t0.00\t0.00\t0.000000\t0.01\t0.00\t0.00\t0.000000\t0.00\t0.00\t0.00\t0.000000\t0.000000\t0.00\t0.000000\t0.00\t0.01\t0.000000\t0.020000\t0.00\t0.000000\t0.000000\t0.00\t0.00\t0.00\t0.00\t0.00\t0.00\t0.00\t0.00\n",
    "42\tPutrajaya\t0.012821\t0.00\t0.00\t0.00\t0.012821\t0.012821\t0.00\t0.00\t0.00\t0.000000\t0.012821\t0.00\t0.00\t0.064103\t0.000000\t0.00\t0.00\t0.012821\t0.00\t0.012821\t0.000000\t0.000000\t0.00\t0.012821\t0.000000\t0.00\t0.000000\t0.00\t0.012821\t0.00\t0.00\t0.00\t0.000000\t0.00\t0.00\t0.00\t0.00\t0.000000\t0.00\t0.000000\t0.00\t0.00\t0.000000\t0.00\t0.00\t0.012821\t0.000000\t0.000000\t0.00\t0.00\t0.025641\t0.00\t0.00\t0.000000\t0.00\t0.00\t0.000000\t0.102564\t0.00\t0.00\t0.00\t0.00\t0.000000\t0.00\t0.00\t0.00\t0.00\t0.012821\t0.00\t0.00\t0.00\t0.00\t0.012821\t0.00\t0.00\t0.00\t0.000000\t0.000000\t0.012821\t0.00\t0.00\t0.00\t0.00\t0.00\t0.00\t0.00\t0.00\t0.00\t0.00\t0.00\t0.000000\t0.012821\t0.00\t0.00\t0.00\t0.00\t0.012821\t0.012821\t0.000000\t0.000000\t0.012821\t0.00\t0.051282\t0.00\t0.00\t0.00\t0.00\t0.000000\t0.00\t0.00\t0.000000\t0.000000\t0.012821\t0.00\t0.00\t0.00\t0.00\t0.00\t0.00\t0.000000\t0.00\t0.00\t0.00\t0.00\t0.00\t0.00\t0.00\t0.00\t0.000000\t0.012821\t0.00\t0.00\t0.000000\t0.00\t0.012821\t0.00\t0.012821\t0.00\t0.00\t0.012821\t0.00\t0.00\t0.000000\t0.012821\t0.00\t0.00\t0.000000\t0.00\t0.00\t0.00\t0.012821\t0.012821\t0.025641\t0.00\t0.00\t0.000000\t0.012821\t0.00\t0.00\t0.000000\t0.000000\t0.00\t0.000000\t0.00\t0.012821\t0.00\t0.00\t0.00\t0.00\t0.00\t0.076923\t0.025641\t0.00\t0.00\t0.00\t0.00\t0.00\t0.00\t0.000000\t0.00\t0.00\t0.00\t0.00\t0.00\t0.00\t0.00\t0.012821\t0.00\t0.00\t0.000000\t0.00\t0.012821\t0.00\t0.00\t0.000000\t0.012821\t0.012821\t0.000000\t0.00\t0.00\t0.00\t0.000000\t0.00\t0.00\t0.00\t0.00\t0.00\t0.000000\t0.00\t0.000000\t0.012821\t0.00\t0.00\t0.025641\t0.000000\t0.012821\t0.00\t0.012821\t0.000000\t0.00\t0.00\t0.00\t0.00\t0.00\t0.00\t0.00\t0.000000\t0.025641\t0.000000\t0.00\t0.012821\t0.00\t0.00\t0.012821\t0.012821\t0.00\t0.00\t0.00\t0.00\t0.038462\t0.00\t0.00\t0.00\t0.00\t0.00\t0.000000\t0.000000\t0.00\t0.00\t0.000000\t0.012821\t0.012821\t0.025641\t0.00\t0.00\t0.000000\t0.00\t0.00\t0.00\t0.00\t0.00\t0.000000\t0.000000\t0.00\t0.000000\t0.00\t0.000000\t0.000000\t0.00\t0.000000\t0.00\t0.00\t0.00\t0.00\t0.00\t0.00\t0.00\t0.000000\t0.00\t0.00\t0.00\t0.000000\t0.00\t0.00\t0.00\t0.000000\t0.000000\t0.00\t0.012821\t0.00\t0.00\t0.000000\t0.012821\t0.00\t0.000000\t0.000000\t0.00\t0.00\t0.00\t0.00\t0.00\t0.00\t0.00\t0.00\n",
    "43\tSalak South\t0.000000\t0.00\t0.00\t0.00\t0.000000\t0.000000\t0.00\t0.00\t0.00\t0.000000\t0.000000\t0.00\t0.00\t0.050000\t0.000000\t0.00\t0.00\t0.000000\t0.00\t0.000000\t0.000000\t0.000000\t0.00\t0.030000\t0.000000\t0.00\t0.010000\t0.00\t0.000000\t0.00\t0.00\t0.00\t0.000000\t0.00\t0.00\t0.00\t0.00\t0.000000\t0.00\t0.000000\t0.01\t0.00\t0.010000\t0.00\t0.00\t0.030000\t0.000000\t0.010000\t0.00\t0.00\t0.050000\t0.00\t0.00\t0.000000\t0.00\t0.00\t0.000000\t0.180000\t0.00\t0.00\t0.00\t0.00\t0.060000\t0.00\t0.00\t0.00\t0.00\t0.020000\t0.00\t0.00\t0.00\t0.00\t0.000000\t0.00\t0.00\t0.00\t0.020000\t0.000000\t0.000000\t0.00\t0.00\t0.00\t0.00\t0.01\t0.00\t0.00\t0.00\t0.00\t0.00\t0.00\t0.000000\t0.000000\t0.00\t0.00\t0.00\t0.00\t0.000000\t0.010000\t0.000000\t0.010000\t0.000000\t0.00\t0.000000\t0.00\t0.00\t0.00\t0.00\t0.000000\t0.00\t0.00\t0.000000\t0.000000\t0.000000\t0.00\t0.00\t0.00\t0.00\t0.00\t0.00\t0.000000\t0.00\t0.00\t0.00\t0.00\t0.01\t0.00\t0.01\t0.00\t0.000000\t0.000000\t0.00\t0.00\t0.000000\t0.00\t0.000000\t0.00\t0.000000\t0.00\t0.00\t0.010000\t0.00\t0.00\t0.000000\t0.000000\t0.00\t0.00\t0.030000\t0.00\t0.01\t0.00\t0.020000\t0.010000\t0.000000\t0.01\t0.00\t0.040000\t0.000000\t0.00\t0.00\t0.010000\t0.000000\t0.00\t0.030000\t0.00\t0.000000\t0.00\t0.00\t0.00\t0.00\t0.01\t0.010000\t0.010000\t0.01\t0.02\t0.00\t0.00\t0.00\t0.00\t0.020000\t0.00\t0.00\t0.00\t0.00\t0.00\t0.00\t0.00\t0.000000\t0.00\t0.00\t0.000000\t0.00\t0.000000\t0.00\t0.00\t0.000000\t0.000000\t0.000000\t0.030000\t0.00\t0.01\t0.00\t0.000000\t0.00\t0.00\t0.00\t0.01\t0.00\t0.000000\t0.00\t0.010000\t0.000000\t0.00\t0.00\t0.000000\t0.000000\t0.000000\t0.00\t0.000000\t0.000000\t0.00\t0.00\t0.00\t0.00\t0.00\t0.01\t0.00\t0.000000\t0.020000\t0.000000\t0.00\t0.000000\t0.00\t0.00\t0.010000\t0.010000\t0.00\t0.00\t0.00\t0.00\t0.010000\t0.00\t0.00\t0.00\t0.00\t0.00\t0.000000\t0.000000\t0.00\t0.00\t0.000000\t0.000000\t0.000000\t0.000000\t0.00\t0.00\t0.000000\t0.00\t0.00\t0.00\t0.00\t0.00\t0.000000\t0.000000\t0.00\t0.010000\t0.00\t0.000000\t0.000000\t0.01\t0.010000\t0.01\t0.00\t0.00\t0.00\t0.00\t0.01\t0.00\t0.000000\t0.00\t0.00\t0.00\t0.000000\t0.00\t0.00\t0.00\t0.000000\t0.000000\t0.00\t0.000000\t0.00\t0.00\t0.000000\t0.010000\t0.00\t0.010000\t0.000000\t0.00\t0.01\t0.02\t0.00\t0.00\t0.00\t0.00\t0.00\n",
    "44\tSegambut\t0.000000\t0.00\t0.00\t0.00\t0.000000\t0.000000\t0.00\t0.00\t0.00\t0.000000\t0.020000\t0.00\t0.00\t0.050000\t0.000000\t0.00\t0.00\t0.000000\t0.00\t0.000000\t0.010000\t0.000000\t0.00\t0.020000\t0.010000\t0.00\t0.010000\t0.01\t0.000000\t0.01\t0.01\t0.00\t0.010000\t0.00\t0.00\t0.00\t0.00\t0.000000\t0.00\t0.000000\t0.00\t0.00\t0.010000\t0.00\t0.00\t0.010000\t0.000000\t0.000000\t0.00\t0.00\t0.080000\t0.00\t0.00\t0.000000\t0.00\t0.00\t0.000000\t0.110000\t0.00\t0.00\t0.00\t0.00\t0.020000\t0.00\t0.00\t0.00\t0.00\t0.010000\t0.00\t0.00\t0.00\t0.00\t0.010000\t0.01\t0.00\t0.00\t0.020000\t0.000000\t0.010000\t0.00\t0.00\t0.00\t0.00\t0.00\t0.00\t0.00\t0.00\t0.00\t0.00\t0.00\t0.000000\t0.000000\t0.00\t0.00\t0.00\t0.00\t0.000000\t0.000000\t0.000000\t0.000000\t0.010000\t0.01\t0.010000\t0.00\t0.00\t0.00\t0.00\t0.000000\t0.00\t0.00\t0.000000\t0.000000\t0.000000\t0.00\t0.00\t0.00\t0.01\t0.00\t0.00\t0.000000\t0.00\t0.00\t0.00\t0.00\t0.00\t0.02\t0.00\t0.00\t0.000000\t0.010000\t0.00\t0.00\t0.000000\t0.00\t0.000000\t0.00\t0.000000\t0.00\t0.00\t0.010000\t0.00\t0.00\t0.000000\t0.000000\t0.00\t0.00\t0.000000\t0.00\t0.00\t0.00\t0.010000\t0.010000\t0.000000\t0.01\t0.00\t0.040000\t0.000000\t0.00\t0.01\t0.000000\t0.000000\t0.00\t0.060000\t0.00\t0.000000\t0.00\t0.00\t0.00\t0.00\t0.00\t0.050000\t0.010000\t0.01\t0.00\t0.00\t0.00\t0.00\t0.00\t0.010000\t0.00\t0.00\t0.00\t0.00\t0.00\t0.00\t0.00\t0.010000\t0.00\t0.00\t0.000000\t0.00\t0.000000\t0.00\t0.00\t0.000000\t0.000000\t0.010000\t0.020000\t0.00\t0.00\t0.00\t0.000000\t0.00\t0.00\t0.00\t0.00\t0.00\t0.000000\t0.00\t0.000000\t0.000000\t0.00\t0.00\t0.010000\t0.000000\t0.000000\t0.00\t0.000000\t0.000000\t0.00\t0.00\t0.00\t0.00\t0.00\t0.01\t0.00\t0.000000\t0.030000\t0.000000\t0.00\t0.000000\t0.00\t0.00\t0.000000\t0.010000\t0.00\t0.00\t0.00\t0.00\t0.020000\t0.00\t0.00\t0.00\t0.02\t0.00\t0.000000\t0.000000\t0.00\t0.00\t0.010000\t0.000000\t0.000000\t0.000000\t0.00\t0.01\t0.030000\t0.00\t0.00\t0.00\t0.00\t0.00\t0.000000\t0.000000\t0.00\t0.000000\t0.00\t0.010000\t0.000000\t0.00\t0.020000\t0.00\t0.00\t0.00\t0.00\t0.00\t0.01\t0.00\t0.010000\t0.00\t0.00\t0.00\t0.000000\t0.00\t0.00\t0.00\t0.000000\t0.000000\t0.00\t0.000000\t0.00\t0.00\t0.000000\t0.000000\t0.00\t0.010000\t0.000000\t0.00\t0.00\t0.00\t0.00\t0.00\t0.00\t0.00\t0.00\n",
    "45\tSemarak\t0.000000\t0.00\t0.00\t0.00\t0.000000\t0.000000\t0.00\t0.00\t0.00\t0.000000\t0.020000\t0.01\t0.01\t0.070000\t0.000000\t0.00\t0.00\t0.000000\t0.00\t0.000000\t0.000000\t0.000000\t0.00\t0.020000\t0.010000\t0.00\t0.000000\t0.00\t0.000000\t0.00\t0.00\t0.00\t0.000000\t0.01\t0.00\t0.00\t0.00\t0.000000\t0.00\t0.020000\t0.00\t0.00\t0.000000\t0.00\t0.00\t0.020000\t0.000000\t0.000000\t0.00\t0.00\t0.010000\t0.00\t0.00\t0.000000\t0.00\t0.00\t0.000000\t0.080000\t0.00\t0.00\t0.00\t0.00\t0.050000\t0.00\t0.00\t0.01\t0.00\t0.010000\t0.00\t0.00\t0.00\t0.00\t0.000000\t0.00\t0.00\t0.00\t0.000000\t0.000000\t0.010000\t0.00\t0.00\t0.00\t0.00\t0.00\t0.00\t0.01\t0.00\t0.00\t0.00\t0.00\t0.010000\t0.010000\t0.00\t0.00\t0.00\t0.00\t0.000000\t0.000000\t0.000000\t0.000000\t0.020000\t0.00\t0.020000\t0.00\t0.00\t0.00\t0.00\t0.000000\t0.00\t0.00\t0.000000\t0.010000\t0.000000\t0.00\t0.00\t0.00\t0.00\t0.00\t0.00\t0.010000\t0.01\t0.00\t0.00\t0.00\t0.01\t0.00\t0.00\t0.00\t0.000000\t0.010000\t0.00\t0.00\t0.000000\t0.00\t0.000000\t0.00\t0.000000\t0.00\t0.00\t0.000000\t0.00\t0.00\t0.000000\t0.020000\t0.00\t0.00\t0.000000\t0.01\t0.00\t0.00\t0.000000\t0.030000\t0.040000\t0.01\t0.00\t0.000000\t0.000000\t0.00\t0.00\t0.000000\t0.000000\t0.00\t0.000000\t0.00\t0.000000\t0.00\t0.00\t0.00\t0.00\t0.00\t0.180000\t0.010000\t0.00\t0.00\t0.00\t0.00\t0.00\t0.00\t0.020000\t0.00\t0.00\t0.00\t0.00\t0.02\t0.00\t0.00\t0.000000\t0.00\t0.00\t0.000000\t0.00\t0.000000\t0.00\t0.00\t0.000000\t0.010000\t0.000000\t0.000000\t0.01\t0.00\t0.00\t0.000000\t0.00\t0.00\t0.00\t0.00\t0.01\t0.010000\t0.00\t0.000000\t0.000000\t0.00\t0.00\t0.030000\t0.010000\t0.000000\t0.00\t0.000000\t0.000000\t0.00\t0.00\t0.00\t0.00\t0.00\t0.00\t0.00\t0.000000\t0.020000\t0.000000\t0.00\t0.000000\t0.00\t0.00\t0.000000\t0.000000\t0.00\t0.00\t0.00\t0.00\t0.030000\t0.00\t0.00\t0.00\t0.00\t0.00\t0.000000\t0.000000\t0.00\t0.00\t0.000000\t0.000000\t0.000000\t0.000000\t0.00\t0.00\t0.010000\t0.00\t0.00\t0.00\t0.00\t0.00\t0.000000\t0.000000\t0.00\t0.000000\t0.00\t0.000000\t0.000000\t0.00\t0.000000\t0.00\t0.00\t0.00\t0.00\t0.00\t0.00\t0.00\t0.030000\t0.00\t0.00\t0.00\t0.000000\t0.00\t0.00\t0.00\t0.000000\t0.000000\t0.00\t0.000000\t0.00\t0.00\t0.000000\t0.000000\t0.00\t0.000000\t0.000000\t0.00\t0.00\t0.00\t0.00\t0.01\t0.00\t0.00\t0.00\n",
    "46\tSentul Raya\t0.000000\t0.00\t0.00\t0.00\t0.000000\t0.000000\t0.00\t0.00\t0.00\t0.010000\t0.010000\t0.00\t0.00\t0.050000\t0.020000\t0.00\t0.00\t0.000000\t0.00\t0.000000\t0.000000\t0.000000\t0.00\t0.020000\t0.000000\t0.00\t0.000000\t0.00\t0.000000\t0.00\t0.00\t0.00\t0.000000\t0.00\t0.00\t0.00\t0.00\t0.000000\t0.00\t0.000000\t0.00\t0.00\t0.010000\t0.00\t0.00\t0.010000\t0.000000\t0.000000\t0.00\t0.00\t0.060000\t0.00\t0.00\t0.000000\t0.00\t0.00\t0.000000\t0.100000\t0.00\t0.03\t0.00\t0.00\t0.040000\t0.00\t0.00\t0.00\t0.00\t0.020000\t0.00\t0.00\t0.00\t0.00\t0.000000\t0.00\t0.00\t0.00\t0.000000\t0.010000\t0.000000\t0.00\t0.00\t0.00\t0.00\t0.00\t0.00\t0.00\t0.01\t0.00\t0.00\t0.00\t0.000000\t0.000000\t0.00\t0.00\t0.00\t0.00\t0.010000\t0.000000\t0.000000\t0.000000\t0.000000\t0.01\t0.000000\t0.00\t0.00\t0.00\t0.00\t0.000000\t0.00\t0.00\t0.000000\t0.000000\t0.000000\t0.00\t0.00\t0.00\t0.00\t0.00\t0.00\t0.000000\t0.00\t0.00\t0.00\t0.00\t0.00\t0.00\t0.00\t0.00\t0.000000\t0.020000\t0.00\t0.00\t0.000000\t0.00\t0.000000\t0.00\t0.000000\t0.00\t0.00\t0.000000\t0.00\t0.00\t0.000000\t0.040000\t0.00\t0.00\t0.000000\t0.00\t0.00\t0.01\t0.010000\t0.060000\t0.010000\t0.00\t0.00\t0.010000\t0.000000\t0.00\t0.00\t0.000000\t0.000000\t0.00\t0.000000\t0.00\t0.000000\t0.00\t0.00\t0.00\t0.00\t0.00\t0.090000\t0.000000\t0.00\t0.00\t0.00\t0.00\t0.00\t0.00\t0.000000\t0.00\t0.01\t0.00\t0.00\t0.00\t0.00\t0.00\t0.040000\t0.00\t0.01\t0.010000\t0.01\t0.000000\t0.00\t0.00\t0.000000\t0.000000\t0.000000\t0.000000\t0.00\t0.00\t0.00\t0.000000\t0.00\t0.00\t0.01\t0.00\t0.00\t0.020000\t0.01\t0.000000\t0.010000\t0.00\t0.00\t0.000000\t0.000000\t0.000000\t0.00\t0.010000\t0.000000\t0.00\t0.00\t0.00\t0.00\t0.00\t0.00\t0.00\t0.000000\t0.020000\t0.000000\t0.00\t0.000000\t0.00\t0.00\t0.000000\t0.000000\t0.00\t0.00\t0.00\t0.00\t0.030000\t0.00\t0.00\t0.00\t0.01\t0.00\t0.000000\t0.000000\t0.00\t0.00\t0.000000\t0.000000\t0.000000\t0.000000\t0.00\t0.00\t0.020000\t0.00\t0.00\t0.00\t0.00\t0.00\t0.000000\t0.010000\t0.00\t0.000000\t0.00\t0.000000\t0.000000\t0.00\t0.000000\t0.00\t0.00\t0.00\t0.00\t0.00\t0.01\t0.00\t0.040000\t0.02\t0.00\t0.00\t0.000000\t0.00\t0.00\t0.00\t0.010000\t0.000000\t0.00\t0.000000\t0.00\t0.00\t0.000000\t0.000000\t0.00\t0.000000\t0.010000\t0.01\t0.00\t0.00\t0.00\t0.00\t0.00\t0.00\t0.00\n",
    "47\tSetapak\t0.000000\t0.00\t0.00\t0.00\t0.000000\t0.000000\t0.00\t0.00\t0.00\t0.010000\t0.010000\t0.00\t0.00\t0.080000\t0.000000\t0.00\t0.00\t0.000000\t0.00\t0.000000\t0.000000\t0.000000\t0.00\t0.000000\t0.010000\t0.00\t0.000000\t0.00\t0.000000\t0.00\t0.00\t0.00\t0.010000\t0.00\t0.00\t0.00\t0.00\t0.020000\t0.00\t0.010000\t0.00\t0.00\t0.010000\t0.00\t0.00\t0.010000\t0.000000\t0.010000\t0.00\t0.00\t0.020000\t0.00\t0.00\t0.000000\t0.00\t0.00\t0.000000\t0.140000\t0.00\t0.00\t0.00\t0.00\t0.050000\t0.00\t0.00\t0.00\t0.00\t0.000000\t0.00\t0.00\t0.00\t0.00\t0.010000\t0.00\t0.00\t0.00\t0.020000\t0.000000\t0.000000\t0.00\t0.00\t0.00\t0.00\t0.00\t0.00\t0.00\t0.00\t0.00\t0.00\t0.00\t0.010000\t0.000000\t0.00\t0.00\t0.00\t0.00\t0.010000\t0.000000\t0.010000\t0.000000\t0.010000\t0.00\t0.020000\t0.00\t0.00\t0.00\t0.00\t0.000000\t0.00\t0.00\t0.010000\t0.010000\t0.000000\t0.00\t0.00\t0.00\t0.00\t0.00\t0.00\t0.010000\t0.00\t0.00\t0.00\t0.01\t0.00\t0.00\t0.00\t0.00\t0.000000\t0.020000\t0.00\t0.00\t0.000000\t0.00\t0.000000\t0.00\t0.010000\t0.00\t0.00\t0.000000\t0.01\t0.00\t0.000000\t0.000000\t0.00\t0.00\t0.000000\t0.00\t0.00\t0.00\t0.000000\t0.020000\t0.000000\t0.00\t0.00\t0.000000\t0.000000\t0.00\t0.00\t0.010000\t0.000000\t0.00\t0.010000\t0.00\t0.000000\t0.00\t0.00\t0.00\t0.00\t0.00\t0.070000\t0.000000\t0.00\t0.01\t0.00\t0.00\t0.00\t0.00\t0.000000\t0.00\t0.00\t0.00\t0.00\t0.00\t0.00\t0.00\t0.020000\t0.00\t0.00\t0.000000\t0.00\t0.000000\t0.00\t0.00\t0.000000\t0.020000\t0.000000\t0.000000\t0.00\t0.00\t0.00\t0.000000\t0.00\t0.00\t0.00\t0.00\t0.00\t0.020000\t0.01\t0.000000\t0.000000\t0.00\t0.00\t0.000000\t0.010000\t0.000000\t0.00\t0.000000\t0.000000\t0.00\t0.00\t0.00\t0.00\t0.00\t0.00\t0.00\t0.000000\t0.040000\t0.000000\t0.00\t0.000000\t0.00\t0.00\t0.010000\t0.000000\t0.00\t0.00\t0.00\t0.00\t0.020000\t0.00\t0.00\t0.00\t0.00\t0.00\t0.000000\t0.000000\t0.00\t0.00\t0.010000\t0.000000\t0.000000\t0.010000\t0.00\t0.00\t0.000000\t0.00\t0.00\t0.00\t0.01\t0.00\t0.000000\t0.010000\t0.00\t0.010000\t0.00\t0.000000\t0.000000\t0.00\t0.010000\t0.02\t0.00\t0.00\t0.00\t0.00\t0.00\t0.00\t0.030000\t0.02\t0.00\t0.00\t0.000000\t0.00\t0.00\t0.00\t0.010000\t0.000000\t0.00\t0.000000\t0.00\t0.00\t0.000000\t0.020000\t0.00\t0.000000\t0.010000\t0.00\t0.00\t0.00\t0.00\t0.00\t0.00\t0.00\t0.00\n",
    "48\tSetiawangsa\t0.000000\t0.00\t0.00\t0.01\t0.000000\t0.000000\t0.00\t0.00\t0.00\t0.000000\t0.020000\t0.00\t0.00\t0.080000\t0.000000\t0.00\t0.00\t0.000000\t0.00\t0.000000\t0.000000\t0.000000\t0.00\t0.020000\t0.010000\t0.00\t0.010000\t0.00\t0.000000\t0.00\t0.00\t0.00\t0.010000\t0.00\t0.00\t0.01\t0.00\t0.000000\t0.00\t0.020000\t0.00\t0.00\t0.000000\t0.00\t0.00\t0.030000\t0.000000\t0.000000\t0.00\t0.00\t0.010000\t0.00\t0.00\t0.000000\t0.00\t0.00\t0.000000\t0.050000\t0.00\t0.00\t0.00\t0.00\t0.050000\t0.00\t0.01\t0.00\t0.00\t0.000000\t0.00\t0.00\t0.00\t0.00\t0.000000\t0.01\t0.00\t0.00\t0.000000\t0.000000\t0.010000\t0.00\t0.00\t0.00\t0.01\t0.00\t0.00\t0.00\t0.00\t0.00\t0.00\t0.00\t0.000000\t0.000000\t0.00\t0.00\t0.00\t0.00\t0.010000\t0.000000\t0.000000\t0.000000\t0.000000\t0.00\t0.000000\t0.00\t0.00\t0.00\t0.00\t0.000000\t0.00\t0.00\t0.000000\t0.000000\t0.000000\t0.00\t0.00\t0.00\t0.00\t0.00\t0.00\t0.000000\t0.01\t0.00\t0.00\t0.02\t0.00\t0.01\t0.00\t0.00\t0.000000\t0.000000\t0.00\t0.00\t0.000000\t0.00\t0.000000\t0.00\t0.000000\t0.00\t0.00\t0.000000\t0.00\t0.01\t0.000000\t0.000000\t0.00\t0.00\t0.000000\t0.01\t0.00\t0.00\t0.010000\t0.000000\t0.030000\t0.01\t0.00\t0.010000\t0.000000\t0.00\t0.01\t0.000000\t0.000000\t0.00\t0.000000\t0.00\t0.000000\t0.00\t0.00\t0.01\t0.00\t0.00\t0.160000\t0.000000\t0.00\t0.00\t0.00\t0.00\t0.00\t0.00\t0.010000\t0.00\t0.00\t0.00\t0.00\t0.00\t0.00\t0.00\t0.000000\t0.01\t0.00\t0.010000\t0.00\t0.000000\t0.00\t0.00\t0.000000\t0.000000\t0.000000\t0.000000\t0.00\t0.00\t0.00\t0.000000\t0.00\t0.00\t0.00\t0.00\t0.01\t0.010000\t0.00\t0.020000\t0.010000\t0.00\t0.00\t0.010000\t0.020000\t0.000000\t0.00\t0.010000\t0.000000\t0.00\t0.00\t0.00\t0.00\t0.00\t0.00\t0.00\t0.000000\t0.010000\t0.000000\t0.00\t0.000000\t0.00\t0.00\t0.010000\t0.020000\t0.00\t0.00\t0.00\t0.00\t0.020000\t0.00\t0.00\t0.00\t0.02\t0.00\t0.000000\t0.000000\t0.00\t0.00\t0.000000\t0.000000\t0.000000\t0.020000\t0.00\t0.00\t0.010000\t0.00\t0.00\t0.00\t0.00\t0.00\t0.000000\t0.000000\t0.00\t0.020000\t0.00\t0.010000\t0.000000\t0.00\t0.010000\t0.00\t0.00\t0.00\t0.00\t0.00\t0.00\t0.00\t0.030000\t0.00\t0.00\t0.00\t0.000000\t0.00\t0.01\t0.00\t0.000000\t0.000000\t0.00\t0.000000\t0.00\t0.00\t0.000000\t0.000000\t0.00\t0.000000\t0.000000\t0.00\t0.00\t0.00\t0.00\t0.01\t0.00\t0.00\t0.00\n",
    "49\tShamelin\t0.000000\t0.00\t0.00\t0.00\t0.000000\t0.000000\t0.00\t0.00\t0.00\t0.000000\t0.000000\t0.00\t0.00\t0.050000\t0.010000\t0.00\t0.00\t0.000000\t0.00\t0.000000\t0.000000\t0.000000\t0.00\t0.000000\t0.000000\t0.00\t0.000000\t0.00\t0.000000\t0.00\t0.00\t0.00\t0.010000\t0.00\t0.00\t0.01\t0.00\t0.000000\t0.00\t0.000000\t0.00\t0.00\t0.000000\t0.00\t0.00\t0.050000\t0.000000\t0.000000\t0.00\t0.00\t0.050000\t0.00\t0.00\t0.010000\t0.00\t0.00\t0.000000\t0.170000\t0.00\t0.00\t0.00\t0.00\t0.030000\t0.00\t0.00\t0.00\t0.00\t0.010000\t0.00\t0.00\t0.00\t0.00\t0.010000\t0.00\t0.00\t0.00\t0.020000\t0.000000\t0.000000\t0.00\t0.00\t0.00\t0.00\t0.00\t0.00\t0.00\t0.00\t0.00\t0.00\t0.00\t0.000000\t0.010000\t0.01\t0.00\t0.00\t0.00\t0.000000\t0.000000\t0.000000\t0.000000\t0.000000\t0.00\t0.010000\t0.00\t0.00\t0.00\t0.01\t0.010000\t0.00\t0.02\t0.000000\t0.000000\t0.000000\t0.00\t0.00\t0.00\t0.00\t0.00\t0.00\t0.000000\t0.00\t0.00\t0.00\t0.01\t0.00\t0.01\t0.00\t0.00\t0.000000\t0.010000\t0.00\t0.00\t0.000000\t0.01\t0.000000\t0.00\t0.000000\t0.00\t0.00\t0.000000\t0.00\t0.00\t0.000000\t0.010000\t0.00\t0.00\t0.000000\t0.00\t0.00\t0.00\t0.040000\t0.010000\t0.000000\t0.01\t0.00\t0.010000\t0.000000\t0.00\t0.00\t0.010000\t0.000000\t0.00\t0.020000\t0.00\t0.000000\t0.00\t0.00\t0.00\t0.00\t0.00\t0.050000\t0.000000\t0.00\t0.00\t0.00\t0.00\t0.01\t0.00\t0.000000\t0.00\t0.00\t0.00\t0.00\t0.00\t0.01\t0.00\t0.000000\t0.00\t0.01\t0.020000\t0.00\t0.000000\t0.00\t0.00\t0.000000\t0.000000\t0.010000\t0.010000\t0.00\t0.00\t0.00\t0.000000\t0.00\t0.00\t0.00\t0.00\t0.00\t0.010000\t0.00\t0.000000\t0.010000\t0.00\t0.00\t0.010000\t0.010000\t0.000000\t0.00\t0.010000\t0.000000\t0.01\t0.00\t0.00\t0.00\t0.00\t0.00\t0.00\t0.000000\t0.020000\t0.000000\t0.00\t0.000000\t0.00\t0.00\t0.010000\t0.020000\t0.00\t0.01\t0.00\t0.00\t0.010000\t0.00\t0.00\t0.00\t0.02\t0.00\t0.000000\t0.000000\t0.00\t0.00\t0.000000\t0.000000\t0.000000\t0.010000\t0.00\t0.00\t0.000000\t0.00\t0.00\t0.00\t0.00\t0.01\t0.000000\t0.000000\t0.00\t0.000000\t0.00\t0.010000\t0.000000\t0.00\t0.020000\t0.00\t0.00\t0.00\t0.00\t0.00\t0.01\t0.00\t0.010000\t0.00\t0.00\t0.00\t0.000000\t0.00\t0.00\t0.00\t0.000000\t0.000000\t0.00\t0.000000\t0.00\t0.00\t0.000000\t0.010000\t0.00\t0.000000\t0.000000\t0.00\t0.00\t0.00\t0.00\t0.00\t0.00\t0.00\t0.00\n",
    "50\tSri Hartamas\t0.000000\t0.00\t0.00\t0.00\t0.000000\t0.000000\t0.00\t0.00\t0.00\t0.000000\t0.000000\t0.00\t0.00\t0.020000\t0.000000\t0.00\t0.00\t0.000000\t0.00\t0.000000\t0.000000\t0.000000\t0.00\t0.030000\t0.020000\t0.00\t0.000000\t0.00\t0.000000\t0.01\t0.00\t0.00\t0.000000\t0.00\t0.00\t0.00\t0.00\t0.000000\t0.00\t0.000000\t0.00\t0.00\t0.000000\t0.00\t0.01\t0.010000\t0.000000\t0.000000\t0.01\t0.00\t0.120000\t0.00\t0.00\t0.000000\t0.00\t0.00\t0.000000\t0.010000\t0.00\t0.00\t0.00\t0.01\t0.020000\t0.00\t0.00\t0.00\t0.00\t0.000000\t0.00\t0.01\t0.00\t0.02\t0.010000\t0.00\t0.00\t0.00\t0.000000\t0.000000\t0.000000\t0.00\t0.00\t0.00\t0.00\t0.00\t0.00\t0.00\t0.00\t0.00\t0.00\t0.00\t0.000000\t0.000000\t0.00\t0.00\t0.00\t0.00\t0.000000\t0.000000\t0.000000\t0.000000\t0.000000\t0.00\t0.000000\t0.00\t0.00\t0.00\t0.00\t0.000000\t0.01\t0.00\t0.000000\t0.000000\t0.000000\t0.00\t0.00\t0.00\t0.00\t0.00\t0.00\t0.000000\t0.00\t0.00\t0.00\t0.01\t0.01\t0.03\t0.00\t0.00\t0.000000\t0.000000\t0.00\t0.00\t0.000000\t0.00\t0.000000\t0.00\t0.000000\t0.00\t0.00\t0.010000\t0.00\t0.00\t0.000000\t0.010000\t0.00\t0.01\t0.000000\t0.00\t0.00\t0.00\t0.030000\t0.010000\t0.010000\t0.04\t0.00\t0.110000\t0.000000\t0.00\t0.01\t0.000000\t0.000000\t0.00\t0.050000\t0.01\t0.000000\t0.00\t0.00\t0.00\t0.00\t0.01\t0.010000\t0.000000\t0.02\t0.00\t0.00\t0.00\t0.00\t0.00\t0.000000\t0.00\t0.00\t0.01\t0.00\t0.00\t0.00\t0.00\t0.000000\t0.00\t0.00\t0.000000\t0.00\t0.000000\t0.00\t0.00\t0.000000\t0.000000\t0.000000\t0.010000\t0.01\t0.00\t0.00\t0.000000\t0.00\t0.00\t0.00\t0.00\t0.01\t0.000000\t0.00\t0.000000\t0.000000\t0.00\t0.01\t0.000000\t0.000000\t0.000000\t0.00\t0.010000\t0.000000\t0.01\t0.00\t0.00\t0.00\t0.00\t0.00\t0.00\t0.000000\t0.040000\t0.000000\t0.00\t0.000000\t0.01\t0.00\t0.000000\t0.000000\t0.00\t0.00\t0.00\t0.00\t0.030000\t0.00\t0.00\t0.00\t0.00\t0.00\t0.000000\t0.000000\t0.00\t0.00\t0.010000\t0.000000\t0.000000\t0.000000\t0.00\t0.00\t0.030000\t0.01\t0.00\t0.00\t0.00\t0.00\t0.000000\t0.000000\t0.00\t0.010000\t0.00\t0.010000\t0.000000\t0.00\t0.010000\t0.00\t0.00\t0.01\t0.00\t0.00\t0.00\t0.00\t0.010000\t0.00\t0.00\t0.00\t0.000000\t0.00\t0.00\t0.00\t0.000000\t0.000000\t0.00\t0.000000\t0.00\t0.00\t0.000000\t0.010000\t0.00\t0.000000\t0.000000\t0.00\t0.00\t0.00\t0.00\t0.00\t0.00\t0.03\t0.00\n",
    "51\tSri Petaling\t0.000000\t0.00\t0.00\t0.00\t0.000000\t0.000000\t0.00\t0.00\t0.00\t0.000000\t0.000000\t0.00\t0.00\t0.040000\t0.010000\t0.00\t0.00\t0.000000\t0.00\t0.000000\t0.010000\t0.000000\t0.00\t0.020000\t0.000000\t0.00\t0.000000\t0.00\t0.000000\t0.00\t0.00\t0.00\t0.000000\t0.00\t0.00\t0.00\t0.00\t0.000000\t0.00\t0.010000\t0.00\t0.00\t0.000000\t0.00\t0.00\t0.030000\t0.000000\t0.010000\t0.00\t0.00\t0.100000\t0.00\t0.00\t0.010000\t0.00\t0.00\t0.000000\t0.140000\t0.00\t0.00\t0.00\t0.00\t0.060000\t0.00\t0.00\t0.00\t0.00\t0.020000\t0.00\t0.00\t0.00\t0.00\t0.010000\t0.00\t0.00\t0.00\t0.010000\t0.000000\t0.000000\t0.00\t0.00\t0.00\t0.00\t0.00\t0.00\t0.00\t0.00\t0.00\t0.00\t0.00\t0.000000\t0.000000\t0.01\t0.00\t0.01\t0.00\t0.000000\t0.000000\t0.000000\t0.010000\t0.000000\t0.00\t0.000000\t0.00\t0.00\t0.00\t0.00\t0.000000\t0.00\t0.00\t0.000000\t0.000000\t0.000000\t0.00\t0.00\t0.00\t0.00\t0.00\t0.00\t0.000000\t0.00\t0.00\t0.00\t0.00\t0.01\t0.00\t0.00\t0.00\t0.000000\t0.000000\t0.00\t0.00\t0.000000\t0.00\t0.000000\t0.00\t0.000000\t0.01\t0.00\t0.010000\t0.00\t0.00\t0.000000\t0.000000\t0.00\t0.00\t0.020000\t0.00\t0.01\t0.00\t0.020000\t0.020000\t0.000000\t0.01\t0.00\t0.040000\t0.000000\t0.00\t0.00\t0.010000\t0.000000\t0.00\t0.040000\t0.00\t0.000000\t0.00\t0.00\t0.00\t0.00\t0.00\t0.010000\t0.000000\t0.01\t0.02\t0.00\t0.00\t0.00\t0.00\t0.020000\t0.00\t0.00\t0.00\t0.00\t0.00\t0.00\t0.00\t0.000000\t0.00\t0.00\t0.000000\t0.00\t0.000000\t0.00\t0.00\t0.000000\t0.010000\t0.000000\t0.010000\t0.00\t0.01\t0.00\t0.000000\t0.00\t0.00\t0.00\t0.00\t0.00\t0.000000\t0.00\t0.010000\t0.010000\t0.00\t0.00\t0.000000\t0.000000\t0.000000\t0.00\t0.000000\t0.000000\t0.00\t0.00\t0.00\t0.00\t0.00\t0.01\t0.00\t0.000000\t0.030000\t0.000000\t0.00\t0.000000\t0.00\t0.00\t0.010000\t0.010000\t0.00\t0.00\t0.00\t0.00\t0.000000\t0.00\t0.00\t0.00\t0.00\t0.00\t0.000000\t0.000000\t0.00\t0.00\t0.000000\t0.000000\t0.000000\t0.000000\t0.00\t0.00\t0.000000\t0.00\t0.00\t0.00\t0.00\t0.00\t0.000000\t0.000000\t0.01\t0.010000\t0.00\t0.010000\t0.000000\t0.00\t0.010000\t0.01\t0.00\t0.00\t0.00\t0.00\t0.00\t0.00\t0.010000\t0.00\t0.00\t0.00\t0.000000\t0.00\t0.00\t0.00\t0.000000\t0.000000\t0.00\t0.000000\t0.00\t0.00\t0.000000\t0.030000\t0.00\t0.010000\t0.000000\t0.00\t0.00\t0.02\t0.00\t0.00\t0.00\t0.00\t0.00\n",
    "52\tSungai Besi\t0.000000\t0.00\t0.00\t0.00\t0.000000\t0.000000\t0.00\t0.00\t0.00\t0.000000\t0.000000\t0.00\t0.00\t0.040000\t0.010000\t0.00\t0.00\t0.000000\t0.00\t0.000000\t0.000000\t0.000000\t0.00\t0.010000\t0.010000\t0.00\t0.000000\t0.00\t0.000000\t0.00\t0.00\t0.00\t0.000000\t0.00\t0.00\t0.00\t0.00\t0.010000\t0.00\t0.000000\t0.00\t0.00\t0.010000\t0.00\t0.00\t0.030000\t0.000000\t0.000000\t0.00\t0.00\t0.040000\t0.00\t0.00\t0.000000\t0.01\t0.00\t0.000000\t0.060000\t0.00\t0.00\t0.00\t0.00\t0.050000\t0.00\t0.00\t0.00\t0.00\t0.040000\t0.00\t0.00\t0.00\t0.00\t0.000000\t0.00\t0.01\t0.00\t0.010000\t0.010000\t0.000000\t0.00\t0.00\t0.00\t0.01\t0.00\t0.01\t0.00\t0.01\t0.00\t0.00\t0.00\t0.000000\t0.060000\t0.01\t0.00\t0.00\t0.00\t0.000000\t0.000000\t0.000000\t0.000000\t0.010000\t0.00\t0.020000\t0.00\t0.00\t0.00\t0.00\t0.000000\t0.00\t0.00\t0.000000\t0.000000\t0.000000\t0.00\t0.00\t0.00\t0.00\t0.00\t0.00\t0.000000\t0.00\t0.01\t0.00\t0.00\t0.02\t0.02\t0.00\t0.00\t0.000000\t0.030000\t0.00\t0.00\t0.000000\t0.00\t0.000000\t0.00\t0.000000\t0.01\t0.00\t0.000000\t0.00\t0.00\t0.000000\t0.030000\t0.00\t0.00\t0.000000\t0.01\t0.00\t0.00\t0.010000\t0.020000\t0.020000\t0.00\t0.00\t0.000000\t0.000000\t0.00\t0.00\t0.000000\t0.000000\t0.00\t0.000000\t0.00\t0.000000\t0.00\t0.00\t0.01\t0.00\t0.00\t0.090000\t0.000000\t0.00\t0.00\t0.00\t0.00\t0.00\t0.00\t0.040000\t0.00\t0.00\t0.00\t0.00\t0.00\t0.01\t0.00\t0.000000\t0.00\t0.00\t0.000000\t0.00\t0.000000\t0.00\t0.00\t0.000000\t0.000000\t0.000000\t0.020000\t0.00\t0.00\t0.00\t0.000000\t0.00\t0.00\t0.00\t0.00\t0.00\t0.000000\t0.00\t0.000000\t0.000000\t0.00\t0.00\t0.000000\t0.000000\t0.010000\t0.00\t0.010000\t0.000000\t0.00\t0.00\t0.02\t0.00\t0.00\t0.00\t0.00\t0.010000\t0.020000\t0.000000\t0.00\t0.000000\t0.00\t0.00\t0.000000\t0.030000\t0.00\t0.00\t0.00\t0.00\t0.010000\t0.00\t0.00\t0.00\t0.01\t0.00\t0.000000\t0.000000\t0.00\t0.00\t0.000000\t0.000000\t0.010000\t0.000000\t0.00\t0.00\t0.000000\t0.00\t0.00\t0.00\t0.00\t0.00\t0.000000\t0.010000\t0.00\t0.000000\t0.00\t0.000000\t0.000000\t0.01\t0.000000\t0.00\t0.00\t0.00\t0.00\t0.00\t0.00\t0.00\t0.010000\t0.00\t0.00\t0.01\t0.000000\t0.00\t0.00\t0.00\t0.000000\t0.000000\t0.00\t0.000000\t0.00\t0.00\t0.000000\t0.000000\t0.00\t0.000000\t0.000000\t0.00\t0.00\t0.00\t0.00\t0.00\t0.00\t0.00\t0.00\n",
    "53\tTaman Bukit Maluri\t0.000000\t0.00\t0.00\t0.00\t0.000000\t0.000000\t0.00\t0.00\t0.00\t0.010000\t0.000000\t0.00\t0.00\t0.100000\t0.000000\t0.00\t0.00\t0.000000\t0.01\t0.000000\t0.000000\t0.000000\t0.00\t0.020000\t0.000000\t0.00\t0.020000\t0.00\t0.000000\t0.00\t0.00\t0.00\t0.010000\t0.00\t0.00\t0.01\t0.00\t0.000000\t0.00\t0.010000\t0.00\t0.00\t0.000000\t0.00\t0.01\t0.010000\t0.000000\t0.000000\t0.00\t0.00\t0.060000\t0.00\t0.00\t0.000000\t0.00\t0.00\t0.000000\t0.180000\t0.00\t0.00\t0.00\t0.00\t0.030000\t0.00\t0.00\t0.00\t0.00\t0.000000\t0.00\t0.00\t0.00\t0.00\t0.000000\t0.00\t0.00\t0.00\t0.050000\t0.000000\t0.000000\t0.00\t0.00\t0.01\t0.00\t0.00\t0.00\t0.00\t0.00\t0.00\t0.00\t0.00\t0.000000\t0.000000\t0.00\t0.00\t0.00\t0.00\t0.000000\t0.000000\t0.010000\t0.020000\t0.020000\t0.00\t0.030000\t0.00\t0.00\t0.00\t0.02\t0.000000\t0.00\t0.00\t0.000000\t0.000000\t0.000000\t0.00\t0.00\t0.00\t0.00\t0.00\t0.00\t0.000000\t0.00\t0.00\t0.00\t0.00\t0.01\t0.01\t0.00\t0.00\t0.010000\t0.000000\t0.00\t0.00\t0.000000\t0.00\t0.000000\t0.00\t0.000000\t0.00\t0.00\t0.000000\t0.00\t0.00\t0.000000\t0.000000\t0.00\t0.00\t0.010000\t0.00\t0.00\t0.00\t0.010000\t0.000000\t0.000000\t0.00\t0.00\t0.040000\t0.000000\t0.00\t0.01\t0.000000\t0.000000\t0.00\t0.000000\t0.00\t0.000000\t0.00\t0.00\t0.00\t0.00\t0.00\t0.000000\t0.000000\t0.00\t0.02\t0.00\t0.00\t0.00\t0.00\t0.000000\t0.00\t0.00\t0.00\t0.00\t0.00\t0.01\t0.00\t0.000000\t0.01\t0.00\t0.000000\t0.00\t0.000000\t0.00\t0.00\t0.000000\t0.000000\t0.000000\t0.020000\t0.00\t0.00\t0.00\t0.000000\t0.00\t0.00\t0.00\t0.00\t0.00\t0.030000\t0.00\t0.000000\t0.000000\t0.00\t0.00\t0.000000\t0.000000\t0.010000\t0.00\t0.000000\t0.010000\t0.00\t0.00\t0.00\t0.00\t0.00\t0.00\t0.00\t0.000000\t0.010000\t0.000000\t0.00\t0.000000\t0.00\t0.00\t0.000000\t0.010000\t0.00\t0.00\t0.00\t0.00\t0.000000\t0.00\t0.00\t0.00\t0.00\t0.00\t0.000000\t0.000000\t0.00\t0.00\t0.010000\t0.000000\t0.000000\t0.000000\t0.00\t0.00\t0.010000\t0.01\t0.00\t0.00\t0.00\t0.00\t0.000000\t0.000000\t0.00\t0.000000\t0.00\t0.000000\t0.000000\t0.00\t0.000000\t0.00\t0.00\t0.00\t0.01\t0.00\t0.00\t0.00\t0.040000\t0.00\t0.00\t0.00\t0.000000\t0.00\t0.00\t0.00\t0.000000\t0.000000\t0.00\t0.000000\t0.00\t0.00\t0.000000\t0.030000\t0.00\t0.010000\t0.000000\t0.00\t0.00\t0.00\t0.00\t0.01\t0.00\t0.00\t0.00\n",
    "54\tTaman Cheras Hartamas\t0.000000\t0.00\t0.00\t0.00\t0.000000\t0.000000\t0.00\t0.00\t0.00\t0.000000\t0.000000\t0.00\t0.00\t0.010000\t0.000000\t0.00\t0.00\t0.000000\t0.00\t0.000000\t0.010000\t0.000000\t0.00\t0.010000\t0.010000\t0.00\t0.010000\t0.00\t0.000000\t0.00\t0.00\t0.00\t0.010000\t0.00\t0.00\t0.00\t0.00\t0.000000\t0.00\t0.010000\t0.00\t0.00\t0.010000\t0.00\t0.00\t0.000000\t0.000000\t0.000000\t0.00\t0.00\t0.070000\t0.00\t0.00\t0.010000\t0.00\t0.00\t0.010000\t0.180000\t0.00\t0.00\t0.00\t0.00\t0.040000\t0.00\t0.00\t0.00\t0.00\t0.020000\t0.00\t0.00\t0.00\t0.00\t0.000000\t0.01\t0.00\t0.00\t0.000000\t0.010000\t0.000000\t0.00\t0.00\t0.00\t0.00\t0.00\t0.00\t0.00\t0.00\t0.00\t0.00\t0.00\t0.000000\t0.000000\t0.00\t0.00\t0.00\t0.00\t0.000000\t0.000000\t0.000000\t0.000000\t0.010000\t0.00\t0.020000\t0.00\t0.00\t0.00\t0.00\t0.010000\t0.00\t0.00\t0.000000\t0.010000\t0.000000\t0.00\t0.00\t0.00\t0.00\t0.00\t0.00\t0.000000\t0.00\t0.00\t0.00\t0.00\t0.01\t0.00\t0.00\t0.00\t0.000000\t0.000000\t0.00\t0.00\t0.010000\t0.00\t0.000000\t0.00\t0.000000\t0.00\t0.00\t0.000000\t0.00\t0.00\t0.000000\t0.000000\t0.00\t0.00\t0.020000\t0.00\t0.00\t0.00\t0.020000\t0.030000\t0.000000\t0.00\t0.00\t0.000000\t0.000000\t0.00\t0.01\t0.000000\t0.010000\t0.00\t0.010000\t0.00\t0.000000\t0.00\t0.00\t0.00\t0.00\t0.00\t0.040000\t0.000000\t0.00\t0.01\t0.00\t0.00\t0.00\t0.00\t0.000000\t0.00\t0.00\t0.00\t0.00\t0.00\t0.00\t0.00\t0.000000\t0.00\t0.00\t0.010000\t0.00\t0.000000\t0.00\t0.00\t0.000000\t0.000000\t0.000000\t0.060000\t0.00\t0.00\t0.00\t0.010000\t0.00\t0.01\t0.00\t0.00\t0.00\t0.030000\t0.00\t0.010000\t0.010000\t0.00\t0.00\t0.010000\t0.000000\t0.000000\t0.00\t0.000000\t0.010000\t0.00\t0.00\t0.00\t0.00\t0.00\t0.00\t0.00\t0.010000\t0.000000\t0.000000\t0.00\t0.000000\t0.00\t0.00\t0.010000\t0.000000\t0.00\t0.00\t0.00\t0.00\t0.010000\t0.00\t0.00\t0.00\t0.00\t0.00\t0.000000\t0.010000\t0.00\t0.00\t0.020000\t0.000000\t0.000000\t0.000000\t0.00\t0.00\t0.040000\t0.00\t0.00\t0.00\t0.00\t0.00\t0.000000\t0.000000\t0.00\t0.020000\t0.00\t0.000000\t0.000000\t0.00\t0.010000\t0.00\t0.00\t0.00\t0.00\t0.00\t0.00\t0.00\t0.040000\t0.00\t0.00\t0.00\t0.000000\t0.00\t0.00\t0.00\t0.000000\t0.010000\t0.00\t0.000000\t0.00\t0.00\t0.000000\t0.010000\t0.00\t0.000000\t0.000000\t0.00\t0.00\t0.00\t0.00\t0.00\t0.00\t0.00\t0.00\n",
    "55\tTaman Connaught\t0.000000\t0.00\t0.00\t0.00\t0.000000\t0.000000\t0.00\t0.00\t0.00\t0.000000\t0.000000\t0.00\t0.00\t0.020000\t0.000000\t0.00\t0.00\t0.000000\t0.00\t0.000000\t0.010000\t0.000000\t0.00\t0.010000\t0.010000\t0.00\t0.010000\t0.00\t0.000000\t0.00\t0.00\t0.00\t0.010000\t0.00\t0.00\t0.00\t0.00\t0.000000\t0.00\t0.020000\t0.00\t0.00\t0.020000\t0.00\t0.00\t0.000000\t0.000000\t0.000000\t0.00\t0.00\t0.040000\t0.00\t0.00\t0.010000\t0.00\t0.00\t0.010000\t0.200000\t0.00\t0.00\t0.00\t0.00\t0.040000\t0.00\t0.00\t0.00\t0.00\t0.010000\t0.00\t0.00\t0.00\t0.00\t0.000000\t0.00\t0.00\t0.00\t0.000000\t0.010000\t0.000000\t0.00\t0.00\t0.00\t0.00\t0.00\t0.00\t0.00\t0.00\t0.00\t0.00\t0.00\t0.000000\t0.000000\t0.00\t0.00\t0.00\t0.00\t0.020000\t0.000000\t0.010000\t0.000000\t0.010000\t0.00\t0.010000\t0.00\t0.00\t0.00\t0.01\t0.010000\t0.00\t0.00\t0.000000\t0.000000\t0.000000\t0.00\t0.00\t0.00\t0.00\t0.00\t0.00\t0.000000\t0.00\t0.00\t0.00\t0.00\t0.01\t0.00\t0.00\t0.00\t0.000000\t0.000000\t0.00\t0.00\t0.010000\t0.00\t0.000000\t0.00\t0.000000\t0.00\t0.00\t0.000000\t0.00\t0.00\t0.000000\t0.000000\t0.00\t0.00\t0.020000\t0.00\t0.00\t0.00\t0.020000\t0.010000\t0.000000\t0.00\t0.00\t0.010000\t0.000000\t0.00\t0.01\t0.000000\t0.010000\t0.00\t0.010000\t0.00\t0.000000\t0.00\t0.00\t0.00\t0.00\t0.00\t0.050000\t0.000000\t0.00\t0.01\t0.00\t0.00\t0.00\t0.00\t0.000000\t0.00\t0.00\t0.00\t0.00\t0.00\t0.00\t0.00\t0.000000\t0.00\t0.00\t0.010000\t0.00\t0.000000\t0.00\t0.00\t0.000000\t0.010000\t0.000000\t0.020000\t0.00\t0.00\t0.00\t0.010000\t0.00\t0.01\t0.00\t0.00\t0.00\t0.010000\t0.00\t0.010000\t0.010000\t0.00\t0.00\t0.010000\t0.000000\t0.000000\t0.00\t0.000000\t0.010000\t0.01\t0.00\t0.00\t0.00\t0.00\t0.00\t0.00\t0.000000\t0.000000\t0.000000\t0.00\t0.000000\t0.00\t0.00\t0.010000\t0.000000\t0.00\t0.00\t0.00\t0.00\t0.030000\t0.00\t0.00\t0.00\t0.00\t0.00\t0.000000\t0.010000\t0.00\t0.00\t0.020000\t0.000000\t0.000000\t0.000000\t0.00\t0.00\t0.040000\t0.00\t0.00\t0.00\t0.01\t0.00\t0.000000\t0.000000\t0.00\t0.020000\t0.00\t0.000000\t0.000000\t0.00\t0.010000\t0.00\t0.00\t0.00\t0.00\t0.00\t0.00\t0.00\t0.040000\t0.00\t0.00\t0.00\t0.000000\t0.00\t0.00\t0.00\t0.000000\t0.010000\t0.00\t0.000000\t0.00\t0.00\t0.000000\t0.010000\t0.00\t0.000000\t0.000000\t0.00\t0.00\t0.00\t0.00\t0.00\t0.00\t0.00\t0.00\n",
    "56\tTaman Desa\t0.000000\t0.00\t0.00\t0.00\t0.000000\t0.000000\t0.00\t0.00\t0.00\t0.000000\t0.000000\t0.00\t0.00\t0.030000\t0.000000\t0.00\t0.00\t0.000000\t0.00\t0.000000\t0.020000\t0.000000\t0.00\t0.060000\t0.000000\t0.00\t0.000000\t0.00\t0.000000\t0.00\t0.00\t0.00\t0.000000\t0.00\t0.00\t0.00\t0.00\t0.000000\t0.00\t0.010000\t0.00\t0.00\t0.020000\t0.00\t0.00\t0.010000\t0.000000\t0.000000\t0.00\t0.00\t0.070000\t0.00\t0.00\t0.000000\t0.00\t0.00\t0.000000\t0.080000\t0.00\t0.01\t0.00\t0.00\t0.020000\t0.00\t0.00\t0.00\t0.00\t0.000000\t0.00\t0.01\t0.00\t0.00\t0.000000\t0.00\t0.01\t0.00\t0.010000\t0.000000\t0.000000\t0.00\t0.00\t0.00\t0.00\t0.00\t0.00\t0.01\t0.00\t0.00\t0.00\t0.00\t0.000000\t0.000000\t0.00\t0.00\t0.00\t0.00\t0.000000\t0.000000\t0.000000\t0.010000\t0.020000\t0.00\t0.020000\t0.00\t0.00\t0.00\t0.00\t0.010000\t0.01\t0.00\t0.000000\t0.000000\t0.000000\t0.00\t0.00\t0.01\t0.00\t0.00\t0.00\t0.010000\t0.00\t0.00\t0.00\t0.00\t0.00\t0.00\t0.00\t0.00\t0.000000\t0.000000\t0.00\t0.00\t0.000000\t0.00\t0.000000\t0.00\t0.000000\t0.00\t0.00\t0.000000\t0.00\t0.00\t0.000000\t0.000000\t0.00\t0.00\t0.010000\t0.00\t0.01\t0.00\t0.050000\t0.000000\t0.000000\t0.01\t0.00\t0.070000\t0.000000\t0.00\t0.03\t0.000000\t0.000000\t0.00\t0.010000\t0.00\t0.000000\t0.00\t0.00\t0.00\t0.00\t0.00\t0.040000\t0.000000\t0.00\t0.01\t0.00\t0.00\t0.00\t0.00\t0.000000\t0.00\t0.00\t0.00\t0.00\t0.00\t0.00\t0.00\t0.000000\t0.00\t0.00\t0.010000\t0.00\t0.000000\t0.00\t0.00\t0.000000\t0.000000\t0.010000\t0.020000\t0.00\t0.00\t0.01\t0.000000\t0.00\t0.00\t0.00\t0.00\t0.00\t0.010000\t0.00\t0.010000\t0.000000\t0.00\t0.00\t0.000000\t0.000000\t0.000000\t0.00\t0.000000\t0.000000\t0.00\t0.00\t0.00\t0.00\t0.00\t0.01\t0.00\t0.000000\t0.020000\t0.000000\t0.00\t0.000000\t0.00\t0.00\t0.000000\t0.000000\t0.00\t0.00\t0.00\t0.00\t0.010000\t0.00\t0.01\t0.00\t0.02\t0.00\t0.000000\t0.000000\t0.00\t0.00\t0.010000\t0.000000\t0.000000\t0.000000\t0.00\t0.00\t0.000000\t0.00\t0.00\t0.00\t0.02\t0.00\t0.000000\t0.000000\t0.00\t0.010000\t0.00\t0.010000\t0.000000\t0.00\t0.000000\t0.00\t0.00\t0.00\t0.00\t0.00\t0.00\t0.00\t0.040000\t0.00\t0.00\t0.00\t0.000000\t0.00\t0.01\t0.00\t0.000000\t0.000000\t0.00\t0.000000\t0.00\t0.01\t0.000000\t0.020000\t0.00\t0.010000\t0.000000\t0.00\t0.01\t0.01\t0.00\t0.00\t0.00\t0.00\t0.00\n",
    "57\tTaman Ibukota\t0.000000\t0.00\t0.00\t0.00\t0.000000\t0.000000\t0.00\t0.01\t0.00\t0.000000\t0.000000\t0.01\t0.00\t0.030000\t0.000000\t0.00\t0.00\t0.000000\t0.00\t0.000000\t0.010000\t0.000000\t0.01\t0.000000\t0.010000\t0.00\t0.000000\t0.00\t0.000000\t0.00\t0.00\t0.00\t0.000000\t0.00\t0.00\t0.01\t0.00\t0.020000\t0.00\t0.020000\t0.00\t0.00\t0.000000\t0.00\t0.00\t0.000000\t0.000000\t0.010000\t0.00\t0.01\t0.000000\t0.00\t0.00\t0.000000\t0.00\t0.00\t0.010000\t0.080000\t0.00\t0.01\t0.00\t0.00\t0.010000\t0.00\t0.00\t0.00\t0.00\t0.010000\t0.00\t0.00\t0.00\t0.00\t0.020000\t0.00\t0.00\t0.01\t0.010000\t0.000000\t0.010000\t0.00\t0.00\t0.00\t0.01\t0.00\t0.00\t0.01\t0.00\t0.00\t0.00\t0.01\t0.000000\t0.020000\t0.00\t0.00\t0.00\t0.00\t0.010000\t0.000000\t0.020000\t0.000000\t0.020000\t0.01\t0.010000\t0.00\t0.00\t0.00\t0.00\t0.000000\t0.00\t0.00\t0.010000\t0.000000\t0.000000\t0.00\t0.00\t0.00\t0.00\t0.00\t0.00\t0.000000\t0.00\t0.00\t0.00\t0.00\t0.01\t0.01\t0.00\t0.00\t0.000000\t0.020000\t0.00\t0.00\t0.000000\t0.00\t0.000000\t0.00\t0.000000\t0.00\t0.00\t0.000000\t0.00\t0.00\t0.010000\t0.010000\t0.00\t0.00\t0.010000\t0.00\t0.00\t0.00\t0.020000\t0.000000\t0.040000\t0.00\t0.00\t0.000000\t0.000000\t0.00\t0.00\t0.010000\t0.000000\t0.01\t0.000000\t0.00\t0.000000\t0.00\t0.00\t0.01\t0.00\t0.00\t0.150000\t0.000000\t0.00\t0.00\t0.00\t0.00\t0.00\t0.00\t0.020000\t0.00\t0.00\t0.00\t0.00\t0.00\t0.00\t0.00\t0.010000\t0.00\t0.00\t0.000000\t0.00\t0.000000\t0.01\t0.00\t0.000000\t0.010000\t0.000000\t0.000000\t0.00\t0.00\t0.00\t0.000000\t0.00\t0.00\t0.00\t0.00\t0.00\t0.000000\t0.00\t0.000000\t0.000000\t0.00\t0.00\t0.000000\t0.000000\t0.000000\t0.00\t0.000000\t0.000000\t0.00\t0.00\t0.00\t0.00\t0.00\t0.01\t0.00\t0.000000\t0.030000\t0.000000\t0.00\t0.000000\t0.00\t0.00\t0.000000\t0.000000\t0.00\t0.00\t0.01\t0.00\t0.000000\t0.00\t0.00\t0.01\t0.00\t0.00\t0.000000\t0.000000\t0.00\t0.00\t0.000000\t0.000000\t0.000000\t0.010000\t0.00\t0.00\t0.010000\t0.00\t0.00\t0.00\t0.00\t0.00\t0.010000\t0.000000\t0.00\t0.030000\t0.00\t0.000000\t0.000000\t0.00\t0.010000\t0.00\t0.00\t0.00\t0.00\t0.00\t0.00\t0.00\t0.040000\t0.00\t0.00\t0.01\t0.000000\t0.00\t0.00\t0.00\t0.000000\t0.000000\t0.00\t0.000000\t0.00\t0.00\t0.010000\t0.000000\t0.00\t0.000000\t0.000000\t0.00\t0.00\t0.00\t0.00\t0.00\t0.00\t0.00\t0.00\n",
    "58\tTaman Len Seng\t0.000000\t0.00\t0.00\t0.00\t0.000000\t0.000000\t0.00\t0.00\t0.00\t0.000000\t0.000000\t0.00\t0.00\t0.030303\t0.010101\t0.00\t0.00\t0.000000\t0.00\t0.000000\t0.010101\t0.010101\t0.00\t0.010101\t0.000000\t0.00\t0.010101\t0.00\t0.000000\t0.00\t0.00\t0.00\t0.020202\t0.00\t0.00\t0.00\t0.00\t0.000000\t0.00\t0.010101\t0.00\t0.00\t0.010101\t0.00\t0.00\t0.000000\t0.000000\t0.000000\t0.00\t0.00\t0.040404\t0.00\t0.00\t0.010101\t0.00\t0.00\t0.010101\t0.121212\t0.00\t0.00\t0.00\t0.00\t0.020202\t0.00\t0.00\t0.00\t0.00\t0.040404\t0.00\t0.00\t0.00\t0.00\t0.000000\t0.00\t0.00\t0.00\t0.010101\t0.030303\t0.000000\t0.00\t0.00\t0.00\t0.00\t0.00\t0.00\t0.00\t0.00\t0.00\t0.00\t0.00\t0.010101\t0.000000\t0.00\t0.00\t0.00\t0.00\t0.000000\t0.000000\t0.000000\t0.010101\t0.020202\t0.00\t0.020202\t0.00\t0.00\t0.00\t0.00\t0.010101\t0.00\t0.00\t0.000000\t0.010101\t0.000000\t0.00\t0.00\t0.00\t0.00\t0.00\t0.00\t0.000000\t0.00\t0.00\t0.00\t0.00\t0.00\t0.00\t0.00\t0.00\t0.010101\t0.020202\t0.00\t0.00\t0.010101\t0.00\t0.000000\t0.00\t0.000000\t0.00\t0.00\t0.010101\t0.00\t0.00\t0.000000\t0.000000\t0.00\t0.00\t0.010101\t0.00\t0.00\t0.00\t0.000000\t0.030303\t0.000000\t0.00\t0.00\t0.010101\t0.000000\t0.00\t0.00\t0.000000\t0.010101\t0.00\t0.010101\t0.00\t0.000000\t0.00\t0.00\t0.00\t0.00\t0.00\t0.060606\t0.000000\t0.00\t0.00\t0.00\t0.00\t0.00\t0.00\t0.010101\t0.00\t0.00\t0.00\t0.00\t0.00\t0.00\t0.00\t0.000000\t0.00\t0.00\t0.010101\t0.00\t0.000000\t0.00\t0.00\t0.000000\t0.000000\t0.000000\t0.060606\t0.00\t0.00\t0.00\t0.010101\t0.00\t0.00\t0.00\t0.00\t0.00\t0.010101\t0.00\t0.010101\t0.000000\t0.00\t0.00\t0.000000\t0.000000\t0.000000\t0.00\t0.000000\t0.010101\t0.00\t0.00\t0.00\t0.00\t0.00\t0.00\t0.00\t0.010101\t0.030303\t0.010101\t0.00\t0.000000\t0.00\t0.00\t0.000000\t0.000000\t0.00\t0.00\t0.00\t0.00\t0.010101\t0.00\t0.00\t0.00\t0.00\t0.00\t0.010101\t0.010101\t0.00\t0.00\t0.010101\t0.010101\t0.000000\t0.000000\t0.00\t0.00\t0.010101\t0.00\t0.00\t0.00\t0.00\t0.00\t0.000000\t0.000000\t0.00\t0.020202\t0.00\t0.010101\t0.010101\t0.00\t0.000000\t0.00\t0.00\t0.00\t0.00\t0.00\t0.00\t0.00\t0.020202\t0.00\t0.00\t0.00\t0.000000\t0.00\t0.00\t0.00\t0.000000\t0.010101\t0.00\t0.000000\t0.00\t0.00\t0.000000\t0.020202\t0.00\t0.010101\t0.000000\t0.00\t0.00\t0.00\t0.00\t0.00\t0.00\t0.00\t0.00\n",
    "59\tTaman Melati\t0.000000\t0.00\t0.00\t0.00\t0.000000\t0.000000\t0.00\t0.01\t0.00\t0.000000\t0.000000\t0.00\t0.00\t0.070000\t0.000000\t0.00\t0.00\t0.000000\t0.01\t0.000000\t0.010000\t0.000000\t0.00\t0.010000\t0.000000\t0.00\t0.000000\t0.00\t0.000000\t0.00\t0.00\t0.00\t0.000000\t0.00\t0.00\t0.00\t0.00\t0.000000\t0.00\t0.010000\t0.00\t0.00\t0.000000\t0.01\t0.00\t0.030000\t0.000000\t0.000000\t0.00\t0.00\t0.020000\t0.01\t0.00\t0.000000\t0.00\t0.00\t0.010000\t0.020000\t0.00\t0.00\t0.00\t0.00\t0.010000\t0.00\t0.00\t0.01\t0.00\t0.030000\t0.00\t0.00\t0.00\t0.00\t0.000000\t0.00\t0.00\t0.01\t0.000000\t0.000000\t0.020000\t0.00\t0.00\t0.00\t0.01\t0.00\t0.00\t0.00\t0.00\t0.00\t0.00\t0.00\t0.010000\t0.040000\t0.00\t0.00\t0.00\t0.00\t0.010000\t0.000000\t0.000000\t0.000000\t0.010000\t0.01\t0.010000\t0.00\t0.00\t0.00\t0.00\t0.000000\t0.00\t0.00\t0.000000\t0.000000\t0.000000\t0.00\t0.00\t0.00\t0.00\t0.00\t0.00\t0.000000\t0.00\t0.00\t0.00\t0.00\t0.02\t0.02\t0.00\t0.00\t0.000000\t0.020000\t0.00\t0.00\t0.000000\t0.00\t0.000000\t0.00\t0.000000\t0.00\t0.00\t0.000000\t0.00\t0.00\t0.010000\t0.000000\t0.00\t0.00\t0.000000\t0.00\t0.00\t0.00\t0.000000\t0.010000\t0.050000\t0.00\t0.00\t0.000000\t0.000000\t0.00\t0.00\t0.010000\t0.000000\t0.01\t0.000000\t0.00\t0.000000\t0.00\t0.00\t0.01\t0.00\t0.00\t0.150000\t0.000000\t0.00\t0.01\t0.00\t0.00\t0.00\t0.00\t0.040000\t0.00\t0.00\t0.00\t0.00\t0.00\t0.00\t0.00\t0.010000\t0.00\t0.00\t0.000000\t0.00\t0.000000\t0.02\t0.00\t0.000000\t0.010000\t0.000000\t0.010000\t0.00\t0.00\t0.00\t0.000000\t0.00\t0.00\t0.00\t0.00\t0.00\t0.010000\t0.00\t0.000000\t0.000000\t0.00\t0.00\t0.020000\t0.000000\t0.010000\t0.00\t0.000000\t0.000000\t0.00\t0.00\t0.00\t0.00\t0.00\t0.01\t0.00\t0.000000\t0.020000\t0.000000\t0.00\t0.000000\t0.00\t0.00\t0.000000\t0.010000\t0.01\t0.00\t0.01\t0.00\t0.000000\t0.00\t0.00\t0.00\t0.00\t0.00\t0.000000\t0.000000\t0.01\t0.00\t0.000000\t0.010000\t0.000000\t0.010000\t0.00\t0.00\t0.000000\t0.00\t0.00\t0.00\t0.00\t0.00\t0.000000\t0.000000\t0.00\t0.000000\t0.00\t0.000000\t0.000000\t0.00\t0.000000\t0.00\t0.00\t0.00\t0.00\t0.00\t0.00\t0.00\t0.060000\t0.00\t0.00\t0.00\t0.000000\t0.00\t0.00\t0.00\t0.000000\t0.000000\t0.00\t0.000000\t0.00\t0.00\t0.000000\t0.000000\t0.00\t0.000000\t0.000000\t0.00\t0.00\t0.00\t0.00\t0.00\t0.00\t0.00\t0.00\n",
    "60\tTaman Midah\t0.000000\t0.00\t0.00\t0.00\t0.000000\t0.000000\t0.00\t0.00\t0.00\t0.000000\t0.010000\t0.00\t0.00\t0.060000\t0.000000\t0.01\t0.00\t0.000000\t0.00\t0.000000\t0.010000\t0.000000\t0.00\t0.000000\t0.010000\t0.00\t0.010000\t0.00\t0.000000\t0.00\t0.00\t0.00\t0.010000\t0.00\t0.00\t0.00\t0.00\t0.000000\t0.00\t0.040000\t0.00\t0.00\t0.000000\t0.00\t0.00\t0.000000\t0.000000\t0.000000\t0.00\t0.00\t0.040000\t0.00\t0.00\t0.000000\t0.00\t0.00\t0.000000\t0.190000\t0.00\t0.00\t0.00\t0.00\t0.040000\t0.00\t0.00\t0.00\t0.00\t0.020000\t0.00\t0.00\t0.00\t0.00\t0.000000\t0.00\t0.00\t0.00\t0.000000\t0.000000\t0.000000\t0.00\t0.00\t0.00\t0.00\t0.00\t0.00\t0.01\t0.00\t0.00\t0.00\t0.00\t0.000000\t0.000000\t0.00\t0.00\t0.00\t0.00\t0.010000\t0.000000\t0.010000\t0.000000\t0.000000\t0.00\t0.020000\t0.00\t0.00\t0.00\t0.00\t0.010000\t0.00\t0.00\t0.000000\t0.000000\t0.000000\t0.00\t0.00\t0.00\t0.00\t0.00\t0.00\t0.000000\t0.00\t0.00\t0.00\t0.00\t0.01\t0.00\t0.00\t0.00\t0.000000\t0.000000\t0.00\t0.00\t0.010000\t0.00\t0.000000\t0.00\t0.000000\t0.00\t0.00\t0.000000\t0.00\t0.00\t0.000000\t0.000000\t0.00\t0.00\t0.010000\t0.00\t0.00\t0.00\t0.030000\t0.010000\t0.010000\t0.00\t0.00\t0.010000\t0.000000\t0.00\t0.01\t0.000000\t0.010000\t0.00\t0.030000\t0.00\t0.010000\t0.00\t0.00\t0.00\t0.00\t0.00\t0.040000\t0.010000\t0.00\t0.01\t0.00\t0.00\t0.00\t0.00\t0.000000\t0.00\t0.00\t0.00\t0.00\t0.00\t0.00\t0.00\t0.000000\t0.00\t0.00\t0.000000\t0.00\t0.000000\t0.01\t0.00\t0.000000\t0.000000\t0.000000\t0.020000\t0.00\t0.00\t0.00\t0.000000\t0.00\t0.01\t0.00\t0.01\t0.00\t0.000000\t0.00\t0.010000\t0.000000\t0.00\t0.00\t0.020000\t0.000000\t0.000000\t0.00\t0.000000\t0.000000\t0.00\t0.00\t0.00\t0.00\t0.00\t0.00\t0.00\t0.000000\t0.020000\t0.000000\t0.00\t0.000000\t0.00\t0.00\t0.010000\t0.010000\t0.00\t0.00\t0.00\t0.00\t0.040000\t0.00\t0.00\t0.00\t0.00\t0.00\t0.000000\t0.000000\t0.00\t0.00\t0.010000\t0.000000\t0.000000\t0.000000\t0.00\t0.00\t0.040000\t0.00\t0.00\t0.00\t0.01\t0.00\t0.000000\t0.000000\t0.00\t0.010000\t0.00\t0.000000\t0.000000\t0.01\t0.010000\t0.00\t0.00\t0.00\t0.00\t0.00\t0.00\t0.00\t0.020000\t0.00\t0.00\t0.00\t0.000000\t0.00\t0.00\t0.00\t0.000000\t0.000000\t0.00\t0.000000\t0.00\t0.00\t0.000000\t0.010000\t0.00\t0.000000\t0.000000\t0.00\t0.00\t0.00\t0.00\t0.00\t0.00\t0.00\t0.00\n",
    "61\tTaman OUG\t0.000000\t0.00\t0.00\t0.00\t0.000000\t0.000000\t0.00\t0.01\t0.00\t0.010000\t0.000000\t0.00\t0.00\t0.100000\t0.000000\t0.00\t0.00\t0.000000\t0.01\t0.000000\t0.000000\t0.000000\t0.00\t0.020000\t0.000000\t0.00\t0.010000\t0.00\t0.000000\t0.00\t0.00\t0.00\t0.000000\t0.00\t0.00\t0.00\t0.00\t0.000000\t0.00\t0.020000\t0.00\t0.00\t0.020000\t0.00\t0.00\t0.010000\t0.000000\t0.000000\t0.00\t0.00\t0.040000\t0.00\t0.00\t0.010000\t0.00\t0.00\t0.000000\t0.250000\t0.00\t0.00\t0.00\t0.00\t0.040000\t0.00\t0.00\t0.00\t0.00\t0.000000\t0.00\t0.00\t0.00\t0.00\t0.010000\t0.00\t0.00\t0.00\t0.050000\t0.000000\t0.000000\t0.00\t0.00\t0.00\t0.00\t0.00\t0.00\t0.01\t0.00\t0.00\t0.00\t0.00\t0.000000\t0.000000\t0.00\t0.00\t0.00\t0.01\t0.000000\t0.000000\t0.010000\t0.010000\t0.020000\t0.00\t0.030000\t0.00\t0.00\t0.00\t0.01\t0.000000\t0.00\t0.00\t0.000000\t0.000000\t0.000000\t0.00\t0.00\t0.00\t0.01\t0.00\t0.00\t0.000000\t0.00\t0.00\t0.00\t0.00\t0.00\t0.01\t0.00\t0.00\t0.010000\t0.000000\t0.00\t0.00\t0.000000\t0.00\t0.000000\t0.00\t0.000000\t0.00\t0.00\t0.000000\t0.00\t0.00\t0.000000\t0.000000\t0.00\t0.00\t0.000000\t0.00\t0.00\t0.00\t0.000000\t0.000000\t0.000000\t0.01\t0.00\t0.000000\t0.000000\t0.00\t0.00\t0.000000\t0.000000\t0.00\t0.000000\t0.00\t0.000000\t0.00\t0.00\t0.00\t0.00\t0.00\t0.000000\t0.000000\t0.00\t0.01\t0.00\t0.00\t0.00\t0.00\t0.000000\t0.00\t0.01\t0.00\t0.00\t0.00\t0.01\t0.00\t0.000000\t0.00\t0.00\t0.000000\t0.00\t0.000000\t0.00\t0.00\t0.000000\t0.000000\t0.000000\t0.030000\t0.00\t0.00\t0.00\t0.000000\t0.00\t0.00\t0.00\t0.00\t0.00\t0.020000\t0.00\t0.000000\t0.000000\t0.00\t0.00\t0.010000\t0.000000\t0.000000\t0.00\t0.000000\t0.010000\t0.00\t0.00\t0.00\t0.00\t0.00\t0.00\t0.00\t0.000000\t0.040000\t0.000000\t0.00\t0.000000\t0.00\t0.00\t0.000000\t0.000000\t0.00\t0.00\t0.00\t0.00\t0.010000\t0.00\t0.00\t0.00\t0.00\t0.00\t0.000000\t0.000000\t0.00\t0.00\t0.020000\t0.000000\t0.000000\t0.000000\t0.00\t0.00\t0.010000\t0.00\t0.00\t0.00\t0.00\t0.00\t0.000000\t0.000000\t0.00\t0.000000\t0.00\t0.000000\t0.000000\t0.00\t0.000000\t0.00\t0.00\t0.00\t0.01\t0.00\t0.00\t0.00\t0.020000\t0.00\t0.00\t0.00\t0.000000\t0.00\t0.00\t0.00\t0.000000\t0.000000\t0.00\t0.000000\t0.00\t0.00\t0.000000\t0.030000\t0.00\t0.010000\t0.000000\t0.00\t0.00\t0.00\t0.00\t0.00\t0.00\t0.00\t0.00\n",
    "62\tTaman P. Ramlee\t0.000000\t0.00\t0.00\t0.00\t0.000000\t0.000000\t0.00\t0.00\t0.00\t0.010753\t0.000000\t0.00\t0.00\t0.043011\t0.000000\t0.00\t0.00\t0.000000\t0.00\t0.000000\t0.000000\t0.000000\t0.00\t0.000000\t0.010753\t0.00\t0.000000\t0.00\t0.000000\t0.00\t0.00\t0.00\t0.010753\t0.00\t0.00\t0.00\t0.00\t0.021505\t0.00\t0.010753\t0.00\t0.00\t0.000000\t0.00\t0.00\t0.010753\t0.010753\t0.010753\t0.00\t0.00\t0.010753\t0.00\t0.00\t0.000000\t0.00\t0.00\t0.000000\t0.139785\t0.00\t0.00\t0.00\t0.00\t0.043011\t0.00\t0.00\t0.00\t0.00\t0.010753\t0.00\t0.00\t0.00\t0.00\t0.021505\t0.00\t0.00\t0.00\t0.010753\t0.000000\t0.000000\t0.00\t0.00\t0.00\t0.00\t0.00\t0.00\t0.00\t0.00\t0.00\t0.00\t0.00\t0.010753\t0.000000\t0.00\t0.00\t0.00\t0.00\t0.010753\t0.000000\t0.021505\t0.000000\t0.032258\t0.00\t0.010753\t0.00\t0.00\t0.00\t0.00\t0.000000\t0.00\t0.00\t0.010753\t0.010753\t0.000000\t0.00\t0.00\t0.00\t0.00\t0.00\t0.00\t0.021505\t0.00\t0.00\t0.00\t0.00\t0.00\t0.00\t0.00\t0.00\t0.000000\t0.021505\t0.00\t0.00\t0.000000\t0.00\t0.000000\t0.00\t0.000000\t0.00\t0.00\t0.000000\t0.00\t0.00\t0.010753\t0.010753\t0.00\t0.00\t0.010753\t0.00\t0.00\t0.00\t0.000000\t0.021505\t0.000000\t0.00\t0.00\t0.000000\t0.000000\t0.00\t0.00\t0.010753\t0.000000\t0.00\t0.000000\t0.00\t0.000000\t0.00\t0.00\t0.00\t0.00\t0.00\t0.096774\t0.010753\t0.00\t0.00\t0.00\t0.00\t0.00\t0.00\t0.000000\t0.00\t0.00\t0.00\t0.00\t0.00\t0.00\t0.00\t0.021505\t0.00\t0.00\t0.000000\t0.00\t0.000000\t0.00\t0.00\t0.010753\t0.021505\t0.000000\t0.000000\t0.00\t0.00\t0.00\t0.000000\t0.00\t0.00\t0.00\t0.00\t0.00\t0.021505\t0.00\t0.000000\t0.000000\t0.00\t0.00\t0.000000\t0.010753\t0.000000\t0.00\t0.000000\t0.000000\t0.00\t0.00\t0.00\t0.00\t0.00\t0.00\t0.00\t0.000000\t0.032258\t0.000000\t0.00\t0.000000\t0.00\t0.00\t0.000000\t0.000000\t0.00\t0.00\t0.00\t0.00\t0.010753\t0.00\t0.00\t0.00\t0.00\t0.00\t0.000000\t0.000000\t0.00\t0.00\t0.010753\t0.000000\t0.000000\t0.010753\t0.00\t0.00\t0.010753\t0.00\t0.00\t0.00\t0.00\t0.00\t0.010753\t0.010753\t0.00\t0.021505\t0.00\t0.000000\t0.000000\t0.00\t0.010753\t0.00\t0.00\t0.00\t0.00\t0.00\t0.00\t0.00\t0.032258\t0.00\t0.00\t0.00\t0.010753\t0.00\t0.00\t0.00\t0.010753\t0.000000\t0.00\t0.000000\t0.00\t0.00\t0.010753\t0.010753\t0.00\t0.000000\t0.010753\t0.00\t0.00\t0.00\t0.00\t0.00\t0.00\t0.00\t0.00\n",
    "63\tTaman Sri Sinar\t0.000000\t0.00\t0.00\t0.00\t0.000000\t0.000000\t0.00\t0.00\t0.00\t0.000000\t0.000000\t0.00\t0.00\t0.060000\t0.000000\t0.00\t0.00\t0.000000\t0.00\t0.010000\t0.000000\t0.000000\t0.00\t0.030000\t0.010000\t0.00\t0.000000\t0.01\t0.000000\t0.02\t0.00\t0.00\t0.000000\t0.00\t0.00\t0.00\t0.00\t0.000000\t0.00\t0.000000\t0.00\t0.00\t0.000000\t0.00\t0.00\t0.010000\t0.000000\t0.000000\t0.00\t0.00\t0.010000\t0.00\t0.00\t0.000000\t0.00\t0.00\t0.000000\t0.150000\t0.00\t0.00\t0.00\t0.00\t0.030000\t0.00\t0.00\t0.00\t0.00\t0.020000\t0.00\t0.00\t0.00\t0.00\t0.000000\t0.00\t0.00\t0.00\t0.020000\t0.000000\t0.010000\t0.00\t0.00\t0.00\t0.00\t0.00\t0.00\t0.00\t0.00\t0.00\t0.00\t0.00\t0.000000\t0.000000\t0.00\t0.00\t0.00\t0.00\t0.000000\t0.000000\t0.000000\t0.020000\t0.010000\t0.00\t0.050000\t0.00\t0.00\t0.01\t0.01\t0.000000\t0.00\t0.00\t0.000000\t0.000000\t0.000000\t0.01\t0.00\t0.00\t0.00\t0.00\t0.00\t0.000000\t0.00\t0.00\t0.00\t0.00\t0.00\t0.01\t0.00\t0.00\t0.000000\t0.010000\t0.01\t0.00\t0.000000\t0.00\t0.000000\t0.00\t0.000000\t0.00\t0.00\t0.000000\t0.00\t0.00\t0.000000\t0.000000\t0.00\t0.00\t0.000000\t0.00\t0.00\t0.00\t0.000000\t0.020000\t0.000000\t0.02\t0.00\t0.030000\t0.000000\t0.00\t0.00\t0.000000\t0.000000\t0.00\t0.080000\t0.00\t0.000000\t0.00\t0.00\t0.00\t0.00\t0.00\t0.030000\t0.010000\t0.01\t0.00\t0.00\t0.00\t0.00\t0.00\t0.000000\t0.00\t0.00\t0.00\t0.00\t0.00\t0.00\t0.00\t0.010000\t0.01\t0.00\t0.000000\t0.00\t0.000000\t0.00\t0.00\t0.000000\t0.000000\t0.010000\t0.010000\t0.00\t0.00\t0.00\t0.010000\t0.00\t0.00\t0.00\t0.00\t0.00\t0.000000\t0.00\t0.000000\t0.000000\t0.00\t0.00\t0.000000\t0.000000\t0.000000\t0.00\t0.000000\t0.000000\t0.01\t0.00\t0.00\t0.00\t0.00\t0.00\t0.00\t0.000000\t0.050000\t0.000000\t0.00\t0.000000\t0.00\t0.00\t0.000000\t0.010000\t0.00\t0.00\t0.00\t0.00\t0.000000\t0.00\t0.00\t0.00\t0.01\t0.00\t0.000000\t0.000000\t0.00\t0.00\t0.000000\t0.000000\t0.000000\t0.000000\t0.00\t0.01\t0.020000\t0.00\t0.00\t0.00\t0.00\t0.00\t0.000000\t0.000000\t0.00\t0.000000\t0.00\t0.010000\t0.000000\t0.00\t0.000000\t0.00\t0.00\t0.00\t0.00\t0.01\t0.00\t0.00\t0.050000\t0.00\t0.01\t0.01\t0.000000\t0.00\t0.00\t0.00\t0.000000\t0.000000\t0.00\t0.000000\t0.00\t0.00\t0.000000\t0.010000\t0.00\t0.000000\t0.000000\t0.00\t0.00\t0.00\t0.00\t0.01\t0.00\t0.00\t0.00\n",
    "64\tTaman Taynton View\t0.000000\t0.00\t0.00\t0.00\t0.000000\t0.000000\t0.00\t0.00\t0.00\t0.000000\t0.000000\t0.00\t0.00\t0.040000\t0.000000\t0.01\t0.00\t0.000000\t0.00\t0.000000\t0.010000\t0.000000\t0.00\t0.020000\t0.010000\t0.00\t0.010000\t0.00\t0.000000\t0.00\t0.00\t0.00\t0.010000\t0.00\t0.00\t0.00\t0.00\t0.000000\t0.00\t0.020000\t0.00\t0.00\t0.000000\t0.00\t0.00\t0.000000\t0.000000\t0.000000\t0.00\t0.00\t0.060000\t0.00\t0.00\t0.010000\t0.00\t0.00\t0.010000\t0.200000\t0.00\t0.00\t0.00\t0.00\t0.040000\t0.00\t0.00\t0.00\t0.00\t0.010000\t0.00\t0.00\t0.00\t0.00\t0.000000\t0.00\t0.00\t0.00\t0.000000\t0.010000\t0.000000\t0.00\t0.00\t0.00\t0.00\t0.00\t0.00\t0.00\t0.00\t0.00\t0.00\t0.00\t0.000000\t0.000000\t0.00\t0.00\t0.00\t0.00\t0.010000\t0.000000\t0.010000\t0.000000\t0.000000\t0.00\t0.020000\t0.00\t0.00\t0.00\t0.00\t0.010000\t0.00\t0.00\t0.000000\t0.000000\t0.000000\t0.00\t0.00\t0.00\t0.00\t0.00\t0.00\t0.000000\t0.00\t0.00\t0.00\t0.00\t0.01\t0.00\t0.00\t0.00\t0.000000\t0.000000\t0.00\t0.00\t0.010000\t0.00\t0.000000\t0.00\t0.000000\t0.00\t0.00\t0.000000\t0.00\t0.00\t0.000000\t0.000000\t0.00\t0.00\t0.030000\t0.00\t0.00\t0.00\t0.020000\t0.010000\t0.000000\t0.00\t0.00\t0.010000\t0.000000\t0.00\t0.01\t0.000000\t0.010000\t0.00\t0.010000\t0.00\t0.000000\t0.00\t0.00\t0.00\t0.00\t0.00\t0.020000\t0.000000\t0.00\t0.01\t0.00\t0.00\t0.00\t0.00\t0.000000\t0.00\t0.00\t0.00\t0.00\t0.00\t0.00\t0.00\t0.000000\t0.00\t0.00\t0.010000\t0.00\t0.000000\t0.01\t0.00\t0.000000\t0.000000\t0.000000\t0.040000\t0.00\t0.00\t0.00\t0.000000\t0.00\t0.01\t0.00\t0.00\t0.00\t0.000000\t0.00\t0.010000\t0.000000\t0.00\t0.00\t0.010000\t0.000000\t0.000000\t0.00\t0.000000\t0.020000\t0.00\t0.00\t0.00\t0.00\t0.00\t0.00\t0.00\t0.000000\t0.020000\t0.000000\t0.00\t0.000000\t0.00\t0.00\t0.010000\t0.000000\t0.00\t0.00\t0.00\t0.00\t0.040000\t0.00\t0.00\t0.00\t0.00\t0.00\t0.000000\t0.010000\t0.00\t0.00\t0.020000\t0.000000\t0.000000\t0.000000\t0.00\t0.00\t0.040000\t0.00\t0.00\t0.00\t0.01\t0.00\t0.000000\t0.000000\t0.00\t0.010000\t0.00\t0.000000\t0.000000\t0.00\t0.010000\t0.00\t0.00\t0.00\t0.00\t0.00\t0.00\t0.00\t0.030000\t0.00\t0.00\t0.00\t0.000000\t0.00\t0.00\t0.00\t0.000000\t0.010000\t0.00\t0.000000\t0.00\t0.00\t0.000000\t0.010000\t0.00\t0.000000\t0.000000\t0.00\t0.00\t0.00\t0.00\t0.00\t0.00\t0.00\t0.00\n",
    "65\tTaman Tun Dr Ismail\t0.010000\t0.00\t0.00\t0.00\t0.000000\t0.000000\t0.00\t0.00\t0.00\t0.000000\t0.000000\t0.00\t0.01\t0.000000\t0.000000\t0.00\t0.00\t0.000000\t0.00\t0.000000\t0.020000\t0.000000\t0.00\t0.030000\t0.010000\t0.01\t0.000000\t0.00\t0.000000\t0.00\t0.00\t0.00\t0.000000\t0.00\t0.00\t0.00\t0.00\t0.020000\t0.00\t0.000000\t0.00\t0.00\t0.010000\t0.00\t0.01\t0.020000\t0.000000\t0.000000\t0.00\t0.00\t0.010000\t0.00\t0.00\t0.000000\t0.00\t0.00\t0.000000\t0.020000\t0.00\t0.05\t0.00\t0.00\t0.060000\t0.00\t0.01\t0.01\t0.00\t0.010000\t0.00\t0.00\t0.00\t0.00\t0.000000\t0.00\t0.00\t0.00\t0.010000\t0.000000\t0.020000\t0.00\t0.00\t0.00\t0.00\t0.00\t0.00\t0.00\t0.01\t0.00\t0.00\t0.00\t0.000000\t0.010000\t0.00\t0.00\t0.00\t0.00\t0.000000\t0.000000\t0.000000\t0.000000\t0.010000\t0.00\t0.010000\t0.00\t0.00\t0.00\t0.00\t0.010000\t0.00\t0.01\t0.000000\t0.000000\t0.000000\t0.00\t0.00\t0.00\t0.00\t0.00\t0.00\t0.000000\t0.01\t0.00\t0.01\t0.00\t0.00\t0.01\t0.00\t0.00\t0.000000\t0.000000\t0.00\t0.01\t0.010000\t0.00\t0.000000\t0.00\t0.000000\t0.00\t0.00\t0.000000\t0.00\t0.00\t0.000000\t0.010000\t0.00\t0.00\t0.000000\t0.00\t0.00\t0.00\t0.020000\t0.000000\t0.000000\t0.00\t0.00\t0.020000\t0.000000\t0.00\t0.02\t0.000000\t0.000000\t0.00\t0.020000\t0.00\t0.010000\t0.00\t0.00\t0.00\t0.00\t0.01\t0.040000\t0.000000\t0.01\t0.01\t0.00\t0.00\t0.00\t0.00\t0.000000\t0.00\t0.00\t0.00\t0.00\t0.00\t0.00\t0.00\t0.000000\t0.00\t0.00\t0.040000\t0.00\t0.000000\t0.01\t0.00\t0.000000\t0.000000\t0.010000\t0.010000\t0.00\t0.00\t0.00\t0.000000\t0.00\t0.00\t0.00\t0.00\t0.00\t0.010000\t0.00\t0.000000\t0.000000\t0.00\t0.00\t0.000000\t0.000000\t0.000000\t0.00\t0.000000\t0.000000\t0.02\t0.00\t0.00\t0.00\t0.00\t0.00\t0.00\t0.000000\t0.060000\t0.000000\t0.01\t0.000000\t0.00\t0.01\t0.000000\t0.000000\t0.00\t0.01\t0.00\t0.00\t0.000000\t0.00\t0.02\t0.00\t0.03\t0.00\t0.000000\t0.000000\t0.01\t0.00\t0.030000\t0.000000\t0.000000\t0.000000\t0.00\t0.00\t0.010000\t0.00\t0.00\t0.00\t0.00\t0.01\t0.000000\t0.000000\t0.00\t0.010000\t0.00\t0.000000\t0.000000\t0.00\t0.020000\t0.00\t0.00\t0.00\t0.00\t0.00\t0.00\t0.01\t0.010000\t0.00\t0.00\t0.00\t0.000000\t0.00\t0.00\t0.00\t0.000000\t0.010000\t0.00\t0.000000\t0.00\t0.00\t0.000000\t0.000000\t0.00\t0.010000\t0.000000\t0.00\t0.00\t0.00\t0.00\t0.00\t0.00\t0.00\t0.00\n",
    "66\tTaman U-Thant\t0.000000\t0.00\t0.00\t0.00\t0.000000\t0.000000\t0.00\t0.00\t0.01\t0.000000\t0.010000\t0.00\t0.00\t0.010000\t0.000000\t0.00\t0.00\t0.000000\t0.00\t0.000000\t0.000000\t0.000000\t0.00\t0.020000\t0.010000\t0.00\t0.000000\t0.00\t0.000000\t0.00\t0.00\t0.00\t0.010000\t0.00\t0.00\t0.01\t0.00\t0.020000\t0.00\t0.010000\t0.00\t0.00\t0.000000\t0.00\t0.01\t0.000000\t0.000000\t0.000000\t0.00\t0.00\t0.020000\t0.00\t0.00\t0.000000\t0.00\t0.00\t0.000000\t0.000000\t0.00\t0.03\t0.00\t0.02\t0.030000\t0.00\t0.00\t0.00\t0.01\t0.000000\t0.01\t0.03\t0.01\t0.00\t0.000000\t0.00\t0.00\t0.00\t0.000000\t0.020000\t0.000000\t0.00\t0.00\t0.00\t0.00\t0.00\t0.00\t0.00\t0.00\t0.00\t0.00\t0.00\t0.000000\t0.000000\t0.00\t0.00\t0.00\t0.00\t0.000000\t0.000000\t0.000000\t0.000000\t0.000000\t0.00\t0.000000\t0.01\t0.00\t0.01\t0.00\t0.000000\t0.00\t0.00\t0.000000\t0.000000\t0.000000\t0.00\t0.00\t0.00\t0.00\t0.00\t0.00\t0.010000\t0.00\t0.00\t0.00\t0.01\t0.00\t0.02\t0.00\t0.00\t0.000000\t0.000000\t0.00\t0.00\t0.000000\t0.00\t0.000000\t0.00\t0.000000\t0.00\t0.00\t0.000000\t0.00\t0.00\t0.000000\t0.110000\t0.03\t0.00\t0.000000\t0.00\t0.00\t0.00\t0.000000\t0.010000\t0.000000\t0.03\t0.00\t0.020000\t0.000000\t0.02\t0.05\t0.000000\t0.000000\t0.00\t0.000000\t0.00\t0.000000\t0.00\t0.00\t0.00\t0.00\t0.05\t0.010000\t0.000000\t0.00\t0.00\t0.00\t0.00\t0.01\t0.00\t0.020000\t0.01\t0.00\t0.00\t0.00\t0.00\t0.00\t0.00\t0.000000\t0.00\t0.00\t0.010000\t0.00\t0.000000\t0.00\t0.00\t0.000000\t0.000000\t0.000000\t0.000000\t0.00\t0.00\t0.00\t0.000000\t0.00\t0.00\t0.00\t0.00\t0.00\t0.020000\t0.00\t0.000000\t0.000000\t0.00\t0.00\t0.000000\t0.000000\t0.000000\t0.00\t0.000000\t0.000000\t0.00\t0.00\t0.00\t0.00\t0.00\t0.00\t0.02\t0.000000\t0.010000\t0.000000\t0.00\t0.000000\t0.00\t0.00\t0.000000\t0.000000\t0.00\t0.00\t0.00\t0.01\t0.000000\t0.00\t0.00\t0.00\t0.05\t0.00\t0.000000\t0.000000\t0.00\t0.00\t0.010000\t0.000000\t0.000000\t0.000000\t0.01\t0.00\t0.000000\t0.00\t0.00\t0.01\t0.00\t0.00\t0.000000\t0.000000\t0.00\t0.010000\t0.01\t0.020000\t0.000000\t0.00\t0.010000\t0.00\t0.01\t0.00\t0.01\t0.00\t0.00\t0.01\t0.020000\t0.00\t0.00\t0.00\t0.000000\t0.00\t0.00\t0.01\t0.000000\t0.000000\t0.00\t0.000000\t0.00\t0.00\t0.000000\t0.000000\t0.00\t0.000000\t0.000000\t0.00\t0.00\t0.00\t0.00\t0.00\t0.01\t0.00\t0.00\n",
    "67\tTaman Wahyu\t0.000000\t0.00\t0.00\t0.00\t0.000000\t0.000000\t0.01\t0.00\t0.00\t0.000000\t0.000000\t0.00\t0.00\t0.070000\t0.010000\t0.00\t0.01\t0.000000\t0.00\t0.000000\t0.000000\t0.000000\t0.00\t0.010000\t0.000000\t0.00\t0.000000\t0.00\t0.000000\t0.00\t0.00\t0.00\t0.020000\t0.00\t0.00\t0.00\t0.00\t0.000000\t0.00\t0.010000\t0.01\t0.00\t0.000000\t0.00\t0.00\t0.010000\t0.000000\t0.000000\t0.00\t0.00\t0.000000\t0.00\t0.00\t0.000000\t0.00\t0.00\t0.010000\t0.170000\t0.00\t0.00\t0.00\t0.00\t0.010000\t0.00\t0.00\t0.00\t0.00\t0.030000\t0.00\t0.00\t0.00\t0.00\t0.000000\t0.00\t0.01\t0.00\t0.010000\t0.000000\t0.000000\t0.00\t0.00\t0.00\t0.00\t0.01\t0.00\t0.01\t0.00\t0.00\t0.00\t0.00\t0.010000\t0.020000\t0.00\t0.00\t0.00\t0.00\t0.010000\t0.000000\t0.000000\t0.010000\t0.010000\t0.01\t0.020000\t0.00\t0.00\t0.00\t0.00\t0.000000\t0.00\t0.00\t0.000000\t0.000000\t0.000000\t0.00\t0.00\t0.00\t0.00\t0.00\t0.00\t0.000000\t0.00\t0.00\t0.00\t0.00\t0.00\t0.02\t0.00\t0.00\t0.000000\t0.000000\t0.00\t0.00\t0.000000\t0.00\t0.000000\t0.00\t0.000000\t0.00\t0.00\t0.010000\t0.00\t0.00\t0.000000\t0.010000\t0.00\t0.00\t0.000000\t0.00\t0.00\t0.00\t0.000000\t0.030000\t0.010000\t0.00\t0.00\t0.000000\t0.000000\t0.00\t0.00\t0.000000\t0.000000\t0.00\t0.000000\t0.00\t0.000000\t0.00\t0.00\t0.00\t0.00\t0.01\t0.140000\t0.010000\t0.00\t0.01\t0.00\t0.00\t0.00\t0.01\t0.000000\t0.01\t0.00\t0.00\t0.00\t0.00\t0.00\t0.00\t0.010000\t0.00\t0.00\t0.000000\t0.00\t0.000000\t0.00\t0.00\t0.000000\t0.000000\t0.000000\t0.010000\t0.00\t0.01\t0.00\t0.000000\t0.00\t0.00\t0.00\t0.00\t0.00\t0.030000\t0.00\t0.000000\t0.000000\t0.00\t0.00\t0.000000\t0.020000\t0.000000\t0.00\t0.000000\t0.000000\t0.00\t0.00\t0.00\t0.00\t0.00\t0.01\t0.00\t0.000000\t0.020000\t0.000000\t0.00\t0.000000\t0.00\t0.00\t0.000000\t0.000000\t0.00\t0.00\t0.00\t0.00\t0.020000\t0.00\t0.00\t0.00\t0.00\t0.00\t0.000000\t0.000000\t0.00\t0.00\t0.000000\t0.010000\t0.000000\t0.000000\t0.00\t0.00\t0.000000\t0.00\t0.00\t0.00\t0.00\t0.00\t0.000000\t0.000000\t0.00\t0.010000\t0.00\t0.000000\t0.000000\t0.00\t0.000000\t0.00\t0.00\t0.00\t0.00\t0.00\t0.00\t0.00\t0.030000\t0.00\t0.00\t0.00\t0.000000\t0.00\t0.00\t0.00\t0.000000\t0.000000\t0.01\t0.000000\t0.00\t0.00\t0.000000\t0.020000\t0.00\t0.000000\t0.000000\t0.00\t0.00\t0.00\t0.00\t0.00\t0.00\t0.01\t0.00\n",
    "68\tTitiwangsa\t0.000000\t0.00\t0.00\t0.00\t0.000000\t0.000000\t0.00\t0.00\t0.00\t0.010000\t0.010000\t0.00\t0.00\t0.080000\t0.010000\t0.00\t0.00\t0.000000\t0.00\t0.000000\t0.010000\t0.000000\t0.00\t0.020000\t0.000000\t0.00\t0.000000\t0.00\t0.000000\t0.00\t0.00\t0.00\t0.000000\t0.00\t0.00\t0.00\t0.00\t0.000000\t0.00\t0.000000\t0.00\t0.00\t0.000000\t0.00\t0.00\t0.010000\t0.000000\t0.000000\t0.00\t0.00\t0.040000\t0.00\t0.00\t0.000000\t0.00\t0.00\t0.000000\t0.070000\t0.00\t0.02\t0.00\t0.00\t0.020000\t0.00\t0.00\t0.00\t0.00\t0.010000\t0.00\t0.00\t0.00\t0.00\t0.000000\t0.00\t0.00\t0.00\t0.010000\t0.010000\t0.000000\t0.00\t0.00\t0.00\t0.00\t0.00\t0.00\t0.00\t0.00\t0.00\t0.00\t0.00\t0.000000\t0.000000\t0.00\t0.00\t0.00\t0.00\t0.010000\t0.000000\t0.010000\t0.000000\t0.000000\t0.00\t0.000000\t0.00\t0.00\t0.00\t0.00\t0.000000\t0.00\t0.00\t0.000000\t0.010000\t0.000000\t0.00\t0.00\t0.00\t0.00\t0.00\t0.00\t0.000000\t0.00\t0.00\t0.00\t0.00\t0.00\t0.00\t0.00\t0.00\t0.000000\t0.030000\t0.00\t0.00\t0.000000\t0.00\t0.000000\t0.00\t0.010000\t0.00\t0.00\t0.000000\t0.00\t0.00\t0.000000\t0.030000\t0.00\t0.00\t0.000000\t0.00\t0.00\t0.00\t0.010000\t0.050000\t0.020000\t0.00\t0.00\t0.010000\t0.000000\t0.00\t0.00\t0.000000\t0.000000\t0.00\t0.000000\t0.00\t0.000000\t0.00\t0.00\t0.00\t0.00\t0.00\t0.090000\t0.000000\t0.00\t0.00\t0.00\t0.00\t0.00\t0.00\t0.010000\t0.00\t0.01\t0.00\t0.00\t0.01\t0.00\t0.00\t0.040000\t0.00\t0.00\t0.000000\t0.00\t0.000000\t0.00\t0.00\t0.000000\t0.020000\t0.000000\t0.000000\t0.00\t0.00\t0.00\t0.000000\t0.00\t0.00\t0.01\t0.00\t0.00\t0.020000\t0.01\t0.000000\t0.010000\t0.00\t0.00\t0.000000\t0.010000\t0.000000\t0.00\t0.000000\t0.000000\t0.00\t0.00\t0.00\t0.00\t0.00\t0.00\t0.00\t0.000000\t0.030000\t0.000000\t0.00\t0.000000\t0.00\t0.00\t0.000000\t0.000000\t0.00\t0.00\t0.00\t0.00\t0.040000\t0.00\t0.00\t0.00\t0.01\t0.00\t0.000000\t0.000000\t0.01\t0.00\t0.000000\t0.000000\t0.000000\t0.000000\t0.00\t0.00\t0.010000\t0.00\t0.00\t0.00\t0.00\t0.00\t0.000000\t0.010000\t0.00\t0.020000\t0.01\t0.000000\t0.000000\t0.00\t0.000000\t0.00\t0.00\t0.00\t0.00\t0.00\t0.00\t0.00\t0.050000\t0.02\t0.00\t0.00\t0.000000\t0.00\t0.00\t0.00\t0.010000\t0.000000\t0.00\t0.000000\t0.00\t0.00\t0.000000\t0.000000\t0.00\t0.000000\t0.010000\t0.01\t0.00\t0.00\t0.00\t0.00\t0.00\t0.00\t0.00\n",
    "69\tWangsa Maju\t0.000000\t0.00\t0.00\t0.00\t0.000000\t0.000000\t0.00\t0.00\t0.00\t0.000000\t0.000000\t0.01\t0.00\t0.070000\t0.020000\t0.00\t0.00\t0.000000\t0.00\t0.000000\t0.000000\t0.010000\t0.02\t0.010000\t0.000000\t0.00\t0.000000\t0.00\t0.000000\t0.00\t0.00\t0.00\t0.000000\t0.00\t0.00\t0.02\t0.00\t0.010000\t0.01\t0.000000\t0.00\t0.00\t0.010000\t0.00\t0.00\t0.020000\t0.000000\t0.000000\t0.00\t0.00\t0.040000\t0.00\t0.00\t0.000000\t0.00\t0.00\t0.000000\t0.050000\t0.00\t0.01\t0.00\t0.00\t0.020000\t0.00\t0.00\t0.01\t0.00\t0.030000\t0.00\t0.01\t0.00\t0.00\t0.000000\t0.00\t0.00\t0.00\t0.000000\t0.000000\t0.000000\t0.00\t0.00\t0.00\t0.00\t0.00\t0.00\t0.02\t0.00\t0.00\t0.00\t0.00\t0.000000\t0.030000\t0.00\t0.01\t0.00\t0.00\t0.010000\t0.000000\t0.000000\t0.000000\t0.010000\t0.00\t0.040000\t0.00\t0.00\t0.00\t0.01\t0.000000\t0.00\t0.00\t0.010000\t0.000000\t0.000000\t0.00\t0.00\t0.00\t0.00\t0.00\t0.00\t0.000000\t0.00\t0.00\t0.00\t0.01\t0.01\t0.01\t0.00\t0.00\t0.000000\t0.010000\t0.00\t0.00\t0.000000\t0.00\t0.000000\t0.00\t0.000000\t0.00\t0.00\t0.000000\t0.00\t0.00\t0.000000\t0.000000\t0.00\t0.00\t0.000000\t0.00\t0.00\t0.00\t0.040000\t0.010000\t0.020000\t0.00\t0.00\t0.000000\t0.000000\t0.00\t0.01\t0.000000\t0.000000\t0.00\t0.010000\t0.00\t0.000000\t0.00\t0.00\t0.00\t0.00\t0.00\t0.070000\t0.010000\t0.00\t0.00\t0.00\t0.00\t0.00\t0.00\t0.000000\t0.00\t0.00\t0.00\t0.00\t0.00\t0.00\t0.00\t0.010000\t0.00\t0.00\t0.020000\t0.00\t0.000000\t0.00\t0.00\t0.000000\t0.010000\t0.000000\t0.000000\t0.00\t0.00\t0.00\t0.000000\t0.00\t0.00\t0.00\t0.00\t0.00\t0.000000\t0.00\t0.000000\t0.030000\t0.00\t0.00\t0.000000\t0.000000\t0.000000\t0.00\t0.010000\t0.000000\t0.00\t0.00\t0.00\t0.00\t0.00\t0.00\t0.00\t0.000000\t0.020000\t0.000000\t0.01\t0.000000\t0.00\t0.00\t0.000000\t0.000000\t0.00\t0.00\t0.00\t0.00\t0.010000\t0.00\t0.00\t0.00\t0.01\t0.00\t0.000000\t0.000000\t0.02\t0.00\t0.010000\t0.000000\t0.000000\t0.000000\t0.00\t0.00\t0.020000\t0.00\t0.00\t0.00\t0.00\t0.00\t0.000000\t0.000000\t0.00\t0.020000\t0.01\t0.000000\t0.000000\t0.00\t0.000000\t0.00\t0.00\t0.00\t0.00\t0.00\t0.00\t0.00\t0.020000\t0.00\t0.00\t0.01\t0.000000\t0.00\t0.01\t0.00\t0.000000\t0.000000\t0.00\t0.000000\t0.01\t0.00\t0.000000\t0.000000\t0.00\t0.000000\t0.000000\t0.00\t0.00\t0.00\t0.00\t0.01\t0.00\t0.00\t0.00"
   ]
  },
  {
   "cell_type": "code",
   "execution_count": null,
   "metadata": {},
   "outputs": [],
   "source": [
    "len(kl_grouped[kl_grouped[\"Shopping Mall\"] > 0])"
   ]
  },
  {
   "cell_type": "markdown",
   "metadata": {},
   "source": [
    "39"
   ]
  },
  {
   "cell_type": "markdown",
   "metadata": {},
   "source": [
    "<h2>Create a new DataFrame for Shopping Mall data only</h2>"
   ]
  },
  {
   "cell_type": "code",
   "execution_count": null,
   "metadata": {},
   "outputs": [],
   "source": [
    "kl_mall = kl_grouped[[\"Neighborhoods\",\"Shopping Mall\"]]"
   ]
  },
  {
   "cell_type": "code",
   "execution_count": null,
   "metadata": {},
   "outputs": [],
   "source": [
    "kl_mall.head()"
   ]
  },
  {
   "cell_type": "markdown",
   "metadata": {},
   "source": [
    "       Neighborhoods             Shopping Mall\n",
    "0      Alam Damai                0.00\n",
    "1      Ampang, Kuala Lumpur      0.00\n",
    "2      Bandar Menjalara          0.00\n",
    "3      Bandar Sri Permaisuri     0.00\n",
    "4      Bandar Tasik Selatan      0.01"
   ]
  },
  {
   "cell_type": "markdown",
   "metadata": {},
   "source": [
    "<h2>7. Cluster Neighborhoods</h2>"
   ]
  },
  {
   "cell_type": "markdown",
   "metadata": {},
   "source": [
    "Run k-means to cluster the neighborhoods in Kuala Lumpur into 3 clusters."
   ]
  },
  {
   "cell_type": "code",
   "execution_count": null,
   "metadata": {},
   "outputs": [],
   "source": [
    "# set number of clusters\n",
    "kclusters = 3\n",
    "\n",
    "kl_clustering = kl_mall.drop([\"Neighborhoods\"], 1)\n",
    "\n",
    "# run k-means clustering\n",
    "kmeans = KMeans(n_clusters=kclusters, random_state=0).fit(kl_clustering)\n",
    "\n",
    "# check cluster labels generated for each row in the dataframe\n",
    "kmeans.labels_[0:10]"
   ]
  },
  {
   "cell_type": "code",
   "execution_count": null,
   "metadata": {},
   "outputs": [],
   "source": [
    "array([1, 1, 1, 1, 1, 1, 2, 2, 0, 1])"
   ]
  },
  {
   "cell_type": "code",
   "execution_count": null,
   "metadata": {},
   "outputs": [],
   "source": [
    "# create a new dataframe that includes the cluster as well as the top 10 venues for each neighborhood.\n",
    "kl_merged = kl_mall.copy()\n",
    "\n",
    "# add clustering labels\n",
    "kl_merged[\"Cluster Labels\"] = kmeans.labels_"
   ]
  },
  {
   "cell_type": "code",
   "execution_count": null,
   "metadata": {},
   "outputs": [],
   "source": [
    "kl_merged.rename(columns={\"Neighborhoods\": \"Neighborhood\"}, inplace=True)\n",
    "kl_merged.head()"
   ]
  },
  {
   "cell_type": "code",
   "execution_count": null,
   "metadata": {},
   "outputs": [],
   "source": [
    "Neighborhood\tShopping Mall\tCluster Labels\n",
    "0\tAlam Damai\t0.00\t1\n",
    "1\tAmpang, Kuala Lumpur\t0.00\t1\n",
    "2\tBandar Menjalara\t0.00\t1\n",
    "3\tBandar Sri Permaisuri\t0.00\t1\n",
    "4\tBandar Tasik Selatan\t0.01\t1"
   ]
  },
  {
   "cell_type": "code",
   "execution_count": null,
   "metadata": {},
   "outputs": [],
   "source": [
    "# merge toronto_grouped with toronto_data to add latitude/longitude for each neighborhood\n",
    "kl_merged = kl_merged.join(kl_df.set_index(\"Neighborhood\"), on=\"Neighborhood\")\n",
    "\n",
    "print(kl_merged.shape)\n",
    "kl_merged.head() # check the last columns!"
   ]
  },
  {
   "cell_type": "markdown",
   "metadata": {},
   "source": [
    "(70, 5)"
   ]
  },
  {
   "cell_type": "code",
   "execution_count": null,
   "metadata": {},
   "outputs": [],
   "source": [
    "Neighborhood\tShopping Mall\tCluster Labels\tLatitude\tLongitude\n",
    "0\tAlam Damai\t0.00\t1\t3.057690\t101.743880\n",
    "1\tAmpang, Kuala Lumpur\t0.00\t1\t3.158093\t101.748703\n",
    "2\tBandar Menjalara\t0.00\t1\t3.190350\t101.625450\n",
    "3\tBandar Sri Permaisuri\t0.00\t1\t3.103910\t101.712260\n",
    "4\tBandar Tasik Selatan\t0.01\t1\t3.072620\t101.714710"
   ]
  },
  {
   "cell_type": "code",
   "execution_count": null,
   "metadata": {},
   "outputs": [],
   "source": [
    "# sort the results by Cluster Labels\n",
    "print(kl_merged.shape)\n",
    "kl_merged.sort_values([\"Cluster Labels\"], inplace=True)\n",
    "kl_merged"
   ]
  },
  {
   "cell_type": "markdown",
   "metadata": {},
   "source": [
    "(70, 5)"
   ]
  },
  {
   "cell_type": "code",
   "execution_count": null,
   "metadata": {},
   "outputs": [],
   "source": [
    "Neighborhood\tShopping Mall\tCluster Labels\tLatitude\tLongitude\n",
    "19\tChow Kit\t0.03\t0\t3.163590\t101.698110\n",
    "37\tMedan Tuanku\t0.02\t0\t3.159260\t101.698340\n",
    "44\tSegambut\t0.02\t0\t3.186390\t101.668100\n",
    "31\tKampung Baru, Kuala Lumpur\t0.03\t0\t3.165460\t101.710280\n",
    "48\tSetiawangsa\t0.02\t0\t3.178434\t101.737013\n",
    "49\tShamelin\t0.02\t0\t3.124580\t101.735970\n",
    "28\tJalan Duta\t0.02\t0\t3.179388\t101.677454\n",
    "27\tJalan Cochrane, Kuala Lumpur\t0.02\t0\t3.132962\t101.724703\n",
    "23\tDang Wangi\t0.02\t0\t3.155238\t101.701520\n",
    "22\tDamansara, Kuala Lumpur\t0.03\t0\t3.141316\t101.626080\n",
    "21\tDamansara Town Centre\t0.03\t0\t3.141316\t101.626080\n",
    "20\tDamansara Heights\t0.02\t0\t3.147980\t101.667980\n",
    "17\tBukit Tunku\t0.02\t0\t3.173810\t101.682760\n",
    "15\tBukit Nanas\t0.03\t0\t3.152008\t101.701028\n",
    "39\tMont Kiara\t0.02\t0\t3.165320\t101.652430\n",
    "56\tTaman Desa\t0.02\t0\t3.102970\t101.684710\n",
    "12\tBukit Bintang\t0.03\t0\t3.147770\t101.708550\n",
    "65\tTaman Tun Dr Ismail\t0.03\t0\t3.152830\t101.622710\n",
    "8\tBangsar South\t0.03\t0\t3.111020\t101.662830\n",
    "67\tTaman Wahyu\t0.00\t1\t3.222400\t101.671730\n",
    "43\tSalak South\t0.00\t1\t3.081020\t101.697240\n",
    "45\tSemarak\t0.00\t1\t3.180393\t101.723414\n",
    "46\tSentul Raya\t0.01\t1\t3.175375\t101.693034\n",
    "47\tSetapak\t0.00\t1\t3.188160\t101.704150\n",
    "64\tTaman Taynton View\t0.00\t1\t3.087070\t101.736810\n",
    "63\tTaman Sri Sinar\t0.01\t1\t3.190070\t101.652930\n",
    "62\tTaman P. Ramlee\t0.00\t1\t3.193600\t101.705980\n",
    "61\tTaman OUG\t0.00\t1\t3.210037\t101.634498\n",
    "60\tTaman Midah\t0.00\t1\t3.093590\t101.728370\n",
    "50\tSri Hartamas\t0.00\t1\t3.162200\t101.650360\n",
    "51\tSri Petaling\t0.00\t1\t3.072600\t101.682520\n",
    "52\tSungai Besi\t0.01\t1\t3.050640\t101.706130\n",
    "59\tTaman Melati\t0.00\t1\t3.223570\t101.723990\n",
    "58\tTaman Len Seng\t0.00\t1\t3.069080\t101.742870\n",
    "57\tTaman Ibukota\t0.00\t1\t3.212160\t101.715400\n",
    "42\tPutrajaya\t0.00\t1\t3.111867\t101.713268\n",
    "53\tTaman Bukit Maluri\t0.00\t1\t3.200660\t101.633370\n",
    "54\tTaman Cheras Hartamas\t0.00\t1\t3.082630\t101.746710\n",
    "55\tTaman Connaught\t0.00\t1\t3.082690\t101.736890\n",
    "0\tAlam Damai\t0.00\t1\t3.057690\t101.743880\n",
    "34\tKuchai Lama\t0.00\t1\t3.090740\t101.677330\n",
    "14\tBukit Kiara\t0.00\t1\t3.143480\t101.644330\n",
    "1\tAmpang, Kuala Lumpur\t0.00\t1\t3.158093\t101.748703\n",
    "2\tBandar Menjalara\t0.00\t1\t3.190350\t101.625450\n",
    "3\tBandar Sri Permaisuri\t0.00\t1\t3.103910\t101.712260\n",
    "4\tBandar Tasik Selatan\t0.01\t1\t3.072620\t101.714710\n",
    "5\tBandar Tun Razak\t0.00\t1\t3.082800\t101.722810\n",
    "9\tBatu 11 Cheras\t0.00\t1\t3.098980\t101.734990\n",
    "10\tBatu, Kuala Lumpur\t0.00\t1\t3.098980\t101.734990\n",
    "13\tBukit Jalil\t0.00\t1\t3.057800\t101.689650\n",
    "40\tPantai Dalam\t0.01\t1\t3.095160\t101.668120\n",
    "16\tBukit Petaling\t0.01\t1\t3.129290\t101.698920\n",
    "18\tCheras, Kuala Lumpur\t0.00\t1\t3.061870\t101.746750\n",
    "69\tWangsa Maju\t0.01\t1\t3.203910\t101.737190\n",
    "25\tFederal Hill, Kuala Lumpur\t0.01\t1\t3.136370\t101.685640\n",
    "26\tHappy Garden\t0.01\t1\t3.201630\t101.721070\n",
    "29\tJinjang\t0.00\t1\t3.209500\t101.658740\n",
    "32\tKampung Datuk Keramat\t0.01\t1\t3.166400\t101.730460\n",
    "33\tKepong\t0.00\t1\t3.217500\t101.637630\n",
    "68\tTitiwangsa\t0.01\t1\t3.180670\t101.703220\n",
    "36\tMaluri\t0.01\t1\t3.147890\t101.694050\n",
    "38\tMiharja\t0.01\t1\t3.147890\t101.694050\n",
    "24\tDesa Petaling\t0.00\t1\t3.083310\t101.704380\n",
    "11\tBrickfields\t0.05\t2\t3.129160\t101.684060\n",
    "30\tKL Eco City\t0.05\t2\t3.117110\t101.673490\n",
    "7\tBangsar Park\t0.04\t2\t3.134780\t101.672620\n",
    "6\tBangsar\t0.05\t2\t3.129200\t101.678440\n",
    "35\tLembah Pantai\t0.05\t2\t3.121216\t101.663897\n",
    "66\tTaman U-Thant\t0.05\t2\t3.157650\t101.725020\n",
    "41\tPudu, Kuala Lumpur\t0.05\t2\t3.133540\t101.713070"
   ]
  },
  {
   "cell_type": "markdown",
   "metadata": {},
   "source": [
    "<h2>Finally, let's visualize the resulting clusters</h2>"
   ]
  },
  {
   "cell_type": "code",
   "execution_count": null,
   "metadata": {},
   "outputs": [],
   "source": [
    "# create map\n",
    "map_clusters = folium.Map(location=[latitude, longitude], zoom_start=11)\n",
    "\n",
    "# set color scheme for the clusters\n",
    "x = np.arange(kclusters)\n",
    "ys = [i+x+(i*x)**2 for i in range(kclusters)]\n",
    "colors_array = cm.rainbow(np.linspace(0, 1, len(ys)))\n",
    "rainbow = [colors.rgb2hex(i) for i in colors_array]\n",
    "\n",
    "# add markers to the map\n",
    "markers_colors = []\n",
    "for lat, lon, poi, cluster in zip(kl_merged['Latitude'], kl_merged['Longitude'], kl_merged['Neighborhood'], kl_merged['Cluster Labels']):\n",
    "    label = folium.Popup(str(poi) + ' - Cluster ' + str(cluster), parse_html=True)\n",
    "    folium.CircleMarker(\n",
    "        [lat, lon],\n",
    "        radius=5,\n",
    "        popup=label,\n",
    "        color=rainbow[cluster-1],\n",
    "        fill=True,\n",
    "        fill_color=rainbow[cluster-1],\n",
    "        fill_opacity=0.7).add_to(map_clusters)\n",
    "       \n",
    "map_clusters"
   ]
  },
  {
   "cell_type": "code",
   "execution_count": null,
   "metadata": {},
   "outputs": [],
   "source": [
    "# save the map as HTML file\n",
    "map_clusters.save('map_clusters.html')"
   ]
  },
  {
   "cell_type": "markdown",
   "metadata": {},
   "source": [
    "<h2>8. Examine Clusters</h2>"
   ]
  },
  {
   "cell_type": "markdown",
   "metadata": {},
   "source": [
    "<h2>Cluster 0</h2>"
   ]
  },
  {
   "cell_type": "code",
   "execution_count": null,
   "metadata": {},
   "outputs": [],
   "source": [
    "kl_merged.loc[kl_merged['Cluster Labels'] == 0]"
   ]
  },
  {
   "cell_type": "code",
   "execution_count": null,
   "metadata": {},
   "outputs": [],
   "source": [
    "Neighborhood\tShopping Mall\tCluster Labels\tLatitude\tLongitude\n",
    "19\tChow Kit\t0.03\t0\t3.163590\t101.698110\n",
    "37\tMedan Tuanku\t0.02\t0\t3.159260\t101.698340\n",
    "44\tSegambut\t0.02\t0\t3.186390\t101.668100\n",
    "31\tKampung Baru, Kuala Lumpur\t0.03\t0\t3.165460\t101.710280\n",
    "48\tSetiawangsa\t0.02\t0\t3.178434\t101.737013\n",
    "49\tShamelin\t0.02\t0\t3.124580\t101.735970\n",
    "28\tJalan Duta\t0.02\t0\t3.179388\t101.677454\n",
    "27\tJalan Cochrane, Kuala Lumpur\t0.02\t0\t3.132962\t101.724703\n",
    "23\tDang Wangi\t0.02\t0\t3.155238\t101.701520\n",
    "22\tDamansara, Kuala Lumpur\t0.03\t0\t3.141316\t101.626080\n",
    "21\tDamansara Town Centre\t0.03\t0\t3.141316\t101.626080\n",
    "20\tDamansara Heights\t0.02\t0\t3.147980\t101.667980\n",
    "17\tBukit Tunku\t0.02\t0\t3.173810\t101.682760\n",
    "15\tBukit Nanas\t0.03\t0\t3.152008\t101.701028\n",
    "39\tMont Kiara\t0.02\t0\t3.165320\t101.652430\n",
    "56\tTaman Desa\t0.02\t0\t3.102970\t101.684710\n",
    "12\tBukit Bintang\t0.03\t0\t3.147770\t101.708550\n",
    "65\tTaman Tun Dr Ismail\t0.03\t0\t3.152830\t101.622710\n",
    "8\tBangsar South\t0.03\t0\t3.111020\t101.662830"
   ]
  },
  {
   "cell_type": "markdown",
   "metadata": {},
   "source": [
    "<h2>Cluster 1</h2>"
   ]
  },
  {
   "cell_type": "code",
   "execution_count": null,
   "metadata": {},
   "outputs": [],
   "source": [
    "kl_merged.loc[kl_merged['Cluster Labels'] == 1]"
   ]
  },
  {
   "cell_type": "code",
   "execution_count": null,
   "metadata": {},
   "outputs": [],
   "source": [
    "Neighborhood\tShopping Mall\tCluster Labels\tLatitude\tLongitude\n",
    "67\tTaman Wahyu\t0.00\t1\t3.222400\t101.671730\n",
    "43\tSalak South\t0.00\t1\t3.081020\t101.697240\n",
    "45\tSemarak\t0.00\t1\t3.180393\t101.723414\n",
    "46\tSentul Raya\t0.01\t1\t3.175375\t101.693034\n",
    "47\tSetapak\t0.00\t1\t3.188160\t101.704150\n",
    "64\tTaman Taynton View\t0.00\t1\t3.087070\t101.736810\n",
    "63\tTaman Sri Sinar\t0.01\t1\t3.190070\t101.652930\n",
    "62\tTaman P. Ramlee\t0.00\t1\t3.193600\t101.705980\n",
    "61\tTaman OUG\t0.00\t1\t3.210037\t101.634498\n",
    "60\tTaman Midah\t0.00\t1\t3.093590\t101.728370\n",
    "50\tSri Hartamas\t0.00\t1\t3.162200\t101.650360\n",
    "51\tSri Petaling\t0.00\t1\t3.072600\t101.682520\n",
    "52\tSungai Besi\t0.01\t1\t3.050640\t101.706130\n",
    "59\tTaman Melati\t0.00\t1\t3.223570\t101.723990\n",
    "58\tTaman Len Seng\t0.00\t1\t3.069080\t101.742870\n",
    "57\tTaman Ibukota\t0.00\t1\t3.212160\t101.715400\n",
    "42\tPutrajaya\t0.00\t1\t3.111867\t101.713268\n",
    "53\tTaman Bukit Maluri\t0.00\t1\t3.200660\t101.633370\n",
    "54\tTaman Cheras Hartamas\t0.00\t1\t3.082630\t101.746710\n",
    "55\tTaman Connaught\t0.00\t1\t3.082690\t101.736890\n",
    "0\tAlam Damai\t0.00\t1\t3.057690\t101.743880\n",
    "34\tKuchai Lama\t0.00\t1\t3.090740\t101.677330\n",
    "14\tBukit Kiara\t0.00\t1\t3.143480\t101.644330\n",
    "1\tAmpang, Kuala Lumpur\t0.00\t1\t3.158093\t101.748703\n",
    "2\tBandar Menjalara\t0.00\t1\t3.190350\t101.625450\n",
    "3\tBandar Sri Permaisuri\t0.00\t1\t3.103910\t101.712260\n",
    "4\tBandar Tasik Selatan\t0.01\t1\t3.072620\t101.714710\n",
    "5\tBandar Tun Razak\t0.00\t1\t3.082800\t101.722810\n",
    "9\tBatu 11 Cheras\t0.00\t1\t3.098980\t101.734990\n",
    "10\tBatu, Kuala Lumpur\t0.00\t1\t3.098980\t101.734990\n",
    "13\tBukit Jalil\t0.00\t1\t3.057800\t101.689650\n",
    "40\tPantai Dalam\t0.01\t1\t3.095160\t101.668120\n",
    "16\tBukit Petaling\t0.01\t1\t3.129290\t101.698920\n",
    "18\tCheras, Kuala Lumpur\t0.00\t1\t3.061870\t101.746750\n",
    "69\tWangsa Maju\t0.01\t1\t3.203910\t101.737190\n",
    "25\tFederal Hill, Kuala Lumpur\t0.01\t1\t3.136370\t101.685640\n",
    "26\tHappy Garden\t0.01\t1\t3.201630\t101.721070\n",
    "29\tJinjang\t0.00\t1\t3.209500\t101.658740\n",
    "32\tKampung Datuk Keramat\t0.01\t1\t3.166400\t101.730460\n",
    "33\tKepong\t0.00\t1\t3.217500\t101.637630\n",
    "68\tTitiwangsa\t0.01\t1\t3.180670\t101.703220\n",
    "36\tMaluri\t0.01\t1\t3.147890\t101.694050\n",
    "38\tMiharja\t0.01\t1\t3.147890\t101.694050\n",
    "24\tDesa Petaling\t0.00\t1\t3.083310\t101.704380"
   ]
  },
  {
   "cell_type": "markdown",
   "metadata": {},
   "source": [
    "<h2>Cluster 2</h2>"
   ]
  },
  {
   "cell_type": "code",
   "execution_count": null,
   "metadata": {},
   "outputs": [],
   "source": [
    "kl_merged.loc[kl_merged['Cluster Labels'] == 2]"
   ]
  },
  {
   "cell_type": "code",
   "execution_count": null,
   "metadata": {},
   "outputs": [],
   "source": [
    "Neighborhood\tShopping Mall\tCluster Labels\tLatitude\tLongitude\n",
    "11\tBrickfields\t0.05\t2\t3.129160\t101.684060\n",
    "30\tKL Eco City\t0.05\t2\t3.117110\t101.673490\n",
    "7\tBangsar Park\t0.04\t2\t3.134780\t101.672620\n",
    "6\tBangsar\t0.05\t2\t3.129200\t101.678440\n",
    "35\tLembah Pantai\t0.05\t2\t3.121216\t101.663897\n",
    "66\tTaman U-Thant\t0.05\t2\t3.157650\t101.725020\n",
    "41\tPudu, Kuala Lumpur\t0.05\t2\t3.133540\t101.713070"
   ]
  },
  {
   "cell_type": "markdown",
   "metadata": {},
   "source": [
    "<h2>Observations:</h2>"
   ]
  },
  {
   "cell_type": "markdown",
   "metadata": {},
   "source": [
    "Most of the shopping malls are concentrated in the central area of Kuala Lumpur city, with the highest number in cluster 2 and moderate number in cluster 0.\n",
    "On the other hand, cluster 1 has very low number to totally no shopping mall in the neighborhoods. This represents a great opportunity and high potential areas to open new shopping malls as there is very little to no competition from existing malls. Meanwhile, shopping malls in cluster 2 are likely suffering from intense competition due to oversupply and high concentration of shopping malls. From another perspective, this also shows that the oversupply of shopping malls mostly happened in the central area of the city, with the suburb area still have very few shopping malls. Therefore, this project recommends property developers to capitalize on these findings to open new shopping malls in neighborhoods in cluster 1 with little to no competition. Property developers with unique selling propositions to stand out from the competition can also open new shopping malls in neighborhoods in cluster 0 with moderate competition. Lastly, property developers are advised to avoid neighborhoods in cluster 2 which already have high concentration of shopping malls and suffering from intense competition."
   ]
  }
 ],
 "metadata": {
  "kernelspec": {
   "display_name": "Python 3.6",
   "language": "python",
   "name": "python3"
  },
  "language_info": {
   "codemirror_mode": {
    "name": "ipython",
    "version": 3
   },
   "file_extension": ".py",
   "mimetype": "text/x-python",
   "name": "python",
   "nbconvert_exporter": "python",
   "pygments_lexer": "ipython3",
   "version": "3.6.8"
  }
 },
 "nbformat": 4,
 "nbformat_minor": 1
}
